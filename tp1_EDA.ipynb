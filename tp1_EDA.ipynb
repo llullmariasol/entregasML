{
 "cells": [
  {
   "cell_type": "markdown",
   "id": "exclusive-dairy",
   "metadata": {},
   "source": [
    "# Análisis Exploratorio de Datos | Lluvias en Australia"
   ]
  },
  {
   "cell_type": "markdown",
   "id": "configured-captain",
   "metadata": {},
   "source": [
    "El dataset elegido contiene datos de aproximadamente 10 años de observaciones meteorológicas diarias de muchos lugares de Australia."
   ]
  },
  {
   "cell_type": "markdown",
   "id": "spanish-boring",
   "metadata": {},
   "source": [
    "### Listado de variables y selección"
   ]
  },
  {
   "cell_type": "markdown",
   "id": "military-uruguay",
   "metadata": {},
   "source": [
    "#### VARIABLES DE ENTRADA"
   ]
  },
  {
   "cell_type": "markdown",
   "id": "younger-limit",
   "metadata": {},
   "source": [
    "#### Utilizadas"
   ]
  },
  {
   "cell_type": "markdown",
   "id": "running-adolescent",
   "metadata": {},
   "source": [
    "* Date: fecha de observación.\n",
    "* Location: nombre común de la ubicación de la estación meteorológica.\n",
    "* MinTemp: temperatura mínima en grados centígrados.\n",
    "* MaxTemp: temperatura máxima en grados centígrados.\n",
    "* Rainfall: la cantidad de lluvia registrada para el día en mm.\n",
    "* Evaporation: la llamada evaporación de la bandeja de clase A (mm) en las 24 horas anteriores a las 9 am.\n",
    "* Sunshine: número de horas de sol brillante en el día.\n",
    "* WindGustDir: dirección de la ráfaga de viento más fuerte en las 24 horas anteriores a la medianoche.\n",
    "* WindGustSpeed: velocidad (km/h) de la ráfaga de viento más fuerte en las 24 horas anteriores a la medianoche.\n",
    "* WinDir9am: dirección del viento a las 9 am.\n",
    "* WindDir3pm: dirección del viento a las 3 pm.\n",
    "* WinSpeed9am: velocidad del viento (km/h) promediada durante 10 minutos antes de las 9 am.\n",
    "* WinSpeed3pm: velocidad del viento (km/h) promediada durante 10 minutos antes de las 3 pm.\n",
    "* Humidity9am: humedad (porcentaje) a las 9 am.\n",
    "* Humidity3pm: humedad (porcentaje) a las 3 pm.\n",
    "* Pressure9am: presión atmosférica (hpa) reducida al nivel medio del mar a las 9 am.\n",
    "* Pressure3pm: presión atmosférica (hpa) reducida al nivel medio del mar a las 3 pm.\n",
    "* Cloud9am: fracción del cielo oscurecida por las nubes a las 9 am. Esto se mide en “octas”, que son una unidad de octavos. Registra cuántos octavos del cielo están oscurecidos por las nubes. Una medida 0 indica cielo completamente despejado, mientras que un 8 indica que está completamente nublado.\n",
    "* Cloud3pm: fracción de cielo oscurecida por nubes (en “octas”: octavos) a las 3 pm.\n",
    "* Temp9am: temperatura (grados centígrados) a las 9 am.\n",
    "* Temp3pm: temperatura (grados centígrados) a las 3 pm.\n",
    "* RainToday: booleano. 1 si la precipitación (mm) en las 24 horas anteriores a las 9 am excede 1 mm, de lo contrario 0."
   ]
  },
  {
   "cell_type": "markdown",
   "id": "golden-venice",
   "metadata": {},
   "source": [
    "#### No utilizadas"
   ]
  },
  {
   "cell_type": "markdown",
   "id": "mature-orlando",
   "metadata": {},
   "source": []
  },
  {
   "cell_type": "markdown",
   "id": "viral-excerpt",
   "metadata": {},
   "source": [
    "#### VARIABLE DE SALIDA"
   ]
  },
  {
   "cell_type": "markdown",
   "id": "bibliographic-dairy",
   "metadata": {},
   "source": [
    "* RainTomorrow: la cantidad de lluvia del día siguiente (mm) utilizada para crear la variable de respuesta RainTomorrow. Una especie de medida del “riesgo”. Valores posibles: Yes, No."
   ]
  },
  {
   "cell_type": "markdown",
   "id": "prime-montreal",
   "metadata": {},
   "source": [
    "### Análisis detallado de un conjunto de variables"
   ]
  },
  {
   "cell_type": "code",
   "execution_count": null,
   "id": "senior-decade",
   "metadata": {},
   "outputs": [],
   "source": []
  }
 ],
 "metadata": {
  "kernelspec": {
   "display_name": "Python 3",
   "language": "python",
   "name": "python3"
  },
  "language_info": {
   "codemirror_mode": {
    "name": "ipython",
    "version": 3
   },
   "file_extension": ".py",
   "mimetype": "text/x-python",
   "name": "python",
   "nbconvert_exporter": "python",
   "pygments_lexer": "ipython3",
   "version": "3.7.9"
  }
 },
 "nbformat": 4,
 "nbformat_minor": 5
}
