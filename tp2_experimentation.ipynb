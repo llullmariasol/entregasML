{
  "nbformat": 4,
  "nbformat_minor": 5,
  "metadata": {
    "kernelspec": {
      "display_name": "Python 3",
      "language": "python",
      "name": "python3"
    },
    "language_info": {
      "codemirror_mode": {
        "name": "ipython",
        "version": 3
      },
      "file_extension": ".py",
      "mimetype": "text/x-python",
      "name": "python",
      "nbconvert_exporter": "python",
      "pygments_lexer": "ipython3",
      "version": "3.7.0"
    },
    "colab": {
      "name": "tp2_experimentation.ipynb",
      "provenance": [],
      "collapsed_sections": []
    }
  },
  "cells": [
    {
      "cell_type": "markdown",
      "metadata": {
        "id": "kw3wXLxl3s60"
      },
      "source": [
        "# **TP 2: ENTRENAMIENTO Y EVALUACIÓN DE MODELOS**"
      ],
      "id": "kw3wXLxl3s60"
    },
    {
      "cell_type": "code",
      "metadata": {
        "id": "yUzS3gO64M0O"
      },
      "source": [
        "%matplotlib inline"
      ],
      "id": "yUzS3gO64M0O",
      "execution_count": null,
      "outputs": []
    },
    {
      "cell_type": "code",
      "metadata": {
        "id": "pUVDCuOwxmbI"
      },
      "source": [
        "import pandas as pd\n",
        "import numpy as np\n",
        "import matplotlib.pyplot as plt\n",
        "import seaborn as sns\n",
        "from sklearn.preprocessing import minmax_scale\n",
        "from datetime import datetime\n",
        "from matplotlib import gridspec\n",
        "import plotly.express as px\n",
        "from matplotlib.lines import Line2D\n",
        "\n",
        "from collections import defaultdict\n",
        "from matplotlib import pyplot as plt\n",
        "import seaborn as sns\n",
        "\n",
        "from IPython.display import HTML, display\n",
        "from sklearn.metrics import accuracy_score, precision_score, recall_score, confusion_matrix\n",
        "from sklearn.model_selection import train_test_split\n",
        "\n",
        "from sklearn_pandas import DataFrameMapper\n",
        "from sklearn.preprocessing import OneHotEncoder, MinMaxScaler\n",
        "from sklearn.linear_model import LogisticRegression\n",
        "from sklearn.pipeline import Pipeline\n",
        "from sklearn import metrics\n",
        "from sklearn.tree import DecisionTreeClassifier\n",
        "from sklearn.preprocessing import LabelBinarizer\n",
        "from sklearn.ensemble import RandomForestClassifier\n",
        "import graphviz  \n",
        "from sklearn.tree import export_graphviz"
      ],
      "id": "pUVDCuOwxmbI",
      "execution_count": null,
      "outputs": []
    },
    {
      "cell_type": "markdown",
      "metadata": {
        "id": "tOc_3PM54cWe"
      },
      "source": [
        "**Análisis de eliminación de valores nulos. Distribución del target sin eliminar todos los valores nulos identificados:** vemos que el balanceo es el mismo."
      ],
      "id": "tOc_3PM54cWe"
    },
    {
      "cell_type": "code",
      "metadata": {
        "id": "892ZgHMd4QQK",
        "colab": {
          "base_uri": "https://localhost:8080/"
        },
        "outputId": "9beda70b-3c0b-4965-d661-2174d726d389"
      },
      "source": [
        "dataset = pd.read_csv('weatherAUS.csv')\n",
        "dataset.shape"
      ],
      "id": "892ZgHMd4QQK",
      "execution_count": null,
      "outputs": [
        {
          "output_type": "execute_result",
          "data": {
            "text/plain": [
              "(145460, 23)"
            ]
          },
          "metadata": {
            "tags": []
          },
          "execution_count": 85
        }
      ]
    },
    {
      "cell_type": "code",
      "metadata": {
        "id": "mvPZCbiV4tRd"
      },
      "source": [
        "# eliminación de filas con valores nulos\n",
        "dataset = dataset.dropna(how='any',axis=0)\n",
        "# convertir columna Date a tipo datetime\n",
        "dataset['Date'] = pd.to_datetime(dataset['Date'])"
      ],
      "id": "mvPZCbiV4tRd",
      "execution_count": null,
      "outputs": []
    },
    {
      "cell_type": "markdown",
      "metadata": {
        "id": "nBzTOvOv5j6E"
      },
      "source": [
        "**ELECCIÓN DE MÉTRICA**\n",
        "\n",
        "Decidimos utilizar **Accuracy** como métrica para evaluar los modelos ya que predecir si va a llover o no al día siguiente no es algo crítico. Además queremos saber en qué porcentaje de casos, el modelo que entrenamos acertó, para lo cual esta métrica resulta adecuada para interpretarlo."
      ],
      "id": "nBzTOvOv5j6E"
    },
    {
      "cell_type": "markdown",
      "metadata": {
        "id": "2gH4NojT75ST"
      },
      "source": [
        "# **FEATURE ENGINEERING**\n"
      ],
      "id": "2gH4NojT75ST"
    },
    {
      "cell_type": "markdown",
      "metadata": {
        "id": "Qh6R-hFwjZKi"
      },
      "source": [
        "**Agregado de columna \"Season\"**"
      ],
      "id": "Qh6R-hFwjZKi"
    },
    {
      "cell_type": "code",
      "metadata": {
        "id": "QfM29s7f6RZm",
        "colab": {
          "base_uri": "https://localhost:8080/",
          "height": 207
        },
        "outputId": "e7f1ada8-3a48-4943-c5b4-baa6d5bb1a0c"
      },
      "source": [
        "# agregar columna \"Season\" (estación)\n",
        "conditions_seasons = [\n",
        "        (dataset['Date'].dt.month.isin([1, 2, 3])), # summer\n",
        "        (dataset['Date'].dt.month.isin([4, 5, 6])), # autumn\n",
        "        (dataset['Date'].dt.month.isin([7, 8, 9])), # winter\n",
        "        (dataset['Date'].dt.month.isin([10, 11, 12])) # spring\n",
        "]\n",
        "\n",
        "seasons = ['summer', 'autumn', 'winter', 'spring']\n",
        "\n",
        "# nueva columna Season\n",
        "dataset['Season'] = np.select(conditions_seasons, seasons)\n",
        "\n",
        "# cambiar season donde corresponda\n",
        "dataset.Season.mask((dataset['Date'].dt.month == 12) & (dataset['Date'].dt.day > 20), 'summer', inplace=True)\n",
        "dataset.Season.mask((dataset['Date'].dt.month == 3) & (dataset['Date'].dt.day > 20), 'autumn', inplace=True)\n",
        "dataset.Season.mask((dataset['Date'].dt.month == 6) & (dataset['Date'].dt.day > 20), 'winter', inplace=True)\n",
        "dataset.Season.mask((dataset['Date'].dt.month == 9) & (dataset['Date'].dt.day > 20), 'spring', inplace=True)\n",
        "\n",
        "# Gráficos\n",
        "fig2 = plt.figure(constrained_layout=True, figsize = (30,30))\n",
        "spec2 = gridspec.GridSpec(ncols=6, nrows=7, figure=fig2)\n",
        "f2_ax1 = fig2.add_subplot(spec2[0, 0])\n",
        "f2_ax2 = fig2.add_subplot(spec2[0, 1])\n",
        "f2_ax3 = fig2.add_subplot(spec2[0, 2])\n",
        "f2_ax4 = fig2.add_subplot(spec2[0, 3])\n",
        "dataset[dataset.Season == 'summer'].RainTomorrow.value_counts().sort_index().plot.pie(autopct='%1.0f%%', ax=f2_ax1, title = 'summer',figsize=(15,15))\n",
        "dataset[dataset.Season == 'spring'].RainTomorrow.value_counts().sort_index().plot.pie(autopct='%1.0f%%', ax=f2_ax2,title = 'spring',figsize=(15,15))\n",
        "dataset[dataset.Season == 'autumn'].RainTomorrow.value_counts().sort_index().plot.pie(autopct='%1.0f%%', ax=f2_ax3,title = 'autumn',figsize=(15,15))\n",
        "dataset[dataset.Season == 'winter'].RainTomorrow.value_counts().sort_index().plot.pie(autopct='%1.0f%%', ax=f2_ax4,title = 'winter',figsize=(15,15))"
      ],
      "id": "QfM29s7f6RZm",
      "execution_count": null,
      "outputs": [
        {
          "output_type": "execute_result",
          "data": {
            "text/plain": [
              "<matplotlib.axes._subplots.AxesSubplot at 0x7f5fc8db2b50>"
            ]
          },
          "metadata": {
            "tags": []
          },
          "execution_count": 87
        },
        {
          "output_type": "display_data",
          "data": {
            "image/png": "[encoded data removed]",
            "text/plain": [
              "<Figure size 1080x1080 with 42 Axes>"
            ]
          },
          "metadata": {
            "tags": [],
            "needs_background": "light"
          }
        }
      ]
    },
    {
      "cell_type": "markdown",
      "metadata": {
        "id": "x45YLxKSjj36"
      },
      "source": [
        "**Redondeo de valores numéricos**: sacamos precisión a los valores de columnas numéricas, redondeando a dos decimales."
      ],
      "id": "x45YLxKSjj36"
    },
    {
      "cell_type": "code",
      "metadata": {
        "id": "uRns_0JH6Ud8"
      },
      "source": [
        "tmp = dataset.select_dtypes(include=[np.number])\n",
        "dataset.loc[:, tmp.columns] = np.round(tmp, 2)"
      ],
      "id": "uRns_0JH6Ud8",
      "execution_count": null,
      "outputs": []
    },
    {
      "cell_type": "markdown",
      "metadata": {
        "id": "bztEij53jnsh"
      },
      "source": [
        "**División de columna \"Date\" en 3 nuevas columnas: Día, Mes y Año**"
      ],
      "id": "bztEij53jnsh"
    },
    {
      "cell_type": "code",
      "metadata": {
        "colab": {
          "base_uri": "https://localhost:8080/",
          "height": 359
        },
        "id": "1IIxOxei3Vet",
        "outputId": "aa225cd8-d749-47a0-e3b6-83bc5bcb742a"
      },
      "source": [
        "# agregar columnas año, mes y día\n",
        "dataset['Year'] = dataset['Date'].dt.year\n",
        "dataset['Month'] = dataset['Date'].dt.month\n",
        "dataset['Day'] = dataset['Date'].dt.day\n",
        "\n",
        "dataset[['Date', 'Year', 'Month', 'Day']].sample(10)"
      ],
      "id": "1IIxOxei3Vet",
      "execution_count": null,
      "outputs": [
        {
          "output_type": "execute_result",
          "data": {
            "text/html": [
              "<div>\n",
              "<style scoped>\n",
              "    .dataframe tbody tr th:only-of-type {\n",
              "        vertical-align: middle;\n",
              "    }\n",
              "\n",
              "    .dataframe tbody tr th {\n",
              "        vertical-align: top;\n",
              "    }\n",
              "\n",
              "    .dataframe thead th {\n",
              "        text-align: right;\n",
              "    }\n",
              "</style>\n",
              "<table border=\"1\" class=\"dataframe\">\n",
              "  <thead>\n",
              "    <tr style=\"text-align: right;\">\n",
              "      <th></th>\n",
              "      <th>Date</th>\n",
              "      <th>Year</th>\n",
              "      <th>Month</th>\n",
              "      <th>Day</th>\n",
              "    </tr>\n",
              "  </thead>\n",
              "  <tbody>\n",
              "    <tr>\n",
              "      <th>13407</th>\n",
              "      <td>2012-10-02</td>\n",
              "      <td>2012</td>\n",
              "      <td>10</td>\n",
              "      <td>2</td>\n",
              "    </tr>\n",
              "    <tr>\n",
              "      <th>75331</th>\n",
              "      <td>2009-12-18</td>\n",
              "      <td>2009</td>\n",
              "      <td>12</td>\n",
              "      <td>18</td>\n",
              "    </tr>\n",
              "    <tr>\n",
              "      <th>123752</th>\n",
              "      <td>2017-04-08</td>\n",
              "      <td>2017</td>\n",
              "      <td>4</td>\n",
              "      <td>8</td>\n",
              "    </tr>\n",
              "    <tr>\n",
              "      <th>137323</th>\n",
              "      <td>2012-06-05</td>\n",
              "      <td>2012</td>\n",
              "      <td>6</td>\n",
              "      <td>5</td>\n",
              "    </tr>\n",
              "    <tr>\n",
              "      <th>119856</th>\n",
              "      <td>2015-05-06</td>\n",
              "      <td>2015</td>\n",
              "      <td>5</td>\n",
              "      <td>6</td>\n",
              "    </tr>\n",
              "    <tr>\n",
              "      <th>119104</th>\n",
              "      <td>2013-04-14</td>\n",
              "      <td>2013</td>\n",
              "      <td>4</td>\n",
              "      <td>14</td>\n",
              "    </tr>\n",
              "    <tr>\n",
              "      <th>21946</th>\n",
              "      <td>2011-05-08</td>\n",
              "      <td>2011</td>\n",
              "      <td>5</td>\n",
              "      <td>8</td>\n",
              "    </tr>\n",
              "    <tr>\n",
              "      <th>32020</th>\n",
              "      <td>2013-05-18</td>\n",
              "      <td>2013</td>\n",
              "      <td>5</td>\n",
              "      <td>18</td>\n",
              "    </tr>\n",
              "    <tr>\n",
              "      <th>66327</th>\n",
              "      <td>2015-02-04</td>\n",
              "      <td>2015</td>\n",
              "      <td>2</td>\n",
              "      <td>4</td>\n",
              "    </tr>\n",
              "    <tr>\n",
              "      <th>40066</th>\n",
              "      <td>2010-06-13</td>\n",
              "      <td>2010</td>\n",
              "      <td>6</td>\n",
              "      <td>13</td>\n",
              "    </tr>\n",
              "  </tbody>\n",
              "</table>\n",
              "</div>"
            ],
            "text/plain": [
              "             Date  Year  Month  Day\n",
              "13407  2012-10-02  2012     10    2\n",
              "75331  2009-12-18  2009     12   18\n",
              "123752 2017-04-08  2017      4    8\n",
              "137323 2012-06-05  2012      6    5\n",
              "119856 2015-05-06  2015      5    6\n",
              "119104 2013-04-14  2013      4   14\n",
              "21946  2011-05-08  2011      5    8\n",
              "32020  2013-05-18  2013      5   18\n",
              "66327  2015-02-04  2015      2    4\n",
              "40066  2010-06-13  2010      6   13"
            ]
          },
          "metadata": {
            "tags": []
          },
          "execution_count": 89
        }
      ]
    },
    {
      "cell_type": "markdown",
      "metadata": {
        "id": "OPMMSByJjyPo"
      },
      "source": [
        "**Agregado de columna \"Region\"**"
      ],
      "id": "OPMMSByJjyPo"
    },
    {
      "cell_type": "code",
      "metadata": {
        "colab": {
          "base_uri": "https://localhost:8080/",
          "height": 371
        },
        "id": "e9K1d3_5LrLH",
        "outputId": "cff04691-b22d-4c9b-f5c4-2d7066c8b794"
      },
      "source": [
        "conditions_regions = [\n",
        "        (dataset['Location'].isin(['Perth', 'PerthAirport'])), # western\n",
        "        (dataset['Location'].isin(['AliceSprings', 'Darwin'])), # northen\n",
        "        (dataset['Location'].isin(['Woomera', 'Nuriootpa', 'MountGambier'])), # south\n",
        "        (dataset['Location'].isin(['Mildura','Sale','WaggaWagga','Canberra','Sydney','SydneyAirport','Portland','Williamtown','CoffsHarbour','Moree','Cobar'])), # newsouth\n",
        "        (dataset['Location'].isin(['Cairns', 'Townsville', 'Brisbane'])), # queensland\n",
        "        (dataset['Location'].isin(['Watsonia','Melbourne','MelbourneAirport'])), # victoria\n",
        "        (dataset['Location'].isin(['Hobart'])), # tasmania\n",
        "        (dataset['Location'].isin(['NorfolkIsland'])) #norfolk\n",
        "]\n",
        "\n",
        "regions = ['western', 'northen', 'south', 'newsouth', 'queensland', 'victoria', 'tasmania', 'norfolk']\n",
        "\n",
        "# nueva columna Region\n",
        "dataset['Region'] = np.select(conditions_regions, regions)\n",
        "\n",
        "#estos gráficos no hacen falta, los hice para ver qué onda nomás\n",
        "fig2 = plt.figure(constrained_layout=True, figsize = (30,30))\n",
        "spec2 = gridspec.GridSpec(ncols=6, nrows=7, figure=fig2)\n",
        "f2_ax1 = fig2.add_subplot(spec2[0, 0])\n",
        "f2_ax2 = fig2.add_subplot(spec2[0, 1])\n",
        "f2_ax3 = fig2.add_subplot(spec2[0, 2])\n",
        "f2_ax4 = fig2.add_subplot(spec2[0, 3])\n",
        "f2_ax5 = fig2.add_subplot(spec2[1, 0])\n",
        "f2_ax6 = fig2.add_subplot(spec2[1, 1])\n",
        "f2_ax7 = fig2.add_subplot(spec2[1, 2])\n",
        "f2_ax8 = fig2.add_subplot(spec2[1, 3])\n",
        "dataset[dataset.Region == 'western'].RainTomorrow.value_counts().sort_index().plot.pie(autopct='%1.0f%%', ax=f2_ax1, title = 'western',figsize=(15,15))\n",
        "dataset[dataset.Region == 'northen'].RainTomorrow.value_counts().sort_index().plot.pie(autopct='%1.0f%%', ax=f2_ax2,title = 'northen',figsize=(15,15))\n",
        "dataset[dataset.Region == 'south'].RainTomorrow.value_counts().sort_index().plot.pie(autopct='%1.0f%%', ax=f2_ax3,title = 'south',figsize=(15,15))\n",
        "dataset[dataset.Region == 'newsouth'].RainTomorrow.value_counts().sort_index().plot.pie(autopct='%1.0f%%', ax=f2_ax4,title = 'newsouth',figsize=(15,15))\n",
        "dataset[dataset.Region == 'queensland'].RainTomorrow.value_counts().sort_index().plot.pie(autopct='%1.0f%%', ax=f2_ax5,title = 'queensland',figsize=(15,15))\n",
        "dataset[dataset.Region == 'victoria'].RainTomorrow.value_counts().sort_index().plot.pie(autopct='%1.0f%%', ax=f2_ax6,title = 'victoria',figsize=(15,15))\n",
        "dataset[dataset.Region == 'tasmania'].RainTomorrow.value_counts().sort_index().plot.pie(autopct='%1.0f%%', ax=f2_ax7,title = 'tasmania',figsize=(15,15))\n",
        "dataset[dataset.Region == 'norfolk'].RainTomorrow.value_counts().sort_index().plot.pie(autopct='%1.0f%%', ax=f2_ax8,title = 'norfolk',figsize=(15,15))"
      ],
      "id": "e9K1d3_5LrLH",
      "execution_count": null,
      "outputs": [
        {
          "output_type": "execute_result",
          "data": {
            "text/plain": [
              "<matplotlib.axes._subplots.AxesSubplot at 0x7f5fcdff05d0>"
            ]
          },
          "metadata": {
            "tags": []
          },
          "execution_count": 90
        },
        {
          "output_type": "display_data",
          "data": {
            "image/png": "[encoded data removed]",
            "text/plain": [
              "<Figure size 1080x1080 with 42 Axes>"
            ]
          },
          "metadata": {
            "tags": [],
            "needs_background": "light"
          }
        }
      ]
    },
    {
      "cell_type": "markdown",
      "metadata": {
        "id": "GZH9otRhj69w"
      },
      "source": [
        "**Unificación de valores en columnas \"WindGustDir\", \"WindGustDir9am\" y \"WindGustDir3pm\"**"
      ],
      "id": "GZH9otRhj69w"
    },
    {
      "cell_type": "code",
      "metadata": {
        "id": "Fe4ZTBNqkl0M",
        "colab": {
          "base_uri": "https://localhost:8080/"
        },
        "outputId": "8e140366-260a-4b0f-87d1-a4ef288573f1"
      },
      "source": [
        "# Unificar valores columnas WindGustDir WindGustDir9am WindGustDir3pm\n",
        "\n",
        "def conditions_dirs(column_name):\n",
        "  conditions_dirs = [\n",
        "        (dataset[column_name].isin(['N'])), # N\n",
        "        (dataset[column_name].isin(['S'])), # S\n",
        "        (dataset[column_name].isin(['E'])), # E\n",
        "        (dataset[column_name].isin(['W'])), # W\n",
        "        (dataset[column_name].isin(['NE', 'NNE', 'ENE'])), # NE\n",
        "        (dataset[column_name].isin(['NW', 'WNW', 'NNW'])), # NW\n",
        "        (dataset[column_name].isin(['SE', 'ESE', 'SSE'])), # SE\n",
        "        (dataset[column_name].isin(['SW', 'SSW', 'WSW'])) # SW\n",
        "    ]\n",
        "  return conditions_dirs\n",
        "\n",
        "dirs = ['N', 'S', 'E', 'W', 'NE', 'NW', 'SE', 'SW']\n",
        "\n",
        "# nueva columna WindGustDir\n",
        "dataset['WindGustDir'] = np.select(conditions_dirs('WindGustDir'), dirs)\n",
        "dataset['WindDir9am'] = np.select(conditions_dirs('WindDir9am'), dirs)\n",
        "dataset['WindDir3pm'] = np.select(conditions_dirs('WindDir3pm'), dirs)\n",
        "\n",
        "dataset['WindGustDir'].unique()\n",
        "dataset['WindDir9am'].unique()\n",
        "dataset['WindDir3pm'].unique()"
      ],
      "id": "Fe4ZTBNqkl0M",
      "execution_count": null,
      "outputs": [
        {
          "output_type": "execute_result",
          "data": {
            "text/plain": [
              "array(['SW', 'SE', 'NW', 'S', 'NE', 'N', 'E', 'W'], dtype=object)"
            ]
          },
          "metadata": {
            "tags": []
          },
          "execution_count": 91
        }
      ]
    },
    {
      "cell_type": "code",
      "metadata": {
        "id": "iece7iOMsjYh",
        "colab": {
          "base_uri": "https://localhost:8080/",
          "height": 309
        },
        "outputId": "f93a75b9-3273-4227-81ee-d99acecc28c3"
      },
      "source": [
        "dataset.sample(5)"
      ],
      "id": "iece7iOMsjYh",
      "execution_count": null,
      "outputs": [
        {
          "output_type": "execute_result",
          "data": {
            "text/html": [
              "<div>\n",
              "<style scoped>\n",
              "    .dataframe tbody tr th:only-of-type {\n",
              "        vertical-align: middle;\n",
              "    }\n",
              "\n",
              "    .dataframe tbody tr th {\n",
              "        vertical-align: top;\n",
              "    }\n",
              "\n",
              "    .dataframe thead th {\n",
              "        text-align: right;\n",
              "    }\n",
              "</style>\n",
              "<table border=\"1\" class=\"dataframe\">\n",
              "  <thead>\n",
              "    <tr style=\"text-align: right;\">\n",
              "      <th></th>\n",
              "      <th>Date</th>\n",
              "      <th>Location</th>\n",
              "      <th>MinTemp</th>\n",
              "      <th>MaxTemp</th>\n",
              "      <th>Rainfall</th>\n",
              "      <th>Evaporation</th>\n",
              "      <th>Sunshine</th>\n",
              "      <th>WindGustDir</th>\n",
              "      <th>WindGustSpeed</th>\n",
              "      <th>WindDir9am</th>\n",
              "      <th>WindDir3pm</th>\n",
              "      <th>WindSpeed9am</th>\n",
              "      <th>WindSpeed3pm</th>\n",
              "      <th>Humidity9am</th>\n",
              "      <th>Humidity3pm</th>\n",
              "      <th>Pressure9am</th>\n",
              "      <th>Pressure3pm</th>\n",
              "      <th>Cloud9am</th>\n",
              "      <th>Cloud3pm</th>\n",
              "      <th>Temp9am</th>\n",
              "      <th>Temp3pm</th>\n",
              "      <th>RainToday</th>\n",
              "      <th>RainTomorrow</th>\n",
              "      <th>Season</th>\n",
              "      <th>Year</th>\n",
              "      <th>Month</th>\n",
              "      <th>Day</th>\n",
              "      <th>Region</th>\n",
              "    </tr>\n",
              "  </thead>\n",
              "  <tbody>\n",
              "    <tr>\n",
              "      <th>10111</th>\n",
              "      <td>2011-12-20</td>\n",
              "      <td>CoffsHarbour</td>\n",
              "      <td>19.6</td>\n",
              "      <td>27.5</td>\n",
              "      <td>0.0</td>\n",
              "      <td>5.2</td>\n",
              "      <td>7.8</td>\n",
              "      <td>SE</td>\n",
              "      <td>46.0</td>\n",
              "      <td>NE</td>\n",
              "      <td>SE</td>\n",
              "      <td>7.0</td>\n",
              "      <td>22.0</td>\n",
              "      <td>66.0</td>\n",
              "      <td>67.0</td>\n",
              "      <td>1011.2</td>\n",
              "      <td>1012.1</td>\n",
              "      <td>1.0</td>\n",
              "      <td>7.0</td>\n",
              "      <td>24.9</td>\n",
              "      <td>25.6</td>\n",
              "      <td>No</td>\n",
              "      <td>No</td>\n",
              "      <td>spring</td>\n",
              "      <td>2011</td>\n",
              "      <td>12</td>\n",
              "      <td>20</td>\n",
              "      <td>newsouth</td>\n",
              "    </tr>\n",
              "    <tr>\n",
              "      <th>118647</th>\n",
              "      <td>2011-11-15</td>\n",
              "      <td>PerthAirport</td>\n",
              "      <td>10.0</td>\n",
              "      <td>25.6</td>\n",
              "      <td>0.0</td>\n",
              "      <td>6.4</td>\n",
              "      <td>12.9</td>\n",
              "      <td>SW</td>\n",
              "      <td>39.0</td>\n",
              "      <td>SE</td>\n",
              "      <td>SW</td>\n",
              "      <td>15.0</td>\n",
              "      <td>28.0</td>\n",
              "      <td>48.0</td>\n",
              "      <td>34.0</td>\n",
              "      <td>1021.0</td>\n",
              "      <td>1016.3</td>\n",
              "      <td>1.0</td>\n",
              "      <td>1.0</td>\n",
              "      <td>18.8</td>\n",
              "      <td>24.3</td>\n",
              "      <td>No</td>\n",
              "      <td>No</td>\n",
              "      <td>spring</td>\n",
              "      <td>2011</td>\n",
              "      <td>11</td>\n",
              "      <td>15</td>\n",
              "      <td>western</td>\n",
              "    </tr>\n",
              "    <tr>\n",
              "      <th>36803</th>\n",
              "      <td>2009-10-02</td>\n",
              "      <td>WaggaWagga</td>\n",
              "      <td>10.1</td>\n",
              "      <td>24.2</td>\n",
              "      <td>0.0</td>\n",
              "      <td>4.0</td>\n",
              "      <td>6.3</td>\n",
              "      <td>SW</td>\n",
              "      <td>44.0</td>\n",
              "      <td>NE</td>\n",
              "      <td>SE</td>\n",
              "      <td>9.0</td>\n",
              "      <td>20.0</td>\n",
              "      <td>56.0</td>\n",
              "      <td>33.0</td>\n",
              "      <td>1008.8</td>\n",
              "      <td>1003.1</td>\n",
              "      <td>6.0</td>\n",
              "      <td>5.0</td>\n",
              "      <td>17.0</td>\n",
              "      <td>23.7</td>\n",
              "      <td>No</td>\n",
              "      <td>Yes</td>\n",
              "      <td>spring</td>\n",
              "      <td>2009</td>\n",
              "      <td>10</td>\n",
              "      <td>2</td>\n",
              "      <td>newsouth</td>\n",
              "    </tr>\n",
              "    <tr>\n",
              "      <th>89167</th>\n",
              "      <td>2014-07-19</td>\n",
              "      <td>Cairns</td>\n",
              "      <td>9.9</td>\n",
              "      <td>26.2</td>\n",
              "      <td>0.0</td>\n",
              "      <td>7.4</td>\n",
              "      <td>10.1</td>\n",
              "      <td>SE</td>\n",
              "      <td>46.0</td>\n",
              "      <td>SE</td>\n",
              "      <td>SE</td>\n",
              "      <td>24.0</td>\n",
              "      <td>33.0</td>\n",
              "      <td>41.0</td>\n",
              "      <td>48.0</td>\n",
              "      <td>1019.6</td>\n",
              "      <td>1016.3</td>\n",
              "      <td>5.0</td>\n",
              "      <td>5.0</td>\n",
              "      <td>20.2</td>\n",
              "      <td>24.5</td>\n",
              "      <td>No</td>\n",
              "      <td>No</td>\n",
              "      <td>winter</td>\n",
              "      <td>2014</td>\n",
              "      <td>7</td>\n",
              "      <td>19</td>\n",
              "      <td>queensland</td>\n",
              "    </tr>\n",
              "    <tr>\n",
              "      <th>67613</th>\n",
              "      <td>2009-08-18</td>\n",
              "      <td>Melbourne</td>\n",
              "      <td>8.4</td>\n",
              "      <td>16.7</td>\n",
              "      <td>0.0</td>\n",
              "      <td>3.8</td>\n",
              "      <td>7.9</td>\n",
              "      <td>N</td>\n",
              "      <td>41.0</td>\n",
              "      <td>NW</td>\n",
              "      <td>NE</td>\n",
              "      <td>19.0</td>\n",
              "      <td>22.0</td>\n",
              "      <td>68.0</td>\n",
              "      <td>50.0</td>\n",
              "      <td>1027.3</td>\n",
              "      <td>1024.9</td>\n",
              "      <td>6.0</td>\n",
              "      <td>3.0</td>\n",
              "      <td>10.9</td>\n",
              "      <td>15.8</td>\n",
              "      <td>No</td>\n",
              "      <td>No</td>\n",
              "      <td>winter</td>\n",
              "      <td>2009</td>\n",
              "      <td>8</td>\n",
              "      <td>18</td>\n",
              "      <td>victoria</td>\n",
              "    </tr>\n",
              "  </tbody>\n",
              "</table>\n",
              "</div>"
            ],
            "text/plain": [
              "             Date      Location  MinTemp  MaxTemp  ...  Year  Month  Day      Region\n",
              "10111  2011-12-20  CoffsHarbour     19.6     27.5  ...  2011     12   20    newsouth\n",
              "118647 2011-11-15  PerthAirport     10.0     25.6  ...  2011     11   15     western\n",
              "36803  2009-10-02    WaggaWagga     10.1     24.2  ...  2009     10    2    newsouth\n",
              "89167  2014-07-19        Cairns      9.9     26.2  ...  2014      7   19  queensland\n",
              "67613  2009-08-18     Melbourne      8.4     16.7  ...  2009      8   18    victoria\n",
              "\n",
              "[5 rows x 28 columns]"
            ]
          },
          "metadata": {
            "tags": []
          },
          "execution_count": 92
        }
      ]
    },
    {
      "cell_type": "code",
      "metadata": {
        "id": "pTCWyAX6a1UJ"
      },
      "source": [
        "# eliminar columna Date y Location\n",
        "dataset = dataset.drop(['Date'], axis=1)\n",
        "dataset = dataset.drop(['Location'], axis=1)"
      ],
      "id": "pTCWyAX6a1UJ",
      "execution_count": null,
      "outputs": []
    },
    {
      "cell_type": "markdown",
      "metadata": {
        "id": "kx9hif93kMKz"
      },
      "source": [
        "#**ALGORITMOS**"
      ],
      "id": "kx9hif93kMKz"
    },
    {
      "cell_type": "markdown",
      "metadata": {
        "id": "xcRqZ7Lhwnkt"
      },
      "source": [
        "Algoritmos a evaluar:\n",
        "\n",
        "- Regresión logística\n",
        "- Árboles de decisión \n",
        "- Random Forest\n",
        "- Gradient Boosting "
      ],
      "id": "xcRqZ7Lhwnkt"
    },
    {
      "cell_type": "markdown",
      "metadata": {
        "id": "kMtfCEGEzS11"
      },
      "source": [
        "**CONJUNTO DE DATOS (60% train, 20% test, 20% validation)**"
      ],
      "id": "kMtfCEGEzS11"
    },
    {
      "cell_type": "code",
      "metadata": {
        "id": "N-vcN9lIh0K9"
      },
      "source": [
        "dataset['RainToday'] = dataset['RainToday'].map({\"No\":0, \"Yes\":1})\n",
        "dataset['RainTomorrow'] = dataset['RainTomorrow'].map({\"No\":0, \"Yes\":1})"
      ],
      "id": "N-vcN9lIh0K9",
      "execution_count": null,
      "outputs": []
    },
    {
      "cell_type": "code",
      "metadata": {
        "id": "mVWELDoM1HIS",
        "colab": {
          "base_uri": "https://localhost:8080/"
        },
        "outputId": "d2a6a93f-b57a-4802-eacf-156f1508d3e9"
      },
      "source": [
        "# 60% train, 20% test, 20% validation\n",
        "train, not_train = train_test_split(dataset, test_size=0.4, random_state=42)\n",
        "validation, test = train_test_split(not_train, test_size=0.5, random_state=42)\n",
        "\n",
        "train.shape, validation.shape, test.shape"
      ],
      "id": "mVWELDoM1HIS",
      "execution_count": null,
      "outputs": [
        {
          "output_type": "execute_result",
          "data": {
            "text/plain": [
              "((33852, 26), (11284, 26), (11284, 26))"
            ]
          },
          "metadata": {
            "tags": []
          },
          "execution_count": 95
        }
      ]
    },
    {
      "cell_type": "code",
      "metadata": {
        "id": "NahkrcgGjERv",
        "colab": {
          "base_uri": "https://localhost:8080/",
          "height": 224
        },
        "outputId": "f73ffc4d-2341-47a2-9c22-c0394d327e70"
      },
      "source": [
        "dataset.sample(5)"
      ],
      "id": "NahkrcgGjERv",
      "execution_count": null,
      "outputs": [
        {
          "output_type": "execute_result",
          "data": {
            "text/html": [
              "<div>\n",
              "<style scoped>\n",
              "    .dataframe tbody tr th:only-of-type {\n",
              "        vertical-align: middle;\n",
              "    }\n",
              "\n",
              "    .dataframe tbody tr th {\n",
              "        vertical-align: top;\n",
              "    }\n",
              "\n",
              "    .dataframe thead th {\n",
              "        text-align: right;\n",
              "    }\n",
              "</style>\n",
              "<table border=\"1\" class=\"dataframe\">\n",
              "  <thead>\n",
              "    <tr style=\"text-align: right;\">\n",
              "      <th></th>\n",
              "      <th>MinTemp</th>\n",
              "      <th>MaxTemp</th>\n",
              "      <th>Rainfall</th>\n",
              "      <th>Evaporation</th>\n",
              "      <th>Sunshine</th>\n",
              "      <th>WindGustDir</th>\n",
              "      <th>WindGustSpeed</th>\n",
              "      <th>WindDir9am</th>\n",
              "      <th>WindDir3pm</th>\n",
              "      <th>WindSpeed9am</th>\n",
              "      <th>WindSpeed3pm</th>\n",
              "      <th>Humidity9am</th>\n",
              "      <th>Humidity3pm</th>\n",
              "      <th>Pressure9am</th>\n",
              "      <th>Pressure3pm</th>\n",
              "      <th>Cloud9am</th>\n",
              "      <th>Cloud3pm</th>\n",
              "      <th>Temp9am</th>\n",
              "      <th>Temp3pm</th>\n",
              "      <th>RainToday</th>\n",
              "      <th>RainTomorrow</th>\n",
              "      <th>Season</th>\n",
              "      <th>Year</th>\n",
              "      <th>Month</th>\n",
              "      <th>Day</th>\n",
              "      <th>Region</th>\n",
              "    </tr>\n",
              "  </thead>\n",
              "  <tbody>\n",
              "    <tr>\n",
              "      <th>106885</th>\n",
              "      <td>8.5</td>\n",
              "      <td>24.0</td>\n",
              "      <td>0.0</td>\n",
              "      <td>4.2</td>\n",
              "      <td>8.4</td>\n",
              "      <td>NE</td>\n",
              "      <td>31.0</td>\n",
              "      <td>E</td>\n",
              "      <td>NW</td>\n",
              "      <td>15.0</td>\n",
              "      <td>9.0</td>\n",
              "      <td>48.0</td>\n",
              "      <td>20.0</td>\n",
              "      <td>1025.7</td>\n",
              "      <td>1021.1</td>\n",
              "      <td>3.0</td>\n",
              "      <td>3.0</td>\n",
              "      <td>15.3</td>\n",
              "      <td>23.0</td>\n",
              "      <td>0</td>\n",
              "      <td>0</td>\n",
              "      <td>winter</td>\n",
              "      <td>2012</td>\n",
              "      <td>9</td>\n",
              "      <td>15</td>\n",
              "      <td>south</td>\n",
              "    </tr>\n",
              "    <tr>\n",
              "      <th>66557</th>\n",
              "      <td>5.6</td>\n",
              "      <td>12.6</td>\n",
              "      <td>0.8</td>\n",
              "      <td>2.2</td>\n",
              "      <td>7.2</td>\n",
              "      <td>SW</td>\n",
              "      <td>57.0</td>\n",
              "      <td>SW</td>\n",
              "      <td>S</td>\n",
              "      <td>31.0</td>\n",
              "      <td>35.0</td>\n",
              "      <td>81.0</td>\n",
              "      <td>38.0</td>\n",
              "      <td>1026.4</td>\n",
              "      <td>1028.6</td>\n",
              "      <td>7.0</td>\n",
              "      <td>4.0</td>\n",
              "      <td>7.6</td>\n",
              "      <td>11.5</td>\n",
              "      <td>0</td>\n",
              "      <td>1</td>\n",
              "      <td>spring</td>\n",
              "      <td>2015</td>\n",
              "      <td>9</td>\n",
              "      <td>22</td>\n",
              "      <td>victoria</td>\n",
              "    </tr>\n",
              "    <tr>\n",
              "      <th>37068</th>\n",
              "      <td>8.7</td>\n",
              "      <td>17.4</td>\n",
              "      <td>0.0</td>\n",
              "      <td>2.0</td>\n",
              "      <td>9.1</td>\n",
              "      <td>NE</td>\n",
              "      <td>30.0</td>\n",
              "      <td>E</td>\n",
              "      <td>N</td>\n",
              "      <td>11.0</td>\n",
              "      <td>11.0</td>\n",
              "      <td>77.0</td>\n",
              "      <td>57.0</td>\n",
              "      <td>1030.1</td>\n",
              "      <td>1025.3</td>\n",
              "      <td>1.0</td>\n",
              "      <td>2.0</td>\n",
              "      <td>11.7</td>\n",
              "      <td>17.2</td>\n",
              "      <td>0</td>\n",
              "      <td>0</td>\n",
              "      <td>winter</td>\n",
              "      <td>2010</td>\n",
              "      <td>6</td>\n",
              "      <td>24</td>\n",
              "      <td>newsouth</td>\n",
              "    </tr>\n",
              "    <tr>\n",
              "      <th>86666</th>\n",
              "      <td>19.4</td>\n",
              "      <td>30.3</td>\n",
              "      <td>0.0</td>\n",
              "      <td>9.6</td>\n",
              "      <td>12.6</td>\n",
              "      <td>NE</td>\n",
              "      <td>26.0</td>\n",
              "      <td>NW</td>\n",
              "      <td>NE</td>\n",
              "      <td>6.0</td>\n",
              "      <td>13.0</td>\n",
              "      <td>57.0</td>\n",
              "      <td>54.0</td>\n",
              "      <td>1020.7</td>\n",
              "      <td>1017.2</td>\n",
              "      <td>5.0</td>\n",
              "      <td>1.0</td>\n",
              "      <td>26.0</td>\n",
              "      <td>28.1</td>\n",
              "      <td>0</td>\n",
              "      <td>0</td>\n",
              "      <td>summer</td>\n",
              "      <td>2016</td>\n",
              "      <td>1</td>\n",
              "      <td>9</td>\n",
              "      <td>queensland</td>\n",
              "    </tr>\n",
              "    <tr>\n",
              "      <th>139164</th>\n",
              "      <td>22.0</td>\n",
              "      <td>31.7</td>\n",
              "      <td>0.0</td>\n",
              "      <td>11.0</td>\n",
              "      <td>8.7</td>\n",
              "      <td>SE</td>\n",
              "      <td>48.0</td>\n",
              "      <td>SE</td>\n",
              "      <td>SE</td>\n",
              "      <td>24.0</td>\n",
              "      <td>20.0</td>\n",
              "      <td>17.0</td>\n",
              "      <td>15.0</td>\n",
              "      <td>1015.5</td>\n",
              "      <td>1011.3</td>\n",
              "      <td>7.0</td>\n",
              "      <td>4.0</td>\n",
              "      <td>22.1</td>\n",
              "      <td>30.1</td>\n",
              "      <td>0</td>\n",
              "      <td>0</td>\n",
              "      <td>winter</td>\n",
              "      <td>2008</td>\n",
              "      <td>8</td>\n",
              "      <td>23</td>\n",
              "      <td>northen</td>\n",
              "    </tr>\n",
              "  </tbody>\n",
              "</table>\n",
              "</div>"
            ],
            "text/plain": [
              "        MinTemp  MaxTemp  Rainfall  Evaporation  ...  Year Month  Day      Region\n",
              "106885      8.5     24.0       0.0          4.2  ...  2012     9   15       south\n",
              "66557       5.6     12.6       0.8          2.2  ...  2015     9   22    victoria\n",
              "37068       8.7     17.4       0.0          2.0  ...  2010     6   24    newsouth\n",
              "86666      19.4     30.3       0.0          9.6  ...  2016     1    9  queensland\n",
              "139164     22.0     31.7       0.0         11.0  ...  2008     8   23     northen\n",
              "\n",
              "[5 rows x 26 columns]"
            ]
          },
          "metadata": {
            "tags": []
          },
          "execution_count": 96
        }
      ]
    },
    {
      "cell_type": "markdown",
      "metadata": {
        "id": "ik35MIrPMMy3"
      },
      "source": [
        "**DATAFRAME MAPPER**"
      ],
      "id": "ik35MIrPMMy3"
    },
    {
      "cell_type": "code",
      "metadata": {
        "id": "arMXke7GMSsv",
        "colab": {
          "base_uri": "https://localhost:8080/",
          "height": 224
        },
        "outputId": "9217c7d0-430c-4c0c-dcd6-1377b3c6ab7d"
      },
      "source": [
        "mapper = DataFrameMapper([\n",
        "    (['MinTemp'], [MinMaxScaler()]),\n",
        "    (['MaxTemp'], [MinMaxScaler()]),\n",
        "    (['Rainfall'], [MinMaxScaler()]),\n",
        "    (['Evaporation'], [MinMaxScaler()]),\n",
        "    (['Sunshine'], [MinMaxScaler()]),\n",
        "    (['WindGustDir'], [OneHotEncoder()]),\n",
        "    (['WindDir9am'], [OneHotEncoder()]),\n",
        "    (['WindDir3pm'], [OneHotEncoder()]),\n",
        "    (['WindGustSpeed'], [MinMaxScaler()]),\n",
        "    (['WindSpeed9am'], [MinMaxScaler()]),\n",
        "    (['WindSpeed3pm'], [MinMaxScaler()]),\n",
        "    (['Humidity9am'], [MinMaxScaler()]),\n",
        "    (['Humidity3pm'], [MinMaxScaler()]),\n",
        "    (['Pressure9am'], [MinMaxScaler()]),\n",
        "    (['Pressure3pm'], [MinMaxScaler()]),\n",
        "    (['Cloud9am'], [MinMaxScaler()]),\n",
        "    (['Cloud3pm'], [MinMaxScaler()]),\n",
        "    (['Temp9am'], [MinMaxScaler()]),\n",
        "    (['Temp3pm'], [MinMaxScaler()]),\n",
        "    (['RainToday'], None),\n",
        "    (['Season'], [OneHotEncoder()]),\n",
        "    (['Year'], [MinMaxScaler()]),\n",
        "    (['Month'], [MinMaxScaler()]),\n",
        "    (['Day'], [MinMaxScaler()]),\n",
        "    (['Region'], [OneHotEncoder()]),\n",
        "])\n",
        "sample = train.sample(5, random_state=42)\n",
        "sample"
      ],
      "id": "arMXke7GMSsv",
      "execution_count": null,
      "outputs": [
        {
          "output_type": "execute_result",
          "data": {
            "text/html": [
              "<div>\n",
              "<style scoped>\n",
              "    .dataframe tbody tr th:only-of-type {\n",
              "        vertical-align: middle;\n",
              "    }\n",
              "\n",
              "    .dataframe tbody tr th {\n",
              "        vertical-align: top;\n",
              "    }\n",
              "\n",
              "    .dataframe thead th {\n",
              "        text-align: right;\n",
              "    }\n",
              "</style>\n",
              "<table border=\"1\" class=\"dataframe\">\n",
              "  <thead>\n",
              "    <tr style=\"text-align: right;\">\n",
              "      <th></th>\n",
              "      <th>MinTemp</th>\n",
              "      <th>MaxTemp</th>\n",
              "      <th>Rainfall</th>\n",
              "      <th>Evaporation</th>\n",
              "      <th>Sunshine</th>\n",
              "      <th>WindGustDir</th>\n",
              "      <th>WindGustSpeed</th>\n",
              "      <th>WindDir9am</th>\n",
              "      <th>WindDir3pm</th>\n",
              "      <th>WindSpeed9am</th>\n",
              "      <th>WindSpeed3pm</th>\n",
              "      <th>Humidity9am</th>\n",
              "      <th>Humidity3pm</th>\n",
              "      <th>Pressure9am</th>\n",
              "      <th>Pressure3pm</th>\n",
              "      <th>Cloud9am</th>\n",
              "      <th>Cloud3pm</th>\n",
              "      <th>Temp9am</th>\n",
              "      <th>Temp3pm</th>\n",
              "      <th>RainToday</th>\n",
              "      <th>RainTomorrow</th>\n",
              "      <th>Season</th>\n",
              "      <th>Year</th>\n",
              "      <th>Month</th>\n",
              "      <th>Day</th>\n",
              "      <th>Region</th>\n",
              "    </tr>\n",
              "  </thead>\n",
              "  <tbody>\n",
              "    <tr>\n",
              "      <th>67364</th>\n",
              "      <td>14.1</td>\n",
              "      <td>22.5</td>\n",
              "      <td>0.0</td>\n",
              "      <td>8.0</td>\n",
              "      <td>0.3</td>\n",
              "      <td>N</td>\n",
              "      <td>59.0</td>\n",
              "      <td>N</td>\n",
              "      <td>NE</td>\n",
              "      <td>24.0</td>\n",
              "      <td>15.0</td>\n",
              "      <td>68.0</td>\n",
              "      <td>82.0</td>\n",
              "      <td>1007.4</td>\n",
              "      <td>1003.7</td>\n",
              "      <td>8.0</td>\n",
              "      <td>8.0</td>\n",
              "      <td>18.1</td>\n",
              "      <td>18.5</td>\n",
              "      <td>0</td>\n",
              "      <td>1</td>\n",
              "      <td>spring</td>\n",
              "      <td>2008</td>\n",
              "      <td>12</td>\n",
              "      <td>12</td>\n",
              "      <td>victoria</td>\n",
              "    </tr>\n",
              "    <tr>\n",
              "      <th>75942</th>\n",
              "      <td>8.4</td>\n",
              "      <td>15.1</td>\n",
              "      <td>11.6</td>\n",
              "      <td>2.0</td>\n",
              "      <td>9.2</td>\n",
              "      <td>NW</td>\n",
              "      <td>52.0</td>\n",
              "      <td>SW</td>\n",
              "      <td>NW</td>\n",
              "      <td>26.0</td>\n",
              "      <td>31.0</td>\n",
              "      <td>60.0</td>\n",
              "      <td>57.0</td>\n",
              "      <td>1008.8</td>\n",
              "      <td>1011.5</td>\n",
              "      <td>5.0</td>\n",
              "      <td>3.0</td>\n",
              "      <td>12.6</td>\n",
              "      <td>13.5</td>\n",
              "      <td>1</td>\n",
              "      <td>0</td>\n",
              "      <td>winter</td>\n",
              "      <td>2011</td>\n",
              "      <td>9</td>\n",
              "      <td>20</td>\n",
              "      <td>newsouth</td>\n",
              "    </tr>\n",
              "    <tr>\n",
              "      <th>117764</th>\n",
              "      <td>7.0</td>\n",
              "      <td>25.5</td>\n",
              "      <td>0.0</td>\n",
              "      <td>3.4</td>\n",
              "      <td>9.5</td>\n",
              "      <td>NE</td>\n",
              "      <td>31.0</td>\n",
              "      <td>NE</td>\n",
              "      <td>NE</td>\n",
              "      <td>15.0</td>\n",
              "      <td>9.0</td>\n",
              "      <td>38.0</td>\n",
              "      <td>21.0</td>\n",
              "      <td>1022.2</td>\n",
              "      <td>1018.4</td>\n",
              "      <td>1.0</td>\n",
              "      <td>1.0</td>\n",
              "      <td>16.0</td>\n",
              "      <td>25.0</td>\n",
              "      <td>0</td>\n",
              "      <td>0</td>\n",
              "      <td>autumn</td>\n",
              "      <td>2009</td>\n",
              "      <td>5</td>\n",
              "      <td>16</td>\n",
              "      <td>western</td>\n",
              "    </tr>\n",
              "    <tr>\n",
              "      <th>77490</th>\n",
              "      <td>12.4</td>\n",
              "      <td>24.5</td>\n",
              "      <td>0.0</td>\n",
              "      <td>7.0</td>\n",
              "      <td>8.5</td>\n",
              "      <td>W</td>\n",
              "      <td>44.0</td>\n",
              "      <td>NW</td>\n",
              "      <td>W</td>\n",
              "      <td>13.0</td>\n",
              "      <td>33.0</td>\n",
              "      <td>83.0</td>\n",
              "      <td>68.0</td>\n",
              "      <td>1009.9</td>\n",
              "      <td>1009.3</td>\n",
              "      <td>2.0</td>\n",
              "      <td>8.0</td>\n",
              "      <td>17.5</td>\n",
              "      <td>21.7</td>\n",
              "      <td>0</td>\n",
              "      <td>0</td>\n",
              "      <td>summer</td>\n",
              "      <td>2016</td>\n",
              "      <td>2</td>\n",
              "      <td>13</td>\n",
              "      <td>newsouth</td>\n",
              "    </tr>\n",
              "    <tr>\n",
              "      <th>84224</th>\n",
              "      <td>21.9</td>\n",
              "      <td>29.8</td>\n",
              "      <td>6.2</td>\n",
              "      <td>2.4</td>\n",
              "      <td>8.7</td>\n",
              "      <td>NE</td>\n",
              "      <td>28.0</td>\n",
              "      <td>SE</td>\n",
              "      <td>NE</td>\n",
              "      <td>6.0</td>\n",
              "      <td>13.0</td>\n",
              "      <td>77.0</td>\n",
              "      <td>59.0</td>\n",
              "      <td>1011.1</td>\n",
              "      <td>1008.0</td>\n",
              "      <td>7.0</td>\n",
              "      <td>4.0</td>\n",
              "      <td>24.9</td>\n",
              "      <td>28.4</td>\n",
              "      <td>1</td>\n",
              "      <td>0</td>\n",
              "      <td>summer</td>\n",
              "      <td>2009</td>\n",
              "      <td>2</td>\n",
              "      <td>3</td>\n",
              "      <td>queensland</td>\n",
              "    </tr>\n",
              "  </tbody>\n",
              "</table>\n",
              "</div>"
            ],
            "text/plain": [
              "        MinTemp  MaxTemp  Rainfall  Evaporation  ...  Year Month  Day      Region\n",
              "67364      14.1     22.5       0.0          8.0  ...  2008    12   12    victoria\n",
              "75942       8.4     15.1      11.6          2.0  ...  2011     9   20    newsouth\n",
              "117764      7.0     25.5       0.0          3.4  ...  2009     5   16     western\n",
              "77490      12.4     24.5       0.0          7.0  ...  2016     2   13    newsouth\n",
              "84224      21.9     29.8       6.2          2.4  ...  2009     2    3  queensland\n",
              "\n",
              "[5 rows x 26 columns]"
            ]
          },
          "metadata": {
            "tags": []
          },
          "execution_count": 97
        }
      ]
    },
    {
      "cell_type": "code",
      "metadata": {
        "id": "vyxp-c49y0Bm",
        "colab": {
          "base_uri": "https://localhost:8080/"
        },
        "outputId": "fe2c9595-c7aa-457f-ac7b-2d182240768e"
      },
      "source": [
        "mapper.fit(train)\n",
        "# Sample transformado con el mapper completo\n",
        "mapper.transform(sample)"
      ],
      "id": "vyxp-c49y0Bm",
      "execution_count": null,
      "outputs": [
        {
          "output_type": "execute_result",
          "data": {
            "text/plain": [
              "array([[0.54593176, 0.4       , 0.        , 0.11080332, 0.02097902,\n",
              "        0.        , 1.        , 0.        , 0.        , 0.        ,\n",
              "        0.        , 0.        , 0.        , 0.        , 1.        ,\n",
              "        0.        , 0.        , 0.        , 0.        , 0.        ,\n",
              "        0.        , 0.        , 0.        , 1.        , 0.        ,\n",
              "        0.        , 0.        , 0.        , 0.        , 0.44247788,\n",
              "        0.33846154, 0.17567568, 0.67676768, 0.82      , 0.43902439,\n",
              "        0.43147208, 1.        , 0.88888889, 0.46882793, 0.33971292,\n",
              "        0.        , 0.        , 1.        , 0.        , 0.        ,\n",
              "        0.1       , 1.        , 0.36666667, 0.        , 0.        ,\n",
              "        0.        , 0.        , 0.        , 0.        , 1.        ,\n",
              "        0.        ],\n",
              "       [0.39632546, 0.21728395, 0.05625606, 0.02770083, 0.64335664,\n",
              "        0.        , 0.        , 0.        , 1.        , 0.        ,\n",
              "        0.        , 0.        , 0.        , 0.        , 0.        ,\n",
              "        0.        , 0.        , 0.        , 0.        , 1.        ,\n",
              "        0.        , 0.        , 0.        , 0.        , 1.        ,\n",
              "        0.        , 0.        , 0.        , 0.        , 0.38053097,\n",
              "        0.36923077, 0.39189189, 0.5959596 , 0.57      , 0.46341463,\n",
              "        0.56345178, 0.625     , 0.33333333, 0.33167082, 0.22009569,\n",
              "        1.        , 0.        , 0.        , 0.        , 1.        ,\n",
              "        0.4       , 0.72727273, 0.63333333, 1.        , 0.        ,\n",
              "        0.        , 0.        , 0.        , 0.        , 0.        ,\n",
              "        0.        ],\n",
              "       [0.35958005, 0.47407407, 0.        , 0.04709141, 0.66433566,\n",
              "        0.        , 0.        , 1.        , 0.        , 0.        ,\n",
              "        0.        , 0.        , 0.        , 0.        , 0.        ,\n",
              "        1.        , 0.        , 0.        , 0.        , 0.        ,\n",
              "        0.        , 0.        , 0.        , 1.        , 0.        ,\n",
              "        0.        , 0.        , 0.        , 0.        , 0.19469027,\n",
              "        0.2       , 0.09459459, 0.37373737, 0.21      , 0.69686411,\n",
              "        0.68020305, 0.125     , 0.11111111, 0.41645885, 0.49521531,\n",
              "        0.        , 1.        , 0.        , 0.        , 0.        ,\n",
              "        0.2       , 0.36363636, 0.5       , 0.        , 0.        ,\n",
              "        0.        , 0.        , 0.        , 0.        , 0.        ,\n",
              "        1.        ],\n",
              "       [0.50131234, 0.44938272, 0.        , 0.09695291, 0.59440559,\n",
              "        0.        , 0.        , 0.        , 0.        , 0.        ,\n",
              "        0.        , 0.        , 1.        , 0.        , 0.        ,\n",
              "        0.        , 1.        , 0.        , 0.        , 0.        ,\n",
              "        0.        , 0.        , 0.        , 0.        , 0.        ,\n",
              "        0.        , 0.        , 0.        , 1.        , 0.30973451,\n",
              "        0.16923077, 0.41891892, 0.82828283, 0.68      , 0.4825784 ,\n",
              "        0.52622673, 0.25      , 0.88888889, 0.45386534, 0.41626794,\n",
              "        0.        , 0.        , 0.        , 1.        , 0.        ,\n",
              "        0.9       , 0.09090909, 0.4       , 1.        , 0.        ,\n",
              "        0.        , 0.        , 0.        , 0.        , 0.        ,\n",
              "        0.        ],\n",
              "       [0.75065617, 0.58024691, 0.0300679 , 0.033241  , 0.60839161,\n",
              "        0.        , 0.        , 1.        , 0.        , 0.        ,\n",
              "        0.        , 0.        , 0.        , 0.        , 0.        ,\n",
              "        0.        , 0.        , 0.        , 1.        , 0.        ,\n",
              "        0.        , 0.        , 0.        , 1.        , 0.        ,\n",
              "        0.        , 0.        , 0.        , 0.        , 0.16814159,\n",
              "        0.06153846, 0.14864865, 0.76767677, 0.59      , 0.50348432,\n",
              "        0.50423012, 0.875     , 0.44444444, 0.63840399, 0.57655502,\n",
              "        1.        , 0.        , 0.        , 1.        , 0.        ,\n",
              "        0.2       , 0.09090909, 0.06666667, 0.        , 0.        ,\n",
              "        0.        , 1.        , 0.        , 0.        , 0.        ,\n",
              "        0.        ]])"
            ]
          },
          "metadata": {
            "tags": []
          },
          "execution_count": 98
        }
      ]
    },
    {
      "cell_type": "markdown",
      "metadata": {
        "id": "MPRy8xAslBpI"
      },
      "source": [
        "**Función para evaluar modelos**"
      ],
      "id": "MPRy8xAslBpI"
    },
    {
      "cell_type": "code",
      "metadata": {
        "id": "p4LcsKCqlTax"
      },
      "source": [
        "def evaluate_model(model, set_names=('train', 'validation'), title='', show_cm=True):\n",
        "    if title:\n",
        "        display(title)\n",
        "        \n",
        "    final_metrics = defaultdict(list)\n",
        "    \n",
        "    if show_cm:\n",
        "        fig, axis = plt.subplots(1, len(set_names), sharey=True, figsize=(15, 3))\n",
        "    \n",
        "    for i, set_name in enumerate(set_names):\n",
        "        assert set_name in ['train', 'validation', 'test']\n",
        "        set_data = globals()[set_name] \n",
        "\n",
        "        y = set_data.RainTomorrow\n",
        "        y_pred = model.predict(set_data)\n",
        "        final_metrics['Accuracy'].append(metrics.accuracy_score(y, y_pred))\n",
        "        final_metrics['Precision'].append(metrics.precision_score(y, y_pred))\n",
        "        \n",
        "        if show_cm:\n",
        "            ax = axis[i]\n",
        "            sns.heatmap(metrics.confusion_matrix(y, y_pred), ax=ax, cmap='Blues', annot=True, fmt='.0f', cbar=False)\n",
        "\n",
        "            ax.set_title(set_name)\n",
        "            ax.xaxis.set_ticklabels(['No', 'Yes'])\n",
        "            ax.yaxis.set_ticklabels(['No', 'Yes'])\n",
        "            ax.set_xlabel('Predicted class (RainTomorrow)')\n",
        "            ax.set_ylabel('True class (RainTomorrow)')\n",
        "\n",
        "        \n",
        "    display(pd.DataFrame(final_metrics, index=set_names))\n",
        "    if show_cm:\n",
        "        plt.tight_layout()\n",
        "        plt.show()"
      ],
      "id": "p4LcsKCqlTax",
      "execution_count": null,
      "outputs": []
    },
    {
      "cell_type": "markdown",
      "metadata": {
        "id": "49EvhZid6sDd"
      },
      "source": [
        "# **REGRESIÓN LOGÍSTICA**"
      ],
      "id": "49EvhZid6sDd"
    },
    {
      "cell_type": "code",
      "metadata": {
        "id": "vbIP7OnsfzUi",
        "colab": {
          "base_uri": "https://localhost:8080/"
        },
        "outputId": "152d5420-ff57-4f5a-8197-37f34bf0b879"
      },
      "source": [
        "lr_model = Pipeline([\n",
        "    ('mapper', mapper),\n",
        "    ('classifier', LogisticRegression(random_state=42, max_iter=1000)),\n",
        "])\n",
        "lr_model.fit(train, train.RainTomorrow)\n",
        "\n",
        "y_pred = lr_model.predict(validation)\n",
        "y_pred"
      ],
      "id": "vbIP7OnsfzUi",
      "execution_count": null,
      "outputs": [
        {
          "output_type": "execute_result",
          "data": {
            "text/plain": [
              "array([1, 0, 0, ..., 0, 0, 0])"
            ]
          },
          "metadata": {
            "tags": []
          },
          "execution_count": 100
        }
      ]
    },
    {
      "cell_type": "code",
      "metadata": {
        "id": "9sPuy6riR7oN",
        "colab": {
          "base_uri": "https://localhost:8080/"
        },
        "outputId": "403aeb6e-1ec5-430c-dc23-190b6380b414"
      },
      "source": [
        "metrics.accuracy_score(validation.RainTomorrow, y_pred)"
      ],
      "id": "9sPuy6riR7oN",
      "execution_count": null,
      "outputs": [
        {
          "output_type": "execute_result",
          "data": {
            "text/plain": [
              "0.8537752570010635"
            ]
          },
          "metadata": {
            "tags": []
          },
          "execution_count": 101
        }
      ]
    },
    {
      "cell_type": "code",
      "metadata": {
        "id": "9wvKhg5S9Fgm",
        "colab": {
          "base_uri": "https://localhost:8080/",
          "height": 489
        },
        "outputId": "331ce463-0299-40fa-ce13-1e9c91def662"
      },
      "source": [
        "lr_model2 = Pipeline([\n",
        "    ('mapper', mapper),\n",
        "    ('classifier', LogisticRegression(random_state=42, max_iter=10)),\n",
        "])\n",
        "lr_model2.fit(train, train.RainTomorrow)\n",
        "evaluate_model(lr_model2)"
      ],
      "id": "9wvKhg5S9Fgm",
      "execution_count": null,
      "outputs": [
        {
          "output_type": "stream",
          "text": [
            "/usr/local/lib/python3.7/dist-packages/sklearn/linear_model/_logistic.py:940: ConvergenceWarning:\n",
            "\n",
            "lbfgs failed to converge (status=1):\n",
            "STOP: TOTAL NO. of ITERATIONS REACHED LIMIT.\n",
            "\n",
            "Increase the number of iterations (max_iter) or scale the data as shown in:\n",
            "    https://scikit-learn.org/stable/modules/preprocessing.html\n",
            "Please also refer to the documentation for alternative solver options:\n",
            "    https://scikit-learn.org/stable/modules/linear_model.html#logistic-regression\n",
            "\n"
          ],
          "name": "stderr"
        },
        {
          "output_type": "display_data",
          "data": {
            "text/html": [
              "<div>\n",
              "<style scoped>\n",
              "    .dataframe tbody tr th:only-of-type {\n",
              "        vertical-align: middle;\n",
              "    }\n",
              "\n",
              "    .dataframe tbody tr th {\n",
              "        vertical-align: top;\n",
              "    }\n",
              "\n",
              "    .dataframe thead th {\n",
              "        text-align: right;\n",
              "    }\n",
              "</style>\n",
              "<table border=\"1\" class=\"dataframe\">\n",
              "  <thead>\n",
              "    <tr style=\"text-align: right;\">\n",
              "      <th></th>\n",
              "      <th>Accuracy</th>\n",
              "      <th>Precision</th>\n",
              "    </tr>\n",
              "  </thead>\n",
              "  <tbody>\n",
              "    <tr>\n",
              "      <th>train</th>\n",
              "      <td>0.847838</td>\n",
              "      <td>0.705587</td>\n",
              "    </tr>\n",
              "    <tr>\n",
              "      <th>validation</th>\n",
              "      <td>0.843141</td>\n",
              "      <td>0.704762</td>\n",
              "    </tr>\n",
              "  </tbody>\n",
              "</table>\n",
              "</div>"
            ],
            "text/plain": [
              "            Accuracy  Precision\n",
              "train       0.847838   0.705587\n",
              "validation  0.843141   0.704762"
            ]
          },
          "metadata": {
            "tags": []
          }
        },
        {
          "output_type": "display_data",
          "data": {
            "image/png": "[encoded data removed]",
            "text/plain": [
              "<Figure size 1080x216 with 2 Axes>"
            ]
          },
          "metadata": {
            "tags": [],
            "needs_background": "light"
          }
        }
      ]
    },
    {
      "cell_type": "code",
      "metadata": {
        "id": "P8EuxrsRSNN0",
        "colab": {
          "base_uri": "https://localhost:8080/",
          "height": 319
        },
        "outputId": "39480c59-28f6-4960-be98-36091a0c5ada"
      },
      "source": [
        "evaluate_model(lr_model)"
      ],
      "id": "P8EuxrsRSNN0",
      "execution_count": null,
      "outputs": [
        {
          "output_type": "display_data",
          "data": {
            "text/html": [
              "<div>\n",
              "<style scoped>\n",
              "    .dataframe tbody tr th:only-of-type {\n",
              "        vertical-align: middle;\n",
              "    }\n",
              "\n",
              "    .dataframe tbody tr th {\n",
              "        vertical-align: top;\n",
              "    }\n",
              "\n",
              "    .dataframe thead th {\n",
              "        text-align: right;\n",
              "    }\n",
              "</style>\n",
              "<table border=\"1\" class=\"dataframe\">\n",
              "  <thead>\n",
              "    <tr style=\"text-align: right;\">\n",
              "      <th></th>\n",
              "      <th>Accuracy</th>\n",
              "      <th>Precision</th>\n",
              "    </tr>\n",
              "  </thead>\n",
              "  <tbody>\n",
              "    <tr>\n",
              "      <th>train</th>\n",
              "      <td>0.856463</td>\n",
              "      <td>0.730712</td>\n",
              "    </tr>\n",
              "    <tr>\n",
              "      <th>validation</th>\n",
              "      <td>0.853775</td>\n",
              "      <td>0.736758</td>\n",
              "    </tr>\n",
              "  </tbody>\n",
              "</table>\n",
              "</div>"
            ],
            "text/plain": [
              "            Accuracy  Precision\n",
              "train       0.856463   0.730712\n",
              "validation  0.853775   0.736758"
            ]
          },
          "metadata": {
            "tags": []
          }
        },
        {
          "output_type": "display_data",
          "data": {
            "image/png": "[encoded data removed]",
            "text/plain": [
              "<Figure size 1080x216 with 2 Axes>"
            ]
          },
          "metadata": {
            "tags": [],
            "needs_background": "light"
          }
        }
      ]
    },
    {
      "cell_type": "code",
      "metadata": {
        "id": "MKX1Gjh7-v-N",
        "colab": {
          "base_uri": "https://localhost:8080/",
          "height": 319
        },
        "outputId": "632f48df-c765-450f-9231-894f837f05b3"
      },
      "source": [
        "lr_model3 = Pipeline([\n",
        "    ('mapper', mapper),\n",
        "    ('classifier', LogisticRegression(random_state=42, solver='liblinear')),\n",
        "])\n",
        "lr_model3.fit(train, train.RainTomorrow)\n",
        "evaluate_model(lr_model3)"
      ],
      "id": "MKX1Gjh7-v-N",
      "execution_count": null,
      "outputs": [
        {
          "output_type": "display_data",
          "data": {
            "text/html": [
              "<div>\n",
              "<style scoped>\n",
              "    .dataframe tbody tr th:only-of-type {\n",
              "        vertical-align: middle;\n",
              "    }\n",
              "\n",
              "    .dataframe tbody tr th {\n",
              "        vertical-align: top;\n",
              "    }\n",
              "\n",
              "    .dataframe thead th {\n",
              "        text-align: right;\n",
              "    }\n",
              "</style>\n",
              "<table border=\"1\" class=\"dataframe\">\n",
              "  <thead>\n",
              "    <tr style=\"text-align: right;\">\n",
              "      <th></th>\n",
              "      <th>Accuracy</th>\n",
              "      <th>Precision</th>\n",
              "    </tr>\n",
              "  </thead>\n",
              "  <tbody>\n",
              "    <tr>\n",
              "      <th>train</th>\n",
              "      <td>0.856286</td>\n",
              "      <td>0.730244</td>\n",
              "    </tr>\n",
              "    <tr>\n",
              "      <th>validation</th>\n",
              "      <td>0.853864</td>\n",
              "      <td>0.737401</td>\n",
              "    </tr>\n",
              "  </tbody>\n",
              "</table>\n",
              "</div>"
            ],
            "text/plain": [
              "            Accuracy  Precision\n",
              "train       0.856286   0.730244\n",
              "validation  0.853864   0.737401"
            ]
          },
          "metadata": {
            "tags": []
          }
        },
        {
          "output_type": "display_data",
          "data": {
            "image/png": "[encoded data removed]",
            "text/plain": [
              "<Figure size 1080x216 with 2 Axes>"
            ]
          },
          "metadata": {
            "tags": [],
            "needs_background": "light"
          }
        }
      ]
    },
    {
      "cell_type": "markdown",
      "metadata": {
        "id": "p_FdB-m5t1id"
      },
      "source": [
        "**Análisis de métricas**"
      ],
      "id": "p_FdB-m5t1id"
    },
    {
      "cell_type": "markdown",
      "metadata": {
        "id": "eoMMkQC-DRzd"
      },
      "source": [
        "Como se muestra en las tres celdas anteriores, evaluamos el modelo cambiando ciertos parámetros (max_iter y solver). En todos los casos obtuvimos resultados muy similares que interpretamos a continuación.\n",
        "\n",
        "\n",
        "\n",
        "*   En cuanto a Accuracy, nos indica que el modelo acertó aproximadamente el 85% de los casos que predijo.\n",
        "*   Si vemos Precision, nos indica que de los casos en los que lloverá al día siguiente (RainTomorrow = Yes), encontró el 73% de ellos.\n",
        "\n"
      ],
      "id": "eoMMkQC-DRzd"
    },
    {
      "cell_type": "code",
      "metadata": {
        "id": "MCY99HeGYEiV",
        "colab": {
          "base_uri": "https://localhost:8080/",
          "height": 1000
        },
        "outputId": "be1218f5-a340-4e4b-e6f4-5bc7af0b9f47"
      },
      "source": [
        "clf = lr_model.named_steps['classifier']\n",
        "clf.coef_  # los pesos que aprendió la regresión logística\n",
        "df_importance = pd.DataFrame({\n",
        "    'feature': mapper.transformed_names_, \n",
        "    'coeficiente': clf.coef_[0],\n",
        "}).sort_values(by='coeficiente')\n",
        "\n",
        "df = px.data.tips()\n",
        "fig = px.bar(df_importance, x='coeficiente', y='feature', orientation='h',\n",
        "             height=1500,\n",
        "             color = \"coeficiente\",\n",
        "             title='Coeficientes')\n",
        "fig.show()"
      ],
      "id": "MCY99HeGYEiV",
      "execution_count": null,
      "outputs": [
        {
          "output_type": "display_data",
          "data": {
            "text/html": [
              "<html>\n",
              "<head><meta charset=\"utf-8\" /></head>\n",
              "<body>\n",
              "    <div>\n",
              "            <script src=\"https://cdnjs.cloudflare.com/ajax/libs/mathjax/2.7.5/MathJax.js?config=TeX-AMS-MML_SVG\"></script><script type=\"text/javascript\">if (window.MathJax) {MathJax.Hub.Config({SVG: {font: \"STIX-Web\"}});}</script>\n",
              "                <script type=\"text/javascript\">window.PlotlyConfig = {MathJaxConfig: 'local'};</script>\n",
              "        <script src=\"https://cdn.plot.ly/plotly-latest.min.js\"></script>    \n",
              "            <div id=\"9f5f0dd8-cd71-4495-ad60-5bc28ae03f6e\" class=\"plotly-graph-div\" style=\"height:1500px; width:100%;\"></div>\n",
              "            <script type=\"text/javascript\">\n",
              "                \n",
              "                    window.PLOTLYENV=window.PLOTLYENV || {};\n",
              "                    \n",
              "                if (document.getElementById(\"9f5f0dd8-cd71-4495-ad60-5bc28ae03f6e\")) {\n",
              "                    Plotly.newPlot(\n",
              "                        '9f5f0dd8-cd71-4495-ad60-5bc28ae03f6e',\n",
              "                        [{\"alignmentgroup\": \"True\", \"hoverlabel\": {\"namelength\": 0}, \"hovertemplate\": \"coeficiente=%{marker.color}<br>feature=%{y}\", \"legendgroup\": \"\", \"marker\": {\"color\": [-6.586329023136979, -2.112098176051568, -1.5786756416416485, -0.7162311104076097, -0.5087938073806851, -0.49735387999555775, -0.3897134840841451, -0.32528397312801416, -0.31994371927566767, -0.27969397304497, -0.21399954705910157, -0.18084655653580609, -0.17486744941534618, -0.16153207257972813, -0.15972664084022267, -0.15040761755780907, -0.10440565985885683, -0.10395189374325112, -0.09177361328730974, -0.060984220171378, -0.05691735752254858, -0.015039585161268347, -0.013846297607151248, -0.00170071634296142, 0.01264456933788509, 0.019487574559345095, 0.01977468857698428, 0.02353058852616846, 0.02703842532619507, 0.030757997362231868, 0.04200167781939122, 0.0658635364993751, 0.06594760554806563, 0.07190733588969818, 0.07379020048715204, 0.0827099708386934, 0.0905175935469915, 0.12503524404729796, 0.13654466564194107, 0.13658585680756183, 0.13796284013627994, 0.14442407033686888, 0.14678169214895595, 0.1804431000567481, 0.19492345206538567, 0.22512464951070513, 0.24375694381688331, 0.25237888049672114, 0.4279621491041505, 0.5961748453151023, 1.021863784025015, 1.0243345695062376, 1.1050374728020655, 2.9269773075925993, 5.574715477558226, 6.105056896503703], \"coloraxis\": \"coloraxis\"}, \"name\": \"\", \"offsetgroup\": \"\", \"orientation\": \"h\", \"showlegend\": false, \"textposition\": \"auto\", \"type\": \"bar\", \"x\": [-6.586329023136979, -2.112098176051568, -1.5786756416416485, -0.7162311104076097, -0.5087938073806851, -0.49735387999555775, -0.3897134840841451, -0.32528397312801416, -0.31994371927566767, -0.27969397304497, -0.21399954705910157, -0.18084655653580609, -0.17486744941534618, -0.16153207257972813, -0.15972664084022267, -0.15040761755780907, -0.10440565985885683, -0.10395189374325112, -0.09177361328730974, -0.060984220171378, -0.05691735752254858, -0.015039585161268347, -0.013846297607151248, -0.00170071634296142, 0.01264456933788509, 0.019487574559345095, 0.01977468857698428, 0.02353058852616846, 0.02703842532619507, 0.030757997362231868, 0.04200167781939122, 0.0658635364993751, 0.06594760554806563, 0.07190733588969818, 0.07379020048715204, 0.0827099708386934, 0.0905175935469915, 0.12503524404729796, 0.13654466564194107, 0.13658585680756183, 0.13796284013627994, 0.14442407033686888, 0.14678169214895595, 0.1804431000567481, 0.19492345206538567, 0.22512464951070513, 0.24375694381688331, 0.25237888049672114, 0.4279621491041505, 0.5961748453151023, 1.021863784025015, 1.0243345695062376, 1.1050374728020655, 2.9269773075925993, 5.574715477558226, 6.105056896503703], \"xaxis\": \"x\", \"y\": [\"Pressure3pm\", \"Sunshine\", \"WindSpeed3pm\", \"WindSpeed9am\", \"Region_x0_tasmania\", \"MinTemp\", \"Evaporation\", \"WindDir3pm_x0_SW\", \"WindDir9am_x0_S\", \"WindDir9am_x0_SE\", \"Region_x0_northen\", \"Season_x0_summer\", \"WindGustDir_x0_NE\", \"Region_x0_victoria\", \"Cloud9am\", \"WindGustDir_x0_N\", \"WindDir3pm_x0_S\", \"Month\", \"WindGustDir_x0_E\", \"WindDir3pm_x0_W\", \"Day\", \"Region_x0_norfolk\", \"WindDir9am_x0_SW\", \"Season_x0_autumn\", \"WindDir9am_x0_NW\", \"WindGustDir_x0_W\", \"WindDir9am_x0_E\", \"WindDir3pm_x0_NE\", \"Season_x0_winter\", \"WindDir3pm_x0_E\", \"WindGustDir_x0_S\", \"WindGustDir_x0_NW\", \"WindDir3pm_x0_SE\", \"Temp9am\", \"Region_x0_newsouth\", \"Region_x0_south\", \"Year\", \"WindDir9am_x0_W\", \"WindGustDir_x0_SE\", \"WindDir3pm_x0_N\", \"Region_x0_queensland\", \"WindGustDir_x0_SW\", \"Season_x0_spring\", \"Temp3pm\", \"WindDir9am_x0_N\", \"WindDir3pm_x0_NW\", \"Humidity9am\", \"WindDir9am_x0_NE\", \"RainToday\", \"Region_x0_western\", \"MaxTemp\", \"Rainfall\", \"Cloud3pm\", \"Pressure9am\", \"Humidity3pm\", \"WindGustSpeed\"], \"yaxis\": \"y\"}],\n",
              "                        {\"barmode\": \"relative\", \"coloraxis\": {\"colorbar\": {\"title\": {\"text\": \"coeficiente\"}}, \"colorscale\": [[0.0, \"#0d0887\"], [0.1111111111111111, \"#46039f\"], [0.2222222222222222, \"#7201a8\"], [0.3333333333333333, \"#9c179e\"], [0.4444444444444444, \"#bd3786\"], [0.5555555555555556, \"#d8576b\"], [0.6666666666666666, \"#ed7953\"], [0.7777777777777778, \"#fb9f3a\"], [0.8888888888888888, \"#fdca26\"], [1.0, \"#f0f921\"]]}, \"height\": 1500, \"legend\": {\"tracegroupgap\": 0}, \"template\": {\"data\": {\"bar\": [{\"error_x\": {\"color\": \"#2a3f5f\"}, \"error_y\": {\"color\": \"#2a3f5f\"}, \"marker\": {\"line\": {\"color\": \"#E5ECF6\", \"width\": 0.5}}, \"type\": \"bar\"}], \"barpolar\": [{\"marker\": {\"line\": {\"color\": \"#E5ECF6\", \"width\": 0.5}}, \"type\": \"barpolar\"}], \"carpet\": [{\"aaxis\": {\"endlinecolor\": \"#2a3f5f\", \"gridcolor\": \"white\", \"linecolor\": \"white\", \"minorgridcolor\": \"white\", \"startlinecolor\": \"#2a3f5f\"}, \"baxis\": {\"endlinecolor\": \"#2a3f5f\", \"gridcolor\": \"white\", \"linecolor\": \"white\", \"minorgridcolor\": \"white\", \"startlinecolor\": \"#2a3f5f\"}, \"type\": \"carpet\"}], \"choropleth\": [{\"colorbar\": {\"outlinewidth\": 0, \"ticks\": \"\"}, \"type\": \"choropleth\"}], \"contour\": [{\"colorbar\": {\"outlinewidth\": 0, \"ticks\": \"\"}, \"colorscale\": [[0.0, \"#0d0887\"], [0.1111111111111111, \"#46039f\"], [0.2222222222222222, \"#7201a8\"], [0.3333333333333333, \"#9c179e\"], [0.4444444444444444, \"#bd3786\"], [0.5555555555555556, \"#d8576b\"], [0.6666666666666666, \"#ed7953\"], [0.7777777777777778, \"#fb9f3a\"], [0.8888888888888888, \"#fdca26\"], [1.0, \"#f0f921\"]], \"type\": \"contour\"}], \"contourcarpet\": [{\"colorbar\": {\"outlinewidth\": 0, \"ticks\": \"\"}, \"type\": \"contourcarpet\"}], \"heatmap\": [{\"colorbar\": {\"outlinewidth\": 0, \"ticks\": \"\"}, \"colorscale\": [[0.0, \"#0d0887\"], [0.1111111111111111, \"#46039f\"], [0.2222222222222222, \"#7201a8\"], [0.3333333333333333, \"#9c179e\"], [0.4444444444444444, \"#bd3786\"], [0.5555555555555556, \"#d8576b\"], [0.6666666666666666, \"#ed7953\"], [0.7777777777777778, \"#fb9f3a\"], [0.8888888888888888, \"#fdca26\"], [1.0, \"#f0f921\"]], \"type\": \"heatmap\"}], \"heatmapgl\": [{\"colorbar\": {\"outlinewidth\": 0, \"ticks\": \"\"}, \"colorscale\": [[0.0, \"#0d0887\"], [0.1111111111111111, \"#46039f\"], [0.2222222222222222, \"#7201a8\"], [0.3333333333333333, \"#9c179e\"], [0.4444444444444444, \"#bd3786\"], [0.5555555555555556, \"#d8576b\"], [0.6666666666666666, \"#ed7953\"], [0.7777777777777778, \"#fb9f3a\"], [0.8888888888888888, \"#fdca26\"], [1.0, \"#f0f921\"]], \"type\": \"heatmapgl\"}], \"histogram\": [{\"marker\": {\"colorbar\": {\"outlinewidth\": 0, \"ticks\": \"\"}}, \"type\": \"histogram\"}], \"histogram2d\": [{\"colorbar\": {\"outlinewidth\": 0, \"ticks\": \"\"}, \"colorscale\": [[0.0, \"#0d0887\"], [0.1111111111111111, \"#46039f\"], [0.2222222222222222, \"#7201a8\"], [0.3333333333333333, \"#9c179e\"], [0.4444444444444444, \"#bd3786\"], [0.5555555555555556, \"#d8576b\"], [0.6666666666666666, \"#ed7953\"], [0.7777777777777778, \"#fb9f3a\"], [0.8888888888888888, \"#fdca26\"], [1.0, \"#f0f921\"]], \"type\": \"histogram2d\"}], \"histogram2dcontour\": [{\"colorbar\": {\"outlinewidth\": 0, \"ticks\": \"\"}, \"colorscale\": [[0.0, \"#0d0887\"], [0.1111111111111111, \"#46039f\"], [0.2222222222222222, \"#7201a8\"], [0.3333333333333333, \"#9c179e\"], [0.4444444444444444, \"#bd3786\"], [0.5555555555555556, \"#d8576b\"], [0.6666666666666666, \"#ed7953\"], [0.7777777777777778, \"#fb9f3a\"], [0.8888888888888888, \"#fdca26\"], [1.0, \"#f0f921\"]], \"type\": \"histogram2dcontour\"}], \"mesh3d\": [{\"colorbar\": {\"outlinewidth\": 0, \"ticks\": \"\"}, \"type\": \"mesh3d\"}], \"parcoords\": [{\"line\": {\"colorbar\": {\"outlinewidth\": 0, \"ticks\": \"\"}}, \"type\": \"parcoords\"}], \"pie\": [{\"automargin\": true, \"type\": \"pie\"}], \"scatter\": [{\"marker\": {\"colorbar\": {\"outlinewidth\": 0, \"ticks\": \"\"}}, \"type\": \"scatter\"}], \"scatter3d\": [{\"line\": {\"colorbar\": {\"outlinewidth\": 0, \"ticks\": \"\"}}, \"marker\": {\"colorbar\": {\"outlinewidth\": 0, \"ticks\": \"\"}}, \"type\": \"scatter3d\"}], \"scattercarpet\": [{\"marker\": {\"colorbar\": {\"outlinewidth\": 0, \"ticks\": \"\"}}, \"type\": \"scattercarpet\"}], \"scattergeo\": [{\"marker\": {\"colorbar\": {\"outlinewidth\": 0, \"ticks\": \"\"}}, \"type\": \"scattergeo\"}], \"scattergl\": [{\"marker\": {\"colorbar\": {\"outlinewidth\": 0, \"ticks\": \"\"}}, \"type\": \"scattergl\"}], \"scattermapbox\": [{\"marker\": {\"colorbar\": {\"outlinewidth\": 0, \"ticks\": \"\"}}, \"type\": \"scattermapbox\"}], \"scatterpolar\": [{\"marker\": {\"colorbar\": {\"outlinewidth\": 0, \"ticks\": \"\"}}, \"type\": \"scatterpolar\"}], \"scatterpolargl\": [{\"marker\": {\"colorbar\": {\"outlinewidth\": 0, \"ticks\": \"\"}}, \"type\": \"scatterpolargl\"}], \"scatterternary\": [{\"marker\": {\"colorbar\": {\"outlinewidth\": 0, \"ticks\": \"\"}}, \"type\": \"scatterternary\"}], \"surface\": [{\"colorbar\": {\"outlinewidth\": 0, \"ticks\": \"\"}, \"colorscale\": [[0.0, \"#0d0887\"], [0.1111111111111111, \"#46039f\"], [0.2222222222222222, \"#7201a8\"], [0.3333333333333333, \"#9c179e\"], [0.4444444444444444, \"#bd3786\"], [0.5555555555555556, \"#d8576b\"], [0.6666666666666666, \"#ed7953\"], [0.7777777777777778, \"#fb9f3a\"], [0.8888888888888888, \"#fdca26\"], [1.0, \"#f0f921\"]], \"type\": \"surface\"}], \"table\": [{\"cells\": {\"fill\": {\"color\": \"#EBF0F8\"}, \"line\": {\"color\": \"white\"}}, \"header\": {\"fill\": {\"color\": \"#C8D4E3\"}, \"line\": {\"color\": \"white\"}}, \"type\": \"table\"}]}, \"layout\": {\"annotationdefaults\": {\"arrowcolor\": \"#2a3f5f\", \"arrowhead\": 0, \"arrowwidth\": 1}, \"coloraxis\": {\"colorbar\": {\"outlinewidth\": 0, \"ticks\": \"\"}}, \"colorscale\": {\"diverging\": [[0, \"#8e0152\"], [0.1, \"#c51b7d\"], [0.2, \"#de77ae\"], [0.3, \"#f1b6da\"], [0.4, \"#fde0ef\"], [0.5, \"#f7f7f7\"], [0.6, \"#e6f5d0\"], [0.7, \"#b8e186\"], [0.8, \"#7fbc41\"], [0.9, \"#4d9221\"], [1, \"#276419\"]], \"sequential\": [[0.0, \"#0d0887\"], [0.1111111111111111, \"#46039f\"], [0.2222222222222222, \"#7201a8\"], [0.3333333333333333, \"#9c179e\"], [0.4444444444444444, \"#bd3786\"], [0.5555555555555556, \"#d8576b\"], [0.6666666666666666, \"#ed7953\"], [0.7777777777777778, \"#fb9f3a\"], [0.8888888888888888, \"#fdca26\"], [1.0, \"#f0f921\"]], \"sequentialminus\": [[0.0, \"#0d0887\"], [0.1111111111111111, \"#46039f\"], [0.2222222222222222, \"#7201a8\"], [0.3333333333333333, \"#9c179e\"], [0.4444444444444444, \"#bd3786\"], [0.5555555555555556, \"#d8576b\"], [0.6666666666666666, \"#ed7953\"], [0.7777777777777778, \"#fb9f3a\"], [0.8888888888888888, \"#fdca26\"], [1.0, \"#f0f921\"]]}, \"colorway\": [\"#636efa\", \"#EF553B\", \"#00cc96\", \"#ab63fa\", \"#FFA15A\", \"#19d3f3\", \"#FF6692\", \"#B6E880\", \"#FF97FF\", \"#FECB52\"], \"font\": {\"color\": \"#2a3f5f\"}, \"geo\": {\"bgcolor\": \"white\", \"lakecolor\": \"white\", \"landcolor\": \"#E5ECF6\", \"showlakes\": true, \"showland\": true, \"subunitcolor\": \"white\"}, \"hoverlabel\": {\"align\": \"left\"}, \"hovermode\": \"closest\", \"mapbox\": {\"style\": \"light\"}, \"paper_bgcolor\": \"white\", \"plot_bgcolor\": \"#E5ECF6\", \"polar\": {\"angularaxis\": {\"gridcolor\": \"white\", \"linecolor\": \"white\", \"ticks\": \"\"}, \"bgcolor\": \"#E5ECF6\", \"radialaxis\": {\"gridcolor\": \"white\", \"linecolor\": \"white\", \"ticks\": \"\"}}, \"scene\": {\"xaxis\": {\"backgroundcolor\": \"#E5ECF6\", \"gridcolor\": \"white\", \"gridwidth\": 2, \"linecolor\": \"white\", \"showbackground\": true, \"ticks\": \"\", \"zerolinecolor\": \"white\"}, \"yaxis\": {\"backgroundcolor\": \"#E5ECF6\", \"gridcolor\": \"white\", \"gridwidth\": 2, \"linecolor\": \"white\", \"showbackground\": true, \"ticks\": \"\", \"zerolinecolor\": \"white\"}, \"zaxis\": {\"backgroundcolor\": \"#E5ECF6\", \"gridcolor\": \"white\", \"gridwidth\": 2, \"linecolor\": \"white\", \"showbackground\": true, \"ticks\": \"\", \"zerolinecolor\": \"white\"}}, \"shapedefaults\": {\"line\": {\"color\": \"#2a3f5f\"}}, \"ternary\": {\"aaxis\": {\"gridcolor\": \"white\", \"linecolor\": \"white\", \"ticks\": \"\"}, \"baxis\": {\"gridcolor\": \"white\", \"linecolor\": \"white\", \"ticks\": \"\"}, \"bgcolor\": \"#E5ECF6\", \"caxis\": {\"gridcolor\": \"white\", \"linecolor\": \"white\", \"ticks\": \"\"}}, \"title\": {\"x\": 0.05}, \"xaxis\": {\"automargin\": true, \"gridcolor\": \"white\", \"linecolor\": \"white\", \"ticks\": \"\", \"title\": {\"standoff\": 15}, \"zerolinecolor\": \"white\", \"zerolinewidth\": 2}, \"yaxis\": {\"automargin\": true, \"gridcolor\": \"white\", \"linecolor\": \"white\", \"ticks\": \"\", \"title\": {\"standoff\": 15}, \"zerolinecolor\": \"white\", \"zerolinewidth\": 2}}}, \"title\": {\"text\": \"Coeficientes\"}, \"xaxis\": {\"anchor\": \"y\", \"domain\": [0.0, 1.0], \"title\": {\"text\": \"coeficiente\"}}, \"yaxis\": {\"anchor\": \"x\", \"domain\": [0.0, 1.0], \"title\": {\"text\": \"feature\"}}},\n",
              "                        {\"responsive\": true}\n",
              "                    ).then(function(){\n",
              "                            \n",
              "var gd = document.getElementById('9f5f0dd8-cd71-4495-ad60-5bc28ae03f6e');\n",
              "var x = new MutationObserver(function (mutations, observer) {{\n",
              "        var display = window.getComputedStyle(gd).display;\n",
              "        if (!display || display === 'none') {{\n",
              "            console.log([gd, 'removed!']);\n",
              "            Plotly.purge(gd);\n",
              "            observer.disconnect();\n",
              "        }}\n",
              "}});\n",
              "\n",
              "// Listen for the removal of the full notebook cells\n",
              "var notebookContainer = gd.closest('#notebook-container');\n",
              "if (notebookContainer) {{\n",
              "    x.observe(notebookContainer, {childList: true});\n",
              "}}\n",
              "\n",
              "// Listen for the clearing of the current output cell\n",
              "var outputEl = gd.closest('.output');\n",
              "if (outputEl) {{\n",
              "    x.observe(outputEl, {childList: true});\n",
              "}}\n",
              "\n",
              "                        })\n",
              "                };\n",
              "                \n",
              "            </script>\n",
              "        </div>\n",
              "</body>\n",
              "</html>"
            ]
          },
          "metadata": {
            "tags": []
          }
        }
      ]
    },
    {
      "cell_type": "markdown",
      "metadata": {
        "id": "qtwy0Cz2tsva"
      },
      "source": [
        "**Análisis de gráfica de coeficientes**"
      ],
      "id": "qtwy0Cz2tsva"
    },
    {
      "cell_type": "markdown",
      "metadata": {
        "id": "0haICpPdZrws"
      },
      "source": [
        "Los coeficientes (o parámetros) de la función de salida nos dan \"pistas\" para interpretar la influencia de los mismos en la predicción.\n",
        "En este caso, vemos que los valores que tomen las variables WindGustSpeed, Humidity3pm y Pressure9am, mientras mayores sean, más probabilidad habrá de que al día siguiente llueva (esto se observa en la parte superior del gráfico anterior).\n",
        "\n",
        "Por otro lado, si observamos la parte inferior, podemos decir que mientras mayores sean los valores de Pressure3pm y Sunshine, menor será la probabilidad de que llueva al día siguiente (debido a que son parámetros con signo negativo).\n",
        "\n"
      ],
      "id": "0haICpPdZrws"
    },
    {
      "cell_type": "markdown",
      "metadata": {
        "id": "d5E5tXpZn3Oa"
      },
      "source": [
        "# **ÁRBOLES DE DECISIÓN** "
      ],
      "id": "d5E5tXpZn3Oa"
    },
    {
      "cell_type": "code",
      "metadata": {
        "id": "LEy7_2C84wtM",
        "colab": {
          "base_uri": "https://localhost:8080/",
          "height": 337
        },
        "outputId": "a48dc370-6a80-421a-d072-c44640dad34f"
      },
      "source": [
        "tree_model1 = DecisionTreeClassifier(random_state=42)\n",
        "\n",
        "dt_model1 = Pipeline([\n",
        "                     ('mapper', mapper),\n",
        "                     ('classifier', tree_model1),\n",
        "])\n",
        "\n",
        "history = dt_model1.fit(train, train.RainTomorrow)\n",
        "\n",
        "evaluate_model(dt_model1, title='Decision Tree')"
      ],
      "id": "LEy7_2C84wtM",
      "execution_count": null,
      "outputs": [
        {
          "output_type": "display_data",
          "data": {
            "application/vnd.google.colaboratory.intrinsic+json": {
              "type": "string"
            },
            "text/plain": [
              "'Decision Tree'"
            ]
          },
          "metadata": {
            "tags": []
          }
        },
        {
          "output_type": "display_data",
          "data": {
            "text/html": [
              "<div>\n",
              "<style scoped>\n",
              "    .dataframe tbody tr th:only-of-type {\n",
              "        vertical-align: middle;\n",
              "    }\n",
              "\n",
              "    .dataframe tbody tr th {\n",
              "        vertical-align: top;\n",
              "    }\n",
              "\n",
              "    .dataframe thead th {\n",
              "        text-align: right;\n",
              "    }\n",
              "</style>\n",
              "<table border=\"1\" class=\"dataframe\">\n",
              "  <thead>\n",
              "    <tr style=\"text-align: right;\">\n",
              "      <th></th>\n",
              "      <th>Accuracy</th>\n",
              "      <th>Precision</th>\n",
              "    </tr>\n",
              "  </thead>\n",
              "  <tbody>\n",
              "    <tr>\n",
              "      <th>train</th>\n",
              "      <td>1.00000</td>\n",
              "      <td>1.000000</td>\n",
              "    </tr>\n",
              "    <tr>\n",
              "      <th>validation</th>\n",
              "      <td>0.79626</td>\n",
              "      <td>0.546384</td>\n",
              "    </tr>\n",
              "  </tbody>\n",
              "</table>\n",
              "</div>"
            ],
            "text/plain": [
              "            Accuracy  Precision\n",
              "train        1.00000   1.000000\n",
              "validation   0.79626   0.546384"
            ]
          },
          "metadata": {
            "tags": []
          }
        },
        {
          "output_type": "display_data",
          "data": {
            "image/png": "[encoded data removed]",
            "text/plain": [
              "<Figure size 1080x216 with 2 Axes>"
            ]
          },
          "metadata": {
            "tags": [],
            "needs_background": "light"
          }
        }
      ]
    },
    {
      "cell_type": "code",
      "metadata": {
        "id": "6Xgm6F6p0zGA",
        "colab": {
          "base_uri": "https://localhost:8080/",
          "height": 337
        },
        "outputId": "e891cf21-e0d0-4b1f-cf11-7cd2221c6dd9"
      },
      "source": [
        "tree_model = DecisionTreeClassifier(max_depth=3, random_state=42)\n",
        "\n",
        "dt_model = Pipeline([\n",
        "                     ('mapper', mapper),\n",
        "                     ('classifier', tree_model),\n",
        "])\n",
        "\n",
        "history = dt_model.fit(train, train.RainTomorrow)\n",
        "\n",
        "evaluate_model(dt_model, title='Decision Tree')"
      ],
      "id": "6Xgm6F6p0zGA",
      "execution_count": null,
      "outputs": [
        {
          "output_type": "display_data",
          "data": {
            "application/vnd.google.colaboratory.intrinsic+json": {
              "type": "string"
            },
            "text/plain": [
              "'Decision Tree'"
            ]
          },
          "metadata": {
            "tags": []
          }
        },
        {
          "output_type": "display_data",
          "data": {
            "text/html": [
              "<div>\n",
              "<style scoped>\n",
              "    .dataframe tbody tr th:only-of-type {\n",
              "        vertical-align: middle;\n",
              "    }\n",
              "\n",
              "    .dataframe tbody tr th {\n",
              "        vertical-align: top;\n",
              "    }\n",
              "\n",
              "    .dataframe thead th {\n",
              "        text-align: right;\n",
              "    }\n",
              "</style>\n",
              "<table border=\"1\" class=\"dataframe\">\n",
              "  <thead>\n",
              "    <tr style=\"text-align: right;\">\n",
              "      <th></th>\n",
              "      <th>Accuracy</th>\n",
              "      <th>Precision</th>\n",
              "    </tr>\n",
              "  </thead>\n",
              "  <tbody>\n",
              "    <tr>\n",
              "      <th>train</th>\n",
              "      <td>0.839330</td>\n",
              "      <td>0.763014</td>\n",
              "    </tr>\n",
              "    <tr>\n",
              "      <th>validation</th>\n",
              "      <td>0.833127</td>\n",
              "      <td>0.754819</td>\n",
              "    </tr>\n",
              "  </tbody>\n",
              "</table>\n",
              "</div>"
            ],
            "text/plain": [
              "            Accuracy  Precision\n",
              "train       0.839330   0.763014\n",
              "validation  0.833127   0.754819"
            ]
          },
          "metadata": {
            "tags": []
          }
        },
        {
          "output_type": "display_data",
          "data": {
            "image/png": "[encoded data removed]",
            "text/plain": [
              "<Figure size 1080x216 with 2 Axes>"
            ]
          },
          "metadata": {
            "tags": [],
            "needs_background": "light"
          }
        }
      ]
    },
    {
      "cell_type": "markdown",
      "metadata": {
        "id": "Cor3mD7j7RSs"
      },
      "source": [
        "**Análisis de métricas**\n",
        "\n",
        "Como se muestra en las celdas anteriores, se evaluó el algoritmo de Árboles de decisión de dos formas: sin establecer una profundidad máxima y estableciéndola. En el primer caso se observa que con el set de train sobreentenó debido a que tanto Accuracy como Precision devolvieron un valor de 1. En el set de validation esto no ocurrió.\n",
        "\n",
        "Por otro lado, habiendo delimitado la profundidad máxima con un valor de 3, se obtuvieron métricas similares tanto para train como para validation. Accuracy nos indica que el modelo acertó en aproximadamente un 84% de los casos. Precision demuestra que el modelo encontró aproximadamente el 75% de los casos en los que al día siguiente lloverá."
      ],
      "id": "Cor3mD7j7RSs"
    },
    {
      "cell_type": "code",
      "metadata": {
        "id": "Dax7B9vP10dk"
      },
      "source": [
        "# Gráfico del árbol\n",
        "def graph_tree(tree, col_names):\n",
        "    graph_data = export_graphviz(\n",
        "        tree, \n",
        "        out_file=None, \n",
        "        feature_names=col_names,  \n",
        "        class_names=['died', 'survived'],  \n",
        "        filled=True, \n",
        "        rounded=True,  \n",
        "        special_characters=True,\n",
        "    )\n",
        "    graph = graphviz.Source(graph_data)  \n",
        "    return graph"
      ],
      "id": "Dax7B9vP10dk",
      "execution_count": null,
      "outputs": []
    },
    {
      "cell_type": "code",
      "metadata": {
        "id": "siYreRryJkZs",
        "colab": {
          "base_uri": "https://localhost:8080/",
          "height": 618
        },
        "outputId": "d470fcac-babe-41b8-9acf-24a98e681568"
      },
      "source": [
        "graph_tree(tree_model, mapper.transformed_names_)"
      ],
      "id": "siYreRryJkZs",
      "execution_count": null,
      "outputs": [
        {
          "output_type": "execute_result",
          "data": {
            "text/plain": [
              "<graphviz.files.Source at 0x7f5fca9cfb50>"
            ],
            "image/svg+xml": "<?xml version=\"1.0\" encoding=\"UTF-8\" standalone=\"no\"?>\n<!DOCTYPE svg PUBLIC \"-//W3C//DTD SVG 1.1//EN\"\n \"http://www.w3.org/Graphics/SVG/1.1/DTD/svg11.dtd\">\n<!-- Generated by graphviz version 2.40.1 (20161225.0304)\n -->\n<!-- Title: Tree Pages: 1 -->\n<svg width=\"1266pt\" height=\"433pt\"\n viewBox=\"0.00 0.00 1265.50 433.00\" xmlns=\"http://www.w3.org/2000/svg\" xmlns:xlink=\"http://www.w3.org/1999/xlink\">\n<g id=\"graph0\" class=\"graph\" transform=\"scale(1 1) rotate(0) translate(4 429)\">\n<title>Tree</title>\n<polygon fill=\"#ffffff\" stroke=\"transparent\" points=\"-4,4 -4,-429 1261.5,-429 1261.5,4 -4,4\"/>\n<!-- 0 -->\n<g id=\"node1\" class=\"node\">\n<title>0</title>\n<path fill=\"#eca470\" stroke=\"#000000\" d=\"M684,-425C684,-425 551,-425 551,-425 545,-425 539,-419 539,-413 539,-413 539,-354 539,-354 539,-348 545,-342 551,-342 551,-342 684,-342 684,-342 690,-342 696,-348 696,-354 696,-354 696,-413 696,-413 696,-419 690,-425 684,-425\"/>\n<text text-anchor=\"start\" x=\"549\" y=\"-409.8\" font-family=\"Helvetica,sans-Serif\" font-size=\"14.00\" fill=\"#000000\">Humidity3pm ≤ 0.685</text>\n<text text-anchor=\"start\" x=\"584\" y=\"-394.8\" font-family=\"Helvetica,sans-Serif\" font-size=\"14.00\" fill=\"#000000\">gini = 0.34</text>\n<text text-anchor=\"start\" x=\"561.5\" y=\"-379.8\" font-family=\"Helvetica,sans-Serif\" font-size=\"14.00\" fill=\"#000000\">samples = 33852</text>\n<text text-anchor=\"start\" x=\"547\" y=\"-364.8\" font-family=\"Helvetica,sans-Serif\" font-size=\"14.00\" fill=\"#000000\">value = [26493, 7359]</text>\n<text text-anchor=\"start\" x=\"578.5\" y=\"-349.8\" font-family=\"Helvetica,sans-Serif\" font-size=\"14.00\" fill=\"#000000\">class = died</text>\n</g>\n<!-- 1 -->\n<g id=\"node2\" class=\"node\">\n<title>1</title>\n<path fill=\"#e99558\" stroke=\"#000000\" d=\"M592,-306C592,-306 459,-306 459,-306 453,-306 447,-300 447,-294 447,-294 447,-235 447,-235 447,-229 453,-223 459,-223 459,-223 592,-223 592,-223 598,-223 604,-229 604,-235 604,-235 604,-294 604,-294 604,-300 598,-306 592,-306\"/>\n<text text-anchor=\"start\" x=\"468.5\" y=\"-290.8\" font-family=\"Helvetica,sans-Serif\" font-size=\"14.00\" fill=\"#000000\">Sunshine ≤ 0.549</text>\n<text text-anchor=\"start\" x=\"487.5\" y=\"-275.8\" font-family=\"Helvetica,sans-Serif\" font-size=\"14.00\" fill=\"#000000\">gini = 0.234</text>\n<text text-anchor=\"start\" x=\"469.5\" y=\"-260.8\" font-family=\"Helvetica,sans-Serif\" font-size=\"14.00\" fill=\"#000000\">samples = 28233</text>\n<text text-anchor=\"start\" x=\"455\" y=\"-245.8\" font-family=\"Helvetica,sans-Serif\" font-size=\"14.00\" fill=\"#000000\">value = [24417, 3816]</text>\n<text text-anchor=\"start\" x=\"486.5\" y=\"-230.8\" font-family=\"Helvetica,sans-Serif\" font-size=\"14.00\" fill=\"#000000\">class = died</text>\n</g>\n<!-- 0&#45;&gt;1 -->\n<g id=\"edge1\" class=\"edge\">\n<title>0&#45;&gt;1</title>\n<path fill=\"none\" stroke=\"#000000\" d=\"M585.3229,-341.8796C578.4296,-332.9633 571.0798,-323.4565 563.9761,-314.268\"/>\n<polygon fill=\"#000000\" stroke=\"#000000\" points=\"566.6999,-312.0687 557.8145,-306.2981 561.1619,-316.3502 566.6999,-312.0687\"/>\n<text text-anchor=\"middle\" x=\"554.6413\" y=\"-327.3959\" font-family=\"Helvetica,sans-Serif\" font-size=\"14.00\" fill=\"#000000\">True</text>\n</g>\n<!-- 8 -->\n<g id=\"node9\" class=\"node\">\n<title>8</title>\n<path fill=\"#add6f4\" stroke=\"#000000\" d=\"M839,-306C839,-306 710,-306 710,-306 704,-306 698,-300 698,-294 698,-294 698,-235 698,-235 698,-229 704,-223 710,-223 710,-223 839,-223 839,-223 845,-223 851,-229 851,-235 851,-235 851,-294 851,-294 851,-300 845,-306 839,-306\"/>\n<text text-anchor=\"start\" x=\"706\" y=\"-290.8\" font-family=\"Helvetica,sans-Serif\" font-size=\"14.00\" fill=\"#000000\">Humidity3pm ≤ 0.815</text>\n<text text-anchor=\"start\" x=\"736.5\" y=\"-275.8\" font-family=\"Helvetica,sans-Serif\" font-size=\"14.00\" fill=\"#000000\">gini = 0.466</text>\n<text text-anchor=\"start\" x=\"722.5\" y=\"-260.8\" font-family=\"Helvetica,sans-Serif\" font-size=\"14.00\" fill=\"#000000\">samples = 5619</text>\n<text text-anchor=\"start\" x=\"708\" y=\"-245.8\" font-family=\"Helvetica,sans-Serif\" font-size=\"14.00\" fill=\"#000000\">value = [2076, 3543]</text>\n<text text-anchor=\"start\" x=\"722\" y=\"-230.8\" font-family=\"Helvetica,sans-Serif\" font-size=\"14.00\" fill=\"#000000\">class = survived</text>\n</g>\n<!-- 0&#45;&gt;8 -->\n<g id=\"edge8\" class=\"edge\">\n<title>0&#45;&gt;8</title>\n<path fill=\"none\" stroke=\"#000000\" d=\"M672.411,-341.8796C685.0794,-332.2774 698.6515,-321.9903 711.6295,-312.1534\"/>\n<polygon fill=\"#000000\" stroke=\"#000000\" points=\"713.7648,-314.9268 719.62,-306.0969 709.5364,-309.3482 713.7648,-314.9268\"/>\n<text text-anchor=\"middle\" x=\"716.2102\" y=\"-327.1633\" font-family=\"Helvetica,sans-Serif\" font-size=\"14.00\" fill=\"#000000\">False</text>\n</g>\n<!-- 2 -->\n<g id=\"node3\" class=\"node\">\n<title>2</title>\n<path fill=\"#efaf82\" stroke=\"#000000\" d=\"M307,-187C307,-187 176,-187 176,-187 170,-187 164,-181 164,-175 164,-175 164,-116 164,-116 164,-110 170,-104 176,-104 176,-104 307,-104 307,-104 313,-104 319,-110 319,-116 319,-116 319,-175 319,-175 319,-181 313,-187 307,-187\"/>\n<text text-anchor=\"start\" x=\"172\" y=\"-171.8\" font-family=\"Helvetica,sans-Serif\" font-size=\"14.00\" fill=\"#000000\">Pressure3pm ≤ 0.558</text>\n<text text-anchor=\"start\" x=\"203.5\" y=\"-156.8\" font-family=\"Helvetica,sans-Serif\" font-size=\"14.00\" fill=\"#000000\">gini = 0.393</text>\n<text text-anchor=\"start\" x=\"189.5\" y=\"-141.8\" font-family=\"Helvetica,sans-Serif\" font-size=\"14.00\" fill=\"#000000\">samples = 9612</text>\n<text text-anchor=\"start\" x=\"175\" y=\"-126.8\" font-family=\"Helvetica,sans-Serif\" font-size=\"14.00\" fill=\"#000000\">value = [7032, 2580]</text>\n<text text-anchor=\"start\" x=\"202.5\" y=\"-111.8\" font-family=\"Helvetica,sans-Serif\" font-size=\"14.00\" fill=\"#000000\">class = died</text>\n</g>\n<!-- 1&#45;&gt;2 -->\n<g id=\"edge2\" class=\"edge\">\n<title>1&#45;&gt;2</title>\n<path fill=\"none\" stroke=\"#000000\" d=\"M446.7673,-231.5099C410.1449,-216.1646 366.4653,-197.8622 328.8317,-182.0932\"/>\n<polygon fill=\"#000000\" stroke=\"#000000\" points=\"329.9778,-178.7786 319.4021,-178.1421 327.2725,-185.2348 329.9778,-178.7786\"/>\n</g>\n<!-- 5 -->\n<g id=\"node6\" class=\"node\">\n<title>5</title>\n<path fill=\"#e78a47\" stroke=\"#000000\" d=\"M592,-187C592,-187 459,-187 459,-187 453,-187 447,-181 447,-175 447,-175 447,-116 447,-116 447,-110 453,-104 459,-104 459,-104 592,-104 592,-104 598,-104 604,-110 604,-116 604,-116 604,-175 604,-175 604,-181 598,-187 592,-187\"/>\n<text text-anchor=\"start\" x=\"457\" y=\"-171.8\" font-family=\"Helvetica,sans-Serif\" font-size=\"14.00\" fill=\"#000000\">Humidity3pm ≤ 0.545</text>\n<text text-anchor=\"start\" x=\"487.5\" y=\"-156.8\" font-family=\"Helvetica,sans-Serif\" font-size=\"14.00\" fill=\"#000000\">gini = 0.124</text>\n<text text-anchor=\"start\" x=\"469.5\" y=\"-141.8\" font-family=\"Helvetica,sans-Serif\" font-size=\"14.00\" fill=\"#000000\">samples = 18621</text>\n<text text-anchor=\"start\" x=\"455\" y=\"-126.8\" font-family=\"Helvetica,sans-Serif\" font-size=\"14.00\" fill=\"#000000\">value = [17385, 1236]</text>\n<text text-anchor=\"start\" x=\"486.5\" y=\"-111.8\" font-family=\"Helvetica,sans-Serif\" font-size=\"14.00\" fill=\"#000000\">class = died</text>\n</g>\n<!-- 1&#45;&gt;5 -->\n<g id=\"edge5\" class=\"edge\">\n<title>1&#45;&gt;5</title>\n<path fill=\"none\" stroke=\"#000000\" d=\"M525.5,-222.8796C525.5,-214.6838 525.5,-205.9891 525.5,-197.5013\"/>\n<polygon fill=\"#000000\" stroke=\"#000000\" points=\"529.0001,-197.298 525.5,-187.2981 522.0001,-197.2981 529.0001,-197.298\"/>\n</g>\n<!-- 3 -->\n<g id=\"node4\" class=\"node\">\n<title>3</title>\n<path fill=\"#fae5d6\" stroke=\"#000000\" d=\"M137,-68C137,-68 12,-68 12,-68 6,-68 0,-62 0,-56 0,-56 0,-12 0,-12 0,-6 6,0 12,0 12,0 137,0 137,0 143,0 149,-6 149,-12 149,-12 149,-56 149,-56 149,-62 143,-68 137,-68\"/>\n<text text-anchor=\"start\" x=\"36.5\" y=\"-52.8\" font-family=\"Helvetica,sans-Serif\" font-size=\"14.00\" fill=\"#000000\">gini = 0.493</text>\n<text text-anchor=\"start\" x=\"22.5\" y=\"-37.8\" font-family=\"Helvetica,sans-Serif\" font-size=\"14.00\" fill=\"#000000\">samples = 2700</text>\n<text text-anchor=\"start\" x=\"8\" y=\"-22.8\" font-family=\"Helvetica,sans-Serif\" font-size=\"14.00\" fill=\"#000000\">value = [1508, 1192]</text>\n<text text-anchor=\"start\" x=\"35.5\" y=\"-7.8\" font-family=\"Helvetica,sans-Serif\" font-size=\"14.00\" fill=\"#000000\">class = died</text>\n</g>\n<!-- 2&#45;&gt;3 -->\n<g id=\"edge3\" class=\"edge\">\n<title>2&#45;&gt;3</title>\n<path fill=\"none\" stroke=\"#000000\" d=\"M179.3154,-103.9815C164.5089,-94.0957 148.7441,-83.5701 134.0585,-73.7651\"/>\n<polygon fill=\"#000000\" stroke=\"#000000\" points=\"135.8122,-70.7276 125.552,-68.0856 131.9252,-76.5493 135.8122,-70.7276\"/>\n</g>\n<!-- 4 -->\n<g id=\"node5\" class=\"node\">\n<title>4</title>\n<path fill=\"#eca16b\" stroke=\"#000000\" d=\"M304,-68C304,-68 179,-68 179,-68 173,-68 167,-62 167,-56 167,-56 167,-12 167,-12 167,-6 173,0 179,0 179,0 304,0 304,0 310,0 316,-6 316,-12 316,-12 316,-56 316,-56 316,-62 310,-68 304,-68\"/>\n<text text-anchor=\"start\" x=\"203.5\" y=\"-52.8\" font-family=\"Helvetica,sans-Serif\" font-size=\"14.00\" fill=\"#000000\">gini = 0.321</text>\n<text text-anchor=\"start\" x=\"189.5\" y=\"-37.8\" font-family=\"Helvetica,sans-Serif\" font-size=\"14.00\" fill=\"#000000\">samples = 6912</text>\n<text text-anchor=\"start\" x=\"175\" y=\"-22.8\" font-family=\"Helvetica,sans-Serif\" font-size=\"14.00\" fill=\"#000000\">value = [5524, 1388]</text>\n<text text-anchor=\"start\" x=\"202.5\" y=\"-7.8\" font-family=\"Helvetica,sans-Serif\" font-size=\"14.00\" fill=\"#000000\">class = died</text>\n</g>\n<!-- 2&#45;&gt;4 -->\n<g id=\"edge4\" class=\"edge\">\n<title>2&#45;&gt;4</title>\n<path fill=\"none\" stroke=\"#000000\" d=\"M241.5,-103.9815C241.5,-95.618 241.5,-86.7965 241.5,-78.3409\"/>\n<polygon fill=\"#000000\" stroke=\"#000000\" points=\"245.0001,-78.2636 241.5,-68.2637 238.0001,-78.2637 245.0001,-78.2636\"/>\n</g>\n<!-- 6 -->\n<g id=\"node7\" class=\"node\">\n<title>6</title>\n<path fill=\"#e68743\" stroke=\"#000000\" d=\"M471,-68C471,-68 346,-68 346,-68 340,-68 334,-62 334,-56 334,-56 334,-12 334,-12 334,-6 340,0 346,0 346,0 471,0 471,0 477,0 483,-6 483,-12 483,-12 483,-56 483,-56 483,-62 477,-68 471,-68\"/>\n<text text-anchor=\"start\" x=\"370.5\" y=\"-52.8\" font-family=\"Helvetica,sans-Serif\" font-size=\"14.00\" fill=\"#000000\">gini = 0.089</text>\n<text text-anchor=\"start\" x=\"352.5\" y=\"-37.8\" font-family=\"Helvetica,sans-Serif\" font-size=\"14.00\" fill=\"#000000\">samples = 15102</text>\n<text text-anchor=\"start\" x=\"342\" y=\"-22.8\" font-family=\"Helvetica,sans-Serif\" font-size=\"14.00\" fill=\"#000000\">value = [14399, 703]</text>\n<text text-anchor=\"start\" x=\"369.5\" y=\"-7.8\" font-family=\"Helvetica,sans-Serif\" font-size=\"14.00\" fill=\"#000000\">class = died</text>\n</g>\n<!-- 5&#45;&gt;6 -->\n<g id=\"edge6\" class=\"edge\">\n<title>5&#45;&gt;6</title>\n<path fill=\"none\" stroke=\"#000000\" d=\"M481.9335,-103.9815C472.0966,-94.607 461.656,-84.6572 451.8289,-75.2921\"/>\n<polygon fill=\"#000000\" stroke=\"#000000\" points=\"454.1076,-72.6289 444.4538,-68.2637 449.2784,-77.6963 454.1076,-72.6289\"/>\n</g>\n<!-- 7 -->\n<g id=\"node8\" class=\"node\">\n<title>7</title>\n<path fill=\"#ea975c\" stroke=\"#000000\" d=\"M629.5,-68C629.5,-68 513.5,-68 513.5,-68 507.5,-68 501.5,-62 501.5,-56 501.5,-56 501.5,-12 501.5,-12 501.5,-6 507.5,0 513.5,0 513.5,0 629.5,0 629.5,0 635.5,0 641.5,-6 641.5,-12 641.5,-12 641.5,-56 641.5,-56 641.5,-62 635.5,-68 629.5,-68\"/>\n<text text-anchor=\"start\" x=\"533.5\" y=\"-52.8\" font-family=\"Helvetica,sans-Serif\" font-size=\"14.00\" fill=\"#000000\">gini = 0.257</text>\n<text text-anchor=\"start\" x=\"519.5\" y=\"-37.8\" font-family=\"Helvetica,sans-Serif\" font-size=\"14.00\" fill=\"#000000\">samples = 3519</text>\n<text text-anchor=\"start\" x=\"509.5\" y=\"-22.8\" font-family=\"Helvetica,sans-Serif\" font-size=\"14.00\" fill=\"#000000\">value = [2986, 533]</text>\n<text text-anchor=\"start\" x=\"532.5\" y=\"-7.8\" font-family=\"Helvetica,sans-Serif\" font-size=\"14.00\" fill=\"#000000\">class = died</text>\n</g>\n<!-- 5&#45;&gt;7 -->\n<g id=\"edge7\" class=\"edge\">\n<title>5&#45;&gt;7</title>\n<path fill=\"none\" stroke=\"#000000\" d=\"M542.6287,-103.9815C546.155,-95.4342 549.8785,-86.4086 553.4367,-77.7839\"/>\n<polygon fill=\"#000000\" stroke=\"#000000\" points=\"556.786,-78.8427 557.3643,-68.2637 550.315,-76.1731 556.786,-78.8427\"/>\n</g>\n<!-- 9 -->\n<g id=\"node10\" class=\"node\">\n<title>9</title>\n<path fill=\"#fefcfa\" stroke=\"#000000\" d=\"M850,-187C850,-187 699,-187 699,-187 693,-187 687,-181 687,-175 687,-175 687,-116 687,-116 687,-110 693,-104 699,-104 699,-104 850,-104 850,-104 856,-104 862,-110 862,-116 862,-116 862,-175 862,-175 862,-181 856,-187 850,-187\"/>\n<text text-anchor=\"start\" x=\"695\" y=\"-171.8\" font-family=\"Helvetica,sans-Serif\" font-size=\"14.00\" fill=\"#000000\">WindGustSpeed ≤ 0.292</text>\n<text text-anchor=\"start\" x=\"745\" y=\"-156.8\" font-family=\"Helvetica,sans-Serif\" font-size=\"14.00\" fill=\"#000000\">gini = 0.5</text>\n<text text-anchor=\"start\" x=\"722.5\" y=\"-141.8\" font-family=\"Helvetica,sans-Serif\" font-size=\"14.00\" fill=\"#000000\">samples = 3459</text>\n<text text-anchor=\"start\" x=\"708\" y=\"-126.8\" font-family=\"Helvetica,sans-Serif\" font-size=\"14.00\" fill=\"#000000\">value = [1752, 1707]</text>\n<text text-anchor=\"start\" x=\"735.5\" y=\"-111.8\" font-family=\"Helvetica,sans-Serif\" font-size=\"14.00\" fill=\"#000000\">class = died</text>\n</g>\n<!-- 8&#45;&gt;9 -->\n<g id=\"edge9\" class=\"edge\">\n<title>8&#45;&gt;9</title>\n<path fill=\"none\" stroke=\"#000000\" d=\"M774.5,-222.8796C774.5,-214.6838 774.5,-205.9891 774.5,-197.5013\"/>\n<polygon fill=\"#000000\" stroke=\"#000000\" points=\"778.0001,-197.298 774.5,-187.2981 771.0001,-197.2981 778.0001,-197.298\"/>\n</g>\n<!-- 12 -->\n<g id=\"node13\" class=\"node\">\n<title>12</title>\n<path fill=\"#5caeea\" stroke=\"#000000\" d=\"M1103,-187C1103,-187 972,-187 972,-187 966,-187 960,-181 960,-175 960,-175 960,-116 960,-116 960,-110 966,-104 972,-104 972,-104 1103,-104 1103,-104 1109,-104 1115,-110 1115,-116 1115,-116 1115,-175 1115,-175 1115,-181 1109,-187 1103,-187\"/>\n<text text-anchor=\"start\" x=\"968\" y=\"-171.8\" font-family=\"Helvetica,sans-Serif\" font-size=\"14.00\" fill=\"#000000\">Pressure3pm ≤ 0.727</text>\n<text text-anchor=\"start\" x=\"999.5\" y=\"-156.8\" font-family=\"Helvetica,sans-Serif\" font-size=\"14.00\" fill=\"#000000\">gini = 0.255</text>\n<text text-anchor=\"start\" x=\"985.5\" y=\"-141.8\" font-family=\"Helvetica,sans-Serif\" font-size=\"14.00\" fill=\"#000000\">samples = 2160</text>\n<text text-anchor=\"start\" x=\"975.5\" y=\"-126.8\" font-family=\"Helvetica,sans-Serif\" font-size=\"14.00\" fill=\"#000000\">value = [324, 1836]</text>\n<text text-anchor=\"start\" x=\"985\" y=\"-111.8\" font-family=\"Helvetica,sans-Serif\" font-size=\"14.00\" fill=\"#000000\">class = survived</text>\n</g>\n<!-- 8&#45;&gt;12 -->\n<g id=\"edge12\" class=\"edge\">\n<title>8&#45;&gt;12</title>\n<path fill=\"none\" stroke=\"#000000\" d=\"M851.2775,-229.7604C882.3265,-215.7116 918.3293,-199.4213 950.3562,-184.9301\"/>\n<polygon fill=\"#000000\" stroke=\"#000000\" points=\"952.0478,-188.0064 959.7157,-180.6952 949.1621,-181.6288 952.0478,-188.0064\"/>\n</g>\n<!-- 10 -->\n<g id=\"node11\" class=\"node\">\n<title>10</title>\n<path fill=\"#f5d0b5\" stroke=\"#000000\" d=\"M787.5,-68C787.5,-68 671.5,-68 671.5,-68 665.5,-68 659.5,-62 659.5,-56 659.5,-56 659.5,-12 659.5,-12 659.5,-6 665.5,0 671.5,0 671.5,0 787.5,0 787.5,0 793.5,0 799.5,-6 799.5,-12 799.5,-12 799.5,-56 799.5,-56 799.5,-62 793.5,-68 787.5,-68\"/>\n<text text-anchor=\"start\" x=\"691.5\" y=\"-52.8\" font-family=\"Helvetica,sans-Serif\" font-size=\"14.00\" fill=\"#000000\">gini = 0.474</text>\n<text text-anchor=\"start\" x=\"677.5\" y=\"-37.8\" font-family=\"Helvetica,sans-Serif\" font-size=\"14.00\" fill=\"#000000\">samples = 1969</text>\n<text text-anchor=\"start\" x=\"667.5\" y=\"-22.8\" font-family=\"Helvetica,sans-Serif\" font-size=\"14.00\" fill=\"#000000\">value = [1211, 758]</text>\n<text text-anchor=\"start\" x=\"690.5\" y=\"-7.8\" font-family=\"Helvetica,sans-Serif\" font-size=\"14.00\" fill=\"#000000\">class = died</text>\n</g>\n<!-- 9&#45;&gt;10 -->\n<g id=\"edge10\" class=\"edge\">\n<title>9&#45;&gt;10</title>\n<path fill=\"none\" stroke=\"#000000\" d=\"M757.7437,-103.9815C754.2941,-95.4342 750.6514,-86.4086 747.1706,-77.7839\"/>\n<polygon fill=\"#000000\" stroke=\"#000000\" points=\"750.3167,-76.227 743.3284,-68.2637 743.8254,-78.8469 750.3167,-76.227\"/>\n</g>\n<!-- 11 -->\n<g id=\"node12\" class=\"node\">\n<title>11</title>\n<path fill=\"#aad5f4\" stroke=\"#000000\" d=\"M937.5,-68C937.5,-68 829.5,-68 829.5,-68 823.5,-68 817.5,-62 817.5,-56 817.5,-56 817.5,-12 817.5,-12 817.5,-6 823.5,0 829.5,0 829.5,0 937.5,0 937.5,0 943.5,0 949.5,-6 949.5,-12 949.5,-12 949.5,-56 949.5,-56 949.5,-62 943.5,-68 937.5,-68\"/>\n<text text-anchor=\"start\" x=\"845.5\" y=\"-52.8\" font-family=\"Helvetica,sans-Serif\" font-size=\"14.00\" fill=\"#000000\">gini = 0.463</text>\n<text text-anchor=\"start\" x=\"831.5\" y=\"-37.8\" font-family=\"Helvetica,sans-Serif\" font-size=\"14.00\" fill=\"#000000\">samples = 1490</text>\n<text text-anchor=\"start\" x=\"825.5\" y=\"-22.8\" font-family=\"Helvetica,sans-Serif\" font-size=\"14.00\" fill=\"#000000\">value = [541, 949]</text>\n<text text-anchor=\"start\" x=\"831\" y=\"-7.8\" font-family=\"Helvetica,sans-Serif\" font-size=\"14.00\" fill=\"#000000\">class = survived</text>\n</g>\n<!-- 9&#45;&gt;11 -->\n<g id=\"edge11\" class=\"edge\">\n<title>9&#45;&gt;11</title>\n<path fill=\"none\" stroke=\"#000000\" d=\"M815.0876,-103.9815C824.162,-94.6989 833.7879,-84.8522 842.8643,-75.5677\"/>\n<polygon fill=\"#000000\" stroke=\"#000000\" points=\"845.5169,-77.8611 850.0046,-68.2637 840.5113,-72.9678 845.5169,-77.8611\"/>\n</g>\n<!-- 13 -->\n<g id=\"node14\" class=\"node\">\n<title>13</title>\n<path fill=\"#53aae8\" stroke=\"#000000\" d=\"M1095.5,-68C1095.5,-68 979.5,-68 979.5,-68 973.5,-68 967.5,-62 967.5,-56 967.5,-56 967.5,-12 967.5,-12 967.5,-6 973.5,0 979.5,0 979.5,0 1095.5,0 1095.5,0 1101.5,0 1107.5,-6 1107.5,-12 1107.5,-12 1107.5,-56 1107.5,-56 1107.5,-62 1101.5,-68 1095.5,-68\"/>\n<text text-anchor=\"start\" x=\"999.5\" y=\"-52.8\" font-family=\"Helvetica,sans-Serif\" font-size=\"14.00\" fill=\"#000000\">gini = 0.208</text>\n<text text-anchor=\"start\" x=\"985.5\" y=\"-37.8\" font-family=\"Helvetica,sans-Serif\" font-size=\"14.00\" fill=\"#000000\">samples = 1876</text>\n<text text-anchor=\"start\" x=\"975.5\" y=\"-22.8\" font-family=\"Helvetica,sans-Serif\" font-size=\"14.00\" fill=\"#000000\">value = [221, 1655]</text>\n<text text-anchor=\"start\" x=\"985\" y=\"-7.8\" font-family=\"Helvetica,sans-Serif\" font-size=\"14.00\" fill=\"#000000\">class = survived</text>\n</g>\n<!-- 12&#45;&gt;13 -->\n<g id=\"edge13\" class=\"edge\">\n<title>12&#45;&gt;13</title>\n<path fill=\"none\" stroke=\"#000000\" d=\"M1037.5,-103.9815C1037.5,-95.618 1037.5,-86.7965 1037.5,-78.3409\"/>\n<polygon fill=\"#000000\" stroke=\"#000000\" points=\"1041.0001,-78.2636 1037.5,-68.2637 1034.0001,-78.2637 1041.0001,-78.2636\"/>\n</g>\n<!-- 14 -->\n<g id=\"node15\" class=\"node\">\n<title>14</title>\n<path fill=\"#aad5f4\" stroke=\"#000000\" d=\"M1245.5,-68C1245.5,-68 1137.5,-68 1137.5,-68 1131.5,-68 1125.5,-62 1125.5,-56 1125.5,-56 1125.5,-12 1125.5,-12 1125.5,-6 1131.5,0 1137.5,0 1137.5,0 1245.5,0 1245.5,0 1251.5,0 1257.5,-6 1257.5,-12 1257.5,-12 1257.5,-56 1257.5,-56 1257.5,-62 1251.5,-68 1245.5,-68\"/>\n<text text-anchor=\"start\" x=\"1153.5\" y=\"-52.8\" font-family=\"Helvetica,sans-Serif\" font-size=\"14.00\" fill=\"#000000\">gini = 0.462</text>\n<text text-anchor=\"start\" x=\"1143.5\" y=\"-37.8\" font-family=\"Helvetica,sans-Serif\" font-size=\"14.00\" fill=\"#000000\">samples = 284</text>\n<text text-anchor=\"start\" x=\"1133.5\" y=\"-22.8\" font-family=\"Helvetica,sans-Serif\" font-size=\"14.00\" fill=\"#000000\">value = [103, 181]</text>\n<text text-anchor=\"start\" x=\"1139\" y=\"-7.8\" font-family=\"Helvetica,sans-Serif\" font-size=\"14.00\" fill=\"#000000\">class = survived</text>\n</g>\n<!-- 12&#45;&gt;14 -->\n<g id=\"edge14\" class=\"edge\">\n<title>12&#45;&gt;14</title>\n<path fill=\"none\" stroke=\"#000000\" d=\"M1094.8439,-103.9815C1108.2994,-94.2394 1122.6131,-83.8759 1135.9867,-74.193\"/>\n<polygon fill=\"#000000\" stroke=\"#000000\" points=\"1138.1289,-76.9632 1144.1762,-68.2637 1134.0237,-71.2933 1138.1289,-76.9632\"/>\n</g>\n</g>\n</svg>\n"
          },
          "metadata": {
            "tags": []
          },
          "execution_count": 109
        }
      ]
    },
    {
      "cell_type": "markdown",
      "metadata": {
        "id": "cPzZFLL4KDAZ"
      },
      "source": [
        "# **RANDOM FOREST**"
      ],
      "id": "cPzZFLL4KDAZ"
    },
    {
      "cell_type": "code",
      "metadata": {
        "id": "ySuNeegyKT9z",
        "colab": {
          "base_uri": "https://localhost:8080/",
          "height": 337
        },
        "outputId": "a63ab901-9823-4afd-b140-8d3ac923f03d"
      },
      "source": [
        "forest_model = RandomForestClassifier(max_depth=3, random_state=42)\n",
        "\n",
        "rf_model = Pipeline([\n",
        "    ('mapper', mapper),\n",
        "    ('classifier', forest_model),\n",
        "])\n",
        "\n",
        "rf_model.fit(train, train.RainTomorrow)\n",
        "\n",
        "evaluate_model(rf_model, title='Random Forest')"
      ],
      "id": "ySuNeegyKT9z",
      "execution_count": null,
      "outputs": [
        {
          "output_type": "display_data",
          "data": {
            "application/vnd.google.colaboratory.intrinsic+json": {
              "type": "string"
            },
            "text/plain": [
              "'Random Forest'"
            ]
          },
          "metadata": {
            "tags": []
          }
        },
        {
          "output_type": "display_data",
          "data": {
            "text/html": [
              "<div>\n",
              "<style scoped>\n",
              "    .dataframe tbody tr th:only-of-type {\n",
              "        vertical-align: middle;\n",
              "    }\n",
              "\n",
              "    .dataframe tbody tr th {\n",
              "        vertical-align: top;\n",
              "    }\n",
              "\n",
              "    .dataframe thead th {\n",
              "        text-align: right;\n",
              "    }\n",
              "</style>\n",
              "<table border=\"1\" class=\"dataframe\">\n",
              "  <thead>\n",
              "    <tr style=\"text-align: right;\">\n",
              "      <th></th>\n",
              "      <th>Accuracy</th>\n",
              "      <th>Precision</th>\n",
              "    </tr>\n",
              "  </thead>\n",
              "  <tbody>\n",
              "    <tr>\n",
              "      <th>train</th>\n",
              "      <td>0.807958</td>\n",
              "      <td>0.895028</td>\n",
              "    </tr>\n",
              "    <tr>\n",
              "      <th>validation</th>\n",
              "      <td>0.802286</td>\n",
              "      <td>0.917333</td>\n",
              "    </tr>\n",
              "  </tbody>\n",
              "</table>\n",
              "</div>"
            ],
            "text/plain": [
              "            Accuracy  Precision\n",
              "train       0.807958   0.895028\n",
              "validation  0.802286   0.917333"
            ]
          },
          "metadata": {
            "tags": []
          }
        },
        {
          "output_type": "display_data",
          "data": {
            "image/png": "[encoded data removed]",
            "text/plain": [
              "<Figure size 1080x216 with 2 Axes>"
            ]
          },
          "metadata": {
            "tags": [],
            "needs_background": "light"
          }
        }
      ]
    },
    {
      "cell_type": "code",
      "metadata": {
        "id": "jM3hvi-m2FM0",
        "colab": {
          "base_uri": "https://localhost:8080/",
          "height": 337
        },
        "outputId": "b1a82d32-d290-42a9-ee28-4aba05e2d5fd"
      },
      "source": [
        "forest_model = RandomForestClassifier(n_estimators=150, max_features=5, max_depth=3, random_state=42)\n",
        "\n",
        "rf_model = Pipeline([\n",
        "    ('mapper', mapper),\n",
        "    ('classifier', forest_model),\n",
        "])\n",
        "\n",
        "rf_model.fit(train, train.RainTomorrow)\n",
        "\n",
        "evaluate_model(rf_model, title='Random Forest')"
      ],
      "id": "jM3hvi-m2FM0",
      "execution_count": null,
      "outputs": [
        {
          "output_type": "display_data",
          "data": {
            "application/vnd.google.colaboratory.intrinsic+json": {
              "type": "string"
            },
            "text/plain": [
              "'Random Forest'"
            ]
          },
          "metadata": {
            "tags": []
          }
        },
        {
          "output_type": "display_data",
          "data": {
            "text/html": [
              "<div>\n",
              "<style scoped>\n",
              "    .dataframe tbody tr th:only-of-type {\n",
              "        vertical-align: middle;\n",
              "    }\n",
              "\n",
              "    .dataframe tbody tr th {\n",
              "        vertical-align: top;\n",
              "    }\n",
              "\n",
              "    .dataframe thead th {\n",
              "        text-align: right;\n",
              "    }\n",
              "</style>\n",
              "<table border=\"1\" class=\"dataframe\">\n",
              "  <thead>\n",
              "    <tr style=\"text-align: right;\">\n",
              "      <th></th>\n",
              "      <th>Accuracy</th>\n",
              "      <th>Precision</th>\n",
              "    </tr>\n",
              "  </thead>\n",
              "  <tbody>\n",
              "    <tr>\n",
              "      <th>train</th>\n",
              "      <td>0.807958</td>\n",
              "      <td>0.895028</td>\n",
              "    </tr>\n",
              "    <tr>\n",
              "      <th>validation</th>\n",
              "      <td>0.802286</td>\n",
              "      <td>0.917333</td>\n",
              "    </tr>\n",
              "  </tbody>\n",
              "</table>\n",
              "</div>"
            ],
            "text/plain": [
              "            Accuracy  Precision\n",
              "train       0.807958   0.895028\n",
              "validation  0.802286   0.917333"
            ]
          },
          "metadata": {
            "tags": []
          }
        },
        {
          "output_type": "display_data",
          "data": {
            "image/png": "[encoded data removed]",
            "text/plain": [
              "<Figure size 1080x216 with 2 Axes>"
            ]
          },
          "metadata": {
            "tags": [],
            "needs_background": "light"
          }
        }
      ]
    },
    {
      "cell_type": "code",
      "metadata": {
        "colab": {
          "base_uri": "https://localhost:8080/",
          "height": 618
        },
        "id": "i1wYYqa5M411",
        "outputId": "103e3322-7a79-4ddf-bb0e-00952c168a86"
      },
      "source": [
        "graph_tree(forest_model.estimators_[0], mapper.transformed_names_)"
      ],
      "id": "i1wYYqa5M411",
      "execution_count": null,
      "outputs": [
        {
          "output_type": "execute_result",
          "data": {
            "text/plain": [
              "<graphviz.files.Source at 0x7f5fca8b0e90>"
            ],
            "image/svg+xml": "<?xml version=\"1.0\" encoding=\"UTF-8\" standalone=\"no\"?>\n<!DOCTYPE svg PUBLIC \"-//W3C//DTD SVG 1.1//EN\"\n \"http://www.w3.org/Graphics/SVG/1.1/DTD/svg11.dtd\">\n<!-- Generated by graphviz version 2.40.1 (20161225.0304)\n -->\n<!-- Title: Tree Pages: 1 -->\n<svg width=\"1253pt\" height=\"433pt\"\n viewBox=\"0.00 0.00 1253.00 433.00\" xmlns=\"http://www.w3.org/2000/svg\" xmlns:xlink=\"http://www.w3.org/1999/xlink\">\n<g id=\"graph0\" class=\"graph\" transform=\"scale(1 1) rotate(0) translate(4 429)\">\n<title>Tree</title>\n<polygon fill=\"#ffffff\" stroke=\"transparent\" points=\"-4,4 -4,-429 1249,-429 1249,4 -4,4\"/>\n<!-- 0 -->\n<g id=\"node1\" class=\"node\">\n<title>0</title>\n<path fill=\"#eca470\" stroke=\"#000000\" d=\"M698,-425C698,-425 549,-425 549,-425 543,-425 537,-419 537,-413 537,-413 537,-354 537,-354 537,-348 543,-342 549,-342 549,-342 698,-342 698,-342 704,-342 710,-348 710,-354 710,-354 710,-413 710,-413 710,-419 704,-425 698,-425\"/>\n<text text-anchor=\"start\" x=\"545\" y=\"-409.8\" font-family=\"Helvetica,sans-Serif\" font-size=\"14.00\" fill=\"#000000\">WindDir9am_x0_E ≤ 0.5</text>\n<text text-anchor=\"start\" x=\"590\" y=\"-394.8\" font-family=\"Helvetica,sans-Serif\" font-size=\"14.00\" fill=\"#000000\">gini = 0.34</text>\n<text text-anchor=\"start\" x=\"567.5\" y=\"-379.8\" font-family=\"Helvetica,sans-Serif\" font-size=\"14.00\" fill=\"#000000\">samples = 21395</text>\n<text text-anchor=\"start\" x=\"553\" y=\"-364.8\" font-family=\"Helvetica,sans-Serif\" font-size=\"14.00\" fill=\"#000000\">value = [26494, 7358]</text>\n<text text-anchor=\"start\" x=\"584.5\" y=\"-349.8\" font-family=\"Helvetica,sans-Serif\" font-size=\"14.00\" fill=\"#000000\">class = died</text>\n</g>\n<!-- 1 -->\n<g id=\"node2\" class=\"node\">\n<title>1</title>\n<path fill=\"#eda572\" stroke=\"#000000\" d=\"M604,-306C604,-306 471,-306 471,-306 465,-306 459,-300 459,-294 459,-294 459,-235 459,-235 459,-229 465,-223 471,-223 471,-223 604,-223 604,-223 610,-223 616,-229 616,-235 616,-235 616,-294 616,-294 616,-300 610,-306 604,-306\"/>\n<text text-anchor=\"start\" x=\"469\" y=\"-290.8\" font-family=\"Helvetica,sans-Serif\" font-size=\"14.00\" fill=\"#000000\">Humidity9am ≤ 0.742</text>\n<text text-anchor=\"start\" x=\"499.5\" y=\"-275.8\" font-family=\"Helvetica,sans-Serif\" font-size=\"14.00\" fill=\"#000000\">gini = 0.348</text>\n<text text-anchor=\"start\" x=\"481.5\" y=\"-260.8\" font-family=\"Helvetica,sans-Serif\" font-size=\"14.00\" fill=\"#000000\">samples = 19685</text>\n<text text-anchor=\"start\" x=\"467\" y=\"-245.8\" font-family=\"Helvetica,sans-Serif\" font-size=\"14.00\" fill=\"#000000\">value = [24134, 6972]</text>\n<text text-anchor=\"start\" x=\"498.5\" y=\"-230.8\" font-family=\"Helvetica,sans-Serif\" font-size=\"14.00\" fill=\"#000000\">class = died</text>\n</g>\n<!-- 0&#45;&gt;1 -->\n<g id=\"edge1\" class=\"edge\">\n<title>0&#45;&gt;1</title>\n<path fill=\"none\" stroke=\"#000000\" d=\"M593.4214,-341.8796C587.0428,-333.0534 580.246,-323.6485 573.6681,-314.5466\"/>\n<polygon fill=\"#000000\" stroke=\"#000000\" points=\"576.4012,-312.353 567.707,-306.2981 570.7277,-316.4532 576.4012,-312.353\"/>\n<text text-anchor=\"middle\" x=\"563.7338\" y=\"-327.2803\" font-family=\"Helvetica,sans-Serif\" font-size=\"14.00\" fill=\"#000000\">True</text>\n</g>\n<!-- 8 -->\n<g id=\"node9\" class=\"node\">\n<title>8</title>\n<path fill=\"#e99659\" stroke=\"#000000\" d=\"M840.5,-306C840.5,-306 724.5,-306 724.5,-306 718.5,-306 712.5,-300 712.5,-294 712.5,-294 712.5,-235 712.5,-235 712.5,-229 718.5,-223 724.5,-223 724.5,-223 840.5,-223 840.5,-223 846.5,-223 852.5,-229 852.5,-235 852.5,-235 852.5,-294 852.5,-294 852.5,-300 846.5,-306 840.5,-306\"/>\n<text text-anchor=\"start\" x=\"725.5\" y=\"-290.8\" font-family=\"Helvetica,sans-Serif\" font-size=\"14.00\" fill=\"#000000\">Sunshine ≤ 0.465</text>\n<text text-anchor=\"start\" x=\"744.5\" y=\"-275.8\" font-family=\"Helvetica,sans-Serif\" font-size=\"14.00\" fill=\"#000000\">gini = 0.242</text>\n<text text-anchor=\"start\" x=\"730.5\" y=\"-260.8\" font-family=\"Helvetica,sans-Serif\" font-size=\"14.00\" fill=\"#000000\">samples = 1710</text>\n<text text-anchor=\"start\" x=\"720.5\" y=\"-245.8\" font-family=\"Helvetica,sans-Serif\" font-size=\"14.00\" fill=\"#000000\">value = [2360, 386]</text>\n<text text-anchor=\"start\" x=\"743.5\" y=\"-230.8\" font-family=\"Helvetica,sans-Serif\" font-size=\"14.00\" fill=\"#000000\">class = died</text>\n</g>\n<!-- 0&#45;&gt;8 -->\n<g id=\"edge8\" class=\"edge\">\n<title>0&#45;&gt;8</title>\n<path fill=\"none\" stroke=\"#000000\" d=\"M679.1105,-341.8796C691.9403,-332.2774 705.6852,-321.9903 718.8286,-312.1534\"/>\n<polygon fill=\"#000000\" stroke=\"#000000\" points=\"721.0121,-314.891 726.9209,-306.0969 716.8177,-309.2868 721.0121,-314.891\"/>\n<text text-anchor=\"middle\" x=\"723.3605\" y=\"-327.1421\" font-family=\"Helvetica,sans-Serif\" font-size=\"14.00\" fill=\"#000000\">False</text>\n</g>\n<!-- 2 -->\n<g id=\"node3\" class=\"node\">\n<title>2</title>\n<path fill=\"#ea975c\" stroke=\"#000000\" d=\"M312,-187C312,-187 179,-187 179,-187 173,-187 167,-181 167,-175 167,-175 167,-116 167,-116 167,-110 173,-104 179,-104 179,-104 312,-104 312,-104 318,-104 324,-110 324,-116 324,-116 324,-175 324,-175 324,-181 318,-187 312,-187\"/>\n<text text-anchor=\"start\" x=\"188.5\" y=\"-171.8\" font-family=\"Helvetica,sans-Serif\" font-size=\"14.00\" fill=\"#000000\">Sunshine ≤ 0.514</text>\n<text text-anchor=\"start\" x=\"207.5\" y=\"-156.8\" font-family=\"Helvetica,sans-Serif\" font-size=\"14.00\" fill=\"#000000\">gini = 0.255</text>\n<text text-anchor=\"start\" x=\"189.5\" y=\"-141.8\" font-family=\"Helvetica,sans-Serif\" font-size=\"14.00\" fill=\"#000000\">samples = 12931</text>\n<text text-anchor=\"start\" x=\"175\" y=\"-126.8\" font-family=\"Helvetica,sans-Serif\" font-size=\"14.00\" fill=\"#000000\">value = [17351, 3056]</text>\n<text text-anchor=\"start\" x=\"206.5\" y=\"-111.8\" font-family=\"Helvetica,sans-Serif\" font-size=\"14.00\" fill=\"#000000\">class = died</text>\n</g>\n<!-- 1&#45;&gt;2 -->\n<g id=\"edge2\" class=\"edge\">\n<title>1&#45;&gt;2</title>\n<path fill=\"none\" stroke=\"#000000\" d=\"M458.8652,-232.4536C420.1609,-216.6803 373.3668,-197.6101 333.4752,-181.3529\"/>\n<polygon fill=\"#000000\" stroke=\"#000000\" points=\"334.6032,-178.0332 324.0218,-177.5003 331.9614,-184.5155 334.6032,-178.0332\"/>\n</g>\n<!-- 5 -->\n<g id=\"node6\" class=\"node\">\n<title>5</title>\n<path fill=\"#f4caab\" stroke=\"#000000\" d=\"M603,-187C603,-187 472,-187 472,-187 466,-187 460,-181 460,-175 460,-175 460,-116 460,-116 460,-110 466,-104 472,-104 472,-104 603,-104 603,-104 609,-104 615,-110 615,-116 615,-116 615,-175 615,-175 615,-181 609,-187 603,-187\"/>\n<text text-anchor=\"start\" x=\"468\" y=\"-171.8\" font-family=\"Helvetica,sans-Serif\" font-size=\"14.00\" fill=\"#000000\">Pressure9am ≤ 0.609</text>\n<text text-anchor=\"start\" x=\"499.5\" y=\"-156.8\" font-family=\"Helvetica,sans-Serif\" font-size=\"14.00\" fill=\"#000000\">gini = 0.464</text>\n<text text-anchor=\"start\" x=\"485.5\" y=\"-141.8\" font-family=\"Helvetica,sans-Serif\" font-size=\"14.00\" fill=\"#000000\">samples = 6754</text>\n<text text-anchor=\"start\" x=\"471\" y=\"-126.8\" font-family=\"Helvetica,sans-Serif\" font-size=\"14.00\" fill=\"#000000\">value = [6783, 3916]</text>\n<text text-anchor=\"start\" x=\"498.5\" y=\"-111.8\" font-family=\"Helvetica,sans-Serif\" font-size=\"14.00\" fill=\"#000000\">class = died</text>\n</g>\n<!-- 1&#45;&gt;5 -->\n<g id=\"edge5\" class=\"edge\">\n<title>1&#45;&gt;5</title>\n<path fill=\"none\" stroke=\"#000000\" d=\"M537.5,-222.8796C537.5,-214.6838 537.5,-205.9891 537.5,-197.5013\"/>\n<polygon fill=\"#000000\" stroke=\"#000000\" points=\"541.0001,-197.298 537.5,-187.2981 534.0001,-197.2981 541.0001,-197.298\"/>\n</g>\n<!-- 3 -->\n<g id=\"node4\" class=\"node\">\n<title>3</title>\n<path fill=\"#f3c6a5\" stroke=\"#000000\" d=\"M137,-68C137,-68 12,-68 12,-68 6,-68 0,-62 0,-56 0,-56 0,-12 0,-12 0,-6 6,0 12,0 12,0 137,0 137,0 143,0 149,-6 149,-12 149,-12 149,-56 149,-56 149,-62 143,-68 137,-68\"/>\n<text text-anchor=\"start\" x=\"36.5\" y=\"-52.8\" font-family=\"Helvetica,sans-Serif\" font-size=\"14.00\" fill=\"#000000\">gini = 0.457</text>\n<text text-anchor=\"start\" x=\"22.5\" y=\"-37.8\" font-family=\"Helvetica,sans-Serif\" font-size=\"14.00\" fill=\"#000000\">samples = 3456</text>\n<text text-anchor=\"start\" x=\"8\" y=\"-22.8\" font-family=\"Helvetica,sans-Serif\" font-size=\"14.00\" fill=\"#000000\">value = [3535, 1931]</text>\n<text text-anchor=\"start\" x=\"35.5\" y=\"-7.8\" font-family=\"Helvetica,sans-Serif\" font-size=\"14.00\" fill=\"#000000\">class = died</text>\n</g>\n<!-- 2&#45;&gt;3 -->\n<g id=\"edge3\" class=\"edge\">\n<title>2&#45;&gt;3</title>\n<path fill=\"none\" stroke=\"#000000\" d=\"M181.8259,-103.9815C166.6648,-94.0957 150.5224,-83.5701 135.4851,-73.7651\"/>\n<polygon fill=\"#000000\" stroke=\"#000000\" points=\"137.0631,-70.6158 126.7748,-68.0856 133.2397,-76.4794 137.0631,-70.6158\"/>\n</g>\n<!-- 4 -->\n<g id=\"node5\" class=\"node\">\n<title>4</title>\n<path fill=\"#e78b49\" stroke=\"#000000\" d=\"M312,-68C312,-68 179,-68 179,-68 173,-68 167,-62 167,-56 167,-56 167,-12 167,-12 167,-6 173,0 179,0 179,0 312,0 312,0 318,0 324,-6 324,-12 324,-12 324,-56 324,-56 324,-62 318,-68 312,-68\"/>\n<text text-anchor=\"start\" x=\"207.5\" y=\"-52.8\" font-family=\"Helvetica,sans-Serif\" font-size=\"14.00\" fill=\"#000000\">gini = 0.139</text>\n<text text-anchor=\"start\" x=\"193.5\" y=\"-37.8\" font-family=\"Helvetica,sans-Serif\" font-size=\"14.00\" fill=\"#000000\">samples = 9475</text>\n<text text-anchor=\"start\" x=\"175\" y=\"-22.8\" font-family=\"Helvetica,sans-Serif\" font-size=\"14.00\" fill=\"#000000\">value = [13816, 1125]</text>\n<text text-anchor=\"start\" x=\"206.5\" y=\"-7.8\" font-family=\"Helvetica,sans-Serif\" font-size=\"14.00\" fill=\"#000000\">class = died</text>\n</g>\n<!-- 2&#45;&gt;4 -->\n<g id=\"edge4\" class=\"edge\">\n<title>2&#45;&gt;4</title>\n<path fill=\"none\" stroke=\"#000000\" d=\"M245.5,-103.9815C245.5,-95.618 245.5,-86.7965 245.5,-78.3409\"/>\n<polygon fill=\"#000000\" stroke=\"#000000\" points=\"249.0001,-78.2636 245.5,-68.2637 242.0001,-78.2637 249.0001,-78.2636\"/>\n</g>\n<!-- 6 -->\n<g id=\"node7\" class=\"node\">\n<title>6</title>\n<path fill=\"#edf6fd\" stroke=\"#000000\" d=\"M479,-68C479,-68 354,-68 354,-68 348,-68 342,-62 342,-56 342,-56 342,-12 342,-12 342,-6 348,0 354,0 354,0 479,0 479,0 485,0 491,-6 491,-12 491,-12 491,-56 491,-56 491,-62 485,-68 479,-68\"/>\n<text text-anchor=\"start\" x=\"378.5\" y=\"-52.8\" font-family=\"Helvetica,sans-Serif\" font-size=\"14.00\" fill=\"#000000\">gini = 0.499</text>\n<text text-anchor=\"start\" x=\"364.5\" y=\"-37.8\" font-family=\"Helvetica,sans-Serif\" font-size=\"14.00\" fill=\"#000000\">samples = 3170</text>\n<text text-anchor=\"start\" x=\"350\" y=\"-22.8\" font-family=\"Helvetica,sans-Serif\" font-size=\"14.00\" fill=\"#000000\">value = [2395, 2632]</text>\n<text text-anchor=\"start\" x=\"364\" y=\"-7.8\" font-family=\"Helvetica,sans-Serif\" font-size=\"14.00\" fill=\"#000000\">class = survived</text>\n</g>\n<!-- 5&#45;&gt;6 -->\n<g id=\"edge6\" class=\"edge\">\n<title>5&#45;&gt;6</title>\n<path fill=\"none\" stroke=\"#000000\" d=\"M492.4441,-103.9815C482.2709,-94.607 471.4733,-84.6572 461.3102,-75.2921\"/>\n<polygon fill=\"#000000\" stroke=\"#000000\" points=\"463.4087,-72.4663 453.683,-68.2637 458.6651,-77.6141 463.4087,-72.4663\"/>\n</g>\n<!-- 7 -->\n<g id=\"node8\" class=\"node\">\n<title>7</title>\n<path fill=\"#eda673\" stroke=\"#000000\" d=\"M646,-68C646,-68 521,-68 521,-68 515,-68 509,-62 509,-56 509,-56 509,-12 509,-12 509,-6 515,0 521,0 521,0 646,0 646,0 652,0 658,-6 658,-12 658,-12 658,-56 658,-56 658,-62 652,-68 646,-68\"/>\n<text text-anchor=\"start\" x=\"550\" y=\"-52.8\" font-family=\"Helvetica,sans-Serif\" font-size=\"14.00\" fill=\"#000000\">gini = 0.35</text>\n<text text-anchor=\"start\" x=\"531.5\" y=\"-37.8\" font-family=\"Helvetica,sans-Serif\" font-size=\"14.00\" fill=\"#000000\">samples = 3584</text>\n<text text-anchor=\"start\" x=\"517\" y=\"-22.8\" font-family=\"Helvetica,sans-Serif\" font-size=\"14.00\" fill=\"#000000\">value = [4388, 1284]</text>\n<text text-anchor=\"start\" x=\"544.5\" y=\"-7.8\" font-family=\"Helvetica,sans-Serif\" font-size=\"14.00\" fill=\"#000000\">class = died</text>\n</g>\n<!-- 5&#45;&gt;7 -->\n<g id=\"edge7\" class=\"edge\">\n<title>5&#45;&gt;7</title>\n<path fill=\"none\" stroke=\"#000000\" d=\"M554.6287,-103.9815C558.155,-95.4342 561.8785,-86.4086 565.4367,-77.7839\"/>\n<polygon fill=\"#000000\" stroke=\"#000000\" points=\"568.786,-78.8427 569.3643,-68.2637 562.315,-76.1731 568.786,-78.8427\"/>\n</g>\n<!-- 9 -->\n<g id=\"node10\" class=\"node\">\n<title>9</title>\n<path fill=\"#fae6d8\" stroke=\"#000000\" d=\"M848,-187C848,-187 717,-187 717,-187 711,-187 705,-181 705,-175 705,-175 705,-116 705,-116 705,-110 711,-104 717,-104 717,-104 848,-104 848,-104 854,-104 860,-110 860,-116 860,-116 860,-175 860,-175 860,-181 854,-187 848,-187\"/>\n<text text-anchor=\"start\" x=\"713\" y=\"-171.8\" font-family=\"Helvetica,sans-Serif\" font-size=\"14.00\" fill=\"#000000\">Pressure9am ≤ 0.503</text>\n<text text-anchor=\"start\" x=\"744.5\" y=\"-156.8\" font-family=\"Helvetica,sans-Serif\" font-size=\"14.00\" fill=\"#000000\">gini = 0.494</text>\n<text text-anchor=\"start\" x=\"734.5\" y=\"-141.8\" font-family=\"Helvetica,sans-Serif\" font-size=\"14.00\" fill=\"#000000\">samples = 377</text>\n<text text-anchor=\"start\" x=\"724.5\" y=\"-126.8\" font-family=\"Helvetica,sans-Serif\" font-size=\"14.00\" fill=\"#000000\">value = [348, 280]</text>\n<text text-anchor=\"start\" x=\"743.5\" y=\"-111.8\" font-family=\"Helvetica,sans-Serif\" font-size=\"14.00\" fill=\"#000000\">class = died</text>\n</g>\n<!-- 8&#45;&gt;9 -->\n<g id=\"edge9\" class=\"edge\">\n<title>8&#45;&gt;9</title>\n<path fill=\"none\" stroke=\"#000000\" d=\"M782.5,-222.8796C782.5,-214.6838 782.5,-205.9891 782.5,-197.5013\"/>\n<polygon fill=\"#000000\" stroke=\"#000000\" points=\"786.0001,-197.298 782.5,-187.2981 779.0001,-197.2981 786.0001,-197.298\"/>\n</g>\n<!-- 12 -->\n<g id=\"node13\" class=\"node\">\n<title>12</title>\n<path fill=\"#e68843\" stroke=\"#000000\" d=\"M1093.5,-187C1093.5,-187 977.5,-187 977.5,-187 971.5,-187 965.5,-181 965.5,-175 965.5,-175 965.5,-116 965.5,-116 965.5,-110 971.5,-104 977.5,-104 977.5,-104 1093.5,-104 1093.5,-104 1099.5,-104 1105.5,-110 1105.5,-116 1105.5,-116 1105.5,-175 1105.5,-175 1105.5,-181 1099.5,-187 1093.5,-187\"/>\n<text text-anchor=\"start\" x=\"977.5\" y=\"-171.8\" font-family=\"Helvetica,sans-Serif\" font-size=\"14.00\" fill=\"#000000\">MaxTemp ≤ 0.928</text>\n<text text-anchor=\"start\" x=\"997.5\" y=\"-156.8\" font-family=\"Helvetica,sans-Serif\" font-size=\"14.00\" fill=\"#000000\">gini = 0.095</text>\n<text text-anchor=\"start\" x=\"983.5\" y=\"-141.8\" font-family=\"Helvetica,sans-Serif\" font-size=\"14.00\" fill=\"#000000\">samples = 1333</text>\n<text text-anchor=\"start\" x=\"973.5\" y=\"-126.8\" font-family=\"Helvetica,sans-Serif\" font-size=\"14.00\" fill=\"#000000\">value = [2012, 106]</text>\n<text text-anchor=\"start\" x=\"996.5\" y=\"-111.8\" font-family=\"Helvetica,sans-Serif\" font-size=\"14.00\" fill=\"#000000\">class = died</text>\n</g>\n<!-- 8&#45;&gt;12 -->\n<g id=\"edge12\" class=\"edge\">\n<title>8&#45;&gt;12</title>\n<path fill=\"none\" stroke=\"#000000\" d=\"M852.6386,-231.5099C884.7197,-216.4204 922.8798,-198.4716 956.02,-182.8839\"/>\n<polygon fill=\"#000000\" stroke=\"#000000\" points=\"957.6656,-185.9777 965.2249,-178.5543 954.6862,-179.6434 957.6656,-185.9777\"/>\n</g>\n<!-- 10 -->\n<g id=\"node11\" class=\"node\">\n<title>10</title>\n<path fill=\"#7fbfee\" stroke=\"#000000\" d=\"M785,-68C785,-68 688,-68 688,-68 682,-68 676,-62 676,-56 676,-56 676,-12 676,-12 676,-6 682,0 688,0 688,0 785,0 785,0 791,0 797,-6 797,-12 797,-12 797,-56 797,-56 797,-62 791,-68 785,-68\"/>\n<text text-anchor=\"start\" x=\"698.5\" y=\"-52.8\" font-family=\"Helvetica,sans-Serif\" font-size=\"14.00\" fill=\"#000000\">gini = 0.385</text>\n<text text-anchor=\"start\" x=\"692.5\" y=\"-37.8\" font-family=\"Helvetica,sans-Serif\" font-size=\"14.00\" fill=\"#000000\">samples = 60</text>\n<text text-anchor=\"start\" x=\"686.5\" y=\"-22.8\" font-family=\"Helvetica,sans-Serif\" font-size=\"14.00\" fill=\"#000000\">value = [26, 74]</text>\n<text text-anchor=\"start\" x=\"684\" y=\"-7.8\" font-family=\"Helvetica,sans-Serif\" font-size=\"14.00\" fill=\"#000000\">class = survived</text>\n</g>\n<!-- 9&#45;&gt;10 -->\n<g id=\"edge10\" class=\"edge\">\n<title>9&#45;&gt;10</title>\n<path fill=\"none\" stroke=\"#000000\" d=\"M765.3713,-103.9815C761.845,-95.4342 758.1215,-86.4086 754.5633,-77.7839\"/>\n<polygon fill=\"#000000\" stroke=\"#000000\" points=\"757.685,-76.1731 750.6357,-68.2637 751.214,-78.8427 757.685,-76.1731\"/>\n</g>\n<!-- 11 -->\n<g id=\"node12\" class=\"node\">\n<title>11</title>\n<path fill=\"#f6d2b8\" stroke=\"#000000\" d=\"M935.5,-68C935.5,-68 827.5,-68 827.5,-68 821.5,-68 815.5,-62 815.5,-56 815.5,-56 815.5,-12 815.5,-12 815.5,-6 821.5,0 827.5,0 827.5,0 935.5,0 935.5,0 941.5,0 947.5,-6 947.5,-12 947.5,-12 947.5,-56 947.5,-56 947.5,-62 941.5,-68 935.5,-68\"/>\n<text text-anchor=\"start\" x=\"843.5\" y=\"-52.8\" font-family=\"Helvetica,sans-Serif\" font-size=\"14.00\" fill=\"#000000\">gini = 0.476</text>\n<text text-anchor=\"start\" x=\"833.5\" y=\"-37.8\" font-family=\"Helvetica,sans-Serif\" font-size=\"14.00\" fill=\"#000000\">samples = 317</text>\n<text text-anchor=\"start\" x=\"823.5\" y=\"-22.8\" font-family=\"Helvetica,sans-Serif\" font-size=\"14.00\" fill=\"#000000\">value = [322, 206]</text>\n<text text-anchor=\"start\" x=\"842.5\" y=\"-7.8\" font-family=\"Helvetica,sans-Serif\" font-size=\"14.00\" fill=\"#000000\">class = died</text>\n</g>\n<!-- 9&#45;&gt;11 -->\n<g id=\"edge11\" class=\"edge\">\n<title>9&#45;&gt;11</title>\n<path fill=\"none\" stroke=\"#000000\" d=\"M819.3639,-103.9815C827.5243,-94.7908 836.1756,-85.0472 844.3474,-75.8436\"/>\n<polygon fill=\"#000000\" stroke=\"#000000\" points=\"847.0553,-78.0653 851.0775,-68.2637 841.8208,-73.4177 847.0553,-78.0653\"/>\n</g>\n<!-- 13 -->\n<g id=\"node14\" class=\"node\">\n<title>13</title>\n<path fill=\"#e68743\" stroke=\"#000000\" d=\"M1093.5,-68C1093.5,-68 977.5,-68 977.5,-68 971.5,-68 965.5,-62 965.5,-56 965.5,-56 965.5,-12 965.5,-12 965.5,-6 971.5,0 977.5,0 977.5,0 1093.5,0 1093.5,0 1099.5,0 1105.5,-6 1105.5,-12 1105.5,-12 1105.5,-56 1105.5,-56 1105.5,-62 1099.5,-68 1093.5,-68\"/>\n<text text-anchor=\"start\" x=\"997.5\" y=\"-52.8\" font-family=\"Helvetica,sans-Serif\" font-size=\"14.00\" fill=\"#000000\">gini = 0.093</text>\n<text text-anchor=\"start\" x=\"983.5\" y=\"-37.8\" font-family=\"Helvetica,sans-Serif\" font-size=\"14.00\" fill=\"#000000\">samples = 1332</text>\n<text text-anchor=\"start\" x=\"973.5\" y=\"-22.8\" font-family=\"Helvetica,sans-Serif\" font-size=\"14.00\" fill=\"#000000\">value = [2012, 103]</text>\n<text text-anchor=\"start\" x=\"996.5\" y=\"-7.8\" font-family=\"Helvetica,sans-Serif\" font-size=\"14.00\" fill=\"#000000\">class = died</text>\n</g>\n<!-- 12&#45;&gt;13 -->\n<g id=\"edge13\" class=\"edge\">\n<title>12&#45;&gt;13</title>\n<path fill=\"none\" stroke=\"#000000\" d=\"M1035.5,-103.9815C1035.5,-95.618 1035.5,-86.7965 1035.5,-78.3409\"/>\n<polygon fill=\"#000000\" stroke=\"#000000\" points=\"1039.0001,-78.2636 1035.5,-68.2637 1032.0001,-78.2637 1039.0001,-78.2636\"/>\n</g>\n<!-- 14 -->\n<g id=\"node15\" class=\"node\">\n<title>14</title>\n<path fill=\"#399de5\" stroke=\"#000000\" d=\"M1233,-68C1233,-68 1136,-68 1136,-68 1130,-68 1124,-62 1124,-56 1124,-56 1124,-12 1124,-12 1124,-6 1130,0 1136,0 1136,0 1233,0 1233,0 1239,0 1245,-6 1245,-12 1245,-12 1245,-56 1245,-56 1245,-62 1239,-68 1233,-68\"/>\n<text text-anchor=\"start\" x=\"1155\" y=\"-52.8\" font-family=\"Helvetica,sans-Serif\" font-size=\"14.00\" fill=\"#000000\">gini = 0.0</text>\n<text text-anchor=\"start\" x=\"1145\" y=\"-37.8\" font-family=\"Helvetica,sans-Serif\" font-size=\"14.00\" fill=\"#000000\">samples = 1</text>\n<text text-anchor=\"start\" x=\"1143\" y=\"-22.8\" font-family=\"Helvetica,sans-Serif\" font-size=\"14.00\" fill=\"#000000\">value = [0, 3]</text>\n<text text-anchor=\"start\" x=\"1132\" y=\"-7.8\" font-family=\"Helvetica,sans-Serif\" font-size=\"14.00\" fill=\"#000000\">class = survived</text>\n</g>\n<!-- 12&#45;&gt;14 -->\n<g id=\"edge14\" class=\"edge\">\n<title>12&#45;&gt;14</title>\n<path fill=\"none\" stroke=\"#000000\" d=\"M1090.9821,-103.9815C1103.8779,-94.3313 1117.5884,-84.0714 1130.4227,-74.4673\"/>\n<polygon fill=\"#000000\" stroke=\"#000000\" points=\"1132.8032,-77.0574 1138.7127,-68.2637 1128.6092,-71.4528 1132.8032,-77.0574\"/>\n</g>\n</g>\n</svg>\n"
          },
          "metadata": {
            "tags": []
          },
          "execution_count": 115
        }
      ]
    },
    {
      "cell_type": "markdown",
      "metadata": {
        "id": "h_to_X2O8sVv"
      },
      "source": [
        "**Análisis de métricas**\n",
        "\n",
        "Con random forest probamos dos formas, una con el parámetro max_depth, y otra sumandole los parametros n_estimators y max_features. En el primero podemos ver que acertó con un 82% de todos los casos con accuracy y en precision, de los casos en los que sí iba a llover, acertó un 86%.\n",
        "\n",
        "En el segundo, se puede ver que con accuracy acertó el 81% de los casos y un 90% con precision.\n",
        "Es decir, ajustando los parámetros n_estimators y max_features logramos que mejore en precision, pero afecta apenas negativamente en accuracy.\n",
        "\n",
        "Nos damos cuenta que no está sobreentrenando porque, a comparación del modelo anterior, la métrica tanto en train como en validation tienen valores similares y nunca nos arrojó como resultado 1."
      ],
      "id": "h_to_X2O8sVv"
    },
    {
      "cell_type": "markdown",
      "metadata": {
        "id": "8CEHXuWRsdDj"
      },
      "source": [
        "# **GRADIENT BOOSTING**"
      ],
      "id": "8CEHXuWRsdDj"
    },
    {
      "cell_type": "code",
      "metadata": {
        "id": "JKEgMUXVscwh"
      },
      "source": [
        "from sklearn.ensemble import GradientBoostingClassifier"
      ],
      "id": "JKEgMUXVscwh",
      "execution_count": null,
      "outputs": []
    },
    {
      "cell_type": "code",
      "metadata": {
        "id": "cuVSNO3gtnc5"
      },
      "source": [
        "boo_model = GradientBoostingClassifier(random_state=42)\n",
        "boost_model = Pipeline([\n",
        "    ('mapper', mapper),\n",
        "    ('classifier', boo_model),\n",
        "])\n",
        "\n",
        "boost_model.fit(train, train.RainTomorrow)\n",
        "evaluate_model(boost_model, title='Gradient Boosting')"
      ],
      "id": "cuVSNO3gtnc5",
      "execution_count": null,
      "outputs": []
    },
    {
      "cell_type": "code",
      "metadata": {
        "id": "jHYeiq4qpkkl"
      },
      "source": [
        "boo_model = GradientBoostingClassifier(n_estimators=100, max_depth=3, max_features=2, random_state=42)\n",
        "boost_model = Pipeline([\n",
        "    ('mapper', mapper),\n",
        "    ('classifier', boo_model),\n",
        "])\n",
        "\n",
        "boost_model.fit(train, train.RainTomorrow)\n",
        "evaluate_model(boost_model, title='Gradient Boosting')"
      ],
      "id": "jHYeiq4qpkkl",
      "execution_count": null,
      "outputs": []
    },
    {
      "cell_type": "markdown",
      "metadata": {
        "id": "G-P7gWRItjXv"
      },
      "source": [
        "**Análisis de métricas**"
      ],
      "id": "G-P7gWRItjXv"
    },
    {
      "cell_type": "markdown",
      "metadata": {
        "id": "1I-zp8MJoGdA"
      },
      "source": [
        "Se realizó la evaluación del modelo con Gradient Boosting de dos maneras: sin limitar la cantidad de estimadores, profundidad de árboles y cantidad de features; y haciéndolo. Se puede observar que los resultados obtenidos de las métricas son muy similares, y que, para ambos casos, se puede decir que el modelo no esta sobreentrenando ya que los valores obtenidos tanto en test como en validation son cercanos.\n",
        "\n",
        "Los resultados concluídos son:\n",
        "- Accuracy nos indica que el modelo acertó el aproximadamente 86% de los casos que predijo.\n",
        "- Precission nos indica que de los casos en los que lloverá al día siguiente (RainTomorrow = Yes), encontró el 75% de ellos."
      ],
      "id": "1I-zp8MJoGdA"
    },
    {
      "cell_type": "markdown",
      "metadata": {
        "id": "IcLp1OgbtoFO"
      },
      "source": [
        "**Gráfico del árbol**"
      ],
      "id": "IcLp1OgbtoFO"
    },
    {
      "cell_type": "code",
      "metadata": {
        "id": "UP-UXIpfoAhM"
      },
      "source": [
        "graph_tree(boo_model.estimators_[1][0], col_names=mapper.transformed_names_)"
      ],
      "id": "UP-UXIpfoAhM",
      "execution_count": null,
      "outputs": []
    },
    {
      "cell_type": "markdown",
      "metadata": {
        "id": "SNvZnDJdwuI2"
      },
      "source": [
        "# **VALOR FINAL DE MÉTRICA A INFORMAR AL CLIENTE**"
      ],
      "id": "SNvZnDJdwuI2"
    },
    {
      "cell_type": "markdown",
      "metadata": {
        "id": "-UItvRZXHkP_"
      },
      "source": [
        "Evaluamos los modelos nuevamente, ahora teniendo en cuenta el dataset de test."
      ],
      "id": "-UItvRZXHkP_"
    },
    {
      "cell_type": "code",
      "metadata": {
        "id": "GEYEf_CT_r2X"
      },
      "source": [
        "evaluate_model(lr_model, title='Logistic Regression', set_names=('train', 'test', 'validation'), show_cm=False)\n",
        "evaluate_model(dt_model, title='Árboles de decisión', set_names=('train', 'test', 'validation'), show_cm=False)\n",
        "evaluate_model(rf_model, title='Random Forest', set_names=('train', 'test', 'validation'), show_cm=False)\n",
        "evaluate_model(boost_model, title='Gradient Boosting', set_names=('train', 'test', 'validation'), show_cm=False)"
      ],
      "id": "GEYEf_CT_r2X",
      "execution_count": null,
      "outputs": []
    },
    {
      "cell_type": "markdown",
      "metadata": {
        "id": "5DhmlKaqEE9r"
      },
      "source": [
        "Habiendo evaluado el set de test vemos que todos los modelos arrojan valores similares. Por eso hicimos el promedio de Accuracy obtenido para test en todos los casos, llegando a la conclusión de que el valor a informar al cliente será de un 83% de aciertos en las predicciones realizadas."
      ],
      "id": "5DhmlKaqEE9r"
    }
  ]
}