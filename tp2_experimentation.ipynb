{
 "cells": [
  {
   "cell_type": "markdown",
   "id": "distributed-alpha",
   "metadata": {
    "colab_type": "text",
    "id": "view-in-github"
   },
   "source": [
    "<a href=\"https://colab.research.google.com/github/solllull/entregasML/blob/main/tp2_experimentation.ipynb\" target=\"_parent\"><img src=\"https://colab.research.google.com/assets/colab-badge.svg\" alt=\"Open In Colab\"/></a>"
   ]
  },
  {
   "cell_type": "markdown",
   "id": "kw3wXLxl3s60",
   "metadata": {
    "id": "kw3wXLxl3s60"
   },
   "source": [
    "# **TP 2: ENTRENAMIENTO Y EVALUACIÓN DE MODELOS**"
   ]
  },
  {
   "cell_type": "code",
   "execution_count": null,
   "id": "yUzS3gO64M0O",
   "metadata": {
    "id": "yUzS3gO64M0O"
   },
   "outputs": [],
   "source": [
    "%matplotlib inline"
   ]
  },
  {
   "cell_type": "code",
   "execution_count": null,
   "id": "pUVDCuOwxmbI",
   "metadata": {
    "id": "pUVDCuOwxmbI"
   },
   "outputs": [],
   "source": [
    "import pandas as pd\n",
    "import numpy as np\n",
    "import matplotlib.pyplot as plt\n",
    "import seaborn as sns\n",
    "from sklearn.preprocessing import minmax_scale\n",
    "from datetime import datetime\n",
    "from matplotlib import gridspec\n",
    "import plotly.express as px\n",
    "from matplotlib.lines import Line2D\n",
    "\n",
    "from collections import defaultdict\n",
    "from matplotlib import pyplot as plt\n",
    "import seaborn as sns\n",
    "\n",
    "from IPython.display import HTML, display\n",
    "from sklearn.metrics import accuracy_score, precision_score, recall_score, confusion_matrix\n",
    "from sklearn.model_selection import train_test_split\n",
    "\n",
    "from sklearn_pandas import DataFrameMapper\n",
    "from sklearn.preprocessing import OneHotEncoder, MinMaxScaler\n",
    "from sklearn.linear_model import LogisticRegression\n",
    "from sklearn.pipeline import Pipeline\n",
    "from sklearn import metrics\n",
    "from sklearn.tree import DecisionTreeClassifier\n",
    "from sklearn.preprocessing import LabelBinarizer\n",
    "from sklearn.ensemble import RandomForestClassifier\n",
    "import graphviz  \n",
    "from sklearn.tree import export_graphviz"
   ]
  },
  {
   "cell_type": "code",
   "execution_count": null,
   "id": "892ZgHMd4QQK",
   "metadata": {
    "colab": {
     "base_uri": "https://localhost:8080/"
    },
    "id": "892ZgHMd4QQK",
    "outputId": "64e8e7f8-b291-4a9c-b22b-681eefb5d18b"
   },
   "outputs": [],
   "source": [
    "dataset = pd.read_csv('weatherAUS.csv')\n",
    "dataset.shape"
   ]
  },
  {
   "cell_type": "code",
   "execution_count": null,
   "id": "mvPZCbiV4tRd",
   "metadata": {
    "id": "mvPZCbiV4tRd"
   },
   "outputs": [],
   "source": [
    "# eliminación de filas con valores nulos\n",
    "dataset = dataset.dropna(how='any',axis=0)\n",
    "# convertir columna Date a tipo datetime\n",
    "dataset['Date'] = pd.to_datetime(dataset['Date'])"
   ]
  },
  {
   "cell_type": "markdown",
   "id": "nBzTOvOv5j6E",
   "metadata": {
    "id": "nBzTOvOv5j6E"
   },
   "source": [
    "**ELECCIÓN DE MÉTRICA**\n",
    "\n",
    "Decidimos utilizar **Accuracy** como métrica para evaluar los modelos ya que predecir si va a llover o no al día siguiente no es algo crítico. Además queremos saber en qué porcentaje de casos, el modelo que entrenamos acertó, para lo cual esta métrica resulta adecuada para interpretarlo."
   ]
  },
  {
   "cell_type": "markdown",
   "id": "2gH4NojT75ST",
   "metadata": {
    "id": "2gH4NojT75ST"
   },
   "source": [
    "# **FEATURE ENGINEERING**\n"
   ]
  },
  {
   "cell_type": "markdown",
   "id": "Qh6R-hFwjZKi",
   "metadata": {
    "id": "Qh6R-hFwjZKi"
   },
   "source": [
    "**Agregado de columna \"Season\"**"
   ]
  },
  {
   "cell_type": "code",
   "execution_count": null,
   "id": "QfM29s7f6RZm",
   "metadata": {
    "colab": {
     "base_uri": "https://localhost:8080/",
     "height": 207
    },
    "id": "QfM29s7f6RZm",
    "outputId": "ea06644a-70fe-48e1-eca0-2e3815a0ae6e"
   },
   "outputs": [],
   "source": [
    "# agregar columna \"Season\" (estación)\n",
    "conditions_seasons = [\n",
    "        (dataset['Date'].dt.month.isin([1, 2, 3])), # summer\n",
    "        (dataset['Date'].dt.month.isin([4, 5, 6])), # autumn\n",
    "        (dataset['Date'].dt.month.isin([7, 8, 9])), # winter\n",
    "        (dataset['Date'].dt.month.isin([10, 11, 12])) # spring\n",
    "]\n",
    "\n",
    "seasons = ['summer', 'autumn', 'winter', 'spring']\n",
    "\n",
    "# nueva columna Season\n",
    "dataset['Season'] = np.select(conditions_seasons, seasons)\n",
    "\n",
    "# cambiar season donde corresponda\n",
    "dataset.Season.mask((dataset['Date'].dt.month == 12) & (dataset['Date'].dt.day > 20), 'summer', inplace=True)\n",
    "dataset.Season.mask((dataset['Date'].dt.month == 3) & (dataset['Date'].dt.day > 20), 'autumn', inplace=True)\n",
    "dataset.Season.mask((dataset['Date'].dt.month == 6) & (dataset['Date'].dt.day > 20), 'winter', inplace=True)\n",
    "dataset.Season.mask((dataset['Date'].dt.month == 9) & (dataset['Date'].dt.day > 20), 'spring', inplace=True)\n",
    "\n",
    "# Gráficos\n",
    "fig2 = plt.figure(constrained_layout=True, figsize = (30,30))\n",
    "spec2 = gridspec.GridSpec(ncols=6, nrows=7, figure=fig2)\n",
    "f2_ax1 = fig2.add_subplot(spec2[0, 0])\n",
    "f2_ax2 = fig2.add_subplot(spec2[0, 1])\n",
    "f2_ax3 = fig2.add_subplot(spec2[0, 2])\n",
    "f2_ax4 = fig2.add_subplot(spec2[0, 3])\n",
    "dataset[dataset.Season == 'summer'].RainTomorrow.value_counts().sort_index().plot.pie(autopct='%1.0f%%', ax=f2_ax1, title = 'summer',figsize=(15,15))\n",
    "dataset[dataset.Season == 'spring'].RainTomorrow.value_counts().sort_index().plot.pie(autopct='%1.0f%%', ax=f2_ax2,title = 'spring',figsize=(15,15))\n",
    "dataset[dataset.Season == 'autumn'].RainTomorrow.value_counts().sort_index().plot.pie(autopct='%1.0f%%', ax=f2_ax3,title = 'autumn',figsize=(15,15))\n",
    "dataset[dataset.Season == 'winter'].RainTomorrow.value_counts().sort_index().plot.pie(autopct='%1.0f%%', ax=f2_ax4,title = 'winter',figsize=(15,15))"
   ]
  },
  {
   "cell_type": "markdown",
   "id": "x45YLxKSjj36",
   "metadata": {
    "id": "x45YLxKSjj36"
   },
   "source": [
    "**Redondeo de valores numéricos**: sacamos precisión a los valores de columnas numéricas, redondeando a dos decimales."
   ]
  },
  {
   "cell_type": "code",
   "execution_count": null,
   "id": "uRns_0JH6Ud8",
   "metadata": {
    "id": "uRns_0JH6Ud8"
   },
   "outputs": [],
   "source": [
    "tmp = dataset.select_dtypes(include=[np.number])\n",
    "dataset.loc[:, tmp.columns] = np.round(tmp, 2)"
   ]
  },
  {
   "cell_type": "markdown",
   "id": "bztEij53jnsh",
   "metadata": {
    "id": "bztEij53jnsh"
   },
   "source": [
    "**División de columna \"Date\" en 3 nuevas columnas: Día, Mes y Año**"
   ]
  },
  {
   "cell_type": "code",
   "execution_count": null,
   "id": "1IIxOxei3Vet",
   "metadata": {
    "colab": {
     "base_uri": "https://localhost:8080/",
     "height": 359
    },
    "id": "1IIxOxei3Vet",
    "outputId": "655f506c-7b14-433d-9659-1a8a94e31ca9"
   },
   "outputs": [],
   "source": [
    "# agregar columnas año, mes y día\n",
    "dataset['Year'] = dataset['Date'].dt.year\n",
    "dataset['Month'] = dataset['Date'].dt.month\n",
    "dataset['Day'] = dataset['Date'].dt.day\n",
    "\n",
    "dataset[['Date', 'Year', 'Month', 'Day']].sample(10)"
   ]
  },
  {
   "cell_type": "markdown",
   "id": "OPMMSByJjyPo",
   "metadata": {
    "id": "OPMMSByJjyPo"
   },
   "source": [
    "**Agregado de columna \"Region\"**"
   ]
  },
  {
   "cell_type": "code",
   "execution_count": null,
   "id": "e9K1d3_5LrLH",
   "metadata": {
    "colab": {
     "base_uri": "https://localhost:8080/",
     "height": 371
    },
    "id": "e9K1d3_5LrLH",
    "outputId": "9d6a0ad5-7a48-4539-8d41-564cb11412f4"
   },
   "outputs": [],
   "source": [
    "conditions_regions = [\n",
    "        (dataset['Location'].isin(['Perth', 'PerthAirport'])), # western\n",
    "        (dataset['Location'].isin(['AliceSprings', 'Darwin'])), # northen\n",
    "        (dataset['Location'].isin(['Woomera', 'Nuriootpa', 'MountGambier'])), # south\n",
    "        (dataset['Location'].isin(['Mildura','Sale','WaggaWagga','Canberra','Sydney','SydneyAirport','Portland','Williamtown','CoffsHarbour','Moree','Cobar'])), # newsouth\n",
    "        (dataset['Location'].isin(['Cairns', 'Townsville', 'Brisbane'])), # queensland\n",
    "        (dataset['Location'].isin(['Watsonia','Melbourne','MelbourneAirport'])), # victoria\n",
    "        (dataset['Location'].isin(['Hobart'])), # tasmania\n",
    "        (dataset['Location'].isin(['NorfolkIsland'])) #norfolk\n",
    "]\n",
    "\n",
    "regions = ['western', 'northen', 'south', 'newsouth', 'queensland', 'victoria', 'tasmania', 'norfolk']\n",
    "\n",
    "# nueva columna Region\n",
    "dataset['Region'] = np.select(conditions_regions, regions)\n",
    "\n",
    "#estos gráficos no hacen falta, los hice para ver qué onda nomás\n",
    "fig2 = plt.figure(constrained_layout=True, figsize = (30,30))\n",
    "spec2 = gridspec.GridSpec(ncols=6, nrows=7, figure=fig2)\n",
    "f2_ax1 = fig2.add_subplot(spec2[0, 0])\n",
    "f2_ax2 = fig2.add_subplot(spec2[0, 1])\n",
    "f2_ax3 = fig2.add_subplot(spec2[0, 2])\n",
    "f2_ax4 = fig2.add_subplot(spec2[0, 3])\n",
    "f2_ax5 = fig2.add_subplot(spec2[1, 0])\n",
    "f2_ax6 = fig2.add_subplot(spec2[1, 1])\n",
    "f2_ax7 = fig2.add_subplot(spec2[1, 2])\n",
    "f2_ax8 = fig2.add_subplot(spec2[1, 3])\n",
    "dataset[dataset.Region == 'western'].RainTomorrow.value_counts().sort_index().plot.pie(autopct='%1.0f%%', ax=f2_ax1, title = 'western',figsize=(15,15))\n",
    "dataset[dataset.Region == 'northen'].RainTomorrow.value_counts().sort_index().plot.pie(autopct='%1.0f%%', ax=f2_ax2,title = 'northen',figsize=(15,15))\n",
    "dataset[dataset.Region == 'south'].RainTomorrow.value_counts().sort_index().plot.pie(autopct='%1.0f%%', ax=f2_ax3,title = 'south',figsize=(15,15))\n",
    "dataset[dataset.Region == 'newsouth'].RainTomorrow.value_counts().sort_index().plot.pie(autopct='%1.0f%%', ax=f2_ax4,title = 'newsouth',figsize=(15,15))\n",
    "dataset[dataset.Region == 'queensland'].RainTomorrow.value_counts().sort_index().plot.pie(autopct='%1.0f%%', ax=f2_ax5,title = 'queensland',figsize=(15,15))\n",
    "dataset[dataset.Region == 'victoria'].RainTomorrow.value_counts().sort_index().plot.pie(autopct='%1.0f%%', ax=f2_ax6,title = 'victoria',figsize=(15,15))\n",
    "dataset[dataset.Region == 'tasmania'].RainTomorrow.value_counts().sort_index().plot.pie(autopct='%1.0f%%', ax=f2_ax7,title = 'tasmania',figsize=(15,15))\n",
    "dataset[dataset.Region == 'norfolk'].RainTomorrow.value_counts().sort_index().plot.pie(autopct='%1.0f%%', ax=f2_ax8,title = 'norfolk',figsize=(15,15))"
   ]
  },
  {
   "cell_type": "markdown",
   "id": "GZH9otRhj69w",
   "metadata": {
    "id": "GZH9otRhj69w"
   },
   "source": [
    "**Unificación de valores en columnas \"WindGustDir\", \"WindGustDir9am\" y \"WindGustDir3pm\"**"
   ]
  },
  {
   "cell_type": "code",
   "execution_count": null,
   "id": "Fe4ZTBNqkl0M",
   "metadata": {
    "colab": {
     "base_uri": "https://localhost:8080/"
    },
    "id": "Fe4ZTBNqkl0M",
    "outputId": "ed3df9f3-7652-4d7a-80c0-cbf76dd53692"
   },
   "outputs": [],
   "source": [
    "# Unificar valores columnas WindGustDir WindGustDir9am WindGustDir3pm\n",
    "\n",
    "def conditions_dirs(column_name):\n",
    "  conditions_dirs = [\n",
    "        (dataset[column_name].isin(['N'])), # N\n",
    "        (dataset[column_name].isin(['S'])), # S\n",
    "        (dataset[column_name].isin(['E'])), # E\n",
    "        (dataset[column_name].isin(['W'])), # W\n",
    "        (dataset[column_name].isin(['NE', 'NNE', 'ENE'])), # NE\n",
    "        (dataset[column_name].isin(['NW', 'WNW', 'NNW'])), # NW\n",
    "        (dataset[column_name].isin(['SE', 'ESE', 'SSE'])), # SE\n",
    "        (dataset[column_name].isin(['SW', 'SSW', 'WSW'])) # SW\n",
    "    ]\n",
    "  return conditions_dirs\n",
    "\n",
    "dirs = ['N', 'S', 'E', 'W', 'NE', 'NW', 'SE', 'SW']\n",
    "\n",
    "# nueva columna WindGustDir\n",
    "dataset['WindGustDir'] = np.select(conditions_dirs('WindGustDir'), dirs)\n",
    "dataset['WindDir9am'] = np.select(conditions_dirs('WindDir9am'), dirs)\n",
    "dataset['WindDir3pm'] = np.select(conditions_dirs('WindDir3pm'), dirs)\n",
    "\n",
    "dataset['WindGustDir'].unique()\n",
    "dataset['WindDir9am'].unique()\n",
    "dataset['WindDir3pm'].unique()"
   ]
  },
  {
   "cell_type": "code",
   "execution_count": null,
   "id": "iece7iOMsjYh",
   "metadata": {
    "colab": {
     "base_uri": "https://localhost:8080/",
     "height": 309
    },
    "id": "iece7iOMsjYh",
    "outputId": "6d576223-13de-4fbc-ab87-79b645687440"
   },
   "outputs": [],
   "source": [
    "dataset.sample(5)"
   ]
  },
  {
   "cell_type": "code",
   "execution_count": null,
   "id": "pTCWyAX6a1UJ",
   "metadata": {
    "id": "pTCWyAX6a1UJ"
   },
   "outputs": [],
   "source": [
    "# eliminar columna Date y Location\n",
    "dataset = dataset.drop(['Date'], axis=1)\n",
    "dataset = dataset.drop(['Location'], axis=1)"
   ]
  },
  {
   "cell_type": "markdown",
   "id": "kx9hif93kMKz",
   "metadata": {
    "id": "kx9hif93kMKz"
   },
   "source": [
    "#**ALGORITMOS**"
   ]
  },
  {
   "cell_type": "markdown",
   "id": "xcRqZ7Lhwnkt",
   "metadata": {
    "id": "xcRqZ7Lhwnkt"
   },
   "source": [
    "Algoritmos a evaluar:\n",
    "\n",
    "- Regresión logística\n",
    "- Árboles de decisión \n",
    "- Random Forest\n",
    "- Gradient Boosting "
   ]
  },
  {
   "cell_type": "markdown",
   "id": "kMtfCEGEzS11",
   "metadata": {
    "id": "kMtfCEGEzS11"
   },
   "source": [
    "**CONJUNTO DE DATOS (60% train, 20% test, 20% validation)**"
   ]
  },
  {
   "cell_type": "code",
   "execution_count": null,
   "id": "N-vcN9lIh0K9",
   "metadata": {
    "id": "N-vcN9lIh0K9"
   },
   "outputs": [],
   "source": [
    "dataset['RainToday'] = dataset['RainToday'].map({\"No\":0, \"Yes\":1})\n",
    "dataset['RainTomorrow'] = dataset['RainTomorrow'].map({\"No\":0, \"Yes\":1})"
   ]
  },
  {
   "cell_type": "code",
   "execution_count": null,
   "id": "mVWELDoM1HIS",
   "metadata": {
    "colab": {
     "base_uri": "https://localhost:8080/"
    },
    "id": "mVWELDoM1HIS",
    "outputId": "f4a40548-46ff-4626-9567-9d2b8e8cd92f"
   },
   "outputs": [],
   "source": [
    "# 60% train, 20% test, 20% validation\n",
    "train, not_train = train_test_split(dataset, test_size=0.4, random_state=40)\n",
    "validation, test = train_test_split(not_train, test_size=0.5, random_state=40)\n",
    "\n",
    "train.shape, validation.shape, test.shape"
   ]
  },
  {
   "cell_type": "code",
   "execution_count": null,
   "id": "NahkrcgGjERv",
   "metadata": {
    "colab": {
     "base_uri": "https://localhost:8080/",
     "height": 224
    },
    "id": "NahkrcgGjERv",
    "outputId": "cd8763b1-589e-4912-b962-d974b9591e96"
   },
   "outputs": [],
   "source": [
    "dataset.sample(5)"
   ]
  },
  {
   "cell_type": "markdown",
   "id": "ik35MIrPMMy3",
   "metadata": {
    "id": "ik35MIrPMMy3"
   },
   "source": [
    "**DATAFRAME MAPPER**"
   ]
  },
  {
   "cell_type": "code",
   "execution_count": null,
   "id": "arMXke7GMSsv",
   "metadata": {
    "colab": {
     "base_uri": "https://localhost:8080/",
     "height": 224
    },
    "id": "arMXke7GMSsv",
    "outputId": "2b711e09-25bc-43ca-9e89-1b5350dab59d"
   },
   "outputs": [],
   "source": [
    "mapper = DataFrameMapper([\n",
    "    (['MinTemp'], [MinMaxScaler()]),\n",
    "    (['MaxTemp'], [MinMaxScaler()]),\n",
    "    (['Rainfall'], [MinMaxScaler()]),\n",
    "    (['Evaporation'], [MinMaxScaler()]),\n",
    "    (['Sunshine'], [MinMaxScaler()]),\n",
    "    (['WindGustDir'], [OneHotEncoder()]),\n",
    "    (['WindDir9am'], [OneHotEncoder()]),\n",
    "    (['WindDir3pm'], [OneHotEncoder()]),\n",
    "    (['WindGustSpeed'], [MinMaxScaler()]),\n",
    "    (['WindSpeed9am'], [MinMaxScaler()]),\n",
    "    (['WindSpeed3pm'], [MinMaxScaler()]),\n",
    "    (['Humidity9am'], [MinMaxScaler()]),\n",
    "    (['Humidity3pm'], [MinMaxScaler()]),\n",
    "    (['Pressure9am'], [MinMaxScaler()]),\n",
    "    (['Pressure3pm'], [MinMaxScaler()]),\n",
    "    (['Cloud9am'], [MinMaxScaler()]),\n",
    "    (['Cloud3pm'], [MinMaxScaler()]),\n",
    "    (['Temp9am'], [MinMaxScaler()]),\n",
    "    (['Temp3pm'], [MinMaxScaler()]),\n",
    "    (['RainToday'], None),\n",
    "    (['Season'], [OneHotEncoder()]),\n",
    "    (['Year'], [MinMaxScaler()]),\n",
    "    (['Month'], [MinMaxScaler()]),\n",
    "    (['Day'], [MinMaxScaler()]),\n",
    "    (['Region'], [OneHotEncoder()]),\n",
    "])\n",
    "sample = train.sample(5, random_state=42)\n",
    "sample"
   ]
  },
  {
   "cell_type": "code",
   "execution_count": null,
   "id": "vyxp-c49y0Bm",
   "metadata": {
    "colab": {
     "base_uri": "https://localhost:8080/"
    },
    "id": "vyxp-c49y0Bm",
    "outputId": "eaa923e0-a9f4-4546-8454-278982b94ab6"
   },
   "outputs": [],
   "source": [
    "mapper.fit(train)\n",
    "# Sample transformado con el mapper completo\n",
    "mapper.transform(sample)"
   ]
  },
  {
   "cell_type": "markdown",
   "id": "MPRy8xAslBpI",
   "metadata": {
    "id": "MPRy8xAslBpI"
   },
   "source": [
    "**Función para evaluar modelos**"
   ]
  },
  {
   "cell_type": "code",
   "execution_count": null,
   "id": "p4LcsKCqlTax",
   "metadata": {
    "id": "p4LcsKCqlTax"
   },
   "outputs": [],
   "source": [
    "def evaluate_model(model, set_names=('train', 'validation'), title='', show_cm=True):\n",
    "    if title:\n",
    "        display(title)\n",
    "        \n",
    "    final_metrics = defaultdict(list)\n",
    "    \n",
    "    if show_cm:\n",
    "        fig, axis = plt.subplots(1, len(set_names), sharey=True, figsize=(15, 3))\n",
    "    \n",
    "    for i, set_name in enumerate(set_names):\n",
    "        assert set_name in ['train', 'validation', 'test']\n",
    "        set_data = globals()[set_name] \n",
    "\n",
    "        y = set_data.RainTomorrow\n",
    "        y_pred = model.predict(set_data)\n",
    "        final_metrics['Accuracy'].append(metrics.accuracy_score(y, y_pred))\n",
    "        final_metrics['Precision'].append(metrics.precision_score(y, y_pred))\n",
    "        \n",
    "        if show_cm:\n",
    "            ax = axis[i]\n",
    "            sns.heatmap(metrics.confusion_matrix(y, y_pred), ax=ax, cmap='Blues', annot=True, fmt='.0f', cbar=False)\n",
    "\n",
    "            ax.set_title(set_name)\n",
    "            ax.xaxis.set_ticklabels(['No', 'Yes'])\n",
    "            ax.yaxis.set_ticklabels(['No', 'Yes'])\n",
    "            ax.set_xlabel('Predicted class (RainTomorrow)')\n",
    "            ax.set_ylabel('True class (RainTomorrow)')\n",
    "\n",
    "        \n",
    "    display(pd.DataFrame(final_metrics, index=set_names))\n",
    "    if show_cm:\n",
    "        plt.tight_layout()\n",
    "        plt.show()"
   ]
  },
  {
   "cell_type": "markdown",
   "id": "49EvhZid6sDd",
   "metadata": {
    "id": "49EvhZid6sDd"
   },
   "source": [
    "# **REGRESIÓN LOGÍSTICA**"
   ]
  },
  {
   "cell_type": "code",
   "execution_count": null,
   "id": "vbIP7OnsfzUi",
   "metadata": {
    "colab": {
     "base_uri": "https://localhost:8080/"
    },
    "id": "vbIP7OnsfzUi",
    "outputId": "e479701a-0f14-46a6-ba98-e21f7ac521d3"
   },
   "outputs": [],
   "source": [
    "lr_model = Pipeline([\n",
    "    ('mapper', mapper),\n",
    "    ('classifier', LogisticRegression(random_state=40, max_iter=1000)),\n",
    "])\n",
    "lr_model.fit(train, train.RainTomorrow)\n",
    "\n",
    "y_pred = lr_model.predict(validation)\n",
    "y_pred"
   ]
  },
  {
   "cell_type": "code",
   "execution_count": null,
   "id": "9sPuy6riR7oN",
   "metadata": {
    "colab": {
     "base_uri": "https://localhost:8080/"
    },
    "id": "9sPuy6riR7oN",
    "outputId": "e58b7317-eb7b-4910-9f09-fb3468cd26a4"
   },
   "outputs": [],
   "source": [
    "metrics.accuracy_score(validation.RainTomorrow, y_pred)"
   ]
  },
  {
   "cell_type": "code",
   "execution_count": null,
   "id": "9wvKhg5S9Fgm",
   "metadata": {
    "colab": {
     "base_uri": "https://localhost:8080/",
     "height": 464
    },
    "id": "9wvKhg5S9Fgm",
    "outputId": "4bdd6b67-b4ea-449e-d63a-d38a4047fa30"
   },
   "outputs": [],
   "source": [
    "lr_model2 = Pipeline([\n",
    "    ('mapper', mapper),\n",
    "    ('classifier', LogisticRegression(random_state=40, max_iter=10)),\n",
    "])\n",
    "lr_model2.fit(train, train.RainTomorrow)\n",
    "evaluate_model(lr_model2)"
   ]
  },
  {
   "cell_type": "code",
   "execution_count": null,
   "id": "P8EuxrsRSNN0",
   "metadata": {
    "colab": {
     "base_uri": "https://localhost:8080/",
     "height": 294
    },
    "id": "P8EuxrsRSNN0",
    "outputId": "1e2ab4d8-5ae6-4438-fe10-284f9afbc41d"
   },
   "outputs": [],
   "source": [
    "evaluate_model(lr_model)"
   ]
  },
  {
   "cell_type": "code",
   "execution_count": null,
   "id": "MKX1Gjh7-v-N",
   "metadata": {
    "colab": {
     "base_uri": "https://localhost:8080/",
     "height": 294
    },
    "id": "MKX1Gjh7-v-N",
    "outputId": "ec96ea8d-4a21-4d4e-813c-9c6f7919e75d"
   },
   "outputs": [],
   "source": [
    "lr_model3 = Pipeline([\n",
    "    ('mapper', mapper),\n",
    "    ('classifier', LogisticRegression(random_state=40, solver='liblinear')),\n",
    "])\n",
    "lr_model3.fit(train, train.RainTomorrow)\n",
    "evaluate_model(lr_model3)"
   ]
  },
  {
   "cell_type": "markdown",
   "id": "p_FdB-m5t1id",
   "metadata": {
    "id": "p_FdB-m5t1id"
   },
   "source": [
    "**Análisis de métricas**"
   ]
  },
  {
   "cell_type": "markdown",
   "id": "eoMMkQC-DRzd",
   "metadata": {
    "id": "eoMMkQC-DRzd"
   },
   "source": [
    "Como se muestra en las tres celdas anteriores, evaluamos el modelo cambiando ciertos parámetros (max_iter y solver). En todos los casos obtuvimos resultados muy similares que interpretamos a continuación.\n",
    "\n",
    "\n",
    "\n",
    "*   En cuanto a Accuracy, nos indica que el modelo acertó aproximadamente el 85% de los casos que predijo.\n",
    "*   Si vemos Precision, nos indica que de los casos en los que lloverá al día siguiente (RainTomorrow = Yes), encontró el 73% de ellos.\n",
    "\n"
   ]
  },
  {
   "cell_type": "code",
   "execution_count": null,
   "id": "MCY99HeGYEiV",
   "metadata": {
    "colab": {
     "base_uri": "https://localhost:8080/",
     "height": 1000
    },
    "id": "MCY99HeGYEiV",
    "outputId": "b4adae86-254c-41d7-f400-409eba27c56f"
   },
   "outputs": [],
   "source": [
    "clf = lr_model.named_steps['classifier']\n",
    "clf.coef_  # los pesos que aprendió la regresión logística\n",
    "df_importance = pd.DataFrame({\n",
    "    'feature': mapper.transformed_names_, \n",
    "    'coeficiente': clf.coef_[0],\n",
    "}).sort_values(by='coeficiente')\n",
    "\n",
    "df = px.data.tips()\n",
    "fig = px.bar(df_importance, x='coeficiente', y='feature', orientation='h',\n",
    "             height=1500,\n",
    "             color = \"coeficiente\",\n",
    "             title='Coeficientes')\n",
    "fig.show()"
   ]
  },
  {
   "cell_type": "markdown",
   "id": "qtwy0Cz2tsva",
   "metadata": {
    "id": "qtwy0Cz2tsva"
   },
   "source": [
    "**Análisis de gráfica de coeficientes**"
   ]
  },
  {
   "cell_type": "markdown",
   "id": "0haICpPdZrws",
   "metadata": {
    "id": "0haICpPdZrws"
   },
   "source": [
    "Los coeficientes (o parámetros) de la función de salida nos dan \"pistas\" para interpretar la influencia de los mismos en la predicción.\n",
    "En este caso, vemos que los valores que tomen las variables WindGustSpeed, Humidity3pm y Pressure9am, mientras mayores sean, más probabilidad habrá de que al día siguiente llueva (esto se observa en la parte superior del gráfico anterior).\n",
    "\n",
    "Por otro lado, si observamos la parte inferior, podemos decir que mientras mayores sean los valores de Pressure3pm y Sunshine, menor será la probabilidad de que llueva al día siguiente (debido a que son parámetros con signo negativo).\n",
    "\n"
   ]
  },
  {
   "cell_type": "markdown",
   "id": "d5E5tXpZn3Oa",
   "metadata": {
    "id": "d5E5tXpZn3Oa"
   },
   "source": [
    "# **ÁRBOLES DE DECISIÓN** "
   ]
  },
  {
   "cell_type": "code",
   "execution_count": null,
   "id": "LEy7_2C84wtM",
   "metadata": {
    "colab": {
     "base_uri": "https://localhost:8080/",
     "height": 312
    },
    "id": "LEy7_2C84wtM",
    "outputId": "4e92849b-eafd-4055-df78-68c9825593f2"
   },
   "outputs": [],
   "source": [
    "tree_model1 = DecisionTreeClassifier(random_state=40)\n",
    "\n",
    "dt_model1 = Pipeline([\n",
    "                     ('mapper', mapper),\n",
    "                     ('classifier', tree_model1),\n",
    "])\n",
    "\n",
    "history = dt_model1.fit(train, train.RainTomorrow)\n",
    "\n",
    "evaluate_model(dt_model1, title='Decision Tree')"
   ]
  },
  {
   "cell_type": "code",
   "execution_count": null,
   "id": "6Xgm6F6p0zGA",
   "metadata": {
    "colab": {
     "base_uri": "https://localhost:8080/",
     "height": 312
    },
    "id": "6Xgm6F6p0zGA",
    "outputId": "5687ec0e-03c1-4510-8376-985f16556e04"
   },
   "outputs": [],
   "source": [
    "tree_model = DecisionTreeClassifier(max_depth=3, random_state=40)\n",
    "\n",
    "dt_model = Pipeline([\n",
    "                     ('mapper', mapper),\n",
    "                     ('classifier', tree_model),\n",
    "])\n",
    "\n",
    "history = dt_model.fit(train, train.RainTomorrow)\n",
    "\n",
    "evaluate_model(dt_model, title='Decision Tree')"
   ]
  },
  {
   "cell_type": "markdown",
   "id": "Cor3mD7j7RSs",
   "metadata": {
    "id": "Cor3mD7j7RSs"
   },
   "source": [
    "**Análisis de métricas**\n",
    "\n",
    "Como se muestra en las celdas anteriores, se evaluó el algoritmo de Árboles de decisión de dos formas: sin establecer una profundidad máxima y estableciéndola. En el primer caso se observa que con el set de train sobreentenó debido a que tanto Accuracy como Precision devolvieron un valor de 1. En el set de validation esto no ocurrió.\n",
    "\n",
    "Por otro lado, habiendo delimitado la profundidad máxima con un valor de 3, se obtuvieron métricas similares tanto para train como para validation. Accuracy nos indica que el modelo acertó en aproximadamente un 84% de los casos. Precision demuestra que el modelo encontró aproximadamente el 75% de los casos en los que al día siguiente lloverá."
   ]
  },
  {
   "cell_type": "code",
   "execution_count": null,
   "id": "Dax7B9vP10dk",
   "metadata": {
    "id": "Dax7B9vP10dk"
   },
   "outputs": [],
   "source": [
    "# Gráfico del árbol\n",
    "def graph_tree(tree, col_names):\n",
    "    graph_data = export_graphviz(\n",
    "        tree, \n",
    "        out_file=None, \n",
    "        feature_names=col_names,  \n",
    "        class_names=['died', 'survived'],  \n",
    "        filled=True, \n",
    "        rounded=True,  \n",
    "        special_characters=True,\n",
    "    )\n",
    "    graph = graphviz.Source(graph_data)  \n",
    "    return graph"
   ]
  },
  {
   "cell_type": "code",
   "execution_count": null,
   "id": "siYreRryJkZs",
   "metadata": {
    "colab": {
     "base_uri": "https://localhost:8080/",
     "height": 618
    },
    "id": "siYreRryJkZs",
    "outputId": "6da9790d-66c0-495a-dcdb-1b2b3b7c0c08"
   },
   "outputs": [],
   "source": [
    "graph_tree(tree_model, mapper.transformed_names_)"
   ]
  },
  {
   "cell_type": "markdown",
   "id": "cPzZFLL4KDAZ",
   "metadata": {
    "id": "cPzZFLL4KDAZ"
   },
   "source": [
    "# **RANDOM FOREST**"
   ]
  },
  {
   "cell_type": "code",
   "execution_count": null,
   "id": "ySuNeegyKT9z",
   "metadata": {
    "colab": {
     "base_uri": "https://localhost:8080/",
     "height": 312
    },
    "id": "ySuNeegyKT9z",
    "outputId": "46cead84-63aa-4fdd-eb5e-2345f604c6d1"
   },
   "outputs": [],
   "source": [
    "forest_model = RandomForestClassifier(max_depth=3, random_state=40)\n",
    "\n",
    "rf_model = Pipeline([\n",
    "    ('mapper', mapper),\n",
    "    ('classifier', forest_model),\n",
    "])\n",
    "\n",
    "rf_model.fit(train, train.RainTomorrow)\n",
    "\n",
    "evaluate_model(rf_model, title='Random Forest')"
   ]
  },
  {
   "cell_type": "code",
   "execution_count": null,
   "id": "jM3hvi-m2FM0",
   "metadata": {
    "colab": {
     "base_uri": "https://localhost:8080/",
     "height": 312
    },
    "id": "jM3hvi-m2FM0",
    "outputId": "b7234a41-ee85-44e1-ea43-b5b944fbb60b"
   },
   "outputs": [],
   "source": [
    "forest_model = RandomForestClassifier(n_estimators=150, max_features=5, max_depth=3, random_state=40)\n",
    "\n",
    "rf_model = Pipeline([\n",
    "    ('mapper', mapper),\n",
    "    ('classifier', forest_model),\n",
    "])\n",
    "\n",
    "rf_model.fit(train, train.RainTomorrow)\n",
    "\n",
    "evaluate_model(rf_model, title='Random Forest')"
   ]
  },
  {
   "cell_type": "code",
   "execution_count": null,
   "id": "i1wYYqa5M411",
   "metadata": {
    "colab": {
     "base_uri": "https://localhost:8080/",
     "height": 618
    },
    "id": "i1wYYqa5M411",
    "outputId": "d5f91034-4e00-4db1-b105-41ed7429ae7b"
   },
   "outputs": [],
   "source": [
    "graph_tree(forest_model.estimators_[0], mapper.transformed_names_)"
   ]
  },
  {
   "cell_type": "markdown",
   "id": "h_to_X2O8sVv",
   "metadata": {
    "id": "h_to_X2O8sVv"
   },
   "source": [
    "**Análisis de métricas**\n",
    "\n",
    "Con random forest probamos dos formas, una con el parámetro max_depth, y otra sumandole los parametros n_estimators y max_features. En el primero podemos ver que acertó con un 82% de todos los casos con accuracy y en precision, de los casos en los que sí iba a llover, acertó un 86%.\n",
    "\n",
    "En el segundo, se puede ver que con accuracy acertó el 81% de los casos y un 90% con precision.\n",
    "Es decir, ajustando los parámetros n_estimators y max_features logramos que mejore en precision, pero afecta apenas negativamente en accuracy.\n",
    "\n",
    "Nos damos cuenta que no está sobreentrenando porque, a comparación del modelo anterior, la métrica tanto en train como en validation tienen valores similares y nunca nos arrojó como resultado 1."
   ]
  },
  {
   "cell_type": "markdown",
   "id": "8CEHXuWRsdDj",
   "metadata": {
    "id": "8CEHXuWRsdDj"
   },
   "source": [
    "# **GRADIENT BOOSTING**"
   ]
  },
  {
   "cell_type": "code",
   "execution_count": null,
   "id": "JKEgMUXVscwh",
   "metadata": {
    "id": "JKEgMUXVscwh"
   },
   "outputs": [],
   "source": [
    "from sklearn.ensemble import GradientBoostingClassifier"
   ]
  },
  {
   "cell_type": "code",
   "execution_count": null,
   "id": "cuVSNO3gtnc5",
   "metadata": {
    "colab": {
     "base_uri": "https://localhost:8080/",
     "height": 312
    },
    "id": "cuVSNO3gtnc5",
    "outputId": "0ce30e63-1083-4f1a-e07b-48e4807e7def"
   },
   "outputs": [],
   "source": [
    "boo_model = GradientBoostingClassifier(random_state=40)\n",
    "boost_model = Pipeline([\n",
    "    ('mapper', mapper),\n",
    "    ('classifier', boo_model),\n",
    "])\n",
    "\n",
    "boost_model.fit(train, train.RainTomorrow)\n",
    "evaluate_model(boost_model, title='Gradient Boosting')"
   ]
  },
  {
   "cell_type": "code",
   "execution_count": null,
   "id": "jHYeiq4qpkkl",
   "metadata": {
    "colab": {
     "base_uri": "https://localhost:8080/",
     "height": 312
    },
    "id": "jHYeiq4qpkkl",
    "outputId": "14d32b02-78e6-4b1f-f92d-832b563d9846"
   },
   "outputs": [],
   "source": [
    "boo_model = GradientBoostingClassifier(n_estimators=100, max_depth=3, max_features=2, random_state=40)\n",
    "boost_model = Pipeline([\n",
    "    ('mapper', mapper),\n",
    "    ('classifier', boo_model),\n",
    "])\n",
    "\n",
    "boost_model.fit(train, train.RainTomorrow)\n",
    "evaluate_model(boost_model, title='Gradient Boosting')"
   ]
  },
  {
   "cell_type": "markdown",
   "id": "G-P7gWRItjXv",
   "metadata": {
    "id": "G-P7gWRItjXv"
   },
   "source": [
    "**Análisis de métricas**"
   ]
  },
  {
   "cell_type": "markdown",
   "id": "1I-zp8MJoGdA",
   "metadata": {
    "id": "1I-zp8MJoGdA"
   },
   "source": [
    "Se realizó la evaluación del modelo con Gradient Boosting de dos maneras: sin limitar la cantidad de estimadores, profundidad de árboles y cantidad de features; y haciéndolo. Se puede observar que los resultados obtenidos de las métricas son muy similares, y que, para ambos casos, se puede decir que el modelo no esta sobreentrenando ya que los valores obtenidos tanto en test como en validation son cercanos.\n",
    "\n",
    "Los resultados concluídos son:\n",
    "- Accuracy nos indica que el modelo acertó el aproximadamente 86% de los casos que predijo.\n",
    "- Precission nos indica que de los casos en los que lloverá al día siguiente (RainTomorrow = Yes), encontró el 75% de ellos."
   ]
  },
  {
   "cell_type": "markdown",
   "id": "IcLp1OgbtoFO",
   "metadata": {
    "id": "IcLp1OgbtoFO"
   },
   "source": [
    "**Gráfico del árbol**"
   ]
  },
  {
   "cell_type": "code",
   "execution_count": null,
   "id": "UP-UXIpfoAhM",
   "metadata": {
    "colab": {
     "base_uri": "https://localhost:8080/",
     "height": 538
    },
    "id": "UP-UXIpfoAhM",
    "outputId": "bf5d460c-a5b0-4f44-ba44-e45ce55cc00c"
   },
   "outputs": [],
   "source": [
    "graph_tree(boo_model.estimators_[1][0], col_names=mapper.transformed_names_)"
   ]
  },
  {
   "cell_type": "markdown",
   "id": "SNvZnDJdwuI2",
   "metadata": {
    "id": "SNvZnDJdwuI2"
   },
   "source": [
    "# **VALOR FINAL DE MÉTRICA A INFORMAR AL CLIENTE**"
   ]
  },
  {
   "cell_type": "markdown",
   "id": "-UItvRZXHkP_",
   "metadata": {
    "id": "-UItvRZXHkP_"
   },
   "source": [
    "Evaluamos los modelos nuevamente, ahora teniendo en cuenta el dataset de test."
   ]
  },
  {
   "cell_type": "code",
   "execution_count": null,
   "id": "GEYEf_CT_r2X",
   "metadata": {
    "colab": {
     "base_uri": "https://localhost:8080/",
     "height": 589
    },
    "id": "GEYEf_CT_r2X",
    "outputId": "0debbb00-3320-4b5b-a015-6c37f0d0e1c6"
   },
   "outputs": [],
   "source": [
    "evaluate_model(lr_model, title='Logistic Regression', set_names=('train', 'test', 'validation'), show_cm=False)\n",
    "evaluate_model(dt_model, title='Árboles de decisión', set_names=('train', 'test', 'validation'), show_cm=False)\n",
    "evaluate_model(rf_model, title='Random Forest', set_names=('train', 'test', 'validation'), show_cm=False)\n",
    "evaluate_model(boost_model, title='Gradient Boosting', set_names=('train', 'test', 'validation'), show_cm=False)"
   ]
  },
  {
   "cell_type": "markdown",
   "id": "5DhmlKaqEE9r",
   "metadata": {
    "id": "5DhmlKaqEE9r"
   },
   "source": [
    "Habiendo evaluado el set de test vemos que todos los modelos arrojan valores similares. Aún así, consideramos elegir la métrica Accuracy porque el equivocarse en falsos positivos no tiene un alto impacto, a menos que el cliente le de importancia por alguna situación particular, por la cual le daríamos el porcentaje de Precision. \n",
    "Con respecto al modelo, elegimos Gradient Boosting ya que nos parece el más completo en tener en cuenta las fallas que se van cometiendo en cada árbol para aprender de estos errores. Además, a comparación de los demás modelos, posee uno de los porcentajes más altos de acierto. Por lo tanto, la métrica final a informar al cliente sería del 85%."
   ]
  }
 ],
 "metadata": {
  "colab": {
   "collapsed_sections": [],
   "include_colab_link": true,
   "name": "tp2_experimentation.ipynb",
   "provenance": []
  },
  "kernelspec": {
   "display_name": "Python 3",
   "language": "python",
   "name": "python3"
  },
  "language_info": {
   "codemirror_mode": {
    "name": "ipython",
    "version": 3
   },
   "file_extension": ".py",
   "mimetype": "text/x-python",
   "name": "python",
   "nbconvert_exporter": "python",
   "pygments_lexer": "ipython3",
   "version": "3.7.0"
  }
 },
 "nbformat": 4,
 "nbformat_minor": 5
}
