{
 "cells": [
  {
   "cell_type": "markdown",
   "id": "genetic-transport",
   "metadata": {},
   "source": [
    "A partir del dataset elegido y ya preprocesado con la lógica definida en el TP1, el grupo debe realizar el entrenamiento y evaluación de al menos 3 algoritmos de machine learning:"
   ]
  },
  {
   "cell_type": "markdown",
   "id": "emerging-ghost",
   "metadata": {},
   "source": [
    "- Se debe elegir y definir una métrica de performance a utilizar para evaluar los modelos. Fundamentar la elección de la métrica."
   ]
  },
  {
   "cell_type": "markdown",
   "id": "musical-composer",
   "metadata": {},
   "source": [
    "- Se debe aplicar alguna técnica de feature engineering para mejorar la data de entrada a los modelos, y mostrar la comparativa de los resultados obtenidos en cada caso. Si no es posible o útil, fundamentar el motivo por el cual no se realizará"
   ]
  },
  {
   "cell_type": "markdown",
   "id": "western-ethics",
   "metadata": {},
   "source": [
    "- Por cada modelo, se debe entrenarlo y evaluar su comportamiento con la métrica elegida. Sacar conclusiones respecto a los motivos por los cuales el modelo funciona bien o mal."
   ]
  },
  {
   "cell_type": "markdown",
   "id": "traditional-bunny",
   "metadata": {},
   "source": [
    "- Se deben utilizar técnicas que garanticen que los modelos no están sobreentrenando sin que nos demos cuenta.\n"
   ]
  },
  {
   "cell_type": "markdown",
   "id": "standard-equation",
   "metadata": {},
   "source": [
    "- Determinar el valor final de la métrica que podría ser informado al cliente, utilizando técnicas que permitan obtener un valor lo más realista posible. Fundamentar."
   ]
  }
 ],
 "metadata": {
  "kernelspec": {
   "display_name": "Python 3",
   "language": "python",
   "name": "python3"
  },
  "language_info": {
   "codemirror_mode": {
    "name": "ipython",
    "version": 3
   },
   "file_extension": ".py",
   "mimetype": "text/x-python",
   "name": "python",
   "nbconvert_exporter": "python",
   "pygments_lexer": "ipython3",
   "version": "3.7.0"
  }
 },
 "nbformat": 4,
 "nbformat_minor": 5
}
