{
  "nbformat": 4,
  "nbformat_minor": 5,
  "metadata": {
    "kernelspec": {
      "display_name": "Python 3",
      "language": "python",
      "name": "python3"
    },
    "language_info": {
      "codemirror_mode": {
        "name": "ipython",
        "version": 3
      },
      "file_extension": ".py",
      "mimetype": "text/x-python",
      "name": "python",
      "nbconvert_exporter": "python",
      "pygments_lexer": "ipython3",
      "version": "3.7.0"
    },
    "colab": {
      "name": "tp2_experimentation.ipynb",
      "provenance": [],
      "collapsed_sections": [],
      "include_colab_link": true
    }
  },
  "cells": [
    {
      "cell_type": "markdown",
      "metadata": {
        "id": "view-in-github",
        "colab_type": "text"
      },
      "source": [
        "<a href=\"https://colab.research.google.com/github/solllull/entregasML/blob/main/tp2_experimentation.ipynb\" target=\"_parent\"><img src=\"https://colab.research.google.com/assets/colab-badge.svg\" alt=\"Open In Colab\"/></a>"
      ]
    },
    {
      "cell_type": "markdown",
      "metadata": {
        "id": "kw3wXLxl3s60"
      },
      "source": [
        "# **TP 2: ENTRENAMIENTO Y EVALUACIÓN DE MODELOS**"
      ],
      "id": "kw3wXLxl3s60"
    },
    {
      "cell_type": "code",
      "metadata": {
        "id": "yUzS3gO64M0O"
      },
      "source": [
        "%matplotlib inline"
      ],
      "id": "yUzS3gO64M0O",
      "execution_count": null,
      "outputs": []
    },
    {
      "cell_type": "code",
      "metadata": {
        "id": "pUVDCuOwxmbI"
      },
      "source": [
        "import pandas as pd\n",
        "import numpy as np\n",
        "import matplotlib.pyplot as plt\n",
        "import seaborn as sns\n",
        "from sklearn.preprocessing import minmax_scale\n",
        "from datetime import datetime\n",
        "from matplotlib import gridspec\n",
        "import plotly.express as px\n",
        "from matplotlib.lines import Line2D\n",
        "\n",
        "from collections import defaultdict\n",
        "from matplotlib import pyplot as plt\n",
        "import seaborn as sns\n",
        "\n",
        "from IPython.display import HTML, display\n",
        "from sklearn.metrics import accuracy_score, precision_score, recall_score, confusion_matrix\n",
        "from sklearn.model_selection import train_test_split\n",
        "\n",
        "from sklearn_pandas import DataFrameMapper\n",
        "from sklearn.preprocessing import OneHotEncoder, MinMaxScaler\n",
        "from sklearn.linear_model import LogisticRegression\n",
        "from sklearn.pipeline import Pipeline\n",
        "from sklearn import metrics\n",
        "from sklearn.tree import DecisionTreeClassifier\n",
        "from sklearn.preprocessing import LabelBinarizer\n",
        "from sklearn.ensemble import RandomForestClassifier\n",
        "import graphviz  \n",
        "from sklearn.tree import export_graphviz"
      ],
      "id": "pUVDCuOwxmbI",
      "execution_count": null,
      "outputs": []
    },
    {
      "cell_type": "code",
      "metadata": {
        "id": "892ZgHMd4QQK",
        "colab": {
          "base_uri": "https://localhost:8080/"
        },
        "outputId": "64e8e7f8-b291-4a9c-b22b-681eefb5d18b"
      },
      "source": [
        "dataset = pd.read_csv('weatherAUS.csv')\n",
        "dataset.shape"
      ],
      "id": "892ZgHMd4QQK",
      "execution_count": null,
      "outputs": [
        {
          "output_type": "execute_result",
          "data": {
            "text/plain": [
              "(145460, 23)"
            ]
          },
          "metadata": {
            "tags": []
          },
          "execution_count": 3
        }
      ]
    },
    {
      "cell_type": "code",
      "metadata": {
        "id": "mvPZCbiV4tRd"
      },
      "source": [
        "# eliminación de filas con valores nulos\n",
        "dataset = dataset.dropna(how='any',axis=0)\n",
        "# convertir columna Date a tipo datetime\n",
        "dataset['Date'] = pd.to_datetime(dataset['Date'])"
      ],
      "id": "mvPZCbiV4tRd",
      "execution_count": null,
      "outputs": []
    },
    {
      "cell_type": "markdown",
      "metadata": {
        "id": "nBzTOvOv5j6E"
      },
      "source": [
        "**ELECCIÓN DE MÉTRICA**\n",
        "\n",
        "Decidimos utilizar **Accuracy** como métrica para evaluar los modelos ya que predecir si va a llover o no al día siguiente no es algo crítico. Además queremos saber en qué porcentaje de casos, el modelo que entrenamos acertó, para lo cual esta métrica resulta adecuada para interpretarlo."
      ],
      "id": "nBzTOvOv5j6E"
    },
    {
      "cell_type": "markdown",
      "metadata": {
        "id": "2gH4NojT75ST"
      },
      "source": [
        "# **FEATURE ENGINEERING**\n"
      ],
      "id": "2gH4NojT75ST"
    },
    {
      "cell_type": "markdown",
      "metadata": {
        "id": "Qh6R-hFwjZKi"
      },
      "source": [
        "**Agregado de columna \"Season\"**"
      ],
      "id": "Qh6R-hFwjZKi"
    },
    {
      "cell_type": "code",
      "metadata": {
        "id": "QfM29s7f6RZm",
        "colab": {
          "base_uri": "https://localhost:8080/",
          "height": 207
        },
        "outputId": "ea06644a-70fe-48e1-eca0-2e3815a0ae6e"
      },
      "source": [
        "# agregar columna \"Season\" (estación)\n",
        "conditions_seasons = [\n",
        "        (dataset['Date'].dt.month.isin([1, 2, 3])), # summer\n",
        "        (dataset['Date'].dt.month.isin([4, 5, 6])), # autumn\n",
        "        (dataset['Date'].dt.month.isin([7, 8, 9])), # winter\n",
        "        (dataset['Date'].dt.month.isin([10, 11, 12])) # spring\n",
        "]\n",
        "\n",
        "seasons = ['summer', 'autumn', 'winter', 'spring']\n",
        "\n",
        "# nueva columna Season\n",
        "dataset['Season'] = np.select(conditions_seasons, seasons)\n",
        "\n",
        "# cambiar season donde corresponda\n",
        "dataset.Season.mask((dataset['Date'].dt.month == 12) & (dataset['Date'].dt.day > 20), 'summer', inplace=True)\n",
        "dataset.Season.mask((dataset['Date'].dt.month == 3) & (dataset['Date'].dt.day > 20), 'autumn', inplace=True)\n",
        "dataset.Season.mask((dataset['Date'].dt.month == 6) & (dataset['Date'].dt.day > 20), 'winter', inplace=True)\n",
        "dataset.Season.mask((dataset['Date'].dt.month == 9) & (dataset['Date'].dt.day > 20), 'spring', inplace=True)\n",
        "\n",
        "# Gráficos\n",
        "fig2 = plt.figure(constrained_layout=True, figsize = (30,30))\n",
        "spec2 = gridspec.GridSpec(ncols=6, nrows=7, figure=fig2)\n",
        "f2_ax1 = fig2.add_subplot(spec2[0, 0])\n",
        "f2_ax2 = fig2.add_subplot(spec2[0, 1])\n",
        "f2_ax3 = fig2.add_subplot(spec2[0, 2])\n",
        "f2_ax4 = fig2.add_subplot(spec2[0, 3])\n",
        "dataset[dataset.Season == 'summer'].RainTomorrow.value_counts().sort_index().plot.pie(autopct='%1.0f%%', ax=f2_ax1, title = 'summer',figsize=(15,15))\n",
        "dataset[dataset.Season == 'spring'].RainTomorrow.value_counts().sort_index().plot.pie(autopct='%1.0f%%', ax=f2_ax2,title = 'spring',figsize=(15,15))\n",
        "dataset[dataset.Season == 'autumn'].RainTomorrow.value_counts().sort_index().plot.pie(autopct='%1.0f%%', ax=f2_ax3,title = 'autumn',figsize=(15,15))\n",
        "dataset[dataset.Season == 'winter'].RainTomorrow.value_counts().sort_index().plot.pie(autopct='%1.0f%%', ax=f2_ax4,title = 'winter',figsize=(15,15))"
      ],
      "id": "QfM29s7f6RZm",
      "execution_count": null,
      "outputs": [
        {
          "output_type": "execute_result",
          "data": {
            "text/plain": [
              "<matplotlib.axes._subplots.AxesSubplot at 0x7fb027568c10>"
            ]
          },
          "metadata": {
            "tags": []
          },
          "execution_count": 5
        },
        {
          "output_type": "display_data",
          "data": {
            "image/png": "[encoded data removed]",
            "text/plain": [
              "<Figure size 1080x1080 with 42 Axes>"
            ]
          },
          "metadata": {
            "tags": [],
            "needs_background": "light"
          }
        }
      ]
    },
    {
      "cell_type": "markdown",
      "metadata": {
        "id": "x45YLxKSjj36"
      },
      "source": [
        "**Redondeo de valores numéricos**: sacamos precisión a los valores de columnas numéricas, redondeando a dos decimales."
      ],
      "id": "x45YLxKSjj36"
    },
    {
      "cell_type": "code",
      "metadata": {
        "id": "uRns_0JH6Ud8"
      },
      "source": [
        "tmp = dataset.select_dtypes(include=[np.number])\n",
        "dataset.loc[:, tmp.columns] = np.round(tmp, 2)"
      ],
      "id": "uRns_0JH6Ud8",
      "execution_count": null,
      "outputs": []
    },
    {
      "cell_type": "markdown",
      "metadata": {
        "id": "bztEij53jnsh"
      },
      "source": [
        "**División de columna \"Date\" en 3 nuevas columnas: Día, Mes y Año**"
      ],
      "id": "bztEij53jnsh"
    },
    {
      "cell_type": "code",
      "metadata": {
        "colab": {
          "base_uri": "https://localhost:8080/",
          "height": 359
        },
        "id": "1IIxOxei3Vet",
        "outputId": "655f506c-7b14-433d-9659-1a8a94e31ca9"
      },
      "source": [
        "# agregar columnas año, mes y día\n",
        "dataset['Year'] = dataset['Date'].dt.year\n",
        "dataset['Month'] = dataset['Date'].dt.month\n",
        "dataset['Day'] = dataset['Date'].dt.day\n",
        "\n",
        "dataset[['Date', 'Year', 'Month', 'Day']].sample(10)"
      ],
      "id": "1IIxOxei3Vet",
      "execution_count": null,
      "outputs": [
        {
          "output_type": "execute_result",
          "data": {
            "text/html": [
              "<div>\n",
              "<style scoped>\n",
              "    .dataframe tbody tr th:only-of-type {\n",
              "        vertical-align: middle;\n",
              "    }\n",
              "\n",
              "    .dataframe tbody tr th {\n",
              "        vertical-align: top;\n",
              "    }\n",
              "\n",
              "    .dataframe thead th {\n",
              "        text-align: right;\n",
              "    }\n",
              "</style>\n",
              "<table border=\"1\" class=\"dataframe\">\n",
              "  <thead>\n",
              "    <tr style=\"text-align: right;\">\n",
              "      <th></th>\n",
              "      <th>Date</th>\n",
              "      <th>Year</th>\n",
              "      <th>Month</th>\n",
              "      <th>Day</th>\n",
              "    </tr>\n",
              "  </thead>\n",
              "  <tbody>\n",
              "    <tr>\n",
              "      <th>64942</th>\n",
              "      <td>2011-01-22</td>\n",
              "      <td>2011</td>\n",
              "      <td>1</td>\n",
              "      <td>22</td>\n",
              "    </tr>\n",
              "    <tr>\n",
              "      <th>70685</th>\n",
              "      <td>2009-10-20</td>\n",
              "      <td>2009</td>\n",
              "      <td>10</td>\n",
              "      <td>20</td>\n",
              "    </tr>\n",
              "    <tr>\n",
              "      <th>31962</th>\n",
              "      <td>2013-03-21</td>\n",
              "      <td>2013</td>\n",
              "      <td>3</td>\n",
              "      <td>21</td>\n",
              "    </tr>\n",
              "    <tr>\n",
              "      <th>79374</th>\n",
              "      <td>2012-11-16</td>\n",
              "      <td>2012</td>\n",
              "      <td>11</td>\n",
              "      <td>16</td>\n",
              "    </tr>\n",
              "    <tr>\n",
              "      <th>12830</th>\n",
              "      <td>2011-02-03</td>\n",
              "      <td>2011</td>\n",
              "      <td>2</td>\n",
              "      <td>3</td>\n",
              "    </tr>\n",
              "    <tr>\n",
              "      <th>95781</th>\n",
              "      <td>2016-01-04</td>\n",
              "      <td>2016</td>\n",
              "      <td>1</td>\n",
              "      <td>4</td>\n",
              "    </tr>\n",
              "    <tr>\n",
              "      <th>105582</th>\n",
              "      <td>2009-01-21</td>\n",
              "      <td>2009</td>\n",
              "      <td>1</td>\n",
              "      <td>21</td>\n",
              "    </tr>\n",
              "    <tr>\n",
              "      <th>93918</th>\n",
              "      <td>2010-08-31</td>\n",
              "      <td>2010</td>\n",
              "      <td>8</td>\n",
              "      <td>31</td>\n",
              "    </tr>\n",
              "    <tr>\n",
              "      <th>71569</th>\n",
              "      <td>2012-04-21</td>\n",
              "      <td>2012</td>\n",
              "      <td>4</td>\n",
              "      <td>21</td>\n",
              "    </tr>\n",
              "    <tr>\n",
              "      <th>104153</th>\n",
              "      <td>2013-08-17</td>\n",
              "      <td>2013</td>\n",
              "      <td>8</td>\n",
              "      <td>17</td>\n",
              "    </tr>\n",
              "  </tbody>\n",
              "</table>\n",
              "</div>"
            ],
            "text/plain": [
              "             Date  Year  Month  Day\n",
              "64942  2011-01-22  2011      1   22\n",
              "70685  2009-10-20  2009     10   20\n",
              "31962  2013-03-21  2013      3   21\n",
              "79374  2012-11-16  2012     11   16\n",
              "12830  2011-02-03  2011      2    3\n",
              "95781  2016-01-04  2016      1    4\n",
              "105582 2009-01-21  2009      1   21\n",
              "93918  2010-08-31  2010      8   31\n",
              "71569  2012-04-21  2012      4   21\n",
              "104153 2013-08-17  2013      8   17"
            ]
          },
          "metadata": {
            "tags": []
          },
          "execution_count": 7
        }
      ]
    },
    {
      "cell_type": "markdown",
      "metadata": {
        "id": "OPMMSByJjyPo"
      },
      "source": [
        "**Agregado de columna \"Region\"**"
      ],
      "id": "OPMMSByJjyPo"
    },
    {
      "cell_type": "code",
      "metadata": {
        "colab": {
          "base_uri": "https://localhost:8080/",
          "height": 371
        },
        "id": "e9K1d3_5LrLH",
        "outputId": "9d6a0ad5-7a48-4539-8d41-564cb11412f4"
      },
      "source": [
        "conditions_regions = [\n",
        "        (dataset['Location'].isin(['Perth', 'PerthAirport'])), # western\n",
        "        (dataset['Location'].isin(['AliceSprings', 'Darwin'])), # northen\n",
        "        (dataset['Location'].isin(['Woomera', 'Nuriootpa', 'MountGambier'])), # south\n",
        "        (dataset['Location'].isin(['Mildura','Sale','WaggaWagga','Canberra','Sydney','SydneyAirport','Portland','Williamtown','CoffsHarbour','Moree','Cobar'])), # newsouth\n",
        "        (dataset['Location'].isin(['Cairns', 'Townsville', 'Brisbane'])), # queensland\n",
        "        (dataset['Location'].isin(['Watsonia','Melbourne','MelbourneAirport'])), # victoria\n",
        "        (dataset['Location'].isin(['Hobart'])), # tasmania\n",
        "        (dataset['Location'].isin(['NorfolkIsland'])) #norfolk\n",
        "]\n",
        "\n",
        "regions = ['western', 'northen', 'south', 'newsouth', 'queensland', 'victoria', 'tasmania', 'norfolk']\n",
        "\n",
        "# nueva columna Region\n",
        "dataset['Region'] = np.select(conditions_regions, regions)\n",
        "\n",
        "#estos gráficos no hacen falta, los hice para ver qué onda nomás\n",
        "fig2 = plt.figure(constrained_layout=True, figsize = (30,30))\n",
        "spec2 = gridspec.GridSpec(ncols=6, nrows=7, figure=fig2)\n",
        "f2_ax1 = fig2.add_subplot(spec2[0, 0])\n",
        "f2_ax2 = fig2.add_subplot(spec2[0, 1])\n",
        "f2_ax3 = fig2.add_subplot(spec2[0, 2])\n",
        "f2_ax4 = fig2.add_subplot(spec2[0, 3])\n",
        "f2_ax5 = fig2.add_subplot(spec2[1, 0])\n",
        "f2_ax6 = fig2.add_subplot(spec2[1, 1])\n",
        "f2_ax7 = fig2.add_subplot(spec2[1, 2])\n",
        "f2_ax8 = fig2.add_subplot(spec2[1, 3])\n",
        "dataset[dataset.Region == 'western'].RainTomorrow.value_counts().sort_index().plot.pie(autopct='%1.0f%%', ax=f2_ax1, title = 'western',figsize=(15,15))\n",
        "dataset[dataset.Region == 'northen'].RainTomorrow.value_counts().sort_index().plot.pie(autopct='%1.0f%%', ax=f2_ax2,title = 'northen',figsize=(15,15))\n",
        "dataset[dataset.Region == 'south'].RainTomorrow.value_counts().sort_index().plot.pie(autopct='%1.0f%%', ax=f2_ax3,title = 'south',figsize=(15,15))\n",
        "dataset[dataset.Region == 'newsouth'].RainTomorrow.value_counts().sort_index().plot.pie(autopct='%1.0f%%', ax=f2_ax4,title = 'newsouth',figsize=(15,15))\n",
        "dataset[dataset.Region == 'queensland'].RainTomorrow.value_counts().sort_index().plot.pie(autopct='%1.0f%%', ax=f2_ax5,title = 'queensland',figsize=(15,15))\n",
        "dataset[dataset.Region == 'victoria'].RainTomorrow.value_counts().sort_index().plot.pie(autopct='%1.0f%%', ax=f2_ax6,title = 'victoria',figsize=(15,15))\n",
        "dataset[dataset.Region == 'tasmania'].RainTomorrow.value_counts().sort_index().plot.pie(autopct='%1.0f%%', ax=f2_ax7,title = 'tasmania',figsize=(15,15))\n",
        "dataset[dataset.Region == 'norfolk'].RainTomorrow.value_counts().sort_index().plot.pie(autopct='%1.0f%%', ax=f2_ax8,title = 'norfolk',figsize=(15,15))"
      ],
      "id": "e9K1d3_5LrLH",
      "execution_count": null,
      "outputs": [
        {
          "output_type": "execute_result",
          "data": {
            "text/plain": [
              "<matplotlib.axes._subplots.AxesSubplot at 0x7fb01d8638d0>"
            ]
          },
          "metadata": {
            "tags": []
          },
          "execution_count": 8
        },
        {
          "output_type": "display_data",
          "data": {
            "image/png": "[encoded data removed]",
            "text/plain": [
              "<Figure size 1080x1080 with 42 Axes>"
            ]
          },
          "metadata": {
            "tags": [],
            "needs_background": "light"
          }
        }
      ]
    },
    {
      "cell_type": "markdown",
      "metadata": {
        "id": "GZH9otRhj69w"
      },
      "source": [
        "**Unificación de valores en columnas \"WindGustDir\", \"WindGustDir9am\" y \"WindGustDir3pm\"**"
      ],
      "id": "GZH9otRhj69w"
    },
    {
      "cell_type": "code",
      "metadata": {
        "id": "Fe4ZTBNqkl0M",
        "colab": {
          "base_uri": "https://localhost:8080/"
        },
        "outputId": "ed3df9f3-7652-4d7a-80c0-cbf76dd53692"
      },
      "source": [
        "# Unificar valores columnas WindGustDir WindGustDir9am WindGustDir3pm\n",
        "\n",
        "def conditions_dirs(column_name):\n",
        "  conditions_dirs = [\n",
        "        (dataset[column_name].isin(['N'])), # N\n",
        "        (dataset[column_name].isin(['S'])), # S\n",
        "        (dataset[column_name].isin(['E'])), # E\n",
        "        (dataset[column_name].isin(['W'])), # W\n",
        "        (dataset[column_name].isin(['NE', 'NNE', 'ENE'])), # NE\n",
        "        (dataset[column_name].isin(['NW', 'WNW', 'NNW'])), # NW\n",
        "        (dataset[column_name].isin(['SE', 'ESE', 'SSE'])), # SE\n",
        "        (dataset[column_name].isin(['SW', 'SSW', 'WSW'])) # SW\n",
        "    ]\n",
        "  return conditions_dirs\n",
        "\n",
        "dirs = ['N', 'S', 'E', 'W', 'NE', 'NW', 'SE', 'SW']\n",
        "\n",
        "# nueva columna WindGustDir\n",
        "dataset['WindGustDir'] = np.select(conditions_dirs('WindGustDir'), dirs)\n",
        "dataset['WindDir9am'] = np.select(conditions_dirs('WindDir9am'), dirs)\n",
        "dataset['WindDir3pm'] = np.select(conditions_dirs('WindDir3pm'), dirs)\n",
        "\n",
        "dataset['WindGustDir'].unique()\n",
        "dataset['WindDir9am'].unique()\n",
        "dataset['WindDir3pm'].unique()"
      ],
      "id": "Fe4ZTBNqkl0M",
      "execution_count": null,
      "outputs": [
        {
          "output_type": "execute_result",
          "data": {
            "text/plain": [
              "array(['SW', 'SE', 'NW', 'S', 'NE', 'N', 'E', 'W'], dtype=object)"
            ]
          },
          "metadata": {
            "tags": []
          },
          "execution_count": 9
        }
      ]
    },
    {
      "cell_type": "code",
      "metadata": {
        "id": "iece7iOMsjYh",
        "colab": {
          "base_uri": "https://localhost:8080/",
          "height": 309
        },
        "outputId": "6d576223-13de-4fbc-ab87-79b645687440"
      },
      "source": [
        "dataset.sample(5)"
      ],
      "id": "iece7iOMsjYh",
      "execution_count": null,
      "outputs": [
        {
          "output_type": "execute_result",
          "data": {
            "text/html": [
              "<div>\n",
              "<style scoped>\n",
              "    .dataframe tbody tr th:only-of-type {\n",
              "        vertical-align: middle;\n",
              "    }\n",
              "\n",
              "    .dataframe tbody tr th {\n",
              "        vertical-align: top;\n",
              "    }\n",
              "\n",
              "    .dataframe thead th {\n",
              "        text-align: right;\n",
              "    }\n",
              "</style>\n",
              "<table border=\"1\" class=\"dataframe\">\n",
              "  <thead>\n",
              "    <tr style=\"text-align: right;\">\n",
              "      <th></th>\n",
              "      <th>Date</th>\n",
              "      <th>Location</th>\n",
              "      <th>MinTemp</th>\n",
              "      <th>MaxTemp</th>\n",
              "      <th>Rainfall</th>\n",
              "      <th>Evaporation</th>\n",
              "      <th>Sunshine</th>\n",
              "      <th>WindGustDir</th>\n",
              "      <th>WindGustSpeed</th>\n",
              "      <th>WindDir9am</th>\n",
              "      <th>WindDir3pm</th>\n",
              "      <th>WindSpeed9am</th>\n",
              "      <th>WindSpeed3pm</th>\n",
              "      <th>Humidity9am</th>\n",
              "      <th>Humidity3pm</th>\n",
              "      <th>Pressure9am</th>\n",
              "      <th>Pressure3pm</th>\n",
              "      <th>Cloud9am</th>\n",
              "      <th>Cloud3pm</th>\n",
              "      <th>Temp9am</th>\n",
              "      <th>Temp3pm</th>\n",
              "      <th>RainToday</th>\n",
              "      <th>RainTomorrow</th>\n",
              "      <th>Season</th>\n",
              "      <th>Year</th>\n",
              "      <th>Month</th>\n",
              "      <th>Day</th>\n",
              "      <th>Region</th>\n",
              "    </tr>\n",
              "  </thead>\n",
              "  <tbody>\n",
              "    <tr>\n",
              "      <th>36714</th>\n",
              "      <td>2009-07-05</td>\n",
              "      <td>WaggaWagga</td>\n",
              "      <td>4.0</td>\n",
              "      <td>11.7</td>\n",
              "      <td>0.0</td>\n",
              "      <td>1.0</td>\n",
              "      <td>9.3</td>\n",
              "      <td>SW</td>\n",
              "      <td>33.0</td>\n",
              "      <td>NW</td>\n",
              "      <td>SW</td>\n",
              "      <td>7.0</td>\n",
              "      <td>20.0</td>\n",
              "      <td>76.0</td>\n",
              "      <td>61.0</td>\n",
              "      <td>1019.9</td>\n",
              "      <td>1019.3</td>\n",
              "      <td>1.0</td>\n",
              "      <td>2.0</td>\n",
              "      <td>7.7</td>\n",
              "      <td>11.7</td>\n",
              "      <td>No</td>\n",
              "      <td>No</td>\n",
              "      <td>winter</td>\n",
              "      <td>2009</td>\n",
              "      <td>7</td>\n",
              "      <td>5</td>\n",
              "      <td>newsouth</td>\n",
              "    </tr>\n",
              "    <tr>\n",
              "      <th>107525</th>\n",
              "      <td>2014-08-15</td>\n",
              "      <td>Woomera</td>\n",
              "      <td>7.2</td>\n",
              "      <td>17.5</td>\n",
              "      <td>0.6</td>\n",
              "      <td>2.4</td>\n",
              "      <td>4.4</td>\n",
              "      <td>SE</td>\n",
              "      <td>41.0</td>\n",
              "      <td>SE</td>\n",
              "      <td>SE</td>\n",
              "      <td>26.0</td>\n",
              "      <td>24.0</td>\n",
              "      <td>75.0</td>\n",
              "      <td>54.0</td>\n",
              "      <td>1022.4</td>\n",
              "      <td>1019.0</td>\n",
              "      <td>2.0</td>\n",
              "      <td>8.0</td>\n",
              "      <td>10.5</td>\n",
              "      <td>16.0</td>\n",
              "      <td>No</td>\n",
              "      <td>No</td>\n",
              "      <td>winter</td>\n",
              "      <td>2014</td>\n",
              "      <td>8</td>\n",
              "      <td>15</td>\n",
              "      <td>south</td>\n",
              "    </tr>\n",
              "    <tr>\n",
              "      <th>70930</th>\n",
              "      <td>2010-06-22</td>\n",
              "      <td>Mildura</td>\n",
              "      <td>7.9</td>\n",
              "      <td>15.8</td>\n",
              "      <td>0.0</td>\n",
              "      <td>1.0</td>\n",
              "      <td>3.3</td>\n",
              "      <td>SE</td>\n",
              "      <td>24.0</td>\n",
              "      <td>NE</td>\n",
              "      <td>SE</td>\n",
              "      <td>9.0</td>\n",
              "      <td>15.0</td>\n",
              "      <td>84.0</td>\n",
              "      <td>48.0</td>\n",
              "      <td>1035.8</td>\n",
              "      <td>1033.1</td>\n",
              "      <td>7.0</td>\n",
              "      <td>7.0</td>\n",
              "      <td>9.9</td>\n",
              "      <td>15.4</td>\n",
              "      <td>No</td>\n",
              "      <td>No</td>\n",
              "      <td>winter</td>\n",
              "      <td>2010</td>\n",
              "      <td>6</td>\n",
              "      <td>22</td>\n",
              "      <td>newsouth</td>\n",
              "    </tr>\n",
              "    <tr>\n",
              "      <th>71275</th>\n",
              "      <td>2011-07-02</td>\n",
              "      <td>Mildura</td>\n",
              "      <td>7.2</td>\n",
              "      <td>20.9</td>\n",
              "      <td>0.0</td>\n",
              "      <td>4.0</td>\n",
              "      <td>3.5</td>\n",
              "      <td>NE</td>\n",
              "      <td>54.0</td>\n",
              "      <td>NE</td>\n",
              "      <td>N</td>\n",
              "      <td>24.0</td>\n",
              "      <td>31.0</td>\n",
              "      <td>62.0</td>\n",
              "      <td>33.0</td>\n",
              "      <td>1020.0</td>\n",
              "      <td>1014.8</td>\n",
              "      <td>5.0</td>\n",
              "      <td>7.0</td>\n",
              "      <td>11.3</td>\n",
              "      <td>20.3</td>\n",
              "      <td>No</td>\n",
              "      <td>Yes</td>\n",
              "      <td>winter</td>\n",
              "      <td>2011</td>\n",
              "      <td>7</td>\n",
              "      <td>2</td>\n",
              "      <td>newsouth</td>\n",
              "    </tr>\n",
              "    <tr>\n",
              "      <th>33355</th>\n",
              "      <td>2017-01-12</td>\n",
              "      <td>Sydney</td>\n",
              "      <td>22.3</td>\n",
              "      <td>28.4</td>\n",
              "      <td>0.0</td>\n",
              "      <td>9.4</td>\n",
              "      <td>7.2</td>\n",
              "      <td>E</td>\n",
              "      <td>31.0</td>\n",
              "      <td>SE</td>\n",
              "      <td>E</td>\n",
              "      <td>7.0</td>\n",
              "      <td>20.0</td>\n",
              "      <td>68.0</td>\n",
              "      <td>52.0</td>\n",
              "      <td>1012.4</td>\n",
              "      <td>1010.7</td>\n",
              "      <td>7.0</td>\n",
              "      <td>2.0</td>\n",
              "      <td>24.7</td>\n",
              "      <td>26.8</td>\n",
              "      <td>No</td>\n",
              "      <td>No</td>\n",
              "      <td>summer</td>\n",
              "      <td>2017</td>\n",
              "      <td>1</td>\n",
              "      <td>12</td>\n",
              "      <td>newsouth</td>\n",
              "    </tr>\n",
              "  </tbody>\n",
              "</table>\n",
              "</div>"
            ],
            "text/plain": [
              "             Date    Location  MinTemp  MaxTemp  ...  Year  Month  Day    Region\n",
              "36714  2009-07-05  WaggaWagga      4.0     11.7  ...  2009      7    5  newsouth\n",
              "107525 2014-08-15     Woomera      7.2     17.5  ...  2014      8   15     south\n",
              "70930  2010-06-22     Mildura      7.9     15.8  ...  2010      6   22  newsouth\n",
              "71275  2011-07-02     Mildura      7.2     20.9  ...  2011      7    2  newsouth\n",
              "33355  2017-01-12      Sydney     22.3     28.4  ...  2017      1   12  newsouth\n",
              "\n",
              "[5 rows x 28 columns]"
            ]
          },
          "metadata": {
            "tags": []
          },
          "execution_count": 10
        }
      ]
    },
    {
      "cell_type": "code",
      "metadata": {
        "id": "pTCWyAX6a1UJ"
      },
      "source": [
        "# eliminar columna Date y Location\n",
        "dataset = dataset.drop(['Date'], axis=1)\n",
        "dataset = dataset.drop(['Location'], axis=1)"
      ],
      "id": "pTCWyAX6a1UJ",
      "execution_count": null,
      "outputs": []
    },
    {
      "cell_type": "markdown",
      "metadata": {
        "id": "kx9hif93kMKz"
      },
      "source": [
        "#**ALGORITMOS**"
      ],
      "id": "kx9hif93kMKz"
    },
    {
      "cell_type": "markdown",
      "metadata": {
        "id": "xcRqZ7Lhwnkt"
      },
      "source": [
        "Algoritmos a evaluar:\n",
        "\n",
        "- Regresión logística\n",
        "- Árboles de decisión \n",
        "- Random Forest\n",
        "- Gradient Boosting "
      ],
      "id": "xcRqZ7Lhwnkt"
    },
    {
      "cell_type": "markdown",
      "metadata": {
        "id": "kMtfCEGEzS11"
      },
      "source": [
        "**CONJUNTO DE DATOS (60% train, 20% test, 20% validation)**"
      ],
      "id": "kMtfCEGEzS11"
    },
    {
      "cell_type": "code",
      "metadata": {
        "id": "N-vcN9lIh0K9"
      },
      "source": [
        "dataset['RainToday'] = dataset['RainToday'].map({\"No\":0, \"Yes\":1})\n",
        "dataset['RainTomorrow'] = dataset['RainTomorrow'].map({\"No\":0, \"Yes\":1})"
      ],
      "id": "N-vcN9lIh0K9",
      "execution_count": null,
      "outputs": []
    },
    {
      "cell_type": "code",
      "metadata": {
        "id": "mVWELDoM1HIS",
        "colab": {
          "base_uri": "https://localhost:8080/"
        },
        "outputId": "f4a40548-46ff-4626-9567-9d2b8e8cd92f"
      },
      "source": [
        "# 60% train, 20% test, 20% validation\n",
        "train, not_train = train_test_split(dataset, test_size=0.4, random_state=40)\n",
        "validation, test = train_test_split(not_train, test_size=0.5, random_state=40)\n",
        "\n",
        "train.shape, validation.shape, test.shape"
      ],
      "id": "mVWELDoM1HIS",
      "execution_count": null,
      "outputs": [
        {
          "output_type": "execute_result",
          "data": {
            "text/plain": [
              "((33852, 26), (11284, 26), (11284, 26))"
            ]
          },
          "metadata": {
            "tags": []
          },
          "execution_count": 13
        }
      ]
    },
    {
      "cell_type": "code",
      "metadata": {
        "id": "NahkrcgGjERv",
        "colab": {
          "base_uri": "https://localhost:8080/",
          "height": 224
        },
        "outputId": "cd8763b1-589e-4912-b962-d974b9591e96"
      },
      "source": [
        "dataset.sample(5)"
      ],
      "id": "NahkrcgGjERv",
      "execution_count": null,
      "outputs": [
        {
          "output_type": "execute_result",
          "data": {
            "text/html": [
              "<div>\n",
              "<style scoped>\n",
              "    .dataframe tbody tr th:only-of-type {\n",
              "        vertical-align: middle;\n",
              "    }\n",
              "\n",
              "    .dataframe tbody tr th {\n",
              "        vertical-align: top;\n",
              "    }\n",
              "\n",
              "    .dataframe thead th {\n",
              "        text-align: right;\n",
              "    }\n",
              "</style>\n",
              "<table border=\"1\" class=\"dataframe\">\n",
              "  <thead>\n",
              "    <tr style=\"text-align: right;\">\n",
              "      <th></th>\n",
              "      <th>MinTemp</th>\n",
              "      <th>MaxTemp</th>\n",
              "      <th>Rainfall</th>\n",
              "      <th>Evaporation</th>\n",
              "      <th>Sunshine</th>\n",
              "      <th>WindGustDir</th>\n",
              "      <th>WindGustSpeed</th>\n",
              "      <th>WindDir9am</th>\n",
              "      <th>WindDir3pm</th>\n",
              "      <th>WindSpeed9am</th>\n",
              "      <th>WindSpeed3pm</th>\n",
              "      <th>Humidity9am</th>\n",
              "      <th>Humidity3pm</th>\n",
              "      <th>Pressure9am</th>\n",
              "      <th>Pressure3pm</th>\n",
              "      <th>Cloud9am</th>\n",
              "      <th>Cloud3pm</th>\n",
              "      <th>Temp9am</th>\n",
              "      <th>Temp3pm</th>\n",
              "      <th>RainToday</th>\n",
              "      <th>RainTomorrow</th>\n",
              "      <th>Season</th>\n",
              "      <th>Year</th>\n",
              "      <th>Month</th>\n",
              "      <th>Day</th>\n",
              "      <th>Region</th>\n",
              "    </tr>\n",
              "  </thead>\n",
              "  <tbody>\n",
              "    <tr>\n",
              "      <th>139945</th>\n",
              "      <td>22.5</td>\n",
              "      <td>31.7</td>\n",
              "      <td>8.0</td>\n",
              "      <td>3.8</td>\n",
              "      <td>4.3</td>\n",
              "      <td>NW</td>\n",
              "      <td>46.0</td>\n",
              "      <td>SE</td>\n",
              "      <td>NW</td>\n",
              "      <td>13.0</td>\n",
              "      <td>20.0</td>\n",
              "      <td>83.0</td>\n",
              "      <td>70.0</td>\n",
              "      <td>1012.0</td>\n",
              "      <td>1008.3</td>\n",
              "      <td>7.0</td>\n",
              "      <td>7.0</td>\n",
              "      <td>26.6</td>\n",
              "      <td>28.6</td>\n",
              "      <td>1</td>\n",
              "      <td>0</td>\n",
              "      <td>spring</td>\n",
              "      <td>2010</td>\n",
              "      <td>10</td>\n",
              "      <td>13</td>\n",
              "      <td>northen</td>\n",
              "    </tr>\n",
              "    <tr>\n",
              "      <th>86056</th>\n",
              "      <td>14.7</td>\n",
              "      <td>24.7</td>\n",
              "      <td>0.0</td>\n",
              "      <td>4.0</td>\n",
              "      <td>8.9</td>\n",
              "      <td>SE</td>\n",
              "      <td>28.0</td>\n",
              "      <td>SW</td>\n",
              "      <td>SE</td>\n",
              "      <td>9.0</td>\n",
              "      <td>13.0</td>\n",
              "      <td>63.0</td>\n",
              "      <td>47.0</td>\n",
              "      <td>1024.3</td>\n",
              "      <td>1021.1</td>\n",
              "      <td>2.0</td>\n",
              "      <td>7.0</td>\n",
              "      <td>19.9</td>\n",
              "      <td>23.4</td>\n",
              "      <td>0</td>\n",
              "      <td>0</td>\n",
              "      <td>autumn</td>\n",
              "      <td>2014</td>\n",
              "      <td>5</td>\n",
              "      <td>9</td>\n",
              "      <td>queensland</td>\n",
              "    </tr>\n",
              "    <tr>\n",
              "      <th>85165</th>\n",
              "      <td>12.4</td>\n",
              "      <td>22.5</td>\n",
              "      <td>0.0</td>\n",
              "      <td>9.4</td>\n",
              "      <td>11.5</td>\n",
              "      <td>W</td>\n",
              "      <td>48.0</td>\n",
              "      <td>SW</td>\n",
              "      <td>SW</td>\n",
              "      <td>15.0</td>\n",
              "      <td>20.0</td>\n",
              "      <td>40.0</td>\n",
              "      <td>30.0</td>\n",
              "      <td>1010.5</td>\n",
              "      <td>1009.0</td>\n",
              "      <td>1.0</td>\n",
              "      <td>5.0</td>\n",
              "      <td>17.9</td>\n",
              "      <td>20.8</td>\n",
              "      <td>0</td>\n",
              "      <td>0</td>\n",
              "      <td>spring</td>\n",
              "      <td>2011</td>\n",
              "      <td>10</td>\n",
              "      <td>2</td>\n",
              "      <td>queensland</td>\n",
              "    </tr>\n",
              "    <tr>\n",
              "      <th>67072</th>\n",
              "      <td>9.9</td>\n",
              "      <td>19.3</td>\n",
              "      <td>0.0</td>\n",
              "      <td>8.4</td>\n",
              "      <td>7.6</td>\n",
              "      <td>W</td>\n",
              "      <td>48.0</td>\n",
              "      <td>SW</td>\n",
              "      <td>S</td>\n",
              "      <td>17.0</td>\n",
              "      <td>26.0</td>\n",
              "      <td>60.0</td>\n",
              "      <td>43.0</td>\n",
              "      <td>1011.0</td>\n",
              "      <td>1010.7</td>\n",
              "      <td>1.0</td>\n",
              "      <td>7.0</td>\n",
              "      <td>13.8</td>\n",
              "      <td>16.6</td>\n",
              "      <td>0</td>\n",
              "      <td>0</td>\n",
              "      <td>summer</td>\n",
              "      <td>2017</td>\n",
              "      <td>2</td>\n",
              "      <td>18</td>\n",
              "      <td>victoria</td>\n",
              "    </tr>\n",
              "    <tr>\n",
              "      <th>33138</th>\n",
              "      <td>13.8</td>\n",
              "      <td>22.0</td>\n",
              "      <td>0.2</td>\n",
              "      <td>4.8</td>\n",
              "      <td>6.0</td>\n",
              "      <td>NW</td>\n",
              "      <td>59.0</td>\n",
              "      <td>NW</td>\n",
              "      <td>NW</td>\n",
              "      <td>31.0</td>\n",
              "      <td>17.0</td>\n",
              "      <td>62.0</td>\n",
              "      <td>32.0</td>\n",
              "      <td>1006.8</td>\n",
              "      <td>1005.9</td>\n",
              "      <td>7.0</td>\n",
              "      <td>1.0</td>\n",
              "      <td>17.4</td>\n",
              "      <td>21.6</td>\n",
              "      <td>0</td>\n",
              "      <td>0</td>\n",
              "      <td>autumn</td>\n",
              "      <td>2016</td>\n",
              "      <td>6</td>\n",
              "      <td>9</td>\n",
              "      <td>newsouth</td>\n",
              "    </tr>\n",
              "  </tbody>\n",
              "</table>\n",
              "</div>"
            ],
            "text/plain": [
              "        MinTemp  MaxTemp  Rainfall  Evaporation  ...  Year Month  Day      Region\n",
              "139945     22.5     31.7       8.0          3.8  ...  2010    10   13     northen\n",
              "86056      14.7     24.7       0.0          4.0  ...  2014     5    9  queensland\n",
              "85165      12.4     22.5       0.0          9.4  ...  2011    10    2  queensland\n",
              "67072       9.9     19.3       0.0          8.4  ...  2017     2   18    victoria\n",
              "33138      13.8     22.0       0.2          4.8  ...  2016     6    9    newsouth\n",
              "\n",
              "[5 rows x 26 columns]"
            ]
          },
          "metadata": {
            "tags": []
          },
          "execution_count": 14
        }
      ]
    },
    {
      "cell_type": "markdown",
      "metadata": {
        "id": "ik35MIrPMMy3"
      },
      "source": [
        "**DATAFRAME MAPPER**"
      ],
      "id": "ik35MIrPMMy3"
    },
    {
      "cell_type": "code",
      "metadata": {
        "id": "arMXke7GMSsv",
        "colab": {
          "base_uri": "https://localhost:8080/",
          "height": 224
        },
        "outputId": "2b711e09-25bc-43ca-9e89-1b5350dab59d"
      },
      "source": [
        "mapper = DataFrameMapper([\n",
        "    (['MinTemp'], [MinMaxScaler()]),\n",
        "    (['MaxTemp'], [MinMaxScaler()]),\n",
        "    (['Rainfall'], [MinMaxScaler()]),\n",
        "    (['Evaporation'], [MinMaxScaler()]),\n",
        "    (['Sunshine'], [MinMaxScaler()]),\n",
        "    (['WindGustDir'], [OneHotEncoder()]),\n",
        "    (['WindDir9am'], [OneHotEncoder()]),\n",
        "    (['WindDir3pm'], [OneHotEncoder()]),\n",
        "    (['WindGustSpeed'], [MinMaxScaler()]),\n",
        "    (['WindSpeed9am'], [MinMaxScaler()]),\n",
        "    (['WindSpeed3pm'], [MinMaxScaler()]),\n",
        "    (['Humidity9am'], [MinMaxScaler()]),\n",
        "    (['Humidity3pm'], [MinMaxScaler()]),\n",
        "    (['Pressure9am'], [MinMaxScaler()]),\n",
        "    (['Pressure3pm'], [MinMaxScaler()]),\n",
        "    (['Cloud9am'], [MinMaxScaler()]),\n",
        "    (['Cloud3pm'], [MinMaxScaler()]),\n",
        "    (['Temp9am'], [MinMaxScaler()]),\n",
        "    (['Temp3pm'], [MinMaxScaler()]),\n",
        "    (['RainToday'], None),\n",
        "    (['Season'], [OneHotEncoder()]),\n",
        "    (['Year'], [MinMaxScaler()]),\n",
        "    (['Month'], [MinMaxScaler()]),\n",
        "    (['Day'], [MinMaxScaler()]),\n",
        "    (['Region'], [OneHotEncoder()]),\n",
        "])\n",
        "sample = train.sample(5, random_state=42)\n",
        "sample"
      ],
      "id": "arMXke7GMSsv",
      "execution_count": null,
      "outputs": [
        {
          "output_type": "execute_result",
          "data": {
            "text/html": [
              "<div>\n",
              "<style scoped>\n",
              "    .dataframe tbody tr th:only-of-type {\n",
              "        vertical-align: middle;\n",
              "    }\n",
              "\n",
              "    .dataframe tbody tr th {\n",
              "        vertical-align: top;\n",
              "    }\n",
              "\n",
              "    .dataframe thead th {\n",
              "        text-align: right;\n",
              "    }\n",
              "</style>\n",
              "<table border=\"1\" class=\"dataframe\">\n",
              "  <thead>\n",
              "    <tr style=\"text-align: right;\">\n",
              "      <th></th>\n",
              "      <th>MinTemp</th>\n",
              "      <th>MaxTemp</th>\n",
              "      <th>Rainfall</th>\n",
              "      <th>Evaporation</th>\n",
              "      <th>Sunshine</th>\n",
              "      <th>WindGustDir</th>\n",
              "      <th>WindGustSpeed</th>\n",
              "      <th>WindDir9am</th>\n",
              "      <th>WindDir3pm</th>\n",
              "      <th>WindSpeed9am</th>\n",
              "      <th>WindSpeed3pm</th>\n",
              "      <th>Humidity9am</th>\n",
              "      <th>Humidity3pm</th>\n",
              "      <th>Pressure9am</th>\n",
              "      <th>Pressure3pm</th>\n",
              "      <th>Cloud9am</th>\n",
              "      <th>Cloud3pm</th>\n",
              "      <th>Temp9am</th>\n",
              "      <th>Temp3pm</th>\n",
              "      <th>RainToday</th>\n",
              "      <th>RainTomorrow</th>\n",
              "      <th>Season</th>\n",
              "      <th>Year</th>\n",
              "      <th>Month</th>\n",
              "      <th>Day</th>\n",
              "      <th>Region</th>\n",
              "    </tr>\n",
              "  </thead>\n",
              "  <tbody>\n",
              "    <tr>\n",
              "      <th>32402</th>\n",
              "      <td>11.2</td>\n",
              "      <td>22.3</td>\n",
              "      <td>0.0</td>\n",
              "      <td>3.6</td>\n",
              "      <td>9.6</td>\n",
              "      <td>W</td>\n",
              "      <td>33.0</td>\n",
              "      <td>W</td>\n",
              "      <td>SE</td>\n",
              "      <td>24.0</td>\n",
              "      <td>13.0</td>\n",
              "      <td>69.0</td>\n",
              "      <td>53.0</td>\n",
              "      <td>1024.1</td>\n",
              "      <td>1022.9</td>\n",
              "      <td>1.0</td>\n",
              "      <td>3.0</td>\n",
              "      <td>13.6</td>\n",
              "      <td>22.0</td>\n",
              "      <td>0</td>\n",
              "      <td>1</td>\n",
              "      <td>autumn</td>\n",
              "      <td>2014</td>\n",
              "      <td>6</td>\n",
              "      <td>4</td>\n",
              "      <td>newsouth</td>\n",
              "    </tr>\n",
              "    <tr>\n",
              "      <th>119306</th>\n",
              "      <td>16.6</td>\n",
              "      <td>29.8</td>\n",
              "      <td>0.0</td>\n",
              "      <td>7.4</td>\n",
              "      <td>11.4</td>\n",
              "      <td>E</td>\n",
              "      <td>56.0</td>\n",
              "      <td>SE</td>\n",
              "      <td>SE</td>\n",
              "      <td>33.0</td>\n",
              "      <td>30.0</td>\n",
              "      <td>54.0</td>\n",
              "      <td>28.0</td>\n",
              "      <td>1021.2</td>\n",
              "      <td>1017.4</td>\n",
              "      <td>5.0</td>\n",
              "      <td>5.0</td>\n",
              "      <td>21.1</td>\n",
              "      <td>28.9</td>\n",
              "      <td>0</td>\n",
              "      <td>0</td>\n",
              "      <td>spring</td>\n",
              "      <td>2013</td>\n",
              "      <td>11</td>\n",
              "      <td>2</td>\n",
              "      <td>western</td>\n",
              "    </tr>\n",
              "    <tr>\n",
              "      <th>39910</th>\n",
              "      <td>20.7</td>\n",
              "      <td>27.0</td>\n",
              "      <td>0.0</td>\n",
              "      <td>6.6</td>\n",
              "      <td>8.1</td>\n",
              "      <td>SE</td>\n",
              "      <td>33.0</td>\n",
              "      <td>SE</td>\n",
              "      <td>SE</td>\n",
              "      <td>20.0</td>\n",
              "      <td>20.0</td>\n",
              "      <td>73.0</td>\n",
              "      <td>61.0</td>\n",
              "      <td>1020.6</td>\n",
              "      <td>1019.0</td>\n",
              "      <td>7.0</td>\n",
              "      <td>5.0</td>\n",
              "      <td>23.1</td>\n",
              "      <td>25.4</td>\n",
              "      <td>0</td>\n",
              "      <td>0</td>\n",
              "      <td>summer</td>\n",
              "      <td>2010</td>\n",
              "      <td>1</td>\n",
              "      <td>8</td>\n",
              "      <td>newsouth</td>\n",
              "    </tr>\n",
              "    <tr>\n",
              "      <th>138677</th>\n",
              "      <td>10.7</td>\n",
              "      <td>30.9</td>\n",
              "      <td>0.0</td>\n",
              "      <td>7.6</td>\n",
              "      <td>11.1</td>\n",
              "      <td>SW</td>\n",
              "      <td>35.0</td>\n",
              "      <td>NW</td>\n",
              "      <td>SE</td>\n",
              "      <td>6.0</td>\n",
              "      <td>13.0</td>\n",
              "      <td>34.0</td>\n",
              "      <td>12.0</td>\n",
              "      <td>1017.0</td>\n",
              "      <td>1012.2</td>\n",
              "      <td>3.0</td>\n",
              "      <td>1.0</td>\n",
              "      <td>20.7</td>\n",
              "      <td>30.1</td>\n",
              "      <td>0</td>\n",
              "      <td>0</td>\n",
              "      <td>autumn</td>\n",
              "      <td>2016</td>\n",
              "      <td>4</td>\n",
              "      <td>18</td>\n",
              "      <td>northen</td>\n",
              "    </tr>\n",
              "    <tr>\n",
              "      <th>120289</th>\n",
              "      <td>3.4</td>\n",
              "      <td>14.3</td>\n",
              "      <td>0.0</td>\n",
              "      <td>1.2</td>\n",
              "      <td>7.3</td>\n",
              "      <td>E</td>\n",
              "      <td>37.0</td>\n",
              "      <td>NE</td>\n",
              "      <td>NE</td>\n",
              "      <td>7.0</td>\n",
              "      <td>17.0</td>\n",
              "      <td>75.0</td>\n",
              "      <td>43.0</td>\n",
              "      <td>1030.7</td>\n",
              "      <td>1029.2</td>\n",
              "      <td>7.0</td>\n",
              "      <td>4.0</td>\n",
              "      <td>8.1</td>\n",
              "      <td>13.5</td>\n",
              "      <td>0</td>\n",
              "      <td>0</td>\n",
              "      <td>winter</td>\n",
              "      <td>2016</td>\n",
              "      <td>7</td>\n",
              "      <td>12</td>\n",
              "      <td>western</td>\n",
              "    </tr>\n",
              "  </tbody>\n",
              "</table>\n",
              "</div>"
            ],
            "text/plain": [
              "        MinTemp  MaxTemp  Rainfall  Evaporation  ...  Year Month  Day    Region\n",
              "32402      11.2     22.3       0.0          3.6  ...  2014     6    4  newsouth\n",
              "119306     16.6     29.8       0.0          7.4  ...  2013    11    2   western\n",
              "39910      20.7     27.0       0.0          6.6  ...  2010     1    8  newsouth\n",
              "138677     10.7     30.9       0.0          7.6  ...  2016     4   18   northen\n",
              "120289      3.4     14.3       0.0          1.2  ...  2016     7   12   western\n",
              "\n",
              "[5 rows x 26 columns]"
            ]
          },
          "metadata": {
            "tags": []
          },
          "execution_count": 15
        }
      ]
    },
    {
      "cell_type": "code",
      "metadata": {
        "id": "vyxp-c49y0Bm",
        "colab": {
          "base_uri": "https://localhost:8080/"
        },
        "outputId": "eaa923e0-a9f4-4546-8454-278982b94ab6"
      },
      "source": [
        "mapper.fit(train)\n",
        "# Sample transformado con el mapper completo\n",
        "mapper.transform(sample)"
      ],
      "id": "vyxp-c49y0Bm",
      "execution_count": null,
      "outputs": [
        {
          "output_type": "execute_result",
          "data": {
            "text/plain": [
              "array([[0.47091413, 0.4212963 , 0.        , 0.04433498, 0.66206897,\n",
              "        0.        , 0.        , 0.        , 0.        , 0.        ,\n",
              "        0.        , 0.        , 1.        , 0.        , 0.        ,\n",
              "        0.        , 0.        , 0.        , 0.        , 0.        ,\n",
              "        1.        , 0.        , 0.        , 0.        , 0.        ,\n",
              "        0.        , 1.        , 0.        , 0.        , 0.19469027,\n",
              "        0.33846154, 0.14864865, 0.68686869, 0.53      , 0.72909699,\n",
              "        0.73781513, 0.125     , 0.33333333, 0.35660848, 0.43160377,\n",
              "        0.        , 1.        , 0.        , 0.        , 0.        ,\n",
              "        0.7       , 0.45454545, 0.1       , 1.        , 0.        ,\n",
              "        0.        , 0.        , 0.        , 0.        , 0.        ,\n",
              "        0.        ],\n",
              "       [0.62049861, 0.59490741, 0.        , 0.091133  , 0.7862069 ,\n",
              "        1.        , 0.        , 0.        , 0.        , 0.        ,\n",
              "        0.        , 0.        , 0.        , 0.        , 0.        ,\n",
              "        0.        , 0.        , 0.        , 1.        , 0.        ,\n",
              "        0.        , 0.        , 0.        , 0.        , 0.        ,\n",
              "        0.        , 1.        , 0.        , 0.        , 0.39823009,\n",
              "        0.47692308, 0.37837838, 0.53535354, 0.28      , 0.68060201,\n",
              "        0.64537815, 0.625     , 0.55555556, 0.5436409 , 0.59433962,\n",
              "        0.        , 0.        , 1.        , 0.        , 0.        ,\n",
              "        0.6       , 0.90909091, 0.03333333, 0.        , 0.        ,\n",
              "        0.        , 0.        , 0.        , 0.        , 0.        ,\n",
              "        1.        ],\n",
              "       [0.73407202, 0.53009259, 0.        , 0.08128079, 0.55862069,\n",
              "        0.        , 0.        , 0.        , 0.        , 0.        ,\n",
              "        1.        , 0.        , 0.        , 0.        , 0.        ,\n",
              "        0.        , 0.        , 0.        , 1.        , 0.        ,\n",
              "        0.        , 0.        , 0.        , 0.        , 0.        ,\n",
              "        0.        , 1.        , 0.        , 0.        , 0.19469027,\n",
              "        0.27692308, 0.24324324, 0.72727273, 0.61      , 0.67056856,\n",
              "        0.67226891, 0.875     , 0.55555556, 0.59351621, 0.51179245,\n",
              "        0.        , 0.        , 0.        , 1.        , 0.        ,\n",
              "        0.3       , 0.        , 0.23333333, 1.        , 0.        ,\n",
              "        0.        , 0.        , 0.        , 0.        , 0.        ,\n",
              "        0.        ],\n",
              "       [0.45706371, 0.62037037, 0.        , 0.09359606, 0.76551724,\n",
              "        0.        , 0.        , 0.        , 0.        , 0.        ,\n",
              "        0.        , 1.        , 0.        , 0.        , 0.        ,\n",
              "        0.        , 1.        , 0.        , 0.        , 0.        ,\n",
              "        0.        , 0.        , 0.        , 0.        , 0.        ,\n",
              "        0.        , 1.        , 0.        , 0.        , 0.21238938,\n",
              "        0.06153846, 0.14864865, 0.33333333, 0.12      , 0.61036789,\n",
              "        0.55798319, 0.375     , 0.11111111, 0.53366584, 0.62264151,\n",
              "        0.        , 1.        , 0.        , 0.        , 0.        ,\n",
              "        0.9       , 0.27272727, 0.56666667, 0.        , 0.        ,\n",
              "        1.        , 0.        , 0.        , 0.        , 0.        ,\n",
              "        0.        ],\n",
              "       [0.25484765, 0.23611111, 0.        , 0.01477833, 0.50344828,\n",
              "        1.        , 0.        , 0.        , 0.        , 0.        ,\n",
              "        0.        , 0.        , 0.        , 0.        , 0.        ,\n",
              "        1.        , 0.        , 0.        , 0.        , 0.        ,\n",
              "        0.        , 0.        , 0.        , 1.        , 0.        ,\n",
              "        0.        , 0.        , 0.        , 0.        , 0.2300885 ,\n",
              "        0.07692308, 0.2027027 , 0.74747475, 0.43      , 0.83946488,\n",
              "        0.84369748, 0.875     , 0.44444444, 0.21945137, 0.23113208,\n",
              "        0.        , 0.        , 0.        , 0.        , 1.        ,\n",
              "        0.9       , 0.54545455, 0.36666667, 0.        , 0.        ,\n",
              "        0.        , 0.        , 0.        , 0.        , 0.        ,\n",
              "        1.        ]])"
            ]
          },
          "metadata": {
            "tags": []
          },
          "execution_count": 16
        }
      ]
    },
    {
      "cell_type": "markdown",
      "metadata": {
        "id": "MPRy8xAslBpI"
      },
      "source": [
        "**Función para evaluar modelos**"
      ],
      "id": "MPRy8xAslBpI"
    },
    {
      "cell_type": "code",
      "metadata": {
        "id": "p4LcsKCqlTax"
      },
      "source": [
        "def evaluate_model(model, set_names=('train', 'validation'), title='', show_cm=True):\n",
        "    if title:\n",
        "        display(title)\n",
        "        \n",
        "    final_metrics = defaultdict(list)\n",
        "    \n",
        "    if show_cm:\n",
        "        fig, axis = plt.subplots(1, len(set_names), sharey=True, figsize=(15, 3))\n",
        "    \n",
        "    for i, set_name in enumerate(set_names):\n",
        "        assert set_name in ['train', 'validation', 'test']\n",
        "        set_data = globals()[set_name] \n",
        "\n",
        "        y = set_data.RainTomorrow\n",
        "        y_pred = model.predict(set_data)\n",
        "        final_metrics['Accuracy'].append(metrics.accuracy_score(y, y_pred))\n",
        "        final_metrics['Precision'].append(metrics.precision_score(y, y_pred))\n",
        "        \n",
        "        if show_cm:\n",
        "            ax = axis[i]\n",
        "            sns.heatmap(metrics.confusion_matrix(y, y_pred), ax=ax, cmap='Blues', annot=True, fmt='.0f', cbar=False)\n",
        "\n",
        "            ax.set_title(set_name)\n",
        "            ax.xaxis.set_ticklabels(['No', 'Yes'])\n",
        "            ax.yaxis.set_ticklabels(['No', 'Yes'])\n",
        "            ax.set_xlabel('Predicted class (RainTomorrow)')\n",
        "            ax.set_ylabel('True class (RainTomorrow)')\n",
        "\n",
        "        \n",
        "    display(pd.DataFrame(final_metrics, index=set_names))\n",
        "    if show_cm:\n",
        "        plt.tight_layout()\n",
        "        plt.show()"
      ],
      "id": "p4LcsKCqlTax",
      "execution_count": null,
      "outputs": []
    },
    {
      "cell_type": "markdown",
      "metadata": {
        "id": "49EvhZid6sDd"
      },
      "source": [
        "# **REGRESIÓN LOGÍSTICA**"
      ],
      "id": "49EvhZid6sDd"
    },
    {
      "cell_type": "code",
      "metadata": {
        "id": "vbIP7OnsfzUi",
        "colab": {
          "base_uri": "https://localhost:8080/"
        },
        "outputId": "e479701a-0f14-46a6-ba98-e21f7ac521d3"
      },
      "source": [
        "lr_model = Pipeline([\n",
        "    ('mapper', mapper),\n",
        "    ('classifier', LogisticRegression(random_state=40, max_iter=1000)),\n",
        "])\n",
        "lr_model.fit(train, train.RainTomorrow)\n",
        "\n",
        "y_pred = lr_model.predict(validation)\n",
        "y_pred"
      ],
      "id": "vbIP7OnsfzUi",
      "execution_count": null,
      "outputs": [
        {
          "output_type": "execute_result",
          "data": {
            "text/plain": [
              "array([0, 1, 0, ..., 0, 0, 0])"
            ]
          },
          "metadata": {
            "tags": []
          },
          "execution_count": 18
        }
      ]
    },
    {
      "cell_type": "code",
      "metadata": {
        "id": "9sPuy6riR7oN",
        "colab": {
          "base_uri": "https://localhost:8080/"
        },
        "outputId": "e58b7317-eb7b-4910-9f09-fb3468cd26a4"
      },
      "source": [
        "metrics.accuracy_score(validation.RainTomorrow, y_pred)"
      ],
      "id": "9sPuy6riR7oN",
      "execution_count": null,
      "outputs": [
        {
          "output_type": "execute_result",
          "data": {
            "text/plain": [
              "0.8559021623537753"
            ]
          },
          "metadata": {
            "tags": []
          },
          "execution_count": 19
        }
      ]
    },
    {
      "cell_type": "code",
      "metadata": {
        "id": "9wvKhg5S9Fgm",
        "colab": {
          "base_uri": "https://localhost:8080/",
          "height": 464
        },
        "outputId": "4bdd6b67-b4ea-449e-d63a-d38a4047fa30"
      },
      "source": [
        "lr_model2 = Pipeline([\n",
        "    ('mapper', mapper),\n",
        "    ('classifier', LogisticRegression(random_state=40, max_iter=10)),\n",
        "])\n",
        "lr_model2.fit(train, train.RainTomorrow)\n",
        "evaluate_model(lr_model2)"
      ],
      "id": "9wvKhg5S9Fgm",
      "execution_count": null,
      "outputs": [
        {
          "output_type": "stream",
          "text": [
            "/usr/local/lib/python3.7/dist-packages/sklearn/linear_model/_logistic.py:940: ConvergenceWarning:\n",
            "\n",
            "lbfgs failed to converge (status=1):\n",
            "STOP: TOTAL NO. of ITERATIONS REACHED LIMIT.\n",
            "\n",
            "Increase the number of iterations (max_iter) or scale the data as shown in:\n",
            "    https://scikit-learn.org/stable/modules/preprocessing.html\n",
            "Please also refer to the documentation for alternative solver options:\n",
            "    https://scikit-learn.org/stable/modules/linear_model.html#logistic-regression\n",
            "\n"
          ],
          "name": "stderr"
        },
        {
          "output_type": "display_data",
          "data": {
            "text/html": [
              "<div>\n",
              "<style scoped>\n",
              "    .dataframe tbody tr th:only-of-type {\n",
              "        vertical-align: middle;\n",
              "    }\n",
              "\n",
              "    .dataframe tbody tr th {\n",
              "        vertical-align: top;\n",
              "    }\n",
              "\n",
              "    .dataframe thead th {\n",
              "        text-align: right;\n",
              "    }\n",
              "</style>\n",
              "<table border=\"1\" class=\"dataframe\">\n",
              "  <thead>\n",
              "    <tr style=\"text-align: right;\">\n",
              "      <th></th>\n",
              "      <th>Accuracy</th>\n",
              "      <th>Precision</th>\n",
              "    </tr>\n",
              "  </thead>\n",
              "  <tbody>\n",
              "    <tr>\n",
              "      <th>train</th>\n",
              "      <td>0.844677</td>\n",
              "      <td>0.704883</td>\n",
              "    </tr>\n",
              "    <tr>\n",
              "      <th>validation</th>\n",
              "      <td>0.846774</td>\n",
              "      <td>0.692265</td>\n",
              "    </tr>\n",
              "  </tbody>\n",
              "</table>\n",
              "</div>"
            ],
            "text/plain": [
              "            Accuracy  Precision\n",
              "train       0.844677   0.704883\n",
              "validation  0.846774   0.692265"
            ]
          },
          "metadata": {
            "tags": []
          }
        },
        {
          "output_type": "display_data",
          "data": {
            "image/png": "[encoded data removed]",
            "text/plain": [
              "<Figure size 1080x216 with 2 Axes>"
            ]
          },
          "metadata": {
            "tags": [],
            "needs_background": "light"
          }
        }
      ]
    },
    {
      "cell_type": "code",
      "metadata": {
        "id": "P8EuxrsRSNN0",
        "colab": {
          "base_uri": "https://localhost:8080/",
          "height": 294
        },
        "outputId": "1e2ab4d8-5ae6-4438-fe10-284f9afbc41d"
      },
      "source": [
        "evaluate_model(lr_model)"
      ],
      "id": "P8EuxrsRSNN0",
      "execution_count": null,
      "outputs": [
        {
          "output_type": "display_data",
          "data": {
            "text/html": [
              "<div>\n",
              "<style scoped>\n",
              "    .dataframe tbody tr th:only-of-type {\n",
              "        vertical-align: middle;\n",
              "    }\n",
              "\n",
              "    .dataframe tbody tr th {\n",
              "        vertical-align: top;\n",
              "    }\n",
              "\n",
              "    .dataframe thead th {\n",
              "        text-align: right;\n",
              "    }\n",
              "</style>\n",
              "<table border=\"1\" class=\"dataframe\">\n",
              "  <thead>\n",
              "    <tr style=\"text-align: right;\">\n",
              "      <th></th>\n",
              "      <th>Accuracy</th>\n",
              "      <th>Precision</th>\n",
              "    </tr>\n",
              "  </thead>\n",
              "  <tbody>\n",
              "    <tr>\n",
              "      <th>train</th>\n",
              "      <td>0.855164</td>\n",
              "      <td>0.736757</td>\n",
              "    </tr>\n",
              "    <tr>\n",
              "      <th>validation</th>\n",
              "      <td>0.855902</td>\n",
              "      <td>0.718716</td>\n",
              "    </tr>\n",
              "  </tbody>\n",
              "</table>\n",
              "</div>"
            ],
            "text/plain": [
              "            Accuracy  Precision\n",
              "train       0.855164   0.736757\n",
              "validation  0.855902   0.718716"
            ]
          },
          "metadata": {
            "tags": []
          }
        },
        {
          "output_type": "display_data",
          "data": {
            "image/png": "[encoded data removed]",
            "text/plain": [
              "<Figure size 1080x216 with 2 Axes>"
            ]
          },
          "metadata": {
            "tags": [],
            "needs_background": "light"
          }
        }
      ]
    },
    {
      "cell_type": "code",
      "metadata": {
        "id": "MKX1Gjh7-v-N",
        "colab": {
          "base_uri": "https://localhost:8080/",
          "height": 294
        },
        "outputId": "ec96ea8d-4a21-4d4e-813c-9c6f7919e75d"
      },
      "source": [
        "lr_model3 = Pipeline([\n",
        "    ('mapper', mapper),\n",
        "    ('classifier', LogisticRegression(random_state=40, solver='liblinear')),\n",
        "])\n",
        "lr_model3.fit(train, train.RainTomorrow)\n",
        "evaluate_model(lr_model3)"
      ],
      "id": "MKX1Gjh7-v-N",
      "execution_count": null,
      "outputs": [
        {
          "output_type": "display_data",
          "data": {
            "text/html": [
              "<div>\n",
              "<style scoped>\n",
              "    .dataframe tbody tr th:only-of-type {\n",
              "        vertical-align: middle;\n",
              "    }\n",
              "\n",
              "    .dataframe tbody tr th {\n",
              "        vertical-align: top;\n",
              "    }\n",
              "\n",
              "    .dataframe thead th {\n",
              "        text-align: right;\n",
              "    }\n",
              "</style>\n",
              "<table border=\"1\" class=\"dataframe\">\n",
              "  <thead>\n",
              "    <tr style=\"text-align: right;\">\n",
              "      <th></th>\n",
              "      <th>Accuracy</th>\n",
              "      <th>Precision</th>\n",
              "    </tr>\n",
              "  </thead>\n",
              "  <tbody>\n",
              "    <tr>\n",
              "      <th>train</th>\n",
              "      <td>0.854898</td>\n",
              "      <td>0.736079</td>\n",
              "    </tr>\n",
              "    <tr>\n",
              "      <th>validation</th>\n",
              "      <td>0.856257</td>\n",
              "      <td>0.720044</td>\n",
              "    </tr>\n",
              "  </tbody>\n",
              "</table>\n",
              "</div>"
            ],
            "text/plain": [
              "            Accuracy  Precision\n",
              "train       0.854898   0.736079\n",
              "validation  0.856257   0.720044"
            ]
          },
          "metadata": {
            "tags": []
          }
        },
        {
          "output_type": "display_data",
          "data": {
            "image/png": "[encoded data removed]",
            "text/plain": [
              "<Figure size 1080x216 with 2 Axes>"
            ]
          },
          "metadata": {
            "tags": [],
            "needs_background": "light"
          }
        }
      ]
    },
    {
      "cell_type": "markdown",
      "metadata": {
        "id": "p_FdB-m5t1id"
      },
      "source": [
        "**Análisis de métricas**"
      ],
      "id": "p_FdB-m5t1id"
    },
    {
      "cell_type": "markdown",
      "metadata": {
        "id": "eoMMkQC-DRzd"
      },
      "source": [
        "Como se muestra en las tres celdas anteriores, evaluamos el modelo cambiando ciertos parámetros (max_iter y solver). En todos los casos obtuvimos resultados muy similares que interpretamos a continuación.\n",
        "\n",
        "\n",
        "\n",
        "*   En cuanto a Accuracy, nos indica que el modelo acertó aproximadamente el 85% de los casos que predijo.\n",
        "*   Si vemos Precision, nos indica que de los casos en los que lloverá al día siguiente (RainTomorrow = Yes), encontró el 73% de ellos.\n",
        "\n"
      ],
      "id": "eoMMkQC-DRzd"
    },
    {
      "cell_type": "code",
      "metadata": {
        "id": "MCY99HeGYEiV",
        "colab": {
          "base_uri": "https://localhost:8080/",
          "height": 1000
        },
        "outputId": "b4adae86-254c-41d7-f400-409eba27c56f"
      },
      "source": [
        "clf = lr_model.named_steps['classifier']\n",
        "clf.coef_  # los pesos que aprendió la regresión logística\n",
        "df_importance = pd.DataFrame({\n",
        "    'feature': mapper.transformed_names_, \n",
        "    'coeficiente': clf.coef_[0],\n",
        "}).sort_values(by='coeficiente')\n",
        "\n",
        "df = px.data.tips()\n",
        "fig = px.bar(df_importance, x='coeficiente', y='feature', orientation='h',\n",
        "             height=1500,\n",
        "             color = \"coeficiente\",\n",
        "             title='Coeficientes')\n",
        "fig.show()"
      ],
      "id": "MCY99HeGYEiV",
      "execution_count": null,
      "outputs": [
        {
          "output_type": "display_data",
          "data": {
            "text/html": [
              "<html>\n",
              "<head><meta charset=\"utf-8\" /></head>\n",
              "<body>\n",
              "    <div>\n",
              "            <script src=\"https://cdnjs.cloudflare.com/ajax/libs/mathjax/2.7.5/MathJax.js?config=TeX-AMS-MML_SVG\"></script><script type=\"text/javascript\">if (window.MathJax) {MathJax.Hub.Config({SVG: {font: \"STIX-Web\"}});}</script>\n",
              "                <script type=\"text/javascript\">window.PlotlyConfig = {MathJaxConfig: 'local'};</script>\n",
              "        <script src=\"https://cdn.plot.ly/plotly-latest.min.js\"></script>    \n",
              "            <div id=\"f9b05eb0-a0fd-452d-bc10-2374b8f707cf\" class=\"plotly-graph-div\" style=\"height:1500px; width:100%;\"></div>\n",
              "            <script type=\"text/javascript\">\n",
              "                \n",
              "                    window.PLOTLYENV=window.PLOTLYENV || {};\n",
              "                    \n",
              "                if (document.getElementById(\"f9b05eb0-a0fd-452d-bc10-2374b8f707cf\")) {\n",
              "                    Plotly.newPlot(\n",
              "                        'f9b05eb0-a0fd-452d-bc10-2374b8f707cf',\n",
              "                        [{\"alignmentgroup\": \"True\", \"hoverlabel\": {\"namelength\": 0}, \"hovertemplate\": \"coeficiente=%{marker.color}<br>feature=%{y}\", \"legendgroup\": \"\", \"marker\": {\"color\": [-6.929177056028576, -2.1725026883617877, -1.793841338977975, -0.6379566710913366, -0.5738720365674576, -0.5616767013255668, -0.27112804395337514, -0.2659120629279738, -0.23683804324929625, -0.23066084797457914, -0.16866748697230513, -0.16351383070820705, -0.15474706722939652, -0.15154135332862284, -0.14575136906758454, -0.13756245286534238, -0.12473995998480798, -0.08759474238644073, -0.06791641441541653, -0.04876437052608635, -0.04356481059049266, -0.03513854036549679, -0.0017954011476040037, 0.0013379736006056432, 0.015752805154351346, 0.0157557645086589, 0.015986428029601582, 0.028134745114367612, 0.03215993792215364, 0.04299339772483149, 0.04730466033559334, 0.047378263625014, 0.04912678125271446, 0.0518963739897929, 0.06630279989035616, 0.08683113039729831, 0.11171413608849647, 0.11972116199974689, 0.12194251587785213, 0.1262816420473908, 0.12966795481317156, 0.1465461622724994, 0.1816676724019561, 0.24871218234354137, 0.26507973532291507, 0.26787729607374905, 0.3142236765843044, 0.38393259354903553, 0.4485705460232894, 0.5722284026332909, 0.9503904012213313, 1.0972998376384526, 1.760443127393788, 3.266895634546227, 5.605490573012953, 6.1834585779905105], \"coloraxis\": \"coloraxis\"}, \"name\": \"\", \"offsetgroup\": \"\", \"orientation\": \"h\", \"showlegend\": false, \"textposition\": \"auto\", \"type\": \"bar\", \"x\": [-6.929177056028576, -2.1725026883617877, -1.793841338977975, -0.6379566710913366, -0.5738720365674576, -0.5616767013255668, -0.27112804395337514, -0.2659120629279738, -0.23683804324929625, -0.23066084797457914, -0.16866748697230513, -0.16351383070820705, -0.15474706722939652, -0.15154135332862284, -0.14575136906758454, -0.13756245286534238, -0.12473995998480798, -0.08759474238644073, -0.06791641441541653, -0.04876437052608635, -0.04356481059049266, -0.03513854036549679, -0.0017954011476040037, 0.0013379736006056432, 0.015752805154351346, 0.0157557645086589, 0.015986428029601582, 0.028134745114367612, 0.03215993792215364, 0.04299339772483149, 0.04730466033559334, 0.047378263625014, 0.04912678125271446, 0.0518963739897929, 0.06630279989035616, 0.08683113039729831, 0.11171413608849647, 0.11972116199974689, 0.12194251587785213, 0.1262816420473908, 0.12966795481317156, 0.1465461622724994, 0.1816676724019561, 0.24871218234354137, 0.26507973532291507, 0.26787729607374905, 0.3142236765843044, 0.38393259354903553, 0.4485705460232894, 0.5722284026332909, 0.9503904012213313, 1.0972998376384526, 1.760443127393788, 3.266895634546227, 5.605490573012953, 6.1834585779905105], \"xaxis\": \"x\", \"y\": [\"Pressure3pm\", \"Sunshine\", \"WindSpeed3pm\", \"WindSpeed9am\", \"MinTemp\", \"Region_x0_tasmania\", \"WindDir9am_x0_SE\", \"WindDir3pm_x0_SW\", \"Region_x0_victoria\", \"WindDir9am_x0_S\", \"WindGustDir_x0_NE\", \"Cloud9am\", \"WindDir3pm_x0_S\", \"Region_x0_northen\", \"WindGustDir_x0_N\", \"Evaporation\", \"Season_x0_summer\", \"WindDir9am_x0_E\", \"WindDir3pm_x0_W\", \"Region_x0_norfolk\", \"WindDir3pm_x0_E\", \"Day\", \"WindDir3pm_x0_NE\", \"WindGustDir_x0_E\", \"Temp9am\", \"WindDir9am_x0_NW\", \"WindDir9am_x0_SW\", \"WindGustDir_x0_NW\", \"Season_x0_winter\", \"WindDir3pm_x0_SE\", \"WindGustDir_x0_W\", \"WindGustDir_x0_SE\", \"Season_x0_autumn\", \"Region_x0_south\", \"Season_x0_spring\", \"WindGustDir_x0_S\", \"Month\", \"WindDir9am_x0_W\", \"Year\", \"WindGustDir_x0_SW\", \"Region_x0_newsouth\", \"WindDir9am_x0_N\", \"Humidity9am\", \"WindDir3pm_x0_NW\", \"WindDir3pm_x0_N\", \"Region_x0_queensland\", \"WindDir9am_x0_NE\", \"RainToday\", \"MaxTemp\", \"Region_x0_western\", \"Temp3pm\", \"Cloud3pm\", \"Rainfall\", \"Pressure9am\", \"Humidity3pm\", \"WindGustSpeed\"], \"yaxis\": \"y\"}],\n",
              "                        {\"barmode\": \"relative\", \"coloraxis\": {\"colorbar\": {\"title\": {\"text\": \"coeficiente\"}}, \"colorscale\": [[0.0, \"#0d0887\"], [0.1111111111111111, \"#46039f\"], [0.2222222222222222, \"#7201a8\"], [0.3333333333333333, \"#9c179e\"], [0.4444444444444444, \"#bd3786\"], [0.5555555555555556, \"#d8576b\"], [0.6666666666666666, \"#ed7953\"], [0.7777777777777778, \"#fb9f3a\"], [0.8888888888888888, \"#fdca26\"], [1.0, \"#f0f921\"]]}, \"height\": 1500, \"legend\": {\"tracegroupgap\": 0}, \"template\": {\"data\": {\"bar\": [{\"error_x\": {\"color\": \"#2a3f5f\"}, \"error_y\": {\"color\": \"#2a3f5f\"}, \"marker\": {\"line\": {\"color\": \"#E5ECF6\", \"width\": 0.5}}, \"type\": \"bar\"}], \"barpolar\": [{\"marker\": {\"line\": {\"color\": \"#E5ECF6\", \"width\": 0.5}}, \"type\": \"barpolar\"}], \"carpet\": [{\"aaxis\": {\"endlinecolor\": \"#2a3f5f\", \"gridcolor\": \"white\", \"linecolor\": \"white\", \"minorgridcolor\": \"white\", \"startlinecolor\": \"#2a3f5f\"}, \"baxis\": {\"endlinecolor\": \"#2a3f5f\", \"gridcolor\": \"white\", \"linecolor\": \"white\", \"minorgridcolor\": \"white\", \"startlinecolor\": \"#2a3f5f\"}, \"type\": \"carpet\"}], \"choropleth\": [{\"colorbar\": {\"outlinewidth\": 0, \"ticks\": \"\"}, \"type\": \"choropleth\"}], \"contour\": [{\"colorbar\": {\"outlinewidth\": 0, \"ticks\": \"\"}, \"colorscale\": [[0.0, \"#0d0887\"], [0.1111111111111111, \"#46039f\"], [0.2222222222222222, \"#7201a8\"], [0.3333333333333333, \"#9c179e\"], [0.4444444444444444, \"#bd3786\"], [0.5555555555555556, \"#d8576b\"], [0.6666666666666666, \"#ed7953\"], [0.7777777777777778, \"#fb9f3a\"], [0.8888888888888888, \"#fdca26\"], [1.0, \"#f0f921\"]], \"type\": \"contour\"}], \"contourcarpet\": [{\"colorbar\": {\"outlinewidth\": 0, \"ticks\": \"\"}, \"type\": \"contourcarpet\"}], \"heatmap\": [{\"colorbar\": {\"outlinewidth\": 0, \"ticks\": \"\"}, \"colorscale\": [[0.0, \"#0d0887\"], [0.1111111111111111, \"#46039f\"], [0.2222222222222222, \"#7201a8\"], [0.3333333333333333, \"#9c179e\"], [0.4444444444444444, \"#bd3786\"], [0.5555555555555556, \"#d8576b\"], [0.6666666666666666, \"#ed7953\"], [0.7777777777777778, \"#fb9f3a\"], [0.8888888888888888, \"#fdca26\"], [1.0, \"#f0f921\"]], \"type\": \"heatmap\"}], \"heatmapgl\": [{\"colorbar\": {\"outlinewidth\": 0, \"ticks\": \"\"}, \"colorscale\": [[0.0, \"#0d0887\"], [0.1111111111111111, \"#46039f\"], [0.2222222222222222, \"#7201a8\"], [0.3333333333333333, \"#9c179e\"], [0.4444444444444444, \"#bd3786\"], [0.5555555555555556, \"#d8576b\"], [0.6666666666666666, \"#ed7953\"], [0.7777777777777778, \"#fb9f3a\"], [0.8888888888888888, \"#fdca26\"], [1.0, \"#f0f921\"]], \"type\": \"heatmapgl\"}], \"histogram\": [{\"marker\": {\"colorbar\": {\"outlinewidth\": 0, \"ticks\": \"\"}}, \"type\": \"histogram\"}], \"histogram2d\": [{\"colorbar\": {\"outlinewidth\": 0, \"ticks\": \"\"}, \"colorscale\": [[0.0, \"#0d0887\"], [0.1111111111111111, \"#46039f\"], [0.2222222222222222, \"#7201a8\"], [0.3333333333333333, \"#9c179e\"], [0.4444444444444444, \"#bd3786\"], [0.5555555555555556, \"#d8576b\"], [0.6666666666666666, \"#ed7953\"], [0.7777777777777778, \"#fb9f3a\"], [0.8888888888888888, \"#fdca26\"], [1.0, \"#f0f921\"]], \"type\": \"histogram2d\"}], \"histogram2dcontour\": [{\"colorbar\": {\"outlinewidth\": 0, \"ticks\": \"\"}, \"colorscale\": [[0.0, \"#0d0887\"], [0.1111111111111111, \"#46039f\"], [0.2222222222222222, \"#7201a8\"], [0.3333333333333333, \"#9c179e\"], [0.4444444444444444, \"#bd3786\"], [0.5555555555555556, \"#d8576b\"], [0.6666666666666666, \"#ed7953\"], [0.7777777777777778, \"#fb9f3a\"], [0.8888888888888888, \"#fdca26\"], [1.0, \"#f0f921\"]], \"type\": \"histogram2dcontour\"}], \"mesh3d\": [{\"colorbar\": {\"outlinewidth\": 0, \"ticks\": \"\"}, \"type\": \"mesh3d\"}], \"parcoords\": [{\"line\": {\"colorbar\": {\"outlinewidth\": 0, \"ticks\": \"\"}}, \"type\": \"parcoords\"}], \"pie\": [{\"automargin\": true, \"type\": \"pie\"}], \"scatter\": [{\"marker\": {\"colorbar\": {\"outlinewidth\": 0, \"ticks\": \"\"}}, \"type\": \"scatter\"}], \"scatter3d\": [{\"line\": {\"colorbar\": {\"outlinewidth\": 0, \"ticks\": \"\"}}, \"marker\": {\"colorbar\": {\"outlinewidth\": 0, \"ticks\": \"\"}}, \"type\": \"scatter3d\"}], \"scattercarpet\": [{\"marker\": {\"colorbar\": {\"outlinewidth\": 0, \"ticks\": \"\"}}, \"type\": \"scattercarpet\"}], \"scattergeo\": [{\"marker\": {\"colorbar\": {\"outlinewidth\": 0, \"ticks\": \"\"}}, \"type\": \"scattergeo\"}], \"scattergl\": [{\"marker\": {\"colorbar\": {\"outlinewidth\": 0, \"ticks\": \"\"}}, \"type\": \"scattergl\"}], \"scattermapbox\": [{\"marker\": {\"colorbar\": {\"outlinewidth\": 0, \"ticks\": \"\"}}, \"type\": \"scattermapbox\"}], \"scatterpolar\": [{\"marker\": {\"colorbar\": {\"outlinewidth\": 0, \"ticks\": \"\"}}, \"type\": \"scatterpolar\"}], \"scatterpolargl\": [{\"marker\": {\"colorbar\": {\"outlinewidth\": 0, \"ticks\": \"\"}}, \"type\": \"scatterpolargl\"}], \"scatterternary\": [{\"marker\": {\"colorbar\": {\"outlinewidth\": 0, \"ticks\": \"\"}}, \"type\": \"scatterternary\"}], \"surface\": [{\"colorbar\": {\"outlinewidth\": 0, \"ticks\": \"\"}, \"colorscale\": [[0.0, \"#0d0887\"], [0.1111111111111111, \"#46039f\"], [0.2222222222222222, \"#7201a8\"], [0.3333333333333333, \"#9c179e\"], [0.4444444444444444, \"#bd3786\"], [0.5555555555555556, \"#d8576b\"], [0.6666666666666666, \"#ed7953\"], [0.7777777777777778, \"#fb9f3a\"], [0.8888888888888888, \"#fdca26\"], [1.0, \"#f0f921\"]], \"type\": \"surface\"}], \"table\": [{\"cells\": {\"fill\": {\"color\": \"#EBF0F8\"}, \"line\": {\"color\": \"white\"}}, \"header\": {\"fill\": {\"color\": \"#C8D4E3\"}, \"line\": {\"color\": \"white\"}}, \"type\": \"table\"}]}, \"layout\": {\"annotationdefaults\": {\"arrowcolor\": \"#2a3f5f\", \"arrowhead\": 0, \"arrowwidth\": 1}, \"coloraxis\": {\"colorbar\": {\"outlinewidth\": 0, \"ticks\": \"\"}}, \"colorscale\": {\"diverging\": [[0, \"#8e0152\"], [0.1, \"#c51b7d\"], [0.2, \"#de77ae\"], [0.3, \"#f1b6da\"], [0.4, \"#fde0ef\"], [0.5, \"#f7f7f7\"], [0.6, \"#e6f5d0\"], [0.7, \"#b8e186\"], [0.8, \"#7fbc41\"], [0.9, \"#4d9221\"], [1, \"#276419\"]], \"sequential\": [[0.0, \"#0d0887\"], [0.1111111111111111, \"#46039f\"], [0.2222222222222222, \"#7201a8\"], [0.3333333333333333, \"#9c179e\"], [0.4444444444444444, \"#bd3786\"], [0.5555555555555556, \"#d8576b\"], [0.6666666666666666, \"#ed7953\"], [0.7777777777777778, \"#fb9f3a\"], [0.8888888888888888, \"#fdca26\"], [1.0, \"#f0f921\"]], \"sequentialminus\": [[0.0, \"#0d0887\"], [0.1111111111111111, \"#46039f\"], [0.2222222222222222, \"#7201a8\"], [0.3333333333333333, \"#9c179e\"], [0.4444444444444444, \"#bd3786\"], [0.5555555555555556, \"#d8576b\"], [0.6666666666666666, \"#ed7953\"], [0.7777777777777778, \"#fb9f3a\"], [0.8888888888888888, \"#fdca26\"], [1.0, \"#f0f921\"]]}, \"colorway\": [\"#636efa\", \"#EF553B\", \"#00cc96\", \"#ab63fa\", \"#FFA15A\", \"#19d3f3\", \"#FF6692\", \"#B6E880\", \"#FF97FF\", \"#FECB52\"], \"font\": {\"color\": \"#2a3f5f\"}, \"geo\": {\"bgcolor\": \"white\", \"lakecolor\": \"white\", \"landcolor\": \"#E5ECF6\", \"showlakes\": true, \"showland\": true, \"subunitcolor\": \"white\"}, \"hoverlabel\": {\"align\": \"left\"}, \"hovermode\": \"closest\", \"mapbox\": {\"style\": \"light\"}, \"paper_bgcolor\": \"white\", \"plot_bgcolor\": \"#E5ECF6\", \"polar\": {\"angularaxis\": {\"gridcolor\": \"white\", \"linecolor\": \"white\", \"ticks\": \"\"}, \"bgcolor\": \"#E5ECF6\", \"radialaxis\": {\"gridcolor\": \"white\", \"linecolor\": \"white\", \"ticks\": \"\"}}, \"scene\": {\"xaxis\": {\"backgroundcolor\": \"#E5ECF6\", \"gridcolor\": \"white\", \"gridwidth\": 2, \"linecolor\": \"white\", \"showbackground\": true, \"ticks\": \"\", \"zerolinecolor\": \"white\"}, \"yaxis\": {\"backgroundcolor\": \"#E5ECF6\", \"gridcolor\": \"white\", \"gridwidth\": 2, \"linecolor\": \"white\", \"showbackground\": true, \"ticks\": \"\", \"zerolinecolor\": \"white\"}, \"zaxis\": {\"backgroundcolor\": \"#E5ECF6\", \"gridcolor\": \"white\", \"gridwidth\": 2, \"linecolor\": \"white\", \"showbackground\": true, \"ticks\": \"\", \"zerolinecolor\": \"white\"}}, \"shapedefaults\": {\"line\": {\"color\": \"#2a3f5f\"}}, \"ternary\": {\"aaxis\": {\"gridcolor\": \"white\", \"linecolor\": \"white\", \"ticks\": \"\"}, \"baxis\": {\"gridcolor\": \"white\", \"linecolor\": \"white\", \"ticks\": \"\"}, \"bgcolor\": \"#E5ECF6\", \"caxis\": {\"gridcolor\": \"white\", \"linecolor\": \"white\", \"ticks\": \"\"}}, \"title\": {\"x\": 0.05}, \"xaxis\": {\"automargin\": true, \"gridcolor\": \"white\", \"linecolor\": \"white\", \"ticks\": \"\", \"title\": {\"standoff\": 15}, \"zerolinecolor\": \"white\", \"zerolinewidth\": 2}, \"yaxis\": {\"automargin\": true, \"gridcolor\": \"white\", \"linecolor\": \"white\", \"ticks\": \"\", \"title\": {\"standoff\": 15}, \"zerolinecolor\": \"white\", \"zerolinewidth\": 2}}}, \"title\": {\"text\": \"Coeficientes\"}, \"xaxis\": {\"anchor\": \"y\", \"domain\": [0.0, 1.0], \"title\": {\"text\": \"coeficiente\"}}, \"yaxis\": {\"anchor\": \"x\", \"domain\": [0.0, 1.0], \"title\": {\"text\": \"feature\"}}},\n",
              "                        {\"responsive\": true}\n",
              "                    ).then(function(){\n",
              "                            \n",
              "var gd = document.getElementById('f9b05eb0-a0fd-452d-bc10-2374b8f707cf');\n",
              "var x = new MutationObserver(function (mutations, observer) {{\n",
              "        var display = window.getComputedStyle(gd).display;\n",
              "        if (!display || display === 'none') {{\n",
              "            console.log([gd, 'removed!']);\n",
              "            Plotly.purge(gd);\n",
              "            observer.disconnect();\n",
              "        }}\n",
              "}});\n",
              "\n",
              "// Listen for the removal of the full notebook cells\n",
              "var notebookContainer = gd.closest('#notebook-container');\n",
              "if (notebookContainer) {{\n",
              "    x.observe(notebookContainer, {childList: true});\n",
              "}}\n",
              "\n",
              "// Listen for the clearing of the current output cell\n",
              "var outputEl = gd.closest('.output');\n",
              "if (outputEl) {{\n",
              "    x.observe(outputEl, {childList: true});\n",
              "}}\n",
              "\n",
              "                        })\n",
              "                };\n",
              "                \n",
              "            </script>\n",
              "        </div>\n",
              "</body>\n",
              "</html>"
            ]
          },
          "metadata": {
            "tags": []
          }
        }
      ]
    },
    {
      "cell_type": "markdown",
      "metadata": {
        "id": "qtwy0Cz2tsva"
      },
      "source": [
        "**Análisis de gráfica de coeficientes**"
      ],
      "id": "qtwy0Cz2tsva"
    },
    {
      "cell_type": "markdown",
      "metadata": {
        "id": "0haICpPdZrws"
      },
      "source": [
        "Los coeficientes (o parámetros) de la función de salida nos dan \"pistas\" para interpretar la influencia de los mismos en la predicción.\n",
        "En este caso, vemos que los valores que tomen las variables WindGustSpeed, Humidity3pm y Pressure9am, mientras mayores sean, más probabilidad habrá de que al día siguiente llueva (esto se observa en la parte superior del gráfico anterior).\n",
        "\n",
        "Por otro lado, si observamos la parte inferior, podemos decir que mientras mayores sean los valores de Pressure3pm y Sunshine, menor será la probabilidad de que llueva al día siguiente (debido a que son parámetros con signo negativo).\n",
        "\n"
      ],
      "id": "0haICpPdZrws"
    },
    {
      "cell_type": "markdown",
      "metadata": {
        "id": "d5E5tXpZn3Oa"
      },
      "source": [
        "# **ÁRBOLES DE DECISIÓN** "
      ],
      "id": "d5E5tXpZn3Oa"
    },
    {
      "cell_type": "code",
      "metadata": {
        "id": "LEy7_2C84wtM",
        "colab": {
          "base_uri": "https://localhost:8080/",
          "height": 312
        },
        "outputId": "4e92849b-eafd-4055-df78-68c9825593f2"
      },
      "source": [
        "tree_model1 = DecisionTreeClassifier(random_state=40)\n",
        "\n",
        "dt_model1 = Pipeline([\n",
        "                     ('mapper', mapper),\n",
        "                     ('classifier', tree_model1),\n",
        "])\n",
        "\n",
        "history = dt_model1.fit(train, train.RainTomorrow)\n",
        "\n",
        "evaluate_model(dt_model1, title='Decision Tree')"
      ],
      "id": "LEy7_2C84wtM",
      "execution_count": null,
      "outputs": [
        {
          "output_type": "display_data",
          "data": {
            "application/vnd.google.colaboratory.intrinsic+json": {
              "type": "string"
            },
            "text/plain": [
              "'Decision Tree'"
            ]
          },
          "metadata": {
            "tags": []
          }
        },
        {
          "output_type": "display_data",
          "data": {
            "text/html": [
              "<div>\n",
              "<style scoped>\n",
              "    .dataframe tbody tr th:only-of-type {\n",
              "        vertical-align: middle;\n",
              "    }\n",
              "\n",
              "    .dataframe tbody tr th {\n",
              "        vertical-align: top;\n",
              "    }\n",
              "\n",
              "    .dataframe thead th {\n",
              "        text-align: right;\n",
              "    }\n",
              "</style>\n",
              "<table border=\"1\" class=\"dataframe\">\n",
              "  <thead>\n",
              "    <tr style=\"text-align: right;\">\n",
              "      <th></th>\n",
              "      <th>Accuracy</th>\n",
              "      <th>Precision</th>\n",
              "    </tr>\n",
              "  </thead>\n",
              "  <tbody>\n",
              "    <tr>\n",
              "      <th>train</th>\n",
              "      <td>1.000000</td>\n",
              "      <td>1.000000</td>\n",
              "    </tr>\n",
              "    <tr>\n",
              "      <th>validation</th>\n",
              "      <td>0.802907</td>\n",
              "      <td>0.540615</td>\n",
              "    </tr>\n",
              "  </tbody>\n",
              "</table>\n",
              "</div>"
            ],
            "text/plain": [
              "            Accuracy  Precision\n",
              "train       1.000000   1.000000\n",
              "validation  0.802907   0.540615"
            ]
          },
          "metadata": {
            "tags": []
          }
        },
        {
          "output_type": "display_data",
          "data": {
            "image/png": "[encoded data removed]",
            "text/plain": [
              "<Figure size 1080x216 with 2 Axes>"
            ]
          },
          "metadata": {
            "tags": [],
            "needs_background": "light"
          }
        }
      ]
    },
    {
      "cell_type": "code",
      "metadata": {
        "id": "6Xgm6F6p0zGA",
        "colab": {
          "base_uri": "https://localhost:8080/",
          "height": 312
        },
        "outputId": "5687ec0e-03c1-4510-8376-985f16556e04"
      },
      "source": [
        "tree_model = DecisionTreeClassifier(max_depth=3, random_state=40)\n",
        "\n",
        "dt_model = Pipeline([\n",
        "                     ('mapper', mapper),\n",
        "                     ('classifier', tree_model),\n",
        "])\n",
        "\n",
        "history = dt_model.fit(train, train.RainTomorrow)\n",
        "\n",
        "evaluate_model(dt_model, title='Decision Tree')"
      ],
      "id": "6Xgm6F6p0zGA",
      "execution_count": null,
      "outputs": [
        {
          "output_type": "display_data",
          "data": {
            "application/vnd.google.colaboratory.intrinsic+json": {
              "type": "string"
            },
            "text/plain": [
              "'Decision Tree'"
            ]
          },
          "metadata": {
            "tags": []
          }
        },
        {
          "output_type": "display_data",
          "data": {
            "text/html": [
              "<div>\n",
              "<style scoped>\n",
              "    .dataframe tbody tr th:only-of-type {\n",
              "        vertical-align: middle;\n",
              "    }\n",
              "\n",
              "    .dataframe tbody tr th {\n",
              "        vertical-align: top;\n",
              "    }\n",
              "\n",
              "    .dataframe thead th {\n",
              "        text-align: right;\n",
              "    }\n",
              "</style>\n",
              "<table border=\"1\" class=\"dataframe\">\n",
              "  <thead>\n",
              "    <tr style=\"text-align: right;\">\n",
              "      <th></th>\n",
              "      <th>Accuracy</th>\n",
              "      <th>Precision</th>\n",
              "    </tr>\n",
              "  </thead>\n",
              "  <tbody>\n",
              "    <tr>\n",
              "      <th>train</th>\n",
              "      <td>0.834781</td>\n",
              "      <td>0.776740</td>\n",
              "    </tr>\n",
              "    <tr>\n",
              "      <th>validation</th>\n",
              "      <td>0.838887</td>\n",
              "      <td>0.755853</td>\n",
              "    </tr>\n",
              "  </tbody>\n",
              "</table>\n",
              "</div>"
            ],
            "text/plain": [
              "            Accuracy  Precision\n",
              "train       0.834781   0.776740\n",
              "validation  0.838887   0.755853"
            ]
          },
          "metadata": {
            "tags": []
          }
        },
        {
          "output_type": "display_data",
          "data": {
            "image/png": "[encoded data removed]",
            "text/plain": [
              "<Figure size 1080x216 with 2 Axes>"
            ]
          },
          "metadata": {
            "tags": [],
            "needs_background": "light"
          }
        }
      ]
    },
    {
      "cell_type": "markdown",
      "metadata": {
        "id": "Cor3mD7j7RSs"
      },
      "source": [
        "**Análisis de métricas**\n",
        "\n",
        "Como se muestra en las celdas anteriores, se evaluó el algoritmo de Árboles de decisión de dos formas: sin establecer una profundidad máxima y estableciéndola. En el primer caso se observa que con el set de train sobreentenó debido a que tanto Accuracy como Precision devolvieron un valor de 1. En el set de validation esto no ocurrió.\n",
        "\n",
        "Por otro lado, habiendo delimitado la profundidad máxima con un valor de 3, se obtuvieron métricas similares tanto para train como para validation. Accuracy nos indica que el modelo acertó en aproximadamente un 84% de los casos. Precision demuestra que el modelo encontró aproximadamente el 75% de los casos en los que al día siguiente lloverá."
      ],
      "id": "Cor3mD7j7RSs"
    },
    {
      "cell_type": "code",
      "metadata": {
        "id": "Dax7B9vP10dk"
      },
      "source": [
        "# Gráfico del árbol\n",
        "def graph_tree(tree, col_names):\n",
        "    graph_data = export_graphviz(\n",
        "        tree, \n",
        "        out_file=None, \n",
        "        feature_names=col_names,  \n",
        "        class_names=['died', 'survived'],  \n",
        "        filled=True, \n",
        "        rounded=True,  \n",
        "        special_characters=True,\n",
        "    )\n",
        "    graph = graphviz.Source(graph_data)  \n",
        "    return graph"
      ],
      "id": "Dax7B9vP10dk",
      "execution_count": null,
      "outputs": []
    },
    {
      "cell_type": "code",
      "metadata": {
        "id": "siYreRryJkZs",
        "colab": {
          "base_uri": "https://localhost:8080/",
          "height": 618
        },
        "outputId": "6da9790d-66c0-495a-dcdb-1b2b3b7c0c08"
      },
      "source": [
        "graph_tree(tree_model, mapper.transformed_names_)"
      ],
      "id": "siYreRryJkZs",
      "execution_count": null,
      "outputs": [
        {
          "output_type": "execute_result",
          "data": {
            "text/plain": [
              "<graphviz.files.Source at 0x7fb01ae01d50>"
            ],
            "image/svg+xml": "<?xml version=\"1.0\" encoding=\"UTF-8\" standalone=\"no\"?>\n<!DOCTYPE svg PUBLIC \"-//W3C//DTD SVG 1.1//EN\"\n \"http://www.w3.org/Graphics/SVG/1.1/DTD/svg11.dtd\">\n<!-- Generated by graphviz version 2.40.1 (20161225.0304)\n -->\n<!-- Title: Tree Pages: 1 -->\n<svg width=\"1266pt\" height=\"433pt\"\n viewBox=\"0.00 0.00 1265.50 433.00\" xmlns=\"http://www.w3.org/2000/svg\" xmlns:xlink=\"http://www.w3.org/1999/xlink\">\n<g id=\"graph0\" class=\"graph\" transform=\"scale(1 1) rotate(0) translate(4 429)\">\n<title>Tree</title>\n<polygon fill=\"#ffffff\" stroke=\"transparent\" points=\"-4,4 -4,-429 1261.5,-429 1261.5,4 -4,4\"/>\n<!-- 0 -->\n<g id=\"node1\" class=\"node\">\n<title>0</title>\n<path fill=\"#eca572\" stroke=\"#000000\" d=\"M684,-425C684,-425 551,-425 551,-425 545,-425 539,-419 539,-413 539,-413 539,-354 539,-354 539,-348 545,-342 551,-342 551,-342 684,-342 684,-342 690,-342 696,-348 696,-354 696,-354 696,-413 696,-413 696,-419 690,-425 684,-425\"/>\n<text text-anchor=\"start\" x=\"549\" y=\"-409.8\" font-family=\"Helvetica,sans-Serif\" font-size=\"14.00\" fill=\"#000000\">Humidity3pm ≤ 0.695</text>\n<text text-anchor=\"start\" x=\"579.5\" y=\"-394.8\" font-family=\"Helvetica,sans-Serif\" font-size=\"14.00\" fill=\"#000000\">gini = 0.347</text>\n<text text-anchor=\"start\" x=\"561.5\" y=\"-379.8\" font-family=\"Helvetica,sans-Serif\" font-size=\"14.00\" fill=\"#000000\">samples = 33852</text>\n<text text-anchor=\"start\" x=\"547\" y=\"-364.8\" font-family=\"Helvetica,sans-Serif\" font-size=\"14.00\" fill=\"#000000\">value = [26303, 7549]</text>\n<text text-anchor=\"start\" x=\"578.5\" y=\"-349.8\" font-family=\"Helvetica,sans-Serif\" font-size=\"14.00\" fill=\"#000000\">class = died</text>\n</g>\n<!-- 1 -->\n<g id=\"node2\" class=\"node\">\n<title>1</title>\n<path fill=\"#e9965a\" stroke=\"#000000\" d=\"M592,-306C592,-306 459,-306 459,-306 453,-306 447,-300 447,-294 447,-294 447,-235 447,-235 447,-229 453,-223 459,-223 459,-223 592,-223 592,-223 598,-223 604,-229 604,-235 604,-235 604,-294 604,-294 604,-300 598,-306 592,-306\"/>\n<text text-anchor=\"start\" x=\"468.5\" y=\"-290.8\" font-family=\"Helvetica,sans-Serif\" font-size=\"14.00\" fill=\"#000000\">Sunshine ≤ 0.548</text>\n<text text-anchor=\"start\" x=\"487.5\" y=\"-275.8\" font-family=\"Helvetica,sans-Serif\" font-size=\"14.00\" fill=\"#000000\">gini = 0.244</text>\n<text text-anchor=\"start\" x=\"469.5\" y=\"-260.8\" font-family=\"Helvetica,sans-Serif\" font-size=\"14.00\" fill=\"#000000\">samples = 28510</text>\n<text text-anchor=\"start\" x=\"455\" y=\"-245.8\" font-family=\"Helvetica,sans-Serif\" font-size=\"14.00\" fill=\"#000000\">value = [24454, 4056]</text>\n<text text-anchor=\"start\" x=\"486.5\" y=\"-230.8\" font-family=\"Helvetica,sans-Serif\" font-size=\"14.00\" fill=\"#000000\">class = died</text>\n</g>\n<!-- 0&#45;&gt;1 -->\n<g id=\"edge1\" class=\"edge\">\n<title>0&#45;&gt;1</title>\n<path fill=\"none\" stroke=\"#000000\" d=\"M585.3229,-341.8796C578.4296,-332.9633 571.0798,-323.4565 563.9761,-314.268\"/>\n<polygon fill=\"#000000\" stroke=\"#000000\" points=\"566.6999,-312.0687 557.8145,-306.2981 561.1619,-316.3502 566.6999,-312.0687\"/>\n<text text-anchor=\"middle\" x=\"554.6413\" y=\"-327.3959\" font-family=\"Helvetica,sans-Serif\" font-size=\"14.00\" fill=\"#000000\">True</text>\n</g>\n<!-- 8 -->\n<g id=\"node9\" class=\"node\">\n<title>8</title>\n<path fill=\"#a2d1f3\" stroke=\"#000000\" d=\"M839,-306C839,-306 710,-306 710,-306 704,-306 698,-300 698,-294 698,-294 698,-235 698,-235 698,-229 704,-223 710,-223 710,-223 839,-223 839,-223 845,-223 851,-229 851,-235 851,-235 851,-294 851,-294 851,-300 845,-306 839,-306\"/>\n<text text-anchor=\"start\" x=\"706\" y=\"-290.8\" font-family=\"Helvetica,sans-Serif\" font-size=\"14.00\" fill=\"#000000\">Humidity3pm ≤ 0.815</text>\n<text text-anchor=\"start\" x=\"736.5\" y=\"-275.8\" font-family=\"Helvetica,sans-Serif\" font-size=\"14.00\" fill=\"#000000\">gini = 0.453</text>\n<text text-anchor=\"start\" x=\"722.5\" y=\"-260.8\" font-family=\"Helvetica,sans-Serif\" font-size=\"14.00\" fill=\"#000000\">samples = 5342</text>\n<text text-anchor=\"start\" x=\"708\" y=\"-245.8\" font-family=\"Helvetica,sans-Serif\" font-size=\"14.00\" fill=\"#000000\">value = [1849, 3493]</text>\n<text text-anchor=\"start\" x=\"722\" y=\"-230.8\" font-family=\"Helvetica,sans-Serif\" font-size=\"14.00\" fill=\"#000000\">class = survived</text>\n</g>\n<!-- 0&#45;&gt;8 -->\n<g id=\"edge8\" class=\"edge\">\n<title>0&#45;&gt;8</title>\n<path fill=\"none\" stroke=\"#000000\" d=\"M672.411,-341.8796C685.0794,-332.2774 698.6515,-321.9903 711.6295,-312.1534\"/>\n<polygon fill=\"#000000\" stroke=\"#000000\" points=\"713.7648,-314.9268 719.62,-306.0969 709.5364,-309.3482 713.7648,-314.9268\"/>\n<text text-anchor=\"middle\" x=\"716.2102\" y=\"-327.1633\" font-family=\"Helvetica,sans-Serif\" font-size=\"14.00\" fill=\"#000000\">False</text>\n</g>\n<!-- 2 -->\n<g id=\"node3\" class=\"node\">\n<title>2</title>\n<path fill=\"#efb185\" stroke=\"#000000\" d=\"M307,-187C307,-187 176,-187 176,-187 170,-187 164,-181 164,-175 164,-175 164,-116 164,-116 164,-110 170,-104 176,-104 176,-104 307,-104 307,-104 313,-104 319,-110 319,-116 319,-116 319,-175 319,-175 319,-181 313,-187 307,-187\"/>\n<text text-anchor=\"start\" x=\"172\" y=\"-171.8\" font-family=\"Helvetica,sans-Serif\" font-size=\"14.00\" fill=\"#000000\">Pressure3pm ≤ 0.591</text>\n<text text-anchor=\"start\" x=\"212\" y=\"-156.8\" font-family=\"Helvetica,sans-Serif\" font-size=\"14.00\" fill=\"#000000\">gini = 0.4</text>\n<text text-anchor=\"start\" x=\"185.5\" y=\"-141.8\" font-family=\"Helvetica,sans-Serif\" font-size=\"14.00\" fill=\"#000000\">samples = 10083</text>\n<text text-anchor=\"start\" x=\"175\" y=\"-126.8\" font-family=\"Helvetica,sans-Serif\" font-size=\"14.00\" fill=\"#000000\">value = [7291, 2792]</text>\n<text text-anchor=\"start\" x=\"202.5\" y=\"-111.8\" font-family=\"Helvetica,sans-Serif\" font-size=\"14.00\" fill=\"#000000\">class = died</text>\n</g>\n<!-- 1&#45;&gt;2 -->\n<g id=\"edge2\" class=\"edge\">\n<title>1&#45;&gt;2</title>\n<path fill=\"none\" stroke=\"#000000\" d=\"M446.7673,-231.5099C410.1449,-216.1646 366.4653,-197.8622 328.8317,-182.0932\"/>\n<polygon fill=\"#000000\" stroke=\"#000000\" points=\"329.9778,-178.7786 319.4021,-178.1421 327.2725,-185.2348 329.9778,-178.7786\"/>\n</g>\n<!-- 5 -->\n<g id=\"node6\" class=\"node\">\n<title>5</title>\n<path fill=\"#e78a48\" stroke=\"#000000\" d=\"M592,-187C592,-187 459,-187 459,-187 453,-187 447,-181 447,-175 447,-175 447,-116 447,-116 447,-110 453,-104 459,-104 459,-104 592,-104 592,-104 598,-104 604,-110 604,-116 604,-116 604,-175 604,-175 604,-181 598,-187 592,-187\"/>\n<text text-anchor=\"start\" x=\"457\" y=\"-171.8\" font-family=\"Helvetica,sans-Serif\" font-size=\"14.00\" fill=\"#000000\">Humidity3pm ≤ 0.545</text>\n<text text-anchor=\"start\" x=\"487.5\" y=\"-156.8\" font-family=\"Helvetica,sans-Serif\" font-size=\"14.00\" fill=\"#000000\">gini = 0.128</text>\n<text text-anchor=\"start\" x=\"469.5\" y=\"-141.8\" font-family=\"Helvetica,sans-Serif\" font-size=\"14.00\" fill=\"#000000\">samples = 18427</text>\n<text text-anchor=\"start\" x=\"455\" y=\"-126.8\" font-family=\"Helvetica,sans-Serif\" font-size=\"14.00\" fill=\"#000000\">value = [17163, 1264]</text>\n<text text-anchor=\"start\" x=\"486.5\" y=\"-111.8\" font-family=\"Helvetica,sans-Serif\" font-size=\"14.00\" fill=\"#000000\">class = died</text>\n</g>\n<!-- 1&#45;&gt;5 -->\n<g id=\"edge5\" class=\"edge\">\n<title>1&#45;&gt;5</title>\n<path fill=\"none\" stroke=\"#000000\" d=\"M525.5,-222.8796C525.5,-214.6838 525.5,-205.9891 525.5,-197.5013\"/>\n<polygon fill=\"#000000\" stroke=\"#000000\" points=\"529.0001,-197.298 525.5,-187.2981 522.0001,-197.2981 529.0001,-197.298\"/>\n</g>\n<!-- 3 -->\n<g id=\"node4\" class=\"node\">\n<title>3</title>\n<path fill=\"#f6d5bc\" stroke=\"#000000\" d=\"M137,-68C137,-68 12,-68 12,-68 6,-68 0,-62 0,-56 0,-56 0,-12 0,-12 0,-6 6,0 12,0 12,0 137,0 137,0 143,0 149,-6 149,-12 149,-12 149,-56 149,-56 149,-62 143,-68 137,-68\"/>\n<text text-anchor=\"start\" x=\"41\" y=\"-52.8\" font-family=\"Helvetica,sans-Serif\" font-size=\"14.00\" fill=\"#000000\">gini = 0.48</text>\n<text text-anchor=\"start\" x=\"22.5\" y=\"-37.8\" font-family=\"Helvetica,sans-Serif\" font-size=\"14.00\" fill=\"#000000\">samples = 4322</text>\n<text text-anchor=\"start\" x=\"8\" y=\"-22.8\" font-family=\"Helvetica,sans-Serif\" font-size=\"14.00\" fill=\"#000000\">value = [2598, 1724]</text>\n<text text-anchor=\"start\" x=\"35.5\" y=\"-7.8\" font-family=\"Helvetica,sans-Serif\" font-size=\"14.00\" fill=\"#000000\">class = died</text>\n</g>\n<!-- 2&#45;&gt;3 -->\n<g id=\"edge3\" class=\"edge\">\n<title>2&#45;&gt;3</title>\n<path fill=\"none\" stroke=\"#000000\" d=\"M179.3154,-103.9815C164.5089,-94.0957 148.7441,-83.5701 134.0585,-73.7651\"/>\n<polygon fill=\"#000000\" stroke=\"#000000\" points=\"135.8122,-70.7276 125.552,-68.0856 131.9252,-76.5493 135.8122,-70.7276\"/>\n</g>\n<!-- 4 -->\n<g id=\"node5\" class=\"node\">\n<title>4</title>\n<path fill=\"#eb9e66\" stroke=\"#000000\" d=\"M304,-68C304,-68 179,-68 179,-68 173,-68 167,-62 167,-56 167,-56 167,-12 167,-12 167,-6 173,0 179,0 179,0 304,0 304,0 310,0 316,-6 316,-12 316,-12 316,-56 316,-56 316,-62 310,-68 304,-68\"/>\n<text text-anchor=\"start\" x=\"203.5\" y=\"-52.8\" font-family=\"Helvetica,sans-Serif\" font-size=\"14.00\" fill=\"#000000\">gini = 0.302</text>\n<text text-anchor=\"start\" x=\"189.5\" y=\"-37.8\" font-family=\"Helvetica,sans-Serif\" font-size=\"14.00\" fill=\"#000000\">samples = 5761</text>\n<text text-anchor=\"start\" x=\"175\" y=\"-22.8\" font-family=\"Helvetica,sans-Serif\" font-size=\"14.00\" fill=\"#000000\">value = [4693, 1068]</text>\n<text text-anchor=\"start\" x=\"202.5\" y=\"-7.8\" font-family=\"Helvetica,sans-Serif\" font-size=\"14.00\" fill=\"#000000\">class = died</text>\n</g>\n<!-- 2&#45;&gt;4 -->\n<g id=\"edge4\" class=\"edge\">\n<title>2&#45;&gt;4</title>\n<path fill=\"none\" stroke=\"#000000\" d=\"M241.5,-103.9815C241.5,-95.618 241.5,-86.7965 241.5,-78.3409\"/>\n<polygon fill=\"#000000\" stroke=\"#000000\" points=\"245.0001,-78.2636 241.5,-68.2637 238.0001,-78.2637 245.0001,-78.2636\"/>\n</g>\n<!-- 6 -->\n<g id=\"node7\" class=\"node\">\n<title>6</title>\n<path fill=\"#e68743\" stroke=\"#000000\" d=\"M471,-68C471,-68 346,-68 346,-68 340,-68 334,-62 334,-56 334,-56 334,-12 334,-12 334,-6 340,0 346,0 346,0 471,0 471,0 477,0 483,-6 483,-12 483,-12 483,-56 483,-56 483,-62 477,-68 471,-68\"/>\n<text text-anchor=\"start\" x=\"370.5\" y=\"-52.8\" font-family=\"Helvetica,sans-Serif\" font-size=\"14.00\" fill=\"#000000\">gini = 0.093</text>\n<text text-anchor=\"start\" x=\"352.5\" y=\"-37.8\" font-family=\"Helvetica,sans-Serif\" font-size=\"14.00\" fill=\"#000000\">samples = 14938</text>\n<text text-anchor=\"start\" x=\"342\" y=\"-22.8\" font-family=\"Helvetica,sans-Serif\" font-size=\"14.00\" fill=\"#000000\">value = [14208, 730]</text>\n<text text-anchor=\"start\" x=\"369.5\" y=\"-7.8\" font-family=\"Helvetica,sans-Serif\" font-size=\"14.00\" fill=\"#000000\">class = died</text>\n</g>\n<!-- 5&#45;&gt;6 -->\n<g id=\"edge6\" class=\"edge\">\n<title>5&#45;&gt;6</title>\n<path fill=\"none\" stroke=\"#000000\" d=\"M481.9335,-103.9815C472.0966,-94.607 461.656,-84.6572 451.8289,-75.2921\"/>\n<polygon fill=\"#000000\" stroke=\"#000000\" points=\"454.1076,-72.6289 444.4538,-68.2637 449.2784,-77.6963 454.1076,-72.6289\"/>\n</g>\n<!-- 7 -->\n<g id=\"node8\" class=\"node\">\n<title>7</title>\n<path fill=\"#ea985d\" stroke=\"#000000\" d=\"M629.5,-68C629.5,-68 513.5,-68 513.5,-68 507.5,-68 501.5,-62 501.5,-56 501.5,-56 501.5,-12 501.5,-12 501.5,-6 507.5,0 513.5,0 513.5,0 629.5,0 629.5,0 635.5,0 641.5,-6 641.5,-12 641.5,-12 641.5,-56 641.5,-56 641.5,-62 635.5,-68 629.5,-68\"/>\n<text text-anchor=\"start\" x=\"533.5\" y=\"-52.8\" font-family=\"Helvetica,sans-Serif\" font-size=\"14.00\" fill=\"#000000\">gini = 0.259</text>\n<text text-anchor=\"start\" x=\"519.5\" y=\"-37.8\" font-family=\"Helvetica,sans-Serif\" font-size=\"14.00\" fill=\"#000000\">samples = 3489</text>\n<text text-anchor=\"start\" x=\"509.5\" y=\"-22.8\" font-family=\"Helvetica,sans-Serif\" font-size=\"14.00\" fill=\"#000000\">value = [2955, 534]</text>\n<text text-anchor=\"start\" x=\"532.5\" y=\"-7.8\" font-family=\"Helvetica,sans-Serif\" font-size=\"14.00\" fill=\"#000000\">class = died</text>\n</g>\n<!-- 5&#45;&gt;7 -->\n<g id=\"edge7\" class=\"edge\">\n<title>5&#45;&gt;7</title>\n<path fill=\"none\" stroke=\"#000000\" d=\"M542.6287,-103.9815C546.155,-95.4342 549.8785,-86.4086 553.4367,-77.7839\"/>\n<polygon fill=\"#000000\" stroke=\"#000000\" points=\"556.786,-78.8427 557.3643,-68.2637 550.315,-76.1731 556.786,-78.8427\"/>\n</g>\n<!-- 9 -->\n<g id=\"node10\" class=\"node\">\n<title>9</title>\n<path fill=\"#eff7fd\" stroke=\"#000000\" d=\"M850,-187C850,-187 699,-187 699,-187 693,-187 687,-181 687,-175 687,-175 687,-116 687,-116 687,-110 693,-104 699,-104 699,-104 850,-104 850,-104 856,-104 862,-110 862,-116 862,-116 862,-175 862,-175 862,-181 856,-187 850,-187\"/>\n<text text-anchor=\"start\" x=\"695\" y=\"-171.8\" font-family=\"Helvetica,sans-Serif\" font-size=\"14.00\" fill=\"#000000\">WindGustSpeed ≤ 0.274</text>\n<text text-anchor=\"start\" x=\"736.5\" y=\"-156.8\" font-family=\"Helvetica,sans-Serif\" font-size=\"14.00\" fill=\"#000000\">gini = 0.499</text>\n<text text-anchor=\"start\" x=\"722.5\" y=\"-141.8\" font-family=\"Helvetica,sans-Serif\" font-size=\"14.00\" fill=\"#000000\">samples = 3178</text>\n<text text-anchor=\"start\" x=\"708\" y=\"-126.8\" font-family=\"Helvetica,sans-Serif\" font-size=\"14.00\" fill=\"#000000\">value = [1520, 1658]</text>\n<text text-anchor=\"start\" x=\"722\" y=\"-111.8\" font-family=\"Helvetica,sans-Serif\" font-size=\"14.00\" fill=\"#000000\">class = survived</text>\n</g>\n<!-- 8&#45;&gt;9 -->\n<g id=\"edge9\" class=\"edge\">\n<title>8&#45;&gt;9</title>\n<path fill=\"none\" stroke=\"#000000\" d=\"M774.5,-222.8796C774.5,-214.6838 774.5,-205.9891 774.5,-197.5013\"/>\n<polygon fill=\"#000000\" stroke=\"#000000\" points=\"778.0001,-197.298 774.5,-187.2981 771.0001,-197.2981 778.0001,-197.298\"/>\n</g>\n<!-- 12 -->\n<g id=\"node13\" class=\"node\">\n<title>12</title>\n<path fill=\"#5cafea\" stroke=\"#000000\" d=\"M1103,-187C1103,-187 972,-187 972,-187 966,-187 960,-181 960,-175 960,-175 960,-116 960,-116 960,-110 966,-104 972,-104 972,-104 1103,-104 1103,-104 1109,-104 1115,-110 1115,-116 1115,-116 1115,-175 1115,-175 1115,-181 1109,-187 1103,-187\"/>\n<text text-anchor=\"start\" x=\"968\" y=\"-171.8\" font-family=\"Helvetica,sans-Serif\" font-size=\"14.00\" fill=\"#000000\">Pressure3pm ≤ 0.688</text>\n<text text-anchor=\"start\" x=\"999.5\" y=\"-156.8\" font-family=\"Helvetica,sans-Serif\" font-size=\"14.00\" fill=\"#000000\">gini = 0.258</text>\n<text text-anchor=\"start\" x=\"985.5\" y=\"-141.8\" font-family=\"Helvetica,sans-Serif\" font-size=\"14.00\" fill=\"#000000\">samples = 2164</text>\n<text text-anchor=\"start\" x=\"975.5\" y=\"-126.8\" font-family=\"Helvetica,sans-Serif\" font-size=\"14.00\" fill=\"#000000\">value = [329, 1835]</text>\n<text text-anchor=\"start\" x=\"985\" y=\"-111.8\" font-family=\"Helvetica,sans-Serif\" font-size=\"14.00\" fill=\"#000000\">class = survived</text>\n</g>\n<!-- 8&#45;&gt;12 -->\n<g id=\"edge12\" class=\"edge\">\n<title>8&#45;&gt;12</title>\n<path fill=\"none\" stroke=\"#000000\" d=\"M851.2775,-229.7604C882.3265,-215.7116 918.3293,-199.4213 950.3562,-184.9301\"/>\n<polygon fill=\"#000000\" stroke=\"#000000\" points=\"952.0478,-188.0064 959.7157,-180.6952 949.1621,-181.6288 952.0478,-188.0064\"/>\n</g>\n<!-- 10 -->\n<g id=\"node11\" class=\"node\">\n<title>10</title>\n<path fill=\"#f7dac5\" stroke=\"#000000\" d=\"M787.5,-68C787.5,-68 671.5,-68 671.5,-68 665.5,-68 659.5,-62 659.5,-56 659.5,-56 659.5,-12 659.5,-12 659.5,-6 665.5,0 671.5,0 671.5,0 787.5,0 787.5,0 793.5,0 799.5,-6 799.5,-12 799.5,-12 799.5,-56 799.5,-56 799.5,-62 793.5,-68 787.5,-68\"/>\n<text text-anchor=\"start\" x=\"691.5\" y=\"-52.8\" font-family=\"Helvetica,sans-Serif\" font-size=\"14.00\" fill=\"#000000\">gini = 0.485</text>\n<text text-anchor=\"start\" x=\"677.5\" y=\"-37.8\" font-family=\"Helvetica,sans-Serif\" font-size=\"14.00\" fill=\"#000000\">samples = 1808</text>\n<text text-anchor=\"start\" x=\"667.5\" y=\"-22.8\" font-family=\"Helvetica,sans-Serif\" font-size=\"14.00\" fill=\"#000000\">value = [1060, 748]</text>\n<text text-anchor=\"start\" x=\"690.5\" y=\"-7.8\" font-family=\"Helvetica,sans-Serif\" font-size=\"14.00\" fill=\"#000000\">class = died</text>\n</g>\n<!-- 9&#45;&gt;10 -->\n<g id=\"edge10\" class=\"edge\">\n<title>9&#45;&gt;10</title>\n<path fill=\"none\" stroke=\"#000000\" d=\"M757.7437,-103.9815C754.2941,-95.4342 750.6514,-86.4086 747.1706,-77.7839\"/>\n<polygon fill=\"#000000\" stroke=\"#000000\" points=\"750.3167,-76.227 743.3284,-68.2637 743.8254,-78.8469 750.3167,-76.227\"/>\n</g>\n<!-- 11 -->\n<g id=\"node12\" class=\"node\">\n<title>11</title>\n<path fill=\"#9dcff2\" stroke=\"#000000\" d=\"M937.5,-68C937.5,-68 829.5,-68 829.5,-68 823.5,-68 817.5,-62 817.5,-56 817.5,-56 817.5,-12 817.5,-12 817.5,-6 823.5,0 829.5,0 829.5,0 937.5,0 937.5,0 943.5,0 949.5,-6 949.5,-12 949.5,-12 949.5,-56 949.5,-56 949.5,-62 943.5,-68 937.5,-68\"/>\n<text text-anchor=\"start\" x=\"845.5\" y=\"-52.8\" font-family=\"Helvetica,sans-Serif\" font-size=\"14.00\" fill=\"#000000\">gini = 0.446</text>\n<text text-anchor=\"start\" x=\"831.5\" y=\"-37.8\" font-family=\"Helvetica,sans-Serif\" font-size=\"14.00\" fill=\"#000000\">samples = 1370</text>\n<text text-anchor=\"start\" x=\"825.5\" y=\"-22.8\" font-family=\"Helvetica,sans-Serif\" font-size=\"14.00\" fill=\"#000000\">value = [460, 910]</text>\n<text text-anchor=\"start\" x=\"831\" y=\"-7.8\" font-family=\"Helvetica,sans-Serif\" font-size=\"14.00\" fill=\"#000000\">class = survived</text>\n</g>\n<!-- 9&#45;&gt;11 -->\n<g id=\"edge11\" class=\"edge\">\n<title>9&#45;&gt;11</title>\n<path fill=\"none\" stroke=\"#000000\" d=\"M815.0876,-103.9815C824.162,-94.6989 833.7879,-84.8522 842.8643,-75.5677\"/>\n<polygon fill=\"#000000\" stroke=\"#000000\" points=\"845.5169,-77.8611 850.0046,-68.2637 840.5113,-72.9678 845.5169,-77.8611\"/>\n</g>\n<!-- 13 -->\n<g id=\"node14\" class=\"node\">\n<title>13</title>\n<path fill=\"#52aae8\" stroke=\"#000000\" d=\"M1095.5,-68C1095.5,-68 979.5,-68 979.5,-68 973.5,-68 967.5,-62 967.5,-56 967.5,-56 967.5,-12 967.5,-12 967.5,-6 973.5,0 979.5,0 979.5,0 1095.5,0 1095.5,0 1101.5,0 1107.5,-6 1107.5,-12 1107.5,-12 1107.5,-56 1107.5,-56 1107.5,-62 1101.5,-68 1095.5,-68\"/>\n<text text-anchor=\"start\" x=\"999.5\" y=\"-52.8\" font-family=\"Helvetica,sans-Serif\" font-size=\"14.00\" fill=\"#000000\">gini = 0.202</text>\n<text text-anchor=\"start\" x=\"985.5\" y=\"-37.8\" font-family=\"Helvetica,sans-Serif\" font-size=\"14.00\" fill=\"#000000\">samples = 1825</text>\n<text text-anchor=\"start\" x=\"975.5\" y=\"-22.8\" font-family=\"Helvetica,sans-Serif\" font-size=\"14.00\" fill=\"#000000\">value = [208, 1617]</text>\n<text text-anchor=\"start\" x=\"985\" y=\"-7.8\" font-family=\"Helvetica,sans-Serif\" font-size=\"14.00\" fill=\"#000000\">class = survived</text>\n</g>\n<!-- 12&#45;&gt;13 -->\n<g id=\"edge13\" class=\"edge\">\n<title>12&#45;&gt;13</title>\n<path fill=\"none\" stroke=\"#000000\" d=\"M1037.5,-103.9815C1037.5,-95.618 1037.5,-86.7965 1037.5,-78.3409\"/>\n<polygon fill=\"#000000\" stroke=\"#000000\" points=\"1041.0001,-78.2636 1037.5,-68.2637 1034.0001,-78.2637 1041.0001,-78.2636\"/>\n</g>\n<!-- 14 -->\n<g id=\"node15\" class=\"node\">\n<title>14</title>\n<path fill=\"#a7d3f3\" stroke=\"#000000\" d=\"M1245.5,-68C1245.5,-68 1137.5,-68 1137.5,-68 1131.5,-68 1125.5,-62 1125.5,-56 1125.5,-56 1125.5,-12 1125.5,-12 1125.5,-6 1131.5,0 1137.5,0 1137.5,0 1245.5,0 1245.5,0 1251.5,0 1257.5,-6 1257.5,-12 1257.5,-12 1257.5,-56 1257.5,-56 1257.5,-62 1251.5,-68 1245.5,-68\"/>\n<text text-anchor=\"start\" x=\"1153.5\" y=\"-52.8\" font-family=\"Helvetica,sans-Serif\" font-size=\"14.00\" fill=\"#000000\">gini = 0.459</text>\n<text text-anchor=\"start\" x=\"1143.5\" y=\"-37.8\" font-family=\"Helvetica,sans-Serif\" font-size=\"14.00\" fill=\"#000000\">samples = 339</text>\n<text text-anchor=\"start\" x=\"1133.5\" y=\"-22.8\" font-family=\"Helvetica,sans-Serif\" font-size=\"14.00\" fill=\"#000000\">value = [121, 218]</text>\n<text text-anchor=\"start\" x=\"1139\" y=\"-7.8\" font-family=\"Helvetica,sans-Serif\" font-size=\"14.00\" fill=\"#000000\">class = survived</text>\n</g>\n<!-- 12&#45;&gt;14 -->\n<g id=\"edge14\" class=\"edge\">\n<title>12&#45;&gt;14</title>\n<path fill=\"none\" stroke=\"#000000\" d=\"M1094.8439,-103.9815C1108.2994,-94.2394 1122.6131,-83.8759 1135.9867,-74.193\"/>\n<polygon fill=\"#000000\" stroke=\"#000000\" points=\"1138.1289,-76.9632 1144.1762,-68.2637 1134.0237,-71.2933 1138.1289,-76.9632\"/>\n</g>\n</g>\n</svg>\n"
          },
          "metadata": {
            "tags": []
          },
          "execution_count": 27
        }
      ]
    },
    {
      "cell_type": "markdown",
      "metadata": {
        "id": "cPzZFLL4KDAZ"
      },
      "source": [
        "# **RANDOM FOREST**"
      ],
      "id": "cPzZFLL4KDAZ"
    },
    {
      "cell_type": "code",
      "metadata": {
        "id": "ySuNeegyKT9z",
        "colab": {
          "base_uri": "https://localhost:8080/",
          "height": 312
        },
        "outputId": "46cead84-63aa-4fdd-eb5e-2345f604c6d1"
      },
      "source": [
        "forest_model = RandomForestClassifier(max_depth=3, random_state=40)\n",
        "\n",
        "rf_model = Pipeline([\n",
        "    ('mapper', mapper),\n",
        "    ('classifier', forest_model),\n",
        "])\n",
        "\n",
        "rf_model.fit(train, train.RainTomorrow)\n",
        "\n",
        "evaluate_model(rf_model, title='Random Forest')"
      ],
      "id": "ySuNeegyKT9z",
      "execution_count": null,
      "outputs": [
        {
          "output_type": "display_data",
          "data": {
            "application/vnd.google.colaboratory.intrinsic+json": {
              "type": "string"
            },
            "text/plain": [
              "'Random Forest'"
            ]
          },
          "metadata": {
            "tags": []
          }
        },
        {
          "output_type": "display_data",
          "data": {
            "text/html": [
              "<div>\n",
              "<style scoped>\n",
              "    .dataframe tbody tr th:only-of-type {\n",
              "        vertical-align: middle;\n",
              "    }\n",
              "\n",
              "    .dataframe tbody tr th {\n",
              "        vertical-align: top;\n",
              "    }\n",
              "\n",
              "    .dataframe thead th {\n",
              "        text-align: right;\n",
              "    }\n",
              "</style>\n",
              "<table border=\"1\" class=\"dataframe\">\n",
              "  <thead>\n",
              "    <tr style=\"text-align: right;\">\n",
              "      <th></th>\n",
              "      <th>Accuracy</th>\n",
              "      <th>Precision</th>\n",
              "    </tr>\n",
              "  </thead>\n",
              "  <tbody>\n",
              "    <tr>\n",
              "      <th>train</th>\n",
              "      <td>0.820070</td>\n",
              "      <td>0.833791</td>\n",
              "    </tr>\n",
              "    <tr>\n",
              "      <th>validation</th>\n",
              "      <td>0.825328</td>\n",
              "      <td>0.827389</td>\n",
              "    </tr>\n",
              "  </tbody>\n",
              "</table>\n",
              "</div>"
            ],
            "text/plain": [
              "            Accuracy  Precision\n",
              "train       0.820070   0.833791\n",
              "validation  0.825328   0.827389"
            ]
          },
          "metadata": {
            "tags": []
          }
        },
        {
          "output_type": "display_data",
          "data": {
            "image/png": "[encoded data removed]",
            "text/plain": [
              "<Figure size 1080x216 with 2 Axes>"
            ]
          },
          "metadata": {
            "tags": [],
            "needs_background": "light"
          }
        }
      ]
    },
    {
      "cell_type": "code",
      "metadata": {
        "id": "jM3hvi-m2FM0",
        "colab": {
          "base_uri": "https://localhost:8080/",
          "height": 312
        },
        "outputId": "b7234a41-ee85-44e1-ea43-b5b944fbb60b"
      },
      "source": [
        "forest_model = RandomForestClassifier(n_estimators=150, max_features=5, max_depth=3, random_state=40)\n",
        "\n",
        "rf_model = Pipeline([\n",
        "    ('mapper', mapper),\n",
        "    ('classifier', forest_model),\n",
        "])\n",
        "\n",
        "rf_model.fit(train, train.RainTomorrow)\n",
        "\n",
        "evaluate_model(rf_model, title='Random Forest')"
      ],
      "id": "jM3hvi-m2FM0",
      "execution_count": null,
      "outputs": [
        {
          "output_type": "display_data",
          "data": {
            "application/vnd.google.colaboratory.intrinsic+json": {
              "type": "string"
            },
            "text/plain": [
              "'Random Forest'"
            ]
          },
          "metadata": {
            "tags": []
          }
        },
        {
          "output_type": "display_data",
          "data": {
            "text/html": [
              "<div>\n",
              "<style scoped>\n",
              "    .dataframe tbody tr th:only-of-type {\n",
              "        vertical-align: middle;\n",
              "    }\n",
              "\n",
              "    .dataframe tbody tr th {\n",
              "        vertical-align: top;\n",
              "    }\n",
              "\n",
              "    .dataframe thead th {\n",
              "        text-align: right;\n",
              "    }\n",
              "</style>\n",
              "<table border=\"1\" class=\"dataframe\">\n",
              "  <thead>\n",
              "    <tr style=\"text-align: right;\">\n",
              "      <th></th>\n",
              "      <th>Accuracy</th>\n",
              "      <th>Precision</th>\n",
              "    </tr>\n",
              "  </thead>\n",
              "  <tbody>\n",
              "    <tr>\n",
              "      <th>train</th>\n",
              "      <td>0.806540</td>\n",
              "      <td>0.915973</td>\n",
              "    </tr>\n",
              "    <tr>\n",
              "      <th>validation</th>\n",
              "      <td>0.813187</td>\n",
              "      <td>0.883333</td>\n",
              "    </tr>\n",
              "  </tbody>\n",
              "</table>\n",
              "</div>"
            ],
            "text/plain": [
              "            Accuracy  Precision\n",
              "train       0.806540   0.915973\n",
              "validation  0.813187   0.883333"
            ]
          },
          "metadata": {
            "tags": []
          }
        },
        {
          "output_type": "display_data",
          "data": {
            "image/png": "[encoded data removed]",
            "text/plain": [
              "<Figure size 1080x216 with 2 Axes>"
            ]
          },
          "metadata": {
            "tags": [],
            "needs_background": "light"
          }
        }
      ]
    },
    {
      "cell_type": "code",
      "metadata": {
        "colab": {
          "base_uri": "https://localhost:8080/",
          "height": 618
        },
        "id": "i1wYYqa5M411",
        "outputId": "d5f91034-4e00-4db1-b105-41ed7429ae7b"
      },
      "source": [
        "graph_tree(forest_model.estimators_[0], mapper.transformed_names_)"
      ],
      "id": "i1wYYqa5M411",
      "execution_count": null,
      "outputs": [
        {
          "output_type": "execute_result",
          "data": {
            "text/plain": [
              "<graphviz.files.Source at 0x7fb01ad8e090>"
            ],
            "image/svg+xml": "<?xml version=\"1.0\" encoding=\"UTF-8\" standalone=\"no\"?>\n<!DOCTYPE svg PUBLIC \"-//W3C//DTD SVG 1.1//EN\"\n \"http://www.w3.org/Graphics/SVG/1.1/DTD/svg11.dtd\">\n<!-- Generated by graphviz version 2.40.1 (20161225.0304)\n -->\n<!-- Title: Tree Pages: 1 -->\n<svg width=\"1268pt\" height=\"433pt\"\n viewBox=\"0.00 0.00 1267.50 433.00\" xmlns=\"http://www.w3.org/2000/svg\" xmlns:xlink=\"http://www.w3.org/1999/xlink\">\n<g id=\"graph0\" class=\"graph\" transform=\"scale(1 1) rotate(0) translate(4 429)\">\n<title>Tree</title>\n<polygon fill=\"#ffffff\" stroke=\"transparent\" points=\"-4,4 -4,-429 1263.5,-429 1263.5,4 -4,4\"/>\n<!-- 0 -->\n<g id=\"node1\" class=\"node\">\n<title>0</title>\n<path fill=\"#eda572\" stroke=\"#000000\" d=\"M675,-425C675,-425 542,-425 542,-425 536,-425 530,-419 530,-413 530,-413 530,-354 530,-354 530,-348 536,-342 542,-342 542,-342 675,-342 675,-342 681,-342 687,-348 687,-354 687,-354 687,-413 687,-413 687,-419 681,-425 675,-425\"/>\n<text text-anchor=\"start\" x=\"558.5\" y=\"-409.8\" font-family=\"Helvetica,sans-Serif\" font-size=\"14.00\" fill=\"#000000\">Rainfall ≤ 0.003</text>\n<text text-anchor=\"start\" x=\"570.5\" y=\"-394.8\" font-family=\"Helvetica,sans-Serif\" font-size=\"14.00\" fill=\"#000000\">gini = 0.348</text>\n<text text-anchor=\"start\" x=\"552.5\" y=\"-379.8\" font-family=\"Helvetica,sans-Serif\" font-size=\"14.00\" fill=\"#000000\">samples = 21353</text>\n<text text-anchor=\"start\" x=\"538\" y=\"-364.8\" font-family=\"Helvetica,sans-Serif\" font-size=\"14.00\" fill=\"#000000\">value = [26261, 7591]</text>\n<text text-anchor=\"start\" x=\"569.5\" y=\"-349.8\" font-family=\"Helvetica,sans-Serif\" font-size=\"14.00\" fill=\"#000000\">class = died</text>\n</g>\n<!-- 1 -->\n<g id=\"node2\" class=\"node\">\n<title>1</title>\n<path fill=\"#e9975b\" stroke=\"#000000\" d=\"M586,-306C586,-306 453,-306 453,-306 447,-306 441,-300 441,-294 441,-294 441,-235 441,-235 441,-229 447,-223 453,-223 453,-223 586,-223 586,-223 592,-223 598,-229 598,-235 598,-235 598,-294 598,-294 598,-300 592,-306 586,-306\"/>\n<text text-anchor=\"start\" x=\"462.5\" y=\"-290.8\" font-family=\"Helvetica,sans-Serif\" font-size=\"14.00\" fill=\"#000000\">Sunshine ≤ 0.431</text>\n<text text-anchor=\"start\" x=\"486\" y=\"-275.8\" font-family=\"Helvetica,sans-Serif\" font-size=\"14.00\" fill=\"#000000\">gini = 0.25</text>\n<text text-anchor=\"start\" x=\"463.5\" y=\"-260.8\" font-family=\"Helvetica,sans-Serif\" font-size=\"14.00\" fill=\"#000000\">samples = 15585</text>\n<text text-anchor=\"start\" x=\"449\" y=\"-245.8\" font-family=\"Helvetica,sans-Serif\" font-size=\"14.00\" fill=\"#000000\">value = [21121, 3630]</text>\n<text text-anchor=\"start\" x=\"480.5\" y=\"-230.8\" font-family=\"Helvetica,sans-Serif\" font-size=\"14.00\" fill=\"#000000\">class = died</text>\n</g>\n<!-- 0&#45;&gt;1 -->\n<g id=\"edge1\" class=\"edge\">\n<title>0&#45;&gt;1</title>\n<path fill=\"none\" stroke=\"#000000\" d=\"M577.3721,-341.8796C570.771,-333.0534 563.7371,-323.6485 556.9298,-314.5466\"/>\n<polygon fill=\"#000000\" stroke=\"#000000\" points=\"559.5528,-312.2099 550.7607,-306.2981 553.9472,-316.4024 559.5528,-312.2099\"/>\n<text text-anchor=\"middle\" x=\"547.1919\" y=\"-327.342\" font-family=\"Helvetica,sans-Serif\" font-size=\"14.00\" fill=\"#000000\">True</text>\n</g>\n<!-- 8 -->\n<g id=\"node9\" class=\"node\">\n<title>8</title>\n<path fill=\"#f9e2d2\" stroke=\"#000000\" d=\"M819,-306C819,-306 688,-306 688,-306 682,-306 676,-300 676,-294 676,-294 676,-235 676,-235 676,-229 682,-223 688,-223 688,-223 819,-223 819,-223 825,-223 831,-229 831,-235 831,-235 831,-294 831,-294 831,-300 825,-306 819,-306\"/>\n<text text-anchor=\"start\" x=\"684\" y=\"-290.8\" font-family=\"Helvetica,sans-Serif\" font-size=\"14.00\" fill=\"#000000\">Pressure9am ≤ 0.524</text>\n<text text-anchor=\"start\" x=\"715.5\" y=\"-275.8\" font-family=\"Helvetica,sans-Serif\" font-size=\"14.00\" fill=\"#000000\">gini = 0.492</text>\n<text text-anchor=\"start\" x=\"701.5\" y=\"-260.8\" font-family=\"Helvetica,sans-Serif\" font-size=\"14.00\" fill=\"#000000\">samples = 5768</text>\n<text text-anchor=\"start\" x=\"687\" y=\"-245.8\" font-family=\"Helvetica,sans-Serif\" font-size=\"14.00\" fill=\"#000000\">value = [5140, 3961]</text>\n<text text-anchor=\"start\" x=\"714.5\" y=\"-230.8\" font-family=\"Helvetica,sans-Serif\" font-size=\"14.00\" fill=\"#000000\">class = died</text>\n</g>\n<!-- 0&#45;&gt;8 -->\n<g id=\"edge8\" class=\"edge\">\n<title>0&#45;&gt;8</title>\n<path fill=\"none\" stroke=\"#000000\" d=\"M659.214,-341.8796C670.627,-332.513 682.8341,-322.4948 694.5515,-312.8784\"/>\n<polygon fill=\"#000000\" stroke=\"#000000\" points=\"697.0599,-315.3476 702.5696,-306.2981 692.6191,-309.9366 697.0599,-315.3476\"/>\n<text text-anchor=\"middle\" x=\"700.1193\" y=\"-327.4777\" font-family=\"Helvetica,sans-Serif\" font-size=\"14.00\" fill=\"#000000\">False</text>\n</g>\n<!-- 2 -->\n<g id=\"node3\" class=\"node\">\n<title>2</title>\n<path fill=\"#f4c9aa\" stroke=\"#000000\" d=\"M308,-187C308,-187 159,-187 159,-187 153,-187 147,-181 147,-175 147,-175 147,-116 147,-116 147,-110 153,-104 159,-104 159,-104 308,-104 308,-104 314,-104 320,-110 320,-116 320,-116 320,-175 320,-175 320,-181 314,-187 308,-187\"/>\n<text text-anchor=\"start\" x=\"155\" y=\"-171.8\" font-family=\"Helvetica,sans-Serif\" font-size=\"14.00\" fill=\"#000000\">WindSpeed9am ≤ 0.323</text>\n<text text-anchor=\"start\" x=\"195.5\" y=\"-156.8\" font-family=\"Helvetica,sans-Serif\" font-size=\"14.00\" fill=\"#000000\">gini = 0.463</text>\n<text text-anchor=\"start\" x=\"181.5\" y=\"-141.8\" font-family=\"Helvetica,sans-Serif\" font-size=\"14.00\" fill=\"#000000\">samples = 3693</text>\n<text text-anchor=\"start\" x=\"167\" y=\"-126.8\" font-family=\"Helvetica,sans-Serif\" font-size=\"14.00\" fill=\"#000000\">value = [3730, 2133]</text>\n<text text-anchor=\"start\" x=\"194.5\" y=\"-111.8\" font-family=\"Helvetica,sans-Serif\" font-size=\"14.00\" fill=\"#000000\">class = died</text>\n</g>\n<!-- 1&#45;&gt;2 -->\n<g id=\"edge2\" class=\"edge\">\n<title>1&#45;&gt;2</title>\n<path fill=\"none\" stroke=\"#000000\" d=\"M440.971,-231.8253C406.5881,-217.5192 365.9161,-200.5962 329.7331,-185.541\"/>\n<polygon fill=\"#000000\" stroke=\"#000000\" points=\"330.7254,-182.1631 320.1482,-181.5529 328.0363,-188.626 330.7254,-182.1631\"/>\n</g>\n<!-- 5 -->\n<g id=\"node6\" class=\"node\">\n<title>5</title>\n<path fill=\"#e78c4a\" stroke=\"#000000\" d=\"M594,-187C594,-187 445,-187 445,-187 439,-187 433,-181 433,-175 433,-175 433,-116 433,-116 433,-110 439,-104 445,-104 445,-104 594,-104 594,-104 600,-104 606,-110 606,-116 606,-116 606,-175 606,-175 606,-181 600,-187 594,-187\"/>\n<text text-anchor=\"start\" x=\"441\" y=\"-171.8\" font-family=\"Helvetica,sans-Serif\" font-size=\"14.00\" fill=\"#000000\">WindSpeed3pm ≤ 0.432</text>\n<text text-anchor=\"start\" x=\"481.5\" y=\"-156.8\" font-family=\"Helvetica,sans-Serif\" font-size=\"14.00\" fill=\"#000000\">gini = 0.146</text>\n<text text-anchor=\"start\" x=\"463.5\" y=\"-141.8\" font-family=\"Helvetica,sans-Serif\" font-size=\"14.00\" fill=\"#000000\">samples = 11892</text>\n<text text-anchor=\"start\" x=\"449\" y=\"-126.8\" font-family=\"Helvetica,sans-Serif\" font-size=\"14.00\" fill=\"#000000\">value = [17391, 1497]</text>\n<text text-anchor=\"start\" x=\"480.5\" y=\"-111.8\" font-family=\"Helvetica,sans-Serif\" font-size=\"14.00\" fill=\"#000000\">class = died</text>\n</g>\n<!-- 1&#45;&gt;5 -->\n<g id=\"edge5\" class=\"edge\">\n<title>1&#45;&gt;5</title>\n<path fill=\"none\" stroke=\"#000000\" d=\"M519.5,-222.8796C519.5,-214.6838 519.5,-205.9891 519.5,-197.5013\"/>\n<polygon fill=\"#000000\" stroke=\"#000000\" points=\"523.0001,-197.298 519.5,-187.2981 516.0001,-197.2981 523.0001,-197.298\"/>\n</g>\n<!-- 3 -->\n<g id=\"node4\" class=\"node\">\n<title>3</title>\n<path fill=\"#f2c29f\" stroke=\"#000000\" d=\"M137,-68C137,-68 12,-68 12,-68 6,-68 0,-62 0,-56 0,-56 0,-12 0,-12 0,-6 6,0 12,0 12,0 137,0 137,0 143,0 149,-6 149,-12 149,-12 149,-56 149,-56 149,-62 143,-68 137,-68\"/>\n<text text-anchor=\"start\" x=\"36.5\" y=\"-52.8\" font-family=\"Helvetica,sans-Serif\" font-size=\"14.00\" fill=\"#000000\">gini = 0.448</text>\n<text text-anchor=\"start\" x=\"22.5\" y=\"-37.8\" font-family=\"Helvetica,sans-Serif\" font-size=\"14.00\" fill=\"#000000\">samples = 3047</text>\n<text text-anchor=\"start\" x=\"8\" y=\"-22.8\" font-family=\"Helvetica,sans-Serif\" font-size=\"14.00\" fill=\"#000000\">value = [3211, 1648]</text>\n<text text-anchor=\"start\" x=\"35.5\" y=\"-7.8\" font-family=\"Helvetica,sans-Serif\" font-size=\"14.00\" fill=\"#000000\">class = died</text>\n</g>\n<!-- 2&#45;&gt;3 -->\n<g id=\"edge3\" class=\"edge\">\n<title>2&#45;&gt;3</title>\n<path fill=\"none\" stroke=\"#000000\" d=\"M174.2943,-103.9815C160.3288,-94.1881 145.4679,-83.7668 131.5977,-74.0402\"/>\n<polygon fill=\"#000000\" stroke=\"#000000\" points=\"133.3035,-70.9616 123.1064,-68.0856 129.2844,-76.6928 133.3035,-70.9616\"/>\n</g>\n<!-- 4 -->\n<g id=\"node5\" class=\"node\">\n<title>4</title>\n<path fill=\"#fdf7f2\" stroke=\"#000000\" d=\"M287.5,-68C287.5,-68 179.5,-68 179.5,-68 173.5,-68 167.5,-62 167.5,-56 167.5,-56 167.5,-12 167.5,-12 167.5,-6 173.5,0 179.5,0 179.5,0 287.5,0 287.5,0 293.5,0 299.5,-6 299.5,-12 299.5,-12 299.5,-56 299.5,-56 299.5,-62 293.5,-68 287.5,-68\"/>\n<text text-anchor=\"start\" x=\"195.5\" y=\"-52.8\" font-family=\"Helvetica,sans-Serif\" font-size=\"14.00\" fill=\"#000000\">gini = 0.499</text>\n<text text-anchor=\"start\" x=\"185.5\" y=\"-37.8\" font-family=\"Helvetica,sans-Serif\" font-size=\"14.00\" fill=\"#000000\">samples = 646</text>\n<text text-anchor=\"start\" x=\"175.5\" y=\"-22.8\" font-family=\"Helvetica,sans-Serif\" font-size=\"14.00\" fill=\"#000000\">value = [519, 485]</text>\n<text text-anchor=\"start\" x=\"194.5\" y=\"-7.8\" font-family=\"Helvetica,sans-Serif\" font-size=\"14.00\" fill=\"#000000\">class = died</text>\n</g>\n<!-- 2&#45;&gt;4 -->\n<g id=\"edge4\" class=\"edge\">\n<title>2&#45;&gt;4</title>\n<path fill=\"none\" stroke=\"#000000\" d=\"M233.5,-103.9815C233.5,-95.618 233.5,-86.7965 233.5,-78.3409\"/>\n<polygon fill=\"#000000\" stroke=\"#000000\" points=\"237.0001,-78.2636 233.5,-68.2637 230.0001,-78.2637 237.0001,-78.2636\"/>\n</g>\n<!-- 6 -->\n<g id=\"node7\" class=\"node\">\n<title>6</title>\n<path fill=\"#e78b49\" stroke=\"#000000\" d=\"M463,-68C463,-68 330,-68 330,-68 324,-68 318,-62 318,-56 318,-56 318,-12 318,-12 318,-6 324,0 330,0 330,0 463,0 463,0 469,0 475,-6 475,-12 475,-12 475,-56 475,-56 475,-62 469,-68 463,-68\"/>\n<text text-anchor=\"start\" x=\"358.5\" y=\"-52.8\" font-family=\"Helvetica,sans-Serif\" font-size=\"14.00\" fill=\"#000000\">gini = 0.136</text>\n<text text-anchor=\"start\" x=\"340.5\" y=\"-37.8\" font-family=\"Helvetica,sans-Serif\" font-size=\"14.00\" fill=\"#000000\">samples = 11329</text>\n<text text-anchor=\"start\" x=\"326\" y=\"-22.8\" font-family=\"Helvetica,sans-Serif\" font-size=\"14.00\" fill=\"#000000\">value = [16659, 1319]</text>\n<text text-anchor=\"start\" x=\"357.5\" y=\"-7.8\" font-family=\"Helvetica,sans-Serif\" font-size=\"14.00\" fill=\"#000000\">class = died</text>\n</g>\n<!-- 5&#45;&gt;6 -->\n<g id=\"edge6\" class=\"edge\">\n<title>5&#45;&gt;6</title>\n<path fill=\"none\" stroke=\"#000000\" d=\"M473.6993,-103.9815C463.2566,-94.5151 452.1667,-84.462 441.7472,-75.0168\"/>\n<polygon fill=\"#000000\" stroke=\"#000000\" points=\"444.0572,-72.3868 434.2976,-68.2637 439.3559,-77.5731 444.0572,-72.3868\"/>\n</g>\n<!-- 7 -->\n<g id=\"node8\" class=\"node\">\n<title>7</title>\n<path fill=\"#eba069\" stroke=\"#000000\" d=\"M613.5,-68C613.5,-68 505.5,-68 505.5,-68 499.5,-68 493.5,-62 493.5,-56 493.5,-56 493.5,-12 493.5,-12 493.5,-6 499.5,0 505.5,0 505.5,0 613.5,0 613.5,0 619.5,0 625.5,-6 625.5,-12 625.5,-12 625.5,-56 625.5,-56 625.5,-62 619.5,-68 613.5,-68\"/>\n<text text-anchor=\"start\" x=\"521.5\" y=\"-52.8\" font-family=\"Helvetica,sans-Serif\" font-size=\"14.00\" fill=\"#000000\">gini = 0.315</text>\n<text text-anchor=\"start\" x=\"511.5\" y=\"-37.8\" font-family=\"Helvetica,sans-Serif\" font-size=\"14.00\" fill=\"#000000\">samples = 563</text>\n<text text-anchor=\"start\" x=\"501.5\" y=\"-22.8\" font-family=\"Helvetica,sans-Serif\" font-size=\"14.00\" fill=\"#000000\">value = [732, 178]</text>\n<text text-anchor=\"start\" x=\"520.5\" y=\"-7.8\" font-family=\"Helvetica,sans-Serif\" font-size=\"14.00\" fill=\"#000000\">class = died</text>\n</g>\n<!-- 5&#45;&gt;7 -->\n<g id=\"edge7\" class=\"edge\">\n<title>5&#45;&gt;7</title>\n<path fill=\"none\" stroke=\"#000000\" d=\"M534.3945,-103.9815C537.4608,-95.4342 540.6987,-86.4086 543.7928,-77.7839\"/>\n<polygon fill=\"#000000\" stroke=\"#000000\" points=\"547.1257,-78.8582 547.2081,-68.2637 540.5369,-76.4944 547.1257,-78.8582\"/>\n</g>\n<!-- 9 -->\n<g id=\"node10\" class=\"node\">\n<title>9</title>\n<path fill=\"#c3e1f7\" stroke=\"#000000\" d=\"M816,-187C816,-187 691,-187 691,-187 685,-187 679,-181 679,-175 679,-175 679,-116 679,-116 679,-110 685,-104 691,-104 691,-104 816,-104 816,-104 822,-104 828,-110 828,-116 828,-116 828,-175 828,-175 828,-181 822,-187 816,-187\"/>\n<text text-anchor=\"start\" x=\"695.5\" y=\"-171.8\" font-family=\"Helvetica,sans-Serif\" font-size=\"14.00\" fill=\"#000000\">MaxTemp ≤ 0.666</text>\n<text text-anchor=\"start\" x=\"715.5\" y=\"-156.8\" font-family=\"Helvetica,sans-Serif\" font-size=\"14.00\" fill=\"#000000\">gini = 0.484</text>\n<text text-anchor=\"start\" x=\"701.5\" y=\"-141.8\" font-family=\"Helvetica,sans-Serif\" font-size=\"14.00\" fill=\"#000000\">samples = 1893</text>\n<text text-anchor=\"start\" x=\"687\" y=\"-126.8\" font-family=\"Helvetica,sans-Serif\" font-size=\"14.00\" fill=\"#000000\">value = [1193, 1714]</text>\n<text text-anchor=\"start\" x=\"701\" y=\"-111.8\" font-family=\"Helvetica,sans-Serif\" font-size=\"14.00\" fill=\"#000000\">class = survived</text>\n</g>\n<!-- 8&#45;&gt;9 -->\n<g id=\"edge9\" class=\"edge\">\n<title>8&#45;&gt;9</title>\n<path fill=\"none\" stroke=\"#000000\" d=\"M753.5,-222.8796C753.5,-214.6838 753.5,-205.9891 753.5,-197.5013\"/>\n<polygon fill=\"#000000\" stroke=\"#000000\" points=\"757.0001,-197.298 753.5,-187.2981 750.0001,-197.2981 757.0001,-197.298\"/>\n</g>\n<!-- 12 -->\n<g id=\"node13\" class=\"node\">\n<title>12</title>\n<path fill=\"#f4c9aa\" stroke=\"#000000\" d=\"M1092,-187C1092,-187 961,-187 961,-187 955,-187 949,-181 949,-175 949,-175 949,-116 949,-116 949,-110 955,-104 961,-104 961,-104 1092,-104 1092,-104 1098,-104 1104,-110 1104,-116 1104,-116 1104,-175 1104,-175 1104,-181 1098,-187 1092,-187\"/>\n<text text-anchor=\"start\" x=\"957\" y=\"-171.8\" font-family=\"Helvetica,sans-Serif\" font-size=\"14.00\" fill=\"#000000\">Pressure3pm ≤ 0.639</text>\n<text text-anchor=\"start\" x=\"988.5\" y=\"-156.8\" font-family=\"Helvetica,sans-Serif\" font-size=\"14.00\" fill=\"#000000\">gini = 0.462</text>\n<text text-anchor=\"start\" x=\"974.5\" y=\"-141.8\" font-family=\"Helvetica,sans-Serif\" font-size=\"14.00\" fill=\"#000000\">samples = 3875</text>\n<text text-anchor=\"start\" x=\"960\" y=\"-126.8\" font-family=\"Helvetica,sans-Serif\" font-size=\"14.00\" fill=\"#000000\">value = [3947, 2247]</text>\n<text text-anchor=\"start\" x=\"987.5\" y=\"-111.8\" font-family=\"Helvetica,sans-Serif\" font-size=\"14.00\" fill=\"#000000\">class = died</text>\n</g>\n<!-- 8&#45;&gt;12 -->\n<g id=\"edge12\" class=\"edge\">\n<title>8&#45;&gt;12</title>\n<path fill=\"none\" stroke=\"#000000\" d=\"M831.0006,-230.7177C864.862,-215.9576 904.7216,-198.5829 939.5864,-183.3854\"/>\n<polygon fill=\"#000000\" stroke=\"#000000\" points=\"941.0372,-186.5711 948.8056,-179.3668 938.2401,-180.1543 941.0372,-186.5711\"/>\n</g>\n<!-- 10 -->\n<g id=\"node11\" class=\"node\">\n<title>10</title>\n<path fill=\"#b2d9f5\" stroke=\"#000000\" d=\"M771.5,-68C771.5,-68 655.5,-68 655.5,-68 649.5,-68 643.5,-62 643.5,-56 643.5,-56 643.5,-12 643.5,-12 643.5,-6 649.5,0 655.5,0 655.5,0 771.5,0 771.5,0 777.5,0 783.5,-6 783.5,-12 783.5,-12 783.5,-56 783.5,-56 783.5,-62 777.5,-68 771.5,-68\"/>\n<text text-anchor=\"start\" x=\"675.5\" y=\"-52.8\" font-family=\"Helvetica,sans-Serif\" font-size=\"14.00\" fill=\"#000000\">gini = 0.471</text>\n<text text-anchor=\"start\" x=\"661.5\" y=\"-37.8\" font-family=\"Helvetica,sans-Serif\" font-size=\"14.00\" fill=\"#000000\">samples = 1685</text>\n<text text-anchor=\"start\" x=\"651.5\" y=\"-22.8\" font-family=\"Helvetica,sans-Serif\" font-size=\"14.00\" fill=\"#000000\">value = [976, 1598]</text>\n<text text-anchor=\"start\" x=\"661\" y=\"-7.8\" font-family=\"Helvetica,sans-Serif\" font-size=\"14.00\" fill=\"#000000\">class = survived</text>\n</g>\n<!-- 9&#45;&gt;10 -->\n<g id=\"edge10\" class=\"edge\">\n<title>9&#45;&gt;10</title>\n<path fill=\"none\" stroke=\"#000000\" d=\"M738.6055,-103.9815C735.5392,-95.4342 732.3013,-86.4086 729.2072,-77.7839\"/>\n<polygon fill=\"#000000\" stroke=\"#000000\" points=\"732.4631,-76.4944 725.7919,-68.2637 725.8743,-78.8582 732.4631,-76.4944\"/>\n</g>\n<!-- 11 -->\n<g id=\"node12\" class=\"node\">\n<title>11</title>\n<path fill=\"#f3c4a3\" stroke=\"#000000\" d=\"M921.5,-68C921.5,-68 813.5,-68 813.5,-68 807.5,-68 801.5,-62 801.5,-56 801.5,-56 801.5,-12 801.5,-12 801.5,-6 807.5,0 813.5,0 813.5,0 921.5,0 921.5,0 927.5,0 933.5,-6 933.5,-12 933.5,-12 933.5,-56 933.5,-56 933.5,-62 927.5,-68 921.5,-68\"/>\n<text text-anchor=\"start\" x=\"829.5\" y=\"-52.8\" font-family=\"Helvetica,sans-Serif\" font-size=\"14.00\" fill=\"#000000\">gini = 0.454</text>\n<text text-anchor=\"start\" x=\"819.5\" y=\"-37.8\" font-family=\"Helvetica,sans-Serif\" font-size=\"14.00\" fill=\"#000000\">samples = 208</text>\n<text text-anchor=\"start\" x=\"809.5\" y=\"-22.8\" font-family=\"Helvetica,sans-Serif\" font-size=\"14.00\" fill=\"#000000\">value = [217, 116]</text>\n<text text-anchor=\"start\" x=\"828.5\" y=\"-7.8\" font-family=\"Helvetica,sans-Serif\" font-size=\"14.00\" fill=\"#000000\">class = died</text>\n</g>\n<!-- 9&#45;&gt;11 -->\n<g id=\"edge11\" class=\"edge\">\n<title>9&#45;&gt;11</title>\n<path fill=\"none\" stroke=\"#000000\" d=\"M795.9494,-103.9815C805.5341,-94.607 815.707,-84.6572 825.2821,-75.2921\"/>\n<polygon fill=\"#000000\" stroke=\"#000000\" points=\"827.7663,-77.7581 832.4681,-68.2637 822.8717,-72.7538 827.7663,-77.7581\"/>\n</g>\n<!-- 13 -->\n<g id=\"node14\" class=\"node\">\n<title>13</title>\n<path fill=\"#f8ddca\" stroke=\"#000000\" d=\"M1089,-68C1089,-68 964,-68 964,-68 958,-68 952,-62 952,-56 952,-56 952,-12 952,-12 952,-6 958,0 964,0 964,0 1089,0 1089,0 1095,0 1101,-6 1101,-12 1101,-12 1101,-56 1101,-56 1101,-62 1095,-68 1089,-68\"/>\n<text text-anchor=\"start\" x=\"988.5\" y=\"-52.8\" font-family=\"Helvetica,sans-Serif\" font-size=\"14.00\" fill=\"#000000\">gini = 0.488</text>\n<text text-anchor=\"start\" x=\"974.5\" y=\"-37.8\" font-family=\"Helvetica,sans-Serif\" font-size=\"14.00\" fill=\"#000000\">samples = 1895</text>\n<text text-anchor=\"start\" x=\"960\" y=\"-22.8\" font-family=\"Helvetica,sans-Serif\" font-size=\"14.00\" fill=\"#000000\">value = [1773, 1301]</text>\n<text text-anchor=\"start\" x=\"987.5\" y=\"-7.8\" font-family=\"Helvetica,sans-Serif\" font-size=\"14.00\" fill=\"#000000\">class = died</text>\n</g>\n<!-- 12&#45;&gt;13 -->\n<g id=\"edge13\" class=\"edge\">\n<title>12&#45;&gt;13</title>\n<path fill=\"none\" stroke=\"#000000\" d=\"M1026.5,-103.9815C1026.5,-95.618 1026.5,-86.7965 1026.5,-78.3409\"/>\n<polygon fill=\"#000000\" stroke=\"#000000\" points=\"1030.0001,-78.2636 1026.5,-68.2637 1023.0001,-78.2637 1030.0001,-78.2636\"/>\n</g>\n<!-- 14 -->\n<g id=\"node15\" class=\"node\">\n<title>14</title>\n<path fill=\"#f0b88f\" stroke=\"#000000\" d=\"M1247.5,-68C1247.5,-68 1131.5,-68 1131.5,-68 1125.5,-68 1119.5,-62 1119.5,-56 1119.5,-56 1119.5,-12 1119.5,-12 1119.5,-6 1125.5,0 1131.5,0 1131.5,0 1247.5,0 1247.5,0 1253.5,0 1259.5,-6 1259.5,-12 1259.5,-12 1259.5,-56 1259.5,-56 1259.5,-62 1253.5,-68 1247.5,-68\"/>\n<text text-anchor=\"start\" x=\"1151.5\" y=\"-52.8\" font-family=\"Helvetica,sans-Serif\" font-size=\"14.00\" fill=\"#000000\">gini = 0.423</text>\n<text text-anchor=\"start\" x=\"1137.5\" y=\"-37.8\" font-family=\"Helvetica,sans-Serif\" font-size=\"14.00\" fill=\"#000000\">samples = 1980</text>\n<text text-anchor=\"start\" x=\"1127.5\" y=\"-22.8\" font-family=\"Helvetica,sans-Serif\" font-size=\"14.00\" fill=\"#000000\">value = [2174, 946]</text>\n<text text-anchor=\"start\" x=\"1150.5\" y=\"-7.8\" font-family=\"Helvetica,sans-Serif\" font-size=\"14.00\" fill=\"#000000\">class = died</text>\n</g>\n<!-- 12&#45;&gt;14 -->\n<g id=\"edge14\" class=\"edge\">\n<title>12&#45;&gt;14</title>\n<path fill=\"none\" stroke=\"#000000\" d=\"M1087.1952,-103.9815C1101.647,-94.0957 1117.0342,-83.5701 1131.368,-73.7651\"/>\n<polygon fill=\"#000000\" stroke=\"#000000\" points=\"1133.3932,-76.6204 1139.6708,-68.0856 1129.441,-70.8428 1133.3932,-76.6204\"/>\n</g>\n</g>\n</svg>\n"
          },
          "metadata": {
            "tags": []
          },
          "execution_count": 30
        }
      ]
    },
    {
      "cell_type": "markdown",
      "metadata": {
        "id": "h_to_X2O8sVv"
      },
      "source": [
        "**Análisis de métricas**\n",
        "\n",
        "Con random forest probamos dos formas, una con el parámetro max_depth, y otra sumandole los parametros n_estimators y max_features. En el primero podemos ver que acertó con un 82% de todos los casos con accuracy y en precision, de los casos en los que sí iba a llover, acertó un 86%.\n",
        "\n",
        "En el segundo, se puede ver que con accuracy acertó el 81% de los casos y un 90% con precision.\n",
        "Es decir, ajustando los parámetros n_estimators y max_features logramos que mejore en precision, pero afecta apenas negativamente en accuracy.\n",
        "\n",
        "Nos damos cuenta que no está sobreentrenando porque, a comparación del modelo anterior, la métrica tanto en train como en validation tienen valores similares y nunca nos arrojó como resultado 1."
      ],
      "id": "h_to_X2O8sVv"
    },
    {
      "cell_type": "markdown",
      "metadata": {
        "id": "8CEHXuWRsdDj"
      },
      "source": [
        "# **GRADIENT BOOSTING**"
      ],
      "id": "8CEHXuWRsdDj"
    },
    {
      "cell_type": "code",
      "metadata": {
        "id": "JKEgMUXVscwh"
      },
      "source": [
        "from sklearn.ensemble import GradientBoostingClassifier"
      ],
      "id": "JKEgMUXVscwh",
      "execution_count": null,
      "outputs": []
    },
    {
      "cell_type": "code",
      "metadata": {
        "id": "cuVSNO3gtnc5",
        "colab": {
          "base_uri": "https://localhost:8080/",
          "height": 312
        },
        "outputId": "0ce30e63-1083-4f1a-e07b-48e4807e7def"
      },
      "source": [
        "boo_model = GradientBoostingClassifier(random_state=40)\n",
        "boost_model = Pipeline([\n",
        "    ('mapper', mapper),\n",
        "    ('classifier', boo_model),\n",
        "])\n",
        "\n",
        "boost_model.fit(train, train.RainTomorrow)\n",
        "evaluate_model(boost_model, title='Gradient Boosting')"
      ],
      "id": "cuVSNO3gtnc5",
      "execution_count": null,
      "outputs": [
        {
          "output_type": "display_data",
          "data": {
            "application/vnd.google.colaboratory.intrinsic+json": {
              "type": "string"
            },
            "text/plain": [
              "'Gradient Boosting'"
            ]
          },
          "metadata": {
            "tags": []
          }
        },
        {
          "output_type": "display_data",
          "data": {
            "text/html": [
              "<div>\n",
              "<style scoped>\n",
              "    .dataframe tbody tr th:only-of-type {\n",
              "        vertical-align: middle;\n",
              "    }\n",
              "\n",
              "    .dataframe tbody tr th {\n",
              "        vertical-align: top;\n",
              "    }\n",
              "\n",
              "    .dataframe thead th {\n",
              "        text-align: right;\n",
              "    }\n",
              "</style>\n",
              "<table border=\"1\" class=\"dataframe\">\n",
              "  <thead>\n",
              "    <tr style=\"text-align: right;\">\n",
              "      <th></th>\n",
              "      <th>Accuracy</th>\n",
              "      <th>Precision</th>\n",
              "    </tr>\n",
              "  </thead>\n",
              "  <tbody>\n",
              "    <tr>\n",
              "      <th>train</th>\n",
              "      <td>0.862992</td>\n",
              "      <td>0.762773</td>\n",
              "    </tr>\n",
              "    <tr>\n",
              "      <th>validation</th>\n",
              "      <td>0.862726</td>\n",
              "      <td>0.744586</td>\n",
              "    </tr>\n",
              "  </tbody>\n",
              "</table>\n",
              "</div>"
            ],
            "text/plain": [
              "            Accuracy  Precision\n",
              "train       0.862992   0.762773\n",
              "validation  0.862726   0.744586"
            ]
          },
          "metadata": {
            "tags": []
          }
        },
        {
          "output_type": "display_data",
          "data": {
            "image/png": "[encoded data removed]",
            "text/plain": [
              "<Figure size 1080x216 with 2 Axes>"
            ]
          },
          "metadata": {
            "tags": [],
            "needs_background": "light"
          }
        }
      ]
    },
    {
      "cell_type": "code",
      "metadata": {
        "id": "jHYeiq4qpkkl",
        "colab": {
          "base_uri": "https://localhost:8080/",
          "height": 312
        },
        "outputId": "14d32b02-78e6-4b1f-f92d-832b563d9846"
      },
      "source": [
        "boo_model = GradientBoostingClassifier(n_estimators=100, max_depth=3, max_features=2, random_state=40)\n",
        "boost_model = Pipeline([\n",
        "    ('mapper', mapper),\n",
        "    ('classifier', boo_model),\n",
        "])\n",
        "\n",
        "boost_model.fit(train, train.RainTomorrow)\n",
        "evaluate_model(boost_model, title='Gradient Boosting')"
      ],
      "id": "jHYeiq4qpkkl",
      "execution_count": null,
      "outputs": [
        {
          "output_type": "display_data",
          "data": {
            "application/vnd.google.colaboratory.intrinsic+json": {
              "type": "string"
            },
            "text/plain": [
              "'Gradient Boosting'"
            ]
          },
          "metadata": {
            "tags": []
          }
        },
        {
          "output_type": "display_data",
          "data": {
            "text/html": [
              "<div>\n",
              "<style scoped>\n",
              "    .dataframe tbody tr th:only-of-type {\n",
              "        vertical-align: middle;\n",
              "    }\n",
              "\n",
              "    .dataframe tbody tr th {\n",
              "        vertical-align: top;\n",
              "    }\n",
              "\n",
              "    .dataframe thead th {\n",
              "        text-align: right;\n",
              "    }\n",
              "</style>\n",
              "<table border=\"1\" class=\"dataframe\">\n",
              "  <thead>\n",
              "    <tr style=\"text-align: right;\">\n",
              "      <th></th>\n",
              "      <th>Accuracy</th>\n",
              "      <th>Precision</th>\n",
              "    </tr>\n",
              "  </thead>\n",
              "  <tbody>\n",
              "    <tr>\n",
              "      <th>train</th>\n",
              "      <td>0.851560</td>\n",
              "      <td>0.759671</td>\n",
              "    </tr>\n",
              "    <tr>\n",
              "      <th>validation</th>\n",
              "      <td>0.850939</td>\n",
              "      <td>0.739130</td>\n",
              "    </tr>\n",
              "  </tbody>\n",
              "</table>\n",
              "</div>"
            ],
            "text/plain": [
              "            Accuracy  Precision\n",
              "train       0.851560   0.759671\n",
              "validation  0.850939   0.739130"
            ]
          },
          "metadata": {
            "tags": []
          }
        },
        {
          "output_type": "display_data",
          "data": {
            "image/png": "[encoded data removed]",
            "text/plain": [
              "<Figure size 1080x216 with 2 Axes>"
            ]
          },
          "metadata": {
            "tags": [],
            "needs_background": "light"
          }
        }
      ]
    },
    {
      "cell_type": "markdown",
      "metadata": {
        "id": "G-P7gWRItjXv"
      },
      "source": [
        "**Análisis de métricas**"
      ],
      "id": "G-P7gWRItjXv"
    },
    {
      "cell_type": "markdown",
      "metadata": {
        "id": "1I-zp8MJoGdA"
      },
      "source": [
        "Se realizó la evaluación del modelo con Gradient Boosting de dos maneras: sin limitar la cantidad de estimadores, profundidad de árboles y cantidad de features; y haciéndolo. Se puede observar que los resultados obtenidos de las métricas son muy similares, y que, para ambos casos, se puede decir que el modelo no esta sobreentrenando ya que los valores obtenidos tanto en test como en validation son cercanos.\n",
        "\n",
        "Los resultados concluídos son:\n",
        "- Accuracy nos indica que el modelo acertó el aproximadamente 86% de los casos que predijo.\n",
        "- Precission nos indica que de los casos en los que lloverá al día siguiente (RainTomorrow = Yes), encontró el 75% de ellos."
      ],
      "id": "1I-zp8MJoGdA"
    },
    {
      "cell_type": "markdown",
      "metadata": {
        "id": "IcLp1OgbtoFO"
      },
      "source": [
        "**Gráfico del árbol**"
      ],
      "id": "IcLp1OgbtoFO"
    },
    {
      "cell_type": "code",
      "metadata": {
        "id": "UP-UXIpfoAhM",
        "colab": {
          "base_uri": "https://localhost:8080/",
          "height": 538
        },
        "outputId": "bf5d460c-a5b0-4f44-ba44-e45ce55cc00c"
      },
      "source": [
        "graph_tree(boo_model.estimators_[1][0], col_names=mapper.transformed_names_)"
      ],
      "id": "UP-UXIpfoAhM",
      "execution_count": null,
      "outputs": [
        {
          "output_type": "execute_result",
          "data": {
            "text/plain": [
              "<graphviz.files.Source at 0x7fb01aa75210>"
            ],
            "image/svg+xml": "<?xml version=\"1.0\" encoding=\"UTF-8\" standalone=\"no\"?>\n<!DOCTYPE svg PUBLIC \"-//W3C//DTD SVG 1.1//EN\"\n \"http://www.w3.org/Graphics/SVG/1.1/DTD/svg11.dtd\">\n<!-- Generated by graphviz version 2.40.1 (20161225.0304)\n -->\n<!-- Title: Tree Pages: 1 -->\n<svg width=\"1422pt\" height=\"373pt\"\n viewBox=\"0.00 0.00 1422.00 373.00\" xmlns=\"http://www.w3.org/2000/svg\" xmlns:xlink=\"http://www.w3.org/1999/xlink\">\n<g id=\"graph0\" class=\"graph\" transform=\"scale(1 1) rotate(0) translate(4 369)\">\n<title>Tree</title>\n<polygon fill=\"#ffffff\" stroke=\"transparent\" points=\"-4,4 -4,-369 1418,-369 1418,4 -4,4\"/>\n<!-- 0 -->\n<g id=\"node1\" class=\"node\">\n<title>0</title>\n<path fill=\"#f9e1cf\" stroke=\"#000000\" d=\"M738,-365C738,-365 601,-365 601,-365 595,-365 589,-359 589,-353 589,-353 589,-309 589,-309 589,-303 595,-297 601,-297 601,-297 738,-297 738,-297 744,-297 750,-303 750,-309 750,-309 750,-353 750,-353 750,-359 744,-365 738,-365\"/>\n<text text-anchor=\"start\" x=\"613.5\" y=\"-349.8\" font-family=\"Helvetica,sans-Serif\" font-size=\"14.00\" fill=\"#000000\">MinTemp ≤ 0.794</text>\n<text text-anchor=\"start\" x=\"597\" y=\"-334.8\" font-family=\"Helvetica,sans-Serif\" font-size=\"14.00\" fill=\"#000000\">friedman_mse = 0.173</text>\n<text text-anchor=\"start\" x=\"613.5\" y=\"-319.8\" font-family=\"Helvetica,sans-Serif\" font-size=\"14.00\" fill=\"#000000\">samples = 33852</text>\n<text text-anchor=\"start\" x=\"631.5\" y=\"-304.8\" font-family=\"Helvetica,sans-Serif\" font-size=\"14.00\" fill=\"#000000\">value = &#45;0.0</text>\n</g>\n<!-- 1 -->\n<g id=\"node2\" class=\"node\">\n<title>1</title>\n<path fill=\"#f9e1d1\" stroke=\"#000000\" d=\"M640,-261C640,-261 503,-261 503,-261 497,-261 491,-255 491,-249 491,-249 491,-205 491,-205 491,-199 497,-193 503,-193 503,-193 640,-193 640,-193 646,-193 652,-199 652,-205 652,-205 652,-249 652,-249 652,-255 646,-261 640,-261\"/>\n<text text-anchor=\"start\" x=\"506.5\" y=\"-245.8\" font-family=\"Helvetica,sans-Serif\" font-size=\"14.00\" fill=\"#000000\">Evaporation ≤ 0.042</text>\n<text text-anchor=\"start\" x=\"499\" y=\"-230.8\" font-family=\"Helvetica,sans-Serif\" font-size=\"14.00\" fill=\"#000000\">friedman_mse = 0.165</text>\n<text text-anchor=\"start\" x=\"515.5\" y=\"-215.8\" font-family=\"Helvetica,sans-Serif\" font-size=\"14.00\" fill=\"#000000\">samples = 30810</text>\n<text text-anchor=\"start\" x=\"525\" y=\"-200.8\" font-family=\"Helvetica,sans-Serif\" font-size=\"14.00\" fill=\"#000000\">value = &#45;0.015</text>\n</g>\n<!-- 0&#45;&gt;1 -->\n<g id=\"edge1\" class=\"edge\">\n<title>0&#45;&gt;1</title>\n<path fill=\"none\" stroke=\"#000000\" d=\"M637.4111,-296.9465C628.866,-287.8782 619.5387,-277.9799 610.6609,-268.5585\"/>\n<polygon fill=\"#000000\" stroke=\"#000000\" points=\"613.0663,-266.0076 603.661,-261.13 607.9717,-270.8082 613.0663,-266.0076\"/>\n<text text-anchor=\"middle\" x=\"602.9187\" y=\"-282.419\" font-family=\"Helvetica,sans-Serif\" font-size=\"14.00\" fill=\"#000000\">True</text>\n</g>\n<!-- 8 -->\n<g id=\"node9\" class=\"node\">\n<title>8</title>\n<path fill=\"#f7d9c3\" stroke=\"#000000\" d=\"M922.5,-261C922.5,-261 762.5,-261 762.5,-261 756.5,-261 750.5,-255 750.5,-249 750.5,-249 750.5,-205 750.5,-205 750.5,-199 756.5,-193 762.5,-193 762.5,-193 922.5,-193 922.5,-193 928.5,-193 934.5,-199 934.5,-205 934.5,-205 934.5,-249 934.5,-249 934.5,-255 928.5,-261 922.5,-261\"/>\n<text text-anchor=\"start\" x=\"758.5\" y=\"-245.8\" font-family=\"Helvetica,sans-Serif\" font-size=\"14.00\" fill=\"#000000\">WindDir9am_x0_NE ≤ 0.5</text>\n<text text-anchor=\"start\" x=\"770\" y=\"-230.8\" font-family=\"Helvetica,sans-Serif\" font-size=\"14.00\" fill=\"#000000\">friedman_mse = 0.233</text>\n<text text-anchor=\"start\" x=\"790.5\" y=\"-215.8\" font-family=\"Helvetica,sans-Serif\" font-size=\"14.00\" fill=\"#000000\">samples = 3042</text>\n<text text-anchor=\"start\" x=\"798.5\" y=\"-200.8\" font-family=\"Helvetica,sans-Serif\" font-size=\"14.00\" fill=\"#000000\">value = 0.148</text>\n</g>\n<!-- 0&#45;&gt;8 -->\n<g id=\"edge8\" class=\"edge\">\n<title>0&#45;&gt;8</title>\n<path fill=\"none\" stroke=\"#000000\" d=\"M726.1467,-296.9465C742.4263,-287.1599 760.314,-276.4066 777.077,-266.3294\"/>\n<polygon fill=\"#000000\" stroke=\"#000000\" points=\"778.9588,-269.282 785.7261,-261.13 775.3522,-263.2826 778.9588,-269.282\"/>\n<text text-anchor=\"middle\" x=\"779.6833\" y=\"-281.6887\" font-family=\"Helvetica,sans-Serif\" font-size=\"14.00\" fill=\"#000000\">False</text>\n</g>\n<!-- 2 -->\n<g id=\"node3\" class=\"node\">\n<title>2</title>\n<path fill=\"#f8ddca\" stroke=\"#000000\" d=\"M339.5,-157C339.5,-157 179.5,-157 179.5,-157 173.5,-157 167.5,-151 167.5,-145 167.5,-145 167.5,-101 167.5,-101 167.5,-95 173.5,-89 179.5,-89 179.5,-89 339.5,-89 339.5,-89 345.5,-89 351.5,-95 351.5,-101 351.5,-101 351.5,-145 351.5,-145 351.5,-151 345.5,-157 339.5,-157\"/>\n<text text-anchor=\"start\" x=\"175.5\" y=\"-141.8\" font-family=\"Helvetica,sans-Serif\" font-size=\"14.00\" fill=\"#000000\">WindDir9am_x0_NE ≤ 0.5</text>\n<text text-anchor=\"start\" x=\"187\" y=\"-126.8\" font-family=\"Helvetica,sans-Serif\" font-size=\"14.00\" fill=\"#000000\">friedman_mse = 0.204</text>\n<text text-anchor=\"start\" x=\"203.5\" y=\"-111.8\" font-family=\"Helvetica,sans-Serif\" font-size=\"14.00\" fill=\"#000000\">samples = 10972</text>\n<text text-anchor=\"start\" x=\"215.5\" y=\"-96.8\" font-family=\"Helvetica,sans-Serif\" font-size=\"14.00\" fill=\"#000000\">value = 0.062</text>\n</g>\n<!-- 1&#45;&gt;2 -->\n<g id=\"edge2\" class=\"edge\">\n<title>1&#45;&gt;2</title>\n<path fill=\"none\" stroke=\"#000000\" d=\"M490.7465,-200.0822C451.2985,-186.9328 403.4091,-170.9697 361.4658,-156.9886\"/>\n<polygon fill=\"#000000\" stroke=\"#000000\" points=\"362.373,-153.6017 351.7793,-153.7598 360.1593,-160.2425 362.373,-153.6017\"/>\n</g>\n<!-- 5 -->\n<g id=\"node6\" class=\"node\">\n<title>5</title>\n<path fill=\"#f9e4d4\" stroke=\"#000000\" d=\"M640,-157C640,-157 503,-157 503,-157 497,-157 491,-151 491,-145 491,-145 491,-101 491,-101 491,-95 497,-89 503,-89 503,-89 640,-89 640,-89 646,-89 652,-95 652,-101 652,-101 652,-145 652,-145 652,-151 646,-157 640,-157\"/>\n<text text-anchor=\"start\" x=\"518.5\" y=\"-141.8\" font-family=\"Helvetica,sans-Serif\" font-size=\"14.00\" fill=\"#000000\">RainToday ≤ 0.5</text>\n<text text-anchor=\"start\" x=\"499\" y=\"-126.8\" font-family=\"Helvetica,sans-Serif\" font-size=\"14.00\" fill=\"#000000\">friedman_mse = 0.138</text>\n<text text-anchor=\"start\" x=\"515.5\" y=\"-111.8\" font-family=\"Helvetica,sans-Serif\" font-size=\"14.00\" fill=\"#000000\">samples = 19838</text>\n<text text-anchor=\"start\" x=\"525\" y=\"-96.8\" font-family=\"Helvetica,sans-Serif\" font-size=\"14.00\" fill=\"#000000\">value = &#45;0.057</text>\n</g>\n<!-- 1&#45;&gt;5 -->\n<g id=\"edge5\" class=\"edge\">\n<title>1&#45;&gt;5</title>\n<path fill=\"none\" stroke=\"#000000\" d=\"M571.5,-192.9465C571.5,-184.776 571.5,-175.9318 571.5,-167.3697\"/>\n<polygon fill=\"#000000\" stroke=\"#000000\" points=\"575.0001,-167.13 571.5,-157.13 568.0001,-167.13 575.0001,-167.13\"/>\n</g>\n<!-- 3 -->\n<g id=\"node4\" class=\"node\">\n<title>3</title>\n<path fill=\"#f5cfb3\" stroke=\"#000000\" d=\"M149,-53C149,-53 12,-53 12,-53 6,-53 0,-47 0,-41 0,-41 0,-12 0,-12 0,-6 6,0 12,0 12,0 149,0 149,0 155,0 161,-6 161,-12 161,-12 161,-41 161,-41 161,-47 155,-53 149,-53\"/>\n<text text-anchor=\"start\" x=\"8\" y=\"-37.8\" font-family=\"Helvetica,sans-Serif\" font-size=\"14.00\" fill=\"#000000\">friedman_mse = 0.202</text>\n<text text-anchor=\"start\" x=\"28.5\" y=\"-22.8\" font-family=\"Helvetica,sans-Serif\" font-size=\"14.00\" fill=\"#000000\">samples = 8985</text>\n<text text-anchor=\"start\" x=\"36.5\" y=\"-7.8\" font-family=\"Helvetica,sans-Serif\" font-size=\"14.00\" fill=\"#000000\">value = 0.338</text>\n</g>\n<!-- 2&#45;&gt;3 -->\n<g id=\"edge3\" class=\"edge\">\n<title>2&#45;&gt;3</title>\n<path fill=\"none\" stroke=\"#000000\" d=\"M196.3913,-88.9777C177.6208,-78.8584 157.1494,-67.8222 138.7063,-57.8794\"/>\n<polygon fill=\"#000000\" stroke=\"#000000\" points=\"140.295,-54.7597 129.8317,-53.095 136.9732,-60.9213 140.295,-54.7597\"/>\n</g>\n<!-- 4 -->\n<g id=\"node5\" class=\"node\">\n<title>4</title>\n<path fill=\"#f4c8a9\" stroke=\"#000000\" d=\"M328,-53C328,-53 191,-53 191,-53 185,-53 179,-47 179,-41 179,-41 179,-12 179,-12 179,-6 185,0 191,0 191,0 328,0 328,0 334,0 340,-6 340,-12 340,-12 340,-41 340,-41 340,-47 334,-53 328,-53\"/>\n<text text-anchor=\"start\" x=\"187\" y=\"-37.8\" font-family=\"Helvetica,sans-Serif\" font-size=\"14.00\" fill=\"#000000\">friedman_mse = 0.211</text>\n<text text-anchor=\"start\" x=\"207.5\" y=\"-22.8\" font-family=\"Helvetica,sans-Serif\" font-size=\"14.00\" fill=\"#000000\">samples = 1987</text>\n<text text-anchor=\"start\" x=\"215.5\" y=\"-7.8\" font-family=\"Helvetica,sans-Serif\" font-size=\"14.00\" fill=\"#000000\">value = 0.454</text>\n</g>\n<!-- 2&#45;&gt;4 -->\n<g id=\"edge4\" class=\"edge\">\n<title>2&#45;&gt;4</title>\n<path fill=\"none\" stroke=\"#000000\" d=\"M259.5,-88.9777C259.5,-80.7364 259.5,-71.887 259.5,-63.5153\"/>\n<polygon fill=\"#000000\" stroke=\"#000000\" points=\"263.0001,-63.2484 259.5,-53.2485 256.0001,-63.2485 263.0001,-63.2484\"/>\n</g>\n<!-- 6 -->\n<g id=\"node7\" class=\"node\">\n<title>6</title>\n<path fill=\"#ffffff\" stroke=\"#000000\" d=\"M507,-53C507,-53 370,-53 370,-53 364,-53 358,-47 358,-41 358,-41 358,-12 358,-12 358,-6 364,0 370,0 370,0 507,0 507,0 513,0 519,-6 519,-12 519,-12 519,-41 519,-41 519,-47 513,-53 507,-53\"/>\n<text text-anchor=\"start\" x=\"366\" y=\"-37.8\" font-family=\"Helvetica,sans-Serif\" font-size=\"14.00\" fill=\"#000000\">friedman_mse = 0.108</text>\n<text text-anchor=\"start\" x=\"382.5\" y=\"-22.8\" font-family=\"Helvetica,sans-Serif\" font-size=\"14.00\" fill=\"#000000\">samples = 17029</text>\n<text text-anchor=\"start\" x=\"396\" y=\"-7.8\" font-family=\"Helvetica,sans-Serif\" font-size=\"14.00\" fill=\"#000000\">value = &#45;0.57</text>\n</g>\n<!-- 5&#45;&gt;6 -->\n<g id=\"edge6\" class=\"edge\">\n<title>5&#45;&gt;6</title>\n<path fill=\"none\" stroke=\"#000000\" d=\"M524.6092,-88.9777C511.3577,-79.3629 496.9653,-68.9203 483.8087,-59.3743\"/>\n<polygon fill=\"#000000\" stroke=\"#000000\" points=\"485.5152,-56.2883 475.3658,-53.2485 481.4043,-61.9541 485.5152,-56.2883\"/>\n</g>\n<!-- 7 -->\n<g id=\"node8\" class=\"node\">\n<title>7</title>\n<path fill=\"#eca572\" stroke=\"#000000\" d=\"M686,-53C686,-53 549,-53 549,-53 543,-53 537,-47 537,-41 537,-41 537,-12 537,-12 537,-6 543,0 549,0 549,0 686,0 686,0 692,0 698,-6 698,-12 698,-12 698,-41 698,-41 698,-47 692,-53 686,-53\"/>\n<text text-anchor=\"start\" x=\"545\" y=\"-37.8\" font-family=\"Helvetica,sans-Serif\" font-size=\"14.00\" fill=\"#000000\">friedman_mse = 0.243</text>\n<text text-anchor=\"start\" x=\"565.5\" y=\"-22.8\" font-family=\"Helvetica,sans-Serif\" font-size=\"14.00\" fill=\"#000000\">samples = 2809</text>\n<text text-anchor=\"start\" x=\"577.5\" y=\"-7.8\" font-family=\"Helvetica,sans-Serif\" font-size=\"14.00\" fill=\"#000000\">value = 1.12</text>\n</g>\n<!-- 5&#45;&gt;7 -->\n<g id=\"edge7\" class=\"edge\">\n<title>5&#45;&gt;7</title>\n<path fill=\"none\" stroke=\"#000000\" d=\"M587.7179,-88.9777C591.821,-80.3702 596.2403,-71.0992 600.3861,-62.402\"/>\n<polygon fill=\"#000000\" stroke=\"#000000\" points=\"603.6058,-63.7814 604.7494,-53.2485 597.287,-60.7693 603.6058,-63.7814\"/>\n</g>\n<!-- 9 -->\n<g id=\"node10\" class=\"node\">\n<title>9</title>\n<path fill=\"#f7d7c1\" stroke=\"#000000\" d=\"M927.5,-157C927.5,-157 757.5,-157 757.5,-157 751.5,-157 745.5,-151 745.5,-145 745.5,-145 745.5,-101 745.5,-101 745.5,-95 751.5,-89 757.5,-89 757.5,-89 927.5,-89 927.5,-89 933.5,-89 939.5,-95 939.5,-101 939.5,-101 939.5,-145 939.5,-145 939.5,-151 933.5,-157 927.5,-157\"/>\n<text text-anchor=\"start\" x=\"753.5\" y=\"-141.8\" font-family=\"Helvetica,sans-Serif\" font-size=\"14.00\" fill=\"#000000\">Region_x0_newsouth ≤ 0.5</text>\n<text text-anchor=\"start\" x=\"770\" y=\"-126.8\" font-family=\"Helvetica,sans-Serif\" font-size=\"14.00\" fill=\"#000000\">friedman_mse = 0.239</text>\n<text text-anchor=\"start\" x=\"790.5\" y=\"-111.8\" font-family=\"Helvetica,sans-Serif\" font-size=\"14.00\" fill=\"#000000\">samples = 2414</text>\n<text text-anchor=\"start\" x=\"798.5\" y=\"-96.8\" font-family=\"Helvetica,sans-Serif\" font-size=\"14.00\" fill=\"#000000\">value = 0.173</text>\n</g>\n<!-- 8&#45;&gt;9 -->\n<g id=\"edge9\" class=\"edge\">\n<title>8&#45;&gt;9</title>\n<path fill=\"none\" stroke=\"#000000\" d=\"M842.5,-192.9465C842.5,-184.776 842.5,-175.9318 842.5,-167.3697\"/>\n<polygon fill=\"#000000\" stroke=\"#000000\" points=\"846.0001,-167.13 842.5,-157.13 839.0001,-167.13 846.0001,-167.13\"/>\n</g>\n<!-- 12 -->\n<g id=\"node13\" class=\"node\">\n<title>12</title>\n<path fill=\"#f8decb\" stroke=\"#000000\" d=\"M1215,-157C1215,-157 1094,-157 1094,-157 1088,-157 1082,-151 1082,-145 1082,-145 1082,-101 1082,-101 1082,-95 1088,-89 1094,-89 1094,-89 1215,-89 1215,-89 1221,-89 1227,-95 1227,-101 1227,-101 1227,-145 1227,-145 1227,-151 1221,-157 1215,-157\"/>\n<text text-anchor=\"start\" x=\"1104.5\" y=\"-141.8\" font-family=\"Helvetica,sans-Serif\" font-size=\"14.00\" fill=\"#000000\">Rainfall ≤ 0.001</text>\n<text text-anchor=\"start\" x=\"1090\" y=\"-126.8\" font-family=\"Helvetica,sans-Serif\" font-size=\"14.00\" fill=\"#000000\">friedman_mse = 0.2</text>\n<text text-anchor=\"start\" x=\"1106.5\" y=\"-111.8\" font-family=\"Helvetica,sans-Serif\" font-size=\"14.00\" fill=\"#000000\">samples = 628</text>\n<text text-anchor=\"start\" x=\"1110.5\" y=\"-96.8\" font-family=\"Helvetica,sans-Serif\" font-size=\"14.00\" fill=\"#000000\">value = 0.053</text>\n</g>\n<!-- 8&#45;&gt;12 -->\n<g id=\"edge12\" class=\"edge\">\n<title>8&#45;&gt;12</title>\n<path fill=\"none\" stroke=\"#000000\" d=\"M934.8439,-196.2187C978.4372,-181.6876 1030.0353,-164.4882 1072.2648,-150.4117\"/>\n<polygon fill=\"#000000\" stroke=\"#000000\" points=\"1073.5744,-153.6646 1081.9545,-147.1818 1071.3608,-147.0238 1073.5744,-153.6646\"/>\n</g>\n<!-- 10 -->\n<g id=\"node11\" class=\"node\">\n<title>10</title>\n<path fill=\"#eda877\" stroke=\"#000000\" d=\"M865,-53C865,-53 728,-53 728,-53 722,-53 716,-47 716,-41 716,-41 716,-12 716,-12 716,-6 722,0 728,0 728,0 865,0 865,0 871,0 877,-6 877,-12 877,-12 877,-41 877,-41 877,-47 871,-53 865,-53\"/>\n<text text-anchor=\"start\" x=\"724\" y=\"-37.8\" font-family=\"Helvetica,sans-Serif\" font-size=\"14.00\" fill=\"#000000\">friedman_mse = 0.241</text>\n<text text-anchor=\"start\" x=\"744.5\" y=\"-22.8\" font-family=\"Helvetica,sans-Serif\" font-size=\"14.00\" fill=\"#000000\">samples = 2275</text>\n<text text-anchor=\"start\" x=\"752.5\" y=\"-7.8\" font-family=\"Helvetica,sans-Serif\" font-size=\"14.00\" fill=\"#000000\">value = 1.061</text>\n</g>\n<!-- 9&#45;&gt;10 -->\n<g id=\"edge10\" class=\"edge\">\n<title>9&#45;&gt;10</title>\n<path fill=\"none\" stroke=\"#000000\" d=\"M826.2821,-88.9777C822.179,-80.3702 817.7597,-71.0992 813.6139,-62.402\"/>\n<polygon fill=\"#000000\" stroke=\"#000000\" points=\"816.713,-60.7693 809.2506,-53.2485 810.3942,-63.7814 816.713,-60.7693\"/>\n</g>\n<!-- 11 -->\n<g id=\"node12\" class=\"node\">\n<title>11</title>\n<path fill=\"#f9e3d3\" stroke=\"#000000\" d=\"M1044,-53C1044,-53 907,-53 907,-53 901,-53 895,-47 895,-41 895,-41 895,-12 895,-12 895,-6 901,0 907,0 907,0 1044,0 1044,0 1050,0 1056,-6 1056,-12 1056,-12 1056,-41 1056,-41 1056,-47 1050,-53 1044,-53\"/>\n<text text-anchor=\"start\" x=\"903\" y=\"-37.8\" font-family=\"Helvetica,sans-Serif\" font-size=\"14.00\" fill=\"#000000\">friedman_mse = 0.169</text>\n<text text-anchor=\"start\" x=\"927.5\" y=\"-22.8\" font-family=\"Helvetica,sans-Serif\" font-size=\"14.00\" fill=\"#000000\">samples = 139</text>\n<text text-anchor=\"start\" x=\"929\" y=\"-7.8\" font-family=\"Helvetica,sans-Serif\" font-size=\"14.00\" fill=\"#000000\">value = &#45;0.046</text>\n</g>\n<!-- 9&#45;&gt;11 -->\n<g id=\"edge11\" class=\"edge\">\n<title>9&#45;&gt;11</title>\n<path fill=\"none\" stroke=\"#000000\" d=\"M889.3908,-88.9777C902.6423,-79.3629 917.0347,-68.9203 930.1913,-59.3743\"/>\n<polygon fill=\"#000000\" stroke=\"#000000\" points=\"932.5957,-61.9541 938.6342,-53.2485 928.4848,-56.2883 932.5957,-61.9541\"/>\n</g>\n<!-- 13 -->\n<g id=\"node14\" class=\"node\">\n<title>13</title>\n<path fill=\"#fae7d9\" stroke=\"#000000\" d=\"M1223,-53C1223,-53 1086,-53 1086,-53 1080,-53 1074,-47 1074,-41 1074,-41 1074,-12 1074,-12 1074,-6 1080,0 1086,0 1086,0 1223,0 1223,0 1229,0 1235,-6 1235,-12 1235,-12 1235,-41 1235,-41 1235,-47 1229,-53 1223,-53\"/>\n<text text-anchor=\"start\" x=\"1082\" y=\"-37.8\" font-family=\"Helvetica,sans-Serif\" font-size=\"14.00\" fill=\"#000000\">friedman_mse = 0.162</text>\n<text text-anchor=\"start\" x=\"1106.5\" y=\"-22.8\" font-family=\"Helvetica,sans-Serif\" font-size=\"14.00\" fill=\"#000000\">samples = 488</text>\n<text text-anchor=\"start\" x=\"1108\" y=\"-7.8\" font-family=\"Helvetica,sans-Serif\" font-size=\"14.00\" fill=\"#000000\">value = &#45;0.121</text>\n</g>\n<!-- 12&#45;&gt;13 -->\n<g id=\"edge13\" class=\"edge\">\n<title>12&#45;&gt;13</title>\n<path fill=\"none\" stroke=\"#000000\" d=\"M1154.5,-88.9777C1154.5,-80.7364 1154.5,-71.887 1154.5,-63.5153\"/>\n<polygon fill=\"#000000\" stroke=\"#000000\" points=\"1158.0001,-63.2484 1154.5,-53.2485 1151.0001,-63.2485 1158.0001,-63.2484\"/>\n</g>\n<!-- 14 -->\n<g id=\"node15\" class=\"node\">\n<title>14</title>\n<path fill=\"#e58139\" stroke=\"#000000\" d=\"M1402,-53C1402,-53 1265,-53 1265,-53 1259,-53 1253,-47 1253,-41 1253,-41 1253,-12 1253,-12 1253,-6 1259,0 1265,0 1265,0 1402,0 1402,0 1408,0 1414,-6 1414,-12 1414,-12 1414,-41 1414,-41 1414,-47 1408,-53 1402,-53\"/>\n<text text-anchor=\"start\" x=\"1261\" y=\"-37.8\" font-family=\"Helvetica,sans-Serif\" font-size=\"14.00\" fill=\"#000000\">friedman_mse = 0.249</text>\n<text text-anchor=\"start\" x=\"1285.5\" y=\"-22.8\" font-family=\"Helvetica,sans-Serif\" font-size=\"14.00\" fill=\"#000000\">samples = 140</text>\n<text text-anchor=\"start\" x=\"1289.5\" y=\"-7.8\" font-family=\"Helvetica,sans-Serif\" font-size=\"14.00\" fill=\"#000000\">value = 1.797</text>\n</g>\n<!-- 12&#45;&gt;14 -->\n<g id=\"edge14\" class=\"edge\">\n<title>12&#45;&gt;14</title>\n<path fill=\"none\" stroke=\"#000000\" d=\"M1217.6087,-88.9777C1236.3792,-78.8584 1256.8506,-67.8222 1275.2937,-57.8794\"/>\n<polygon fill=\"#000000\" stroke=\"#000000\" points=\"1277.0268,-60.9213 1284.1683,-53.095 1273.705,-54.7597 1277.0268,-60.9213\"/>\n</g>\n</g>\n</svg>\n"
          },
          "metadata": {
            "tags": []
          },
          "execution_count": 34
        }
      ]
    },
    {
      "cell_type": "markdown",
      "metadata": {
        "id": "SNvZnDJdwuI2"
      },
      "source": [
        "# **VALOR FINAL DE MÉTRICA A INFORMAR AL CLIENTE**"
      ],
      "id": "SNvZnDJdwuI2"
    },
    {
      "cell_type": "markdown",
      "metadata": {
        "id": "-UItvRZXHkP_"
      },
      "source": [
        "Evaluamos los modelos nuevamente, ahora teniendo en cuenta el dataset de test."
      ],
      "id": "-UItvRZXHkP_"
    },
    {
      "cell_type": "code",
      "metadata": {
        "id": "GEYEf_CT_r2X",
        "colab": {
          "base_uri": "https://localhost:8080/",
          "height": 589
        },
        "outputId": "0debbb00-3320-4b5b-a015-6c37f0d0e1c6"
      },
      "source": [
        "evaluate_model(lr_model, title='Logistic Regression', set_names=('train', 'test', 'validation'), show_cm=False)\n",
        "evaluate_model(dt_model, title='Árboles de decisión', set_names=('train', 'test', 'validation'), show_cm=False)\n",
        "evaluate_model(rf_model, title='Random Forest', set_names=('train', 'test', 'validation'), show_cm=False)\n",
        "evaluate_model(boost_model, title='Gradient Boosting', set_names=('train', 'test', 'validation'), show_cm=False)"
      ],
      "id": "GEYEf_CT_r2X",
      "execution_count": null,
      "outputs": [
        {
          "output_type": "display_data",
          "data": {
            "application/vnd.google.colaboratory.intrinsic+json": {
              "type": "string"
            },
            "text/plain": [
              "'Logistic Regression'"
            ]
          },
          "metadata": {
            "tags": []
          }
        },
        {
          "output_type": "display_data",
          "data": {
            "text/html": [
              "<div>\n",
              "<style scoped>\n",
              "    .dataframe tbody tr th:only-of-type {\n",
              "        vertical-align: middle;\n",
              "    }\n",
              "\n",
              "    .dataframe tbody tr th {\n",
              "        vertical-align: top;\n",
              "    }\n",
              "\n",
              "    .dataframe thead th {\n",
              "        text-align: right;\n",
              "    }\n",
              "</style>\n",
              "<table border=\"1\" class=\"dataframe\">\n",
              "  <thead>\n",
              "    <tr style=\"text-align: right;\">\n",
              "      <th></th>\n",
              "      <th>Accuracy</th>\n",
              "      <th>Precision</th>\n",
              "    </tr>\n",
              "  </thead>\n",
              "  <tbody>\n",
              "    <tr>\n",
              "      <th>train</th>\n",
              "      <td>0.855164</td>\n",
              "      <td>0.736757</td>\n",
              "    </tr>\n",
              "    <tr>\n",
              "      <th>test</th>\n",
              "      <td>0.857852</td>\n",
              "      <td>0.728850</td>\n",
              "    </tr>\n",
              "    <tr>\n",
              "      <th>validation</th>\n",
              "      <td>0.855902</td>\n",
              "      <td>0.718716</td>\n",
              "    </tr>\n",
              "  </tbody>\n",
              "</table>\n",
              "</div>"
            ],
            "text/plain": [
              "            Accuracy  Precision\n",
              "train       0.855164   0.736757\n",
              "test        0.857852   0.728850\n",
              "validation  0.855902   0.718716"
            ]
          },
          "metadata": {
            "tags": []
          }
        },
        {
          "output_type": "display_data",
          "data": {
            "application/vnd.google.colaboratory.intrinsic+json": {
              "type": "string"
            },
            "text/plain": [
              "'Árboles de decisión'"
            ]
          },
          "metadata": {
            "tags": []
          }
        },
        {
          "output_type": "display_data",
          "data": {
            "text/html": [
              "<div>\n",
              "<style scoped>\n",
              "    .dataframe tbody tr th:only-of-type {\n",
              "        vertical-align: middle;\n",
              "    }\n",
              "\n",
              "    .dataframe tbody tr th {\n",
              "        vertical-align: top;\n",
              "    }\n",
              "\n",
              "    .dataframe thead th {\n",
              "        text-align: right;\n",
              "    }\n",
              "</style>\n",
              "<table border=\"1\" class=\"dataframe\">\n",
              "  <thead>\n",
              "    <tr style=\"text-align: right;\">\n",
              "      <th></th>\n",
              "      <th>Accuracy</th>\n",
              "      <th>Precision</th>\n",
              "    </tr>\n",
              "  </thead>\n",
              "  <tbody>\n",
              "    <tr>\n",
              "      <th>train</th>\n",
              "      <td>0.834781</td>\n",
              "      <td>0.776740</td>\n",
              "    </tr>\n",
              "    <tr>\n",
              "      <th>test</th>\n",
              "      <td>0.842077</td>\n",
              "      <td>0.778894</td>\n",
              "    </tr>\n",
              "    <tr>\n",
              "      <th>validation</th>\n",
              "      <td>0.838887</td>\n",
              "      <td>0.755853</td>\n",
              "    </tr>\n",
              "  </tbody>\n",
              "</table>\n",
              "</div>"
            ],
            "text/plain": [
              "            Accuracy  Precision\n",
              "train       0.834781   0.776740\n",
              "test        0.842077   0.778894\n",
              "validation  0.838887   0.755853"
            ]
          },
          "metadata": {
            "tags": []
          }
        },
        {
          "output_type": "display_data",
          "data": {
            "application/vnd.google.colaboratory.intrinsic+json": {
              "type": "string"
            },
            "text/plain": [
              "'Random Forest'"
            ]
          },
          "metadata": {
            "tags": []
          }
        },
        {
          "output_type": "display_data",
          "data": {
            "text/html": [
              "<div>\n",
              "<style scoped>\n",
              "    .dataframe tbody tr th:only-of-type {\n",
              "        vertical-align: middle;\n",
              "    }\n",
              "\n",
              "    .dataframe tbody tr th {\n",
              "        vertical-align: top;\n",
              "    }\n",
              "\n",
              "    .dataframe thead th {\n",
              "        text-align: right;\n",
              "    }\n",
              "</style>\n",
              "<table border=\"1\" class=\"dataframe\">\n",
              "  <thead>\n",
              "    <tr style=\"text-align: right;\">\n",
              "      <th></th>\n",
              "      <th>Accuracy</th>\n",
              "      <th>Precision</th>\n",
              "    </tr>\n",
              "  </thead>\n",
              "  <tbody>\n",
              "    <tr>\n",
              "      <th>train</th>\n",
              "      <td>0.806540</td>\n",
              "      <td>0.915973</td>\n",
              "    </tr>\n",
              "    <tr>\n",
              "      <th>test</th>\n",
              "      <td>0.810440</td>\n",
              "      <td>0.877751</td>\n",
              "    </tr>\n",
              "    <tr>\n",
              "      <th>validation</th>\n",
              "      <td>0.813187</td>\n",
              "      <td>0.883333</td>\n",
              "    </tr>\n",
              "  </tbody>\n",
              "</table>\n",
              "</div>"
            ],
            "text/plain": [
              "            Accuracy  Precision\n",
              "train       0.806540   0.915973\n",
              "test        0.810440   0.877751\n",
              "validation  0.813187   0.883333"
            ]
          },
          "metadata": {
            "tags": []
          }
        },
        {
          "output_type": "display_data",
          "data": {
            "application/vnd.google.colaboratory.intrinsic+json": {
              "type": "string"
            },
            "text/plain": [
              "'Gradient Boosting'"
            ]
          },
          "metadata": {
            "tags": []
          }
        },
        {
          "output_type": "display_data",
          "data": {
            "text/html": [
              "<div>\n",
              "<style scoped>\n",
              "    .dataframe tbody tr th:only-of-type {\n",
              "        vertical-align: middle;\n",
              "    }\n",
              "\n",
              "    .dataframe tbody tr th {\n",
              "        vertical-align: top;\n",
              "    }\n",
              "\n",
              "    .dataframe thead th {\n",
              "        text-align: right;\n",
              "    }\n",
              "</style>\n",
              "<table border=\"1\" class=\"dataframe\">\n",
              "  <thead>\n",
              "    <tr style=\"text-align: right;\">\n",
              "      <th></th>\n",
              "      <th>Accuracy</th>\n",
              "      <th>Precision</th>\n",
              "    </tr>\n",
              "  </thead>\n",
              "  <tbody>\n",
              "    <tr>\n",
              "      <th>train</th>\n",
              "      <td>0.851560</td>\n",
              "      <td>0.759671</td>\n",
              "    </tr>\n",
              "    <tr>\n",
              "      <th>test</th>\n",
              "      <td>0.853421</td>\n",
              "      <td>0.750631</td>\n",
              "    </tr>\n",
              "    <tr>\n",
              "      <th>validation</th>\n",
              "      <td>0.850939</td>\n",
              "      <td>0.739130</td>\n",
              "    </tr>\n",
              "  </tbody>\n",
              "</table>\n",
              "</div>"
            ],
            "text/plain": [
              "            Accuracy  Precision\n",
              "train       0.851560   0.759671\n",
              "test        0.853421   0.750631\n",
              "validation  0.850939   0.739130"
            ]
          },
          "metadata": {
            "tags": []
          }
        }
      ]
    },
    {
      "cell_type": "markdown",
      "metadata": {
        "id": "5DhmlKaqEE9r"
      },
      "source": [
        "Habiendo evaluado el set de test vemos que todos los modelos arrojan valores similares. Aún así, consideramos elegir la métrica Accuracy porque el equivocarse en falsos positivos no tiene un alto impacto, a menos que el cliente le de importancia por alguna situación particular, por la cual le daríamos el porcentaje de Precision. \n",
        "Con respecto al modelo, elegimos Gradient Boosting ya que nos parece el más completo en tener en cuenta las fallas que se van cometiendo en cada árbol para aprender de estos errores. Además, a comparación de los demás modelos, posee uno de los porcentajes más altos de acierto. Por lo tanto, la métrica final a informar al cliente sería del 85%."
      ],
      "id": "5DhmlKaqEE9r"
    }
  ]
}