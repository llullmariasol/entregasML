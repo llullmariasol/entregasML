{
  "nbformat": 4,
  "nbformat_minor": 0,
  "metadata": {
    "colab": {
      "name": "tp3_cv.ipynb",
      "provenance": [],
      "collapsed_sections": [],
      "include_colab_link": true
    },
    "kernelspec": {
      "name": "python3",
      "display_name": "Python 3"
    },
    "language_info": {
      "name": "python"
    }
  },
  "cells": [
    {
      "cell_type": "markdown",
      "metadata": {
        "id": "view-in-github",
        "colab_type": "text"
      },
      "source": [
        "<a href=\"https://colab.research.google.com/github/solllull/entregasML/blob/main/tp3_cv.ipynb\" target=\"_parent\"><img src=\"https://colab.research.google.com/assets/colab-badge.svg\" alt=\"Open In Colab\"/></a>"
      ]
    },
    {
      "cell_type": "markdown",
      "metadata": {
        "id": "G-0Vykg_lB30"
      },
      "source": [
        "A partir de un conjunto de datos seleccionado por la cátedra [1], se busca poder desarrollar un modelo que sea capaz de detectar el tipo de animal que se encuentra en la foto. Dentro de los datos proporcionados hay dos conjuntos de datos: train y test. Cada uno de ellos cuenta con 4.000 y 1.000 imágenes, respectivamente, de cada tipo. Ejemplo: el conjunto de entrenamiento contiene 4.000 imágenes de perros y 4.000 de gatos.\n",
        "\n",
        "Aclaración: El conjunto de datos proporcionado es la base para trabajar, puede realizar los ajustes que considere necesarios sobre el conjunto de datos de entrenamiento para favorecer los tiempos de entrenamiento y/o conseguir mejores resultados. **Tener en cuenta que no todas las imágenes tienen las mismas dimensiones.**\n",
        "\n",
        "Para realizar el proyecto se deben llevar a cabo las siguientes acciones:"
      ]
    },
    {
      "cell_type": "markdown",
      "metadata": {
        "id": "WHPPrUqIlEzo"
      },
      "source": [
        "1. **Análisis exploratorio sobre el conjunto de datos.** Se debe poder visualizar al menos:\n",
        "- Volumetría de los datos\n",
        "- Estructura y tipo de las imágenes\n",
        "- Distribución de la variable a predecir\n",
        "2. **Machine Learning**\n",
        "Creación y entrenamiento de modelos de clasificación utilizando al menos dos tipos de redes neuronales vistas en clase (ej: MLP simple y Convolucional). Presentar los resultados dividiendo los conjuntos de datos en training y testing.\n",
        "\n",
        "3. **Conclusión**\n",
        "Desarrollar las conclusiones a las que llegaron a partir de los experimentos, destacando la interpretación de los resultados obtenidos. Dedicar una sección en la que se muestren al menos 2 ejemplos en los que el modelo haya acertado y al menos 2 ejemplos donde haya cometido un error. Presente una posible mejora a desarrollar en un futuro para mejorar el rendimiento del modelo."
      ]
    },
    {
      "cell_type": "markdown",
      "metadata": {
        "id": "6UfM6-UpmYt-"
      },
      "source": [
        "**Dejo las anotaciones que hice cuando explicaban el tp:**\n",
        "\n",
        "Podriamos hacer todas las manipulaciones que querramos sobre el dataset. Copias de imagenes, etc. Con train podemos hacer lo que queramos. No se puede hacer en el de test.\n",
        "\n",
        "Hacer un analisis exploratorio. Volumetría. Estructura y tipo de las imagenes \n",
        "(formatos y dimensiones). Ya que no todas las imagenes tienen el mismo tamaño, se puede hacer un analisis para ver la frecuencia de las dimensiones q hay, para saber a que dimensión llevarla. Se va a tener que fundamentar. Distribución de la variable a predecir.\n",
        "\n",
        "Conclusiones: desarrollar resultados a los que  llegamos. Interpretándolos, analizando que pasa si ponemos data aumentation o no.\n",
        "Si probamos con data aumentation y las diversas formas en las que probamos, que queden registrado pq es parte de la experimentación.\n",
        "Ejemplos donde haya acertado y donde no. 2 y 2 para cada clase.\n",
        "En base a las pruebas o lo q vamos mirando, proponer algo como posible linea de mejora para seguir laburando y mejorando los resultados.\n",
        "No se va a tener q hacer, solo dejarlo escrito.\n",
        "Ejemplo: \"el dataset es chico, laburar los datos de tal forma utilizar tal modelo de redes, etc.\""
      ]
    }
  ]
}